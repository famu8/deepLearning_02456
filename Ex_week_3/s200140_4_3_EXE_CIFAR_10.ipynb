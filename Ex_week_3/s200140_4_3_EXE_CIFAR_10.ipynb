{
 "cells": [
  {
   "cell_type": "markdown",
   "metadata": {
    "id": "oZW0gaQO81Sq"
   },
   "source": [
    "# CNN on CIFAR-10\n",
    "\n",
    "In this notebook you need to put what you have learned into practice, and create your own convolutional classifier for the CIFAR-10 dataset.\n",
    "\n",
    "The images in CIFAR-10 are RGB images (3 channels) with size 32x32 (so they have size 3x32x32). There are 10 different classes. See examples below.\n",
    "\n",
    "![cifar10](https://github.com/DeepLearningDTU/02456-deep-learning-with-PyTorch/blob/master/static_files/cifar10.png?raw=1)"
   ]
  },
  {
   "cell_type": "markdown",
   "metadata": {
    "id": "htyg7xxN81St"
   },
   "source": [
    "## Preliminaries"
   ]
  },
  {
   "cell_type": "code",
   "execution_count": 3,
   "metadata": {
    "id": "v3u2GIWr81Su",
    "tags": []
   },
   "outputs": [],
   "source": [
    "%matplotlib inline\n",
    "import matplotlib.pyplot as plt\n",
    "import numpy as np\n",
    "\n",
    "import torch\n",
    "import torchvision\n",
    "import torchvision.transforms as transforms"
   ]
  },
  {
   "cell_type": "code",
   "execution_count": 2,
   "metadata": {
    "colab": {
     "base_uri": "https://localhost:8080/",
     "height": 141
    },
    "id": "Mgf5Xo71qcqt",
    "outputId": "c8f3bf37-a741-4ff6-a565-66837ad55b4d",
    "tags": []
   },
   "outputs": [
    {
     "name": "stdout",
     "output_type": "stream",
     "text": [
      "28.0\n",
      "14.0\n",
      "12.0\n",
      "6.0\n",
      "6.0\n",
      "4.0\n",
      "2\n"
     ]
    }
   ],
   "source": [
    "##Hyperparameters\n",
    "\n",
    "Channel = [24,72,216,648]\n",
    "Kernel_size = [7, 5, 3, 2]\n",
    "Stride = [1, 1, 1, 1]\n",
    "Padding = [1, 1, 1, 1]\n",
    "Dense_features=[2048, 512, 128, 10]\n",
    "Learning_rate=0.001\n",
    "dropoutc = 0.01\n",
    "dropoutl = 0.3\n",
    "Epochs = 3\n",
    "Batch_size = 16\n",
    "beta1 = 0.9\n",
    "beta2= 0.999\n",
    "weight_decay=1e-5\n",
    "\n",
    "Input_width = (32-Kernel_size[0] + 2*Padding[0])/Stride[0] + 1\n",
    "print(Input_width)\n",
    "Input_width = (Input_width-2)/2 + 1\n",
    "print(Input_width)\n",
    "Input_width = (Input_width - Kernel_size[1] + 2*Padding[1])/Stride[1] + 1\n",
    "print(Input_width)\n",
    "Input_width = (Input_width-2)/2 + 1\n",
    "print(Input_width)\n",
    "Input_width = (Input_width - Kernel_size[2] + 2*Padding[2])/Stride[2] + 1\n",
    "print(Input_width)\n",
    "Input_width = (Input_width-2)/2 + 1\n",
    "Input_width = (Input_width - Kernel_size[3] + 2*Padding[3])/Stride[3] + 1\n",
    "print(Input_width)\n",
    "Input_width = (Input_width-2)/2 + 1\n",
    "Input_width = int(Input_width)\n",
    "print(Input_width)\n"
   ]
  },
  {
   "cell_type": "code",
   "execution_count": 4,
   "metadata": {
    "colab": {
     "base_uri": "https://localhost:8080/",
     "height": 70
    },
    "id": "QZeTujLC81S3",
    "outputId": "bb66bbbd-799a-44ee-bb6a-1ed7ba21efdb",
    "tags": []
   },
   "outputs": [
    {
     "name": "stdout",
     "output_type": "stream",
     "text": [
      "Files already downloaded and verified\n",
      "Files already downloaded and verified\n",
      "used classes: ('plane', 'car', 'bird', 'cat', 'deer', 'dog', 'frog', 'horse', 'ship', 'truck')\n"
     ]
    }
   ],
   "source": [
    "transform = transforms.Compose(\n",
    "    [transforms.ToTensor(),\n",
    "     transforms.Normalize((0.5, 0.5, 0.5),(0.5, 0.5, 0.5))\n",
    "    ]\n",
    ")\n",
    "\n",
    "# Load dataset\n",
    "trainset = torchvision.datasets.CIFAR10(root='./data', train=True,\n",
    "                                        download=True, transform=transform)\n",
    "testset = torchvision.datasets.CIFAR10(root='./data', train=False,\n",
    "                                       download=True, transform=transform)\n",
    "\n",
    "classes = ('plane', 'car', 'bird', 'cat', 'deer',\n",
    "           'dog', 'frog', 'horse', 'ship', 'truck')\n",
    "\n",
    "used_categories = range(len(classes))\n",
    "\n",
    "## USE CODE BELOW IF YOUR COMPUTER IS TOO SLOW\n",
    "reduce_dataset = False\n",
    "if reduce_dataset:\n",
    "    used_categories = (3, 5) # cats and dogs\n",
    "\n",
    "    classes = [classes[i] for i in used_categories]\n",
    "    new_train_data = []\n",
    "    new_train_labels = []\n",
    "\n",
    "    new_test_data = []\n",
    "    new_test_labels = []\n",
    "    for i, t in enumerate(used_categories):\n",
    "        new_train_data.append(trainset.data[np.where(np.array(trainset.targets) == t)])\n",
    "        new_train_labels += [i for _ in range(new_train_data[-1].shape[0])]\n",
    "\n",
    "        new_test_data.append(testset.data[np.where(np.array(testset.targets) == t)])\n",
    "        new_test_labels += [i for _ in range(new_test_data[-1].shape[0])]\n",
    "\n",
    "    new_train_data = np.concatenate(new_train_data, 0)\n",
    "    trainset.data = new_train_data\n",
    "    trainset.targets = new_train_labels\n",
    "\n",
    "    new_test_data = np.concatenate(new_test_data, 0)\n",
    "    testset.data = new_test_data\n",
    "    testset.targets = new_test_labels\n",
    "\n",
    "    \n",
    "trainloader = torch.utils.data.DataLoader(trainset, batch_size=Batch_size,\n",
    "                                          shuffle=True, num_workers=2)\n",
    "testloader = torch.utils.data.DataLoader(testset, batch_size=Batch_size,\n",
    "                                         shuffle=True, num_workers=2)\n",
    "train_data_iter = iter(trainloader)\n",
    "test_data_iter = iter(testloader)\n",
    "print('used classes:', classes)"
   ]
  },
  {
   "cell_type": "code",
   "execution_count": 4,
   "metadata": {
    "colab": {
     "base_uri": "https://localhost:8080/",
     "height": 177
    },
    "id": "JDHkc52L81S9",
    "outputId": "572ddd6f-fc53-4c13-8dd2-bbf9498cbeb3",
    "tags": []
   },
   "outputs": [
    {
     "name": "stdout",
     "output_type": "stream",
     "text": [
      "# Training data\n",
      "Number of points: 50000\n",
      "Batch dimension [B x C x H x W]: torch.Size([16, 3, 32, 32])\n",
      "Number of distinct labels: 10\n",
      "\n",
      "# Test data\n",
      "Number of points: 10000\n",
      "Batch dimension [B x C x H x W]: torch.Size([16, 3, 32, 32])\n",
      "Number of distinct labels: 10\n"
     ]
    }
   ],
   "source": [
    "print(\"# Training data\")\n",
    "print(\"Number of points:\", len(trainset))\n",
    "x, y = next(iter(trainloader))\n",
    "print(\"Batch dimension [B x C x H x W]:\", x.shape)\n",
    "print(\"Number of distinct labels:\", len(set(trainset.targets)))\n",
    "\n",
    "\n",
    "print(\"\\n# Test data\")\n",
    "print(\"Number of points:\", len(testset))\n",
    "x, y = next(iter(testloader))\n",
    "print(\"Batch dimension [B x C x H x W]:\", x.shape)\n",
    "print(\"Number of distinct labels:\", len(set(testset.targets)))"
   ]
  },
  {
   "cell_type": "code",
   "execution_count": null,
   "metadata": {
    "colab": {
     "base_uri": "https://localhost:8080/",
     "height": 155
    },
    "id": "njJy0klP81TD",
    "outputId": "f45297ce-79a9-4267-de69-a11a24a4bc83",
    "tags": []
   },
   "outputs": [
    {
     "name": "stdout",
     "output_type": "stream",
     "text": [
      "  car plane  bird   dog\n"
     ]
    }
   ],
   "source": [
    "# def imshow(img):\n",
    "#     \"\"\" show an image \"\"\"\n",
    "#     img = img / 2 + 0.5 # unnormalize\n",
    "#     npimg = img.numpy()\n",
    "#     plt.imshow(np.transpose(npimg, (1, 2, 0)))\n",
    "\n",
    "\n",
    "# # get some random training images\n",
    "# images, labels = train_data_iter.__next__()\n",
    "\n",
    "# # show images\n",
    "# imshow(torchvision.utils.make_grid(images))\n",
    "\n",
    "# # print labels\n",
    "# print(' '.join('%5s' % classes[labels[j]] for j in range(4)))"
   ]
  },
  {
   "cell_type": "markdown",
   "metadata": {
    "id": "Wt3BVFMF81TI"
   },
   "source": [
    "## Define a Convolutional Neural Network\n",
    "\n",
    "**Assignment 1:** Define a convolutional neural network. \n",
    "You may use the code from previous notebooks.\n",
    "We suggest that you start with a small network, and make sure that everything is working.\n",
    "Once you can train successfully come back and improve the architecture"
   ]
  },
  {
   "cell_type": "code",
   "execution_count": 5,
   "metadata": {
    "colab": {
     "base_uri": "https://localhost:8080/",
     "height": 390
    },
    "id": "_EsKbw3o81TK",
    "outputId": "fb735d74-a578-473c-f5e7-aa80c8ffa893",
    "tags": []
   },
   "outputs": [
    {
     "name": "stdout",
     "output_type": "stream",
     "text": [
      "Net(\n",
      "  (conv_1): Conv2d(3, 24, kernel_size=(7, 7), stride=(1, 1), padding=(1, 1))\n",
      "  (bn1): BatchNorm2d(24, eps=1e-05, momentum=0.1, affine=True, track_running_stats=True)\n",
      "  (Maxpool): MaxPool2d(kernel_size=2, stride=2, padding=0, dilation=1, ceil_mode=False)\n",
      "  (conv_2): Conv2d(24, 72, kernel_size=(5, 5), stride=(1, 1), padding=(1, 1))\n",
      "  (bn2): BatchNorm2d(72, eps=1e-05, momentum=0.1, affine=True, track_running_stats=True)\n",
      "  (conv_3): Conv2d(72, 216, kernel_size=(3, 3), stride=(1, 1), padding=(1, 1))\n",
      "  (bn3): BatchNorm2d(216, eps=1e-05, momentum=0.1, affine=True, track_running_stats=True)\n",
      "  (conv_4): Conv2d(216, 648, kernel_size=(2, 2), stride=(1, 1), padding=(1, 1))\n",
      "  (bn4): BatchNorm2d(648, eps=1e-05, momentum=0.1, affine=True, track_running_stats=True)\n",
      "  (dropoutc): Dropout2d(p=0.01, inplace=False)\n",
      "  (dropoutl): Dropout2d(p=0.3, inplace=False)\n",
      "  (l_1): Linear(in_features=2592, out_features=2048, bias=True)\n",
      "  (l_2): Linear(in_features=2048, out_features=512, bias=True)\n",
      "  (l_3): Linear(in_features=512, out_features=128, bias=False)\n",
      "  (l_4): Linear(in_features=128, out_features=10, bias=False)\n",
      "  (bnL1): BatchNorm1d(2048, eps=1e-05, momentum=0.1, affine=True, track_running_stats=True)\n",
      "  (bnL2): BatchNorm1d(512, eps=1e-05, momentum=0.1, affine=True, track_running_stats=True)\n",
      "  (bnL3): BatchNorm1d(128, eps=1e-05, momentum=0.1, affine=True, track_running_stats=True)\n",
      "  (bnL4): BatchNorm1d(10, eps=1e-05, momentum=0.1, affine=True, track_running_stats=True)\n",
      ")\n"
     ]
    }
   ],
   "source": [
    "from torch.autograd import Variable\n",
    "import torch.nn as nn\n",
    "import torch.nn.functional as F\n",
    "\n",
    "class Net(nn.Module):\n",
    "    def __init__(self, num_classes):\n",
    "        super(Net, self).__init__()\n",
    "        self.num_classes = num_classes\n",
    "        \n",
    "        # Your code here!\n",
    "\n",
    "        #[(I – K +2 *P) / S] +1\n",
    "        self.conv_1 = nn.Conv2d(in_channels=3,\n",
    "                             out_channels=Channel[0],\n",
    "                             kernel_size=Kernel_size[0],\n",
    "                             stride=Stride[0], padding=Padding[0])\n",
    "        self.bn1 = torch.nn.BatchNorm2d(Channel[0])\n",
    " \n",
    "        #[(I – K) / S] + 1\n",
    "        self.Maxpool = nn.MaxPool2d(2, 2)\n",
    "\n",
    "        self.conv_2 = nn.Conv2d(in_channels=Channel[0],\n",
    "                             out_channels=Channel[1],\n",
    "                             kernel_size=Kernel_size[1],\n",
    "                             stride=Stride[1], padding=Padding[1])\n",
    "        self.bn2 = torch.nn.BatchNorm2d(Channel[1])\n",
    "\n",
    "\n",
    "        self.conv_3 = nn.Conv2d(Channel[1],\n",
    "                             out_channels=Channel[2],\n",
    "                             kernel_size=Kernel_size[2],\n",
    "                             stride=Stride[1], padding=Padding[2])\n",
    "        self.bn3 = torch.nn.BatchNorm2d(Channel[2])\n",
    "        self.conv_4 = nn.Conv2d(in_channels=Channel[2],\n",
    "                             out_channels=Channel[3],\n",
    "                             kernel_size=Kernel_size[3],\n",
    "                             stride=Stride[3], padding=Padding[3])\n",
    "        self.bn4 = torch.nn.BatchNorm2d(Channel[3]) \n",
    "  \n",
    "       \n",
    "        self.l1_in_features = Channel[3] * Input_width * Input_width\n",
    "\n",
    "        self.dropoutc = nn.Dropout2d(p=dropoutc)\n",
    "        self.dropoutl = nn.Dropout2d(p=dropoutl)\n",
    "\n",
    "        self.l_1 = nn.Linear(in_features=self.l1_in_features, \n",
    "                          out_features=Dense_features[0],\n",
    "                          bias=True)\n",
    "        self.l_2 = nn.Linear(in_features=Dense_features[0], \n",
    "                            out_features=Dense_features[1],\n",
    "                            bias=True)\n",
    "        self.l_3 = nn.Linear(in_features=Dense_features[1], \n",
    "                            out_features=Dense_features[2],\n",
    "                            bias=False)\n",
    "        self.l_4 = nn.Linear(in_features=Dense_features[2], \n",
    "                            out_features=Dense_features[3],\n",
    "                            bias=False)\n",
    "        \n",
    "        self.bnL1 = torch.nn.BatchNorm1d(Dense_features[0])\n",
    "        self.bnL2 = torch.nn.BatchNorm1d(Dense_features[1])\n",
    "        self.bnL3 = torch.nn.BatchNorm1d(Dense_features[2])\n",
    "        self.bnL4 = torch.nn.BatchNorm1d(Dense_features[3])\n",
    "\n",
    "\n",
    "    def forward(self, x):\n",
    "        # Your code here!\n",
    "        x = F.relu(self.conv_1(x))\n",
    "        x = self.bn1(x)\n",
    "        x = self.Maxpool(x)\n",
    "        x = F.relu(self.conv_2(x))\n",
    "        x = self.bn2(x)\n",
    "        x = self.Maxpool(x)\n",
    "        x = F.relu(self.conv_3(x))\n",
    "        x = self.bn3(x)\n",
    "        x = self.Maxpool(x)\n",
    "        x = F.relu(self.conv_4(x))\n",
    "        x = self.bn4(x)\n",
    "        x = self.Maxpool(x)\n",
    "        x = self.dropoutc(x)\n",
    "        x = x.view(-1, self.l1_in_features)\n",
    "        x = F.relu(self.l_1(x))\n",
    "        x = self.bnL1(x)\n",
    "        x = F.relu(self.l_2(x))\n",
    "        x = self.bnL2(x)\n",
    "        x = F.relu(self.l_3(x))\n",
    "        x = self.bnL3(x)\n",
    "        x = F.relu(self.l_4(x))\n",
    "        x = self.bnL4(x)\n",
    "        x = self.dropoutl(x)\n",
    "        return x\n",
    "\n",
    "    \n",
    "\n",
    "net = Net(len(used_categories)).cuda()\n",
    "print(net)"
   ]
  },
  {
   "cell_type": "markdown",
   "metadata": {
    "id": "7-IUg3sq81TQ"
   },
   "source": [
    "## Define a Loss function and optimizer\n",
    "\n",
    "**Assignment 2:** Implement the criterion and optimizer. \n",
    "We suggest Classification Cross-Entropy loss and SGD with momentum.\n",
    "You might need to experiment a bit with the learning rate."
   ]
  },
  {
   "cell_type": "code",
   "execution_count": 6,
   "metadata": {
    "id": "48AX85QP81TR",
    "tags": []
   },
   "outputs": [],
   "source": [
    "import torch.optim as optim\n",
    "\n",
    "#criterion = None  # Your code here!\n",
    "#optimizer = None  # Your code here!\n",
    "criterion = nn.CrossEntropyLoss()\n",
    "optimizer = optim.Adam(net.parameters(), lr=Learning_rate,betas=(beta1, beta2),  weight_decay = weight_decay)"
   ]
  },
  {
   "cell_type": "markdown",
   "metadata": {
    "id": "-WneIN7C81TV"
   },
   "source": [
    "## Train the network\n",
    "\n",
    "**Assignment 3:** Finish the training loop below. \n",
    "Start by using a small number of epochs (e.g. 3).\n",
    "Even with a low number of epochs you should be able to see results that are better than chance.\n",
    "When everything is working increase the number of epochs to find out how good your network really is."
   ]
  },
  {
   "cell_type": "code",
   "execution_count": 7,
   "metadata": {
    "colab": {
     "base_uri": "https://localhost:8080/",
     "height": 1000
    },
    "id": "NkUanRRb81TW",
    "outputId": "d59fb244-53aa-4023-e0d7-eca0059f8d10",
    "tags": []
   },
   "outputs": [
    {
     "name": "stderr",
     "output_type": "stream",
     "text": [
      "C:\\Users\\Usuario\\dtu\\env\\Lib\\site-packages\\torch\\nn\\functional.py:1331: UserWarning: dropout2d: Received a 2-D input to dropout2d, which is deprecated and will result in an error in a future release. To retain the behavior and silence this warning, please use dropout instead. Note that dropout2d exists to provide channel-wise dropout on inputs with 2 spatial dimensions, a channel dimension, and an optional batch dimension (i.e. 3D or 4D inputs).\n",
      "  warnings.warn(warn_msg)\n"
     ]
    },
    {
     "ename": "KeyboardInterrupt",
     "evalue": "",
     "output_type": "error",
     "traceback": [
      "\u001b[1;31m---------------------------------------------------------------------------\u001b[0m",
      "\u001b[1;31mKeyboardInterrupt\u001b[0m                         Traceback (most recent call last)",
      "Cell \u001b[1;32mIn[7], line 58\u001b[0m\n\u001b[0;32m     56\u001b[0m output \u001b[38;5;241m=\u001b[39m net(inputs)\n\u001b[0;32m     57\u001b[0m preds \u001b[38;5;241m=\u001b[39m torch\u001b[38;5;241m.\u001b[39mmax(output, \u001b[38;5;241m1\u001b[39m)[\u001b[38;5;241m1\u001b[39m]\n\u001b[1;32m---> 58\u001b[0m preds \u001b[38;5;241m=\u001b[39m preds\u001b[38;5;241m.\u001b[39mcpu()\n\u001b[0;32m     59\u001b[0m train_targs \u001b[38;5;241m+\u001b[39m\u001b[38;5;241m=\u001b[39m \u001b[38;5;28mlist\u001b[39m(label)\n\u001b[0;32m     60\u001b[0m train_preds \u001b[38;5;241m+\u001b[39m\u001b[38;5;241m=\u001b[39m \u001b[38;5;28mlist\u001b[39m(preds\u001b[38;5;241m.\u001b[39mdata\u001b[38;5;241m.\u001b[39mnumpy())\n",
      "\u001b[1;31mKeyboardInterrupt\u001b[0m: "
     ]
    }
   ],
   "source": [
    "num_epoch = Epochs # Your code here!\n",
    "from sklearn.metrics import accuracy_score\n",
    "\n",
    "train_acc, train_loss = [], []\n",
    "valid_acc, valid_loss = [], []\n",
    "test_acc, test_loss = [], []\n",
    "cur_loss = 0\n",
    "losses = []\n",
    "\n",
    "\n",
    "for epoch in range(num_epoch):  # loop over the dataset multiple times\n",
    "\n",
    "\n",
    "    ### Evaluate training\n",
    "    running_loss = 0.0\n",
    "\n",
    "    net.train()\n",
    "    for i, data in enumerate(trainloader, 0):\n",
    "        # get the inputs\n",
    "        inputs, labels = data\n",
    "\n",
    "        # wrap them in Variable\n",
    "        inputs, labels = Variable(inputs.cuda()), Variable(labels.cuda())\n",
    "\n",
    "        # zero the parameter gradients\n",
    "        # Your code here!\n",
    "        optimizer.zero_grad()\n",
    "\n",
    "        # forward + backward + optimize\n",
    "        # Your code here!\n",
    "        output = net(inputs)\n",
    "        loss = criterion(output, labels)\n",
    "        loss.backward()\n",
    "        optimizer.step()\n",
    "        # print statistics\n",
    "        running_loss += loss.item()\n",
    "\n",
    "    losses.append(running_loss / Batch_size)\n",
    "\n",
    "    net.eval()\n",
    "    ### Evaluate training\n",
    "    train_preds, train_targs = [], []\n",
    "    for i, data in enumerate(trainloader, 0):\n",
    "                # get the inputs\n",
    "        inputs, label = data\n",
    "\n",
    "        # wrap them in Variable\n",
    "        inputs, labels = Variable(inputs.cuda()), Variable(label.cuda())\n",
    "\n",
    "        # zero the parameter gradients\n",
    "        # Your code here!\n",
    "        optimizer.zero_grad()\n",
    "\n",
    "        # forward + backward + optimize\n",
    "        # Your code here!\n",
    "        output = net(inputs)\n",
    "        preds = torch.max(output, 1)[1]\n",
    "        preds = preds.cpu()\n",
    "        train_targs += list(label)\n",
    "        train_preds += list(preds.data.numpy())\n",
    "\n",
    "\n",
    "\n",
    "    ### Evaluate validation\n",
    "    val_preds, val_targs = [], []\n",
    "    for i, data in enumerate(testloader, 0):\n",
    "                # get the inputs\n",
    "        inputs, label = data\n",
    "\n",
    "        # wrap them in Variable\n",
    "        inputs, labels = Variable(inputs.cuda()), Variable(labels.cuda())\n",
    "\n",
    "        # zero the parameter gradients\n",
    "        # Your code here!\n",
    "        optimizer.zero_grad()\n",
    "\n",
    "        # forward + backward + optimize\n",
    "        # Your code here!\n",
    "        output = net(inputs)\n",
    "        preds = torch.max(output, 1)[1]\n",
    "        preds = preds.cpu()\n",
    "        val_preds += list(preds.data.numpy())\n",
    "        val_targs += list(label)\n",
    "\n",
    "\n",
    "    train_acc_cur = accuracy_score(train_targs, train_preds)\n",
    "    valid_acc_cur = accuracy_score(val_targs, val_preds)\n",
    "    \n",
    "    train_acc.append(train_acc_cur)\n",
    "    valid_acc.append(valid_acc_cur)\n",
    "    \n",
    "    if epoch % 1 == 0:\n",
    "        print(\"Epoch %2i : Train Loss %f , Train acc %f, Valid acc %f\" % (\n",
    "                epoch+1, losses[-1], train_acc_cur, valid_acc_cur))\n",
    "        \n",
    "epoch = np.arange(len(train_acc))\n",
    "plt.figure()\n",
    "plt.plot(epoch, train_acc, 'r', epoch, valid_acc, 'b')\n",
    "plt.legend(['Train Acc', 'Val Acc'])\n",
    "plt.xlabel('Epochs')\n",
    "plt.ylabel('Acc')\n",
    "\n",
    "print('Finished Training')"
   ]
  },
  {
   "cell_type": "markdown",
   "metadata": {
    "id": "0qAsbC8I81Ta"
   },
   "source": [
    "## Test the network on the test data\n",
    "\n",
    "Now we need to check if the network has learnt anything at all.\n",
    "We will check this by predicting the class label that the neural network outputs, and checking it against the ground truth.\n",
    "If the prediction is correct, we add the sample to the list of correct predictions.\n",
    "\n",
    "Okay, first step. Let us display an image from the test set to get familiar."
   ]
  },
  {
   "cell_type": "code",
   "execution_count": 17,
   "metadata": {
    "colab": {
     "base_uri": "https://localhost:8080/",
     "height": 172
    },
    "id": "7LT0RoAC81Tc",
    "outputId": "0dae485e-97ea-4c35-eae9-0db803f87d97"
   },
   "outputs": [
    {
     "data": {
      "image/png": "[encoded data removed]",
      "text/plain": [
       "<Figure size 432x288 with 1 Axes>"
      ]
     },
     "metadata": {
      "needs_background": "light",
      "tags": []
     },
     "output_type": "display_data"
    },
    {
     "name": "stdout",
     "output_type": "stream",
     "text": [
      "GroundTruth:   plane  frog   cat plane\n",
      "Predicted:     plane  frog   cat   cat\n"
     ]
    }
   ],
   "source": [
    "images, labels = test_data_iter.next()\n",
    "input, labels = Variable(images.cuda()), Variable(labels.cuda())\n",
    "\n",
    "# print images\n",
    "imshow(torchvision.utils.make_grid(images))\n",
    "plt.show()\n",
    "\n",
    "print('GroundTruth:  ', ' '.join('%5s' % classes[labels[j]] for j in range(4)))\n",
    "\n",
    "outputs = net(input).cuda()\n",
    "_, predicted = torch.max(outputs.data, 1)\n",
    "print('Predicted:    ', ' '.join('%5s' % classes[predicted[j]] for j in range(4)))"
   ]
  },
  {
   "cell_type": "markdown",
   "metadata": {
    "id": "ISA6LJJO81Tg"
   },
   "source": [
    "Let us look at how the network performs on the whole dataset."
   ]
  },
  {
   "cell_type": "code",
   "execution_count": 18,
   "metadata": {
    "colab": {
     "base_uri": "https://localhost:8080/",
     "height": 35
    },
    "id": "Smv6_BwF81Ti",
    "outputId": "997f4bd5-b2b6-4637-c9ba-196aeaba9ae8"
   },
   "outputs": [
    {
     "name": "stdout",
     "output_type": "stream",
     "text": [
      "Accuracy of the network on the 10000 test images: 72.73 %\n"
     ]
    }
   ],
   "source": [
    "correct = 0\n",
    "total = 0\n",
    "\n",
    "for data in testloader:\n",
    "    images, labels = data\n",
    "    input, labels = Variable(images.cuda()), Variable(labels.cuda())\n",
    "    outputs = net(Variable(input)).cuda()\n",
    "    _, predicted = torch.max(outputs.data, 1)\n",
    "    total += labels.size(0)\n",
    "    correct += (predicted == labels).sum()\n",
    "\n",
    "print('Accuracy of the network on the {} test images: {:4.2f} %'.format(\n",
    "    testset.data.shape[0], 100 * correct.true_divide(total)))"
   ]
  },
  {
   "cell_type": "markdown",
   "metadata": {
    "id": "QMZRvhaW81Tl"
   },
   "source": [
    "Hopefully the network is better than chance, which is $\\frac{1}{\\text{number of classes}}$ accuracy (randomly picking\n",
    "a class).\n",
    "\n",
    "\n",
    "We can also examine which class the network found the most difficult (makes more sense if you have many clases):"
   ]
  },
  {
   "cell_type": "code",
   "execution_count": 19,
   "metadata": {
    "colab": {
     "base_uri": "https://localhost:8080/",
     "height": 195
    },
    "id": "WqVTQgKq81Tl",
    "outputId": "0a16440e-6b7a-461c-ef76-627050cbd6a5"
   },
   "outputs": [
    {
     "name": "stdout",
     "output_type": "stream",
     "text": [
      "Accuracy of plane : 74.20 %\n",
      "Accuracy of car   : 65.30 %\n",
      "Accuracy of bird  : 66.50 %\n",
      "Accuracy of cat   : 57.70 %\n",
      "Accuracy of deer  : 75.60 %\n",
      "Accuracy of dog   : 63.70 %\n",
      "Accuracy of frog  : 82.00 %\n",
      "Accuracy of horse : 70.00 %\n",
      "Accuracy of ship  : 88.80 %\n",
      "Accuracy of truck : 83.50 %\n"
     ]
    }
   ],
   "source": [
    "class_total = list(0. for i in range(len(classes)))\n",
    "class_correct = list(0. for i in range(len(classes)))\n",
    "\n",
    "for data in testloader:\n",
    "    images, labels = data\n",
    "    input, labels = Variable(images.cuda()), Variable(labels.cuda())\n",
    "    outputs = net(Variable(input)).cuda()\n",
    "\n",
    "    _, predicted = torch.max(outputs.data, 1)\n",
    "    c = (predicted == labels).squeeze()\n",
    "    labels=labels.cpu()\n",
    "    c=c.cpu()\n",
    "    for i in range(len(c)):\n",
    "        label = labels[i]\n",
    "        class_correct[label] += c[i].numpy()\n",
    "        class_total[label] += 1\n",
    "\n",
    "for i in range(len(classes)):\n",
    "    print('Accuracy of {:5s} : {:5.2f} %'.format(\n",
    "        classes[i], 100 * class_correct[i] / class_total[i]))"
   ]
  },
  {
   "cell_type": "markdown",
   "metadata": {
    "id": "ocnQOBAl81Tn"
   },
   "source": [
    "**Assignment 4:** \n",
    "1. Go back and improve performance of the network. \n",
    " * If you are using all 10 classes you should get a test accuracy above 55%, but see how much further you can get it!\n",
    " * If you are using only 2 classes (e.g. cat and dog) you should get a test accuracy above 60%, but see how much further you can get it!\n",
    "\n",
    "2. Briefly describe what you did and any experiments you did along the way as well as what results you obtained.\n",
    "Did anything surprise you during the exercise?\n",
    "\n",
    "  Firstly, I run the code with batch = 4, obtaining 50% of accuracy. which was not a good start since it was due to 0% accuracy with cats and 99% accuracy with dogs. I checked the code and I did not notice anything weird.\n",
    "\n",
    "  I run again the code with batch = 32 and the accuracy increased till 71% with not so much difference between both classes. \n",
    "\n",
    "  On a later test, it was introduced a maxpooling layer after the second convolution layer, adding padding=2 instead of 1 in the first layer. The accuracy increased till 73%.\n",
    "\n",
    "  By adding an additional convolutional layer we reach an accuracy of 73.55%.\n",
    "  By adding an additional maxpooling layer we reach an accuracy of 75.15%.\n",
    "\n",
    "  By running the code with a batch size of 64 we  75.15%.\n",
    "  Again with batch 4 but with better architecture, we achieved 54.4%\n",
    "\n",
    "  By removing droput, we achieved 75.35%\n",
    "\n",
    "  After that it was used the same network for the 10 clases obtaining 66.82% accuracy.\n",
    "\n",
    "  Eventhough, with softmax in the output layer the model should have better performance since is a multiclassification, we are getting better results with Relu activation.\n",
    "\n",
    "  It was added one convolutional and dense layer more, more channels, and more hidden units in the dense layers obtaining 76.5% with a loss equal to 0.010. This could be a sign of overfitting.\n",
    "\n",
    "  By implementing more code, to visualize over epochs how the model improve, we checked that there was overfitting, therefore, the batch size was lowered to 16 from 64 in order to generalize the predictions.\n",
    "\n",
    "  Last test were, introducing momentum and betas of ADAM and we obtained a accuracy of 77% after a few epochs. Therefore it was decided to implement dropout, since the model seemed more stable.\n",
    "\n",
    "  After several test the boundary of 77% is not surpased. As future work, it would be helpfull to introduce spatial transformer network and increasing overtime dropout.\n",
    "\n",
    "\n",
    "3. Write down key lessons/insights you got (if any) during this exercise.\n",
    "\n",
    "**Answer:**\n",
    "\n",
    "- Dropout apparently decrease the performance of the model, however, it short the distance between the validation and train accuracy. So I think that at the limit it helps on reaching more optimal weights.\n"
   ]
  },
  {
   "cell_type": "markdown",
   "metadata": {
    "id": "8Nzefavy81To"
   },
   "source": [
    "# Training on GPU\n",
    "\n",
    "**Optional Assignment:**\n",
    "If you have a GPU we suggest that you try and rewrite the code above to run on the GPU\n",
    "___\n",
    "\n",
    "Just like how you transfer a Tensor on to the GPU, you transfer the neural net onto the GPU.\n",
    "This will recursively go over all modules and convert their parameters and buffers to CUDA tensors:\n",
    "\n",
    "```\n",
    "    net.cuda()\n",
    "```\n",
    "\n",
    "Remember that you will have to send the inputs and targets at every step to the GPU too:\n",
    "\n",
    "```\n",
    "    inputs, labels = Variable(inputs.cuda()), Variable(labels.cuda())\n",
    "```\n",
    "\n",
    "Why dont I notice MASSIVE speedup compared to CPU? \n",
    "Because your network is realllly small.\n",
    "\n",
    "**Exercise:** Try increasing the width of your network (argument 2 of\n",
    "the first ``nn.Conv2d``, and argument 1 of the second ``nn.Conv2d`` –\n",
    "they need to be the same number), see what kind of speedup you get.\n",
    "\n",
    "**Goals achieved**:\n",
    "\n",
    "- Understanding PyTorch's Tensor library and neural networks at a high level.\n",
    "- Train a small neural network to classify images\n",
    "\n",
    "## Setting up GPU in Colab\n",
    "\n",
    "In Colab, you will get 12 hours of execution time but the session will be disconnected if you are idle for more than 60 minutes. It means that for every 12 hours Disk, RAM, CPU Cache and the Data that is on our allocated virtual machine will get erased.\n",
    "\n",
    "To enable GPU hardware accelerator, just go to **Runtime -> Change runtime type -> Hardware accelerator -> GPU**"
   ]
  },
  {
   "cell_type": "markdown",
   "metadata": {
    "id": "b8mEIylU81Tp"
   },
   "source": [
    "# Michael Nielsen book exercise of own choice\n",
    "\n",
    "**Assignment 5:** Pick an exercise of own choice from [Michael Nielsens book](http://neuralnetworksanddeeplearning.com/)\n",
    "\n",
    "\n",
    "Verify that σ′(z)=σ(z)(1−σ(z)).\n",
    "\n",
    "**Answer:**\n",
    "\n",
    "The sigmoid function is: \n",
    "\n",
    "$\\sigma(z)=\\frac{1}{1+e^{−z}}$.\n",
    "\n",
    "Then by substuting $\\sigma$ in the statement of the question we can obtain that:\n",
    "\n",
    " $\\sigma '= \\frac{1}{1+e^{−z}}·(1-\\frac{1}{1+e^{−z}})=\\frac{e^{−z}}{(1+e^{−z})^2}$\n",
    "\n",
    "On the other hand, by transforming the fraction to potency we get:\n",
    "\n",
    " $\\sigma = (1+e^{−z})^{−1}$. \n",
    " \n",
    "Doing the derivative of the equation above, we obtain:\n",
    "\n",
    "$\\sigma' = (-1)(-e^{−z})(1+e^{−z})^{−2}=\\frac{e^{−z}}{(1+e^{−z})^2}$. \n",
    "\n",
    "Finally, we can verify that in both ways, we reach the same function.\n",
    "\n"
   ]
  }
 ],
 "metadata": {
  "accelerator": "GPU",
  "colab": {
   "collapsed_sections": [],
   "name": "Copy of Copy of 4.3-EXE-CIFAR-10.ipynb",
   "provenance": []
  },
  "kernelspec": {
   "display_name": "Python 3 (ipykernel)",
   "language": "python",
   "name": "python3"
  },
  "language_info": {
   "codemirror_mode": {
    "name": "ipython",
    "version": 3
   },
   "file_extension": ".py",
   "mimetype": "text/x-python",
   "name": "python",
   "nbconvert_exporter": "python",
   "pygments_lexer": "ipython3",
   "version": "3.11.4"
  }
 },
 "nbformat": 4,
 "nbformat_minor": 4
}
