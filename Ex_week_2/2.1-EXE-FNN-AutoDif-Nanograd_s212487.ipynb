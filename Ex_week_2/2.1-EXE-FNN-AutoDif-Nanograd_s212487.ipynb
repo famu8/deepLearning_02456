{
 "cells": [
  {
   "cell_type": "markdown",
   "metadata": {
    "id": "HAva8TnYFtFu"
   },
   "source": [
    "# Contents and why we need this lab\n",
    "\n",
    "This lab is about implementing neural networks yourself before we start using other frameworks which hide some of the computation from you. It builds on the first lab where you derived the equations for neural network forward and backward propagation and gradient descent parameter updates. \n",
    "\n",
    "All the frameworks for deep learning you will meet from now on uses automatic differentiation (autodiff) so you don't have to code the backward step yourself. In this version of this lab you will develop your own autodif implementation. We also have a [version](https://github.com/DeepLearningDTU/02456-deep-learning-with-PyTorch/blob/master/2_Feedforward_NumPy/2.1-FNN-NumPy.ipynb) of this lab where you have to code the backward pass explicitly in Numpy."
   ]
  },
  {
   "cell_type": "markdown",
   "metadata": {
    "id": "sCa7HzwpFtFy"
   },
   "source": [
    "# External sources of information\n",
    "\n",
    "1. Jupyter notebook. You can find more information about Jupyter notebooks [here](https://jupyter.org/). It will come as part of the [Anaconda](https://www.anaconda.com/) Python installation. \n",
    "2. [NumPy](https://numpy.org/). Part of Anaconda distribution. If you already know how to program most things about Python and NumPy can be found through Google search.\n",
    "3. [Nanograd](https://github.com/rasmusbergpalm/nanograd) is a minimalistic version of autodiff developed by Rasmus Berg Palm that we use for our framework.\n"
   ]
  },
  {
   "cell_type": "markdown",
   "metadata": {
    "id": "1SjiIp-TFtF0"
   },
   "source": [
    "# This notebook will follow the next steps:\n",
    "\n",
    "1. Nanograd automatic differentiation framework\n",
    "2. Finite difference method\n",
    "3. Data generation\n",
    "4. Defining and initializing the network\n",
    "5. Forward pass\n",
    "6. Training loop \n",
    "7. Testing your model\n",
    "8. Further extensions"
   ]
  },
  {
   "cell_type": "markdown",
   "metadata": {
    "id": "OyXeAA-HuT7s"
   },
   "source": [
    "# Nanograd automatic differention framework"
   ]
  },
  {
   "cell_type": "markdown",
   "metadata": {
    "id": "k6UWKCLKubgA"
   },
   "source": [
    "The [Nanograd](https://github.com/rasmusbergpalm/nanograd) framework defines a class Var which both holds a value and gradient value that we can use to store the intermediate values when we apply the chain rule of differentiation."
   ]
  },
  {
   "cell_type": "code",
   "execution_count": 1,
   "metadata": {
    "id": "Jd4CoEBNzNWS"
   },
   "outputs": [],
   "source": [
    "# Copy and pasted from https://github.com/rasmusbergpalm/nanograd/blob/main/nanograd.py\n",
    "\n",
    "from math import exp, log, tanh\n",
    "\n",
    "class Var:\n",
    "    \"\"\"\n",
    "    A variable which holds a float and enables gradient computations.\n",
    "    \"\"\"\n",
    "\n",
    "    def __init__(self, val: float, grad_fn=lambda: []):\n",
    "        assert type(val) == float\n",
    "        self.v = val\n",
    "        self.grad_fn = grad_fn\n",
    "        self.grad = 0.0\n",
    "\n",
    "    def backprop(self, bp):\n",
    "        self.grad += bp\n",
    "        for input, grad in self.grad_fn():\n",
    "            input.backprop(grad * bp)\n",
    "\n",
    "    def backward(self):\n",
    "        self.backprop(1.0)\n",
    "\n",
    "    def __add__(self: 'Var', other: 'Var') -> 'Var':\n",
    "        return Var(self.v + other.v, lambda: [(self, 1.0), (other, 1.0)])\n",
    "\n",
    "    def __mul__(self: 'Var', other: 'Var') -> 'Var':\n",
    "        #One variables takes the value of the other one as the gradient. \n",
    "        return Var(self.v * other.v, lambda: [(self, other.v), (other, self.v)]) \n",
    "\n",
    "    def __pow__(self, power):\n",
    "        assert type(power) in {float, int}, \"power must be float or int\"\n",
    "        return Var(self.v ** power, lambda: [(self, power * self.v ** (power - 1))])\n",
    "\n",
    "    def __neg__(self: 'Var') -> 'Var':\n",
    "        return Var(-1.0) * self\n",
    "\n",
    "    def __sub__(self: 'Var', other: 'Var') -> 'Var':\n",
    "        return self + (-other)\n",
    "\n",
    "    def __truediv__(self: 'Var', other: 'Var') -> 'Var':\n",
    "        return self * other ** -1\n",
    "\n",
    "    def __repr__(self):\n",
    "        return \"Var(v=%.4f, grad=%.4f)\" % (self.v, self.grad)\n",
    "\n",
    "    def relu(self):\n",
    "        return Var(self.v if self.v > 0.0 else 0.0, lambda: [(self, 1.0 if self.v > 0.0 else 0.0)])"
   ]
  },
  {
   "cell_type": "markdown",
   "metadata": {
    "id": "yDX67D6jzcte"
   },
   "source": [
    "A few examples illustrate how we can use this:"
   ]
  },
  {
   "cell_type": "code",
   "execution_count": 2,
   "metadata": {
    "colab": {
     "base_uri": "https://localhost:8080/"
    },
    "id": "xk6PeLc3zwPT",
    "outputId": "47e431b2-07ba-4cb1-ea21-997769641c67"
   },
   "outputs": [
    {
     "name": "stdout",
     "output_type": "stream",
     "text": [
      "Var(v=3.0000, grad=5.0000)\n",
      "Var(v=5.0000, grad=3.0000)\n",
      "Var(v=15.0000, grad=1.0000)\n"
     ]
    }
   ],
   "source": [
    "a = Var(3.0)\n",
    "b = Var(5.0)\n",
    "f = a * b\n",
    "\n",
    "f.backward()\n",
    "\n",
    "for v in [a, b, f]:\n",
    "    print(v)"
   ]
  },
  {
   "cell_type": "code",
   "execution_count": 3,
   "metadata": {
    "colab": {
     "base_uri": "https://localhost:8080/"
    },
    "id": "JmKhYgsY0g_o",
    "outputId": "06c1b1df-c33c-40d3-922a-624612a591c7"
   },
   "outputs": [
    {
     "name": "stdout",
     "output_type": "stream",
     "text": [
      "Var(v=3.0000, grad=14.0000)\n",
      "Var(v=5.0000, grad=3.0000)\n",
      "Var(v=15.0000, grad=1.0000)\n",
      "Var(v=9.0000, grad=3.0000)\n",
      "Var(v=27.0000, grad=1.0000)\n",
      "Var(v=42.0000, grad=1.0000)\n"
     ]
    }
   ],
   "source": [
    "a = Var(3.0)\n",
    "b = Var(5.0)\n",
    "c = a * b\n",
    "d = Var(9.0)\n",
    "e = a * d\n",
    "f = c + e\n",
    "\n",
    "f.backward()\n",
    "\n",
    "for v in [a, b, c, d, e, f]:\n",
    "    print(v)\n",
    "    "
   ]
  },
  {
   "cell_type": "markdown",
   "metadata": {
    "id": "Fe3B6uEH140p"
   },
   "source": [
    "## Exercise a) What is being calculated?\n",
    "\n",
    "Explain briefly the output of the code? What is the expression we differentiate and with respect to what variables?"
   ]
  },
  {
   "cell_type": "markdown",
   "metadata": {},
   "source": [
    "<span style=\"color:darkblue\"> The code defines a class called **Var** with two main attributes: its value and its gradient. When calling the function `backward()`, the gradient of each variable being initialitatized with its respective value is computed. \n",
    "\n",
    "<span style=\"color:darkblue\">For the example above, with the final expression being: $f=c+e=b·a+a·d$, each of the variables are differentiated with respect to $f$ (final value) to get their `grad` value. Below it is shown how it is computed. \n",
    "    \n",
    "<span style=\"color:darkblue\">\n",
    "$$\n",
    "\\begin{align}\n",
    "\\frac{\\partial f}{\\partial a} &= \\frac{\\partial f}{\\partial c} · \\frac{\\partial c}{\\partial a}+\\frac{\\partial f}{\\partial e} · \\frac{\\partial e}{\\partial a}=  1·b + 1·d = 5+9 = 14\\\\\n",
    "\\frac{\\partial f}{\\partial b} &= \\frac{\\partial f}{\\partial c} · \\frac{\\partial c}{\\partial b}=1·a = 3 \\\\\n",
    "\\frac{\\partial f}{\\partial c} &= 1 \\\\\n",
    "\\frac{\\partial f}{\\partial d} &= \\frac{\\partial f}{\\partial e} · \\frac{\\partial e}{\\partial d} = 1·a=3 \\\\\n",
    "\\frac{\\partial f}{\\partial e} &= 1 \\\\\n",
    "\\end{align}\n",
    "$$\n",
    "    \n",
    "</span>\n",
    "\n",
    "\n",
    "\n",
    "\n"
   ]
  },
  {
   "cell_type": "markdown",
   "metadata": {
    "id": "q8_Q0t2I3Ruj"
   },
   "source": [
    "## Exercise b) How does the backward function work?\n",
    "\n",
    "You need to understand how the backward function calculates the gradients. We can use the two examples above to help with that.\n",
    "\n",
    "Go through the following four steps and answer the questions on the way:\n",
    "\n",
    "1. We represent the two expressions as graphs as shown below. Fill in the missing expressions for the different derivatives.\n",
    "\n",
    "2. In the remainder consider the first expression. Make a schematic of the data structure which is generated when we define the expression for f. \n",
    "\n",
    "3. Then execute the backward function by hand to convince yourself that it indeed calculates the gradients with respect to the variables. \n",
    "\n",
    "4. Write down the sequence of calls to backprop."
   ]
  },
  {
   "cell_type": "markdown",
   "metadata": {},
   "source": [
    "<span style=\"color:darkblue\"> The `backward()` function computes the different derivatives with respect to each variable added in the graph, as shown below. \n",
    "\n",
    "<span style=\"color:darkblue\"> For the first graph, where $f=a·b$, it is first initialized two objects (`a` and `b`) of class `Var`, with gradients equal 0. Then, `backward()` is applied to f, being also a variable of class `Var`. Thus, `backprop()` is called three times and the gradient of each object is updated. \n",
    "\n",
    "``` \n",
    "a = Var(3.0) ----> v=3.0; grad=0.0\n",
    "b = Var(5.0) ----> v=5.0; grad=0.0\n",
    "f = a * b    ----> v=15.0; grad=0; [(a, 5.0), (b, 3.0)]\n",
    "\n",
    "f.backward() ----> f.backprop(1.0)\n",
    "             ----> f.grad=1.0\n",
    "             ----> a.backprop(5.0)\n",
    "             ----> a.grad=5.0\n",
    "             ----> b.backprop(3.0)\n",
    "             ----> b.grad=3.0\n",
    "```\n",
    "    \n",
    "<span style=\"color:darkblue\"> For the second graph, where $f=c+e=b·a+a·d$, different objects of class `Var` are intiailized with gradients equal 0. Then, `backward()` is applied to the final expression f, being also a variable of class `Var` and the derivatives with respect to each variable are computed. This time, `backprop()` is called seven times and the gradient of each object is updated. \n",
    "\n",
    "``` \n",
    "a = Var(3.0) ----> v=3.0; grad=0.0\n",
    "b = Var(5.0) ----> v=5.0; grad=0.0\n",
    "c = a * b    ----> v=15.0; grad=0; [(a, 5.0), (b, 3.0)]\n",
    "d = Var(3.0) ----> v=9.0; grad=0.0\n",
    "e = a * d    ----> v=27.0; grad=0; [(a, 9.0), (d, 3.0)]\n",
    "f = c + e    ----> v=42.0; grad=0; [(c, 1.0), (e, 1.0)]\n",
    "\n",
    "f.backward() ----> f.backprop(1.0)\n",
    "             ----> f.grad=1.0\n",
    "             ----> c.backprop(1.0)\n",
    "             ----> c.grad=1.0\n",
    "             ----> a.backprop(5.0)\n",
    "             ----> a.grad=5.0\n",
    "             ----> b.backprop(3.0)\n",
    "             ----> b.grad=3.0\n",
    "             ----> e.backprop(1.0)\n",
    "             ----> e.grad=1.0\n",
    "             ----> a.backprop(9.0)\n",
    "             ----> a.grad=14.0\n",
    "             ----> d.backprop(3.0)\n",
    "             ----> d.grad=3.0\n",
    "\n",
    "```  \n",
    "\n",
    "\n",
    "\n",
    "    "
   ]
  },
  {
   "cell_type": "code",
   "execution_count": 1,
   "metadata": {
    "id": "idGr71jYXl26",
    "tags": []
   },
   "outputs": [],
   "source": [
    "# import logging\n",
    "import graphviz\n",
    "\n",
    "#logging.basicConfig(format='[%(levelname)s@%(name)s] %(message)s', level=logging.DEBUG)\n",
    "\n",
    "#graphviz.__version__, graphviz.version()"
   ]
  },
  {
   "cell_type": "code",
   "execution_count": 2,
   "metadata": {
    "colab": {
     "base_uri": "https://localhost:8080/",
     "height": 152
    },
    "id": "KPe30Q2QXzeG",
    "outputId": "7fa002cd-a018-4dbb-ddf1-28ed5e99ee19",
    "tags": []
   },
   "outputs": [
    {
     "data": {
      "image/svg+xml": [
       "<?xml version=\"1.0\" encoding=\"UTF-8\" standalone=\"no\"?>\n",
       "<!DOCTYPE svg PUBLIC \"-//W3C//DTD SVG 1.1//EN\"\n",
       " \"http://www.w3.org/Graphics/SVG/1.1/DTD/svg11.dtd\">\n",
       "<!-- Generated by graphviz version 2.50.0 (0)\n",
       " -->\n",
       "<!-- Title: first expression Pages: 1 -->\n",
       "<svg width=\"233pt\" height=\"98pt\"\n",
       " viewBox=\"0.00 0.00 233.00 98.00\" xmlns=\"http://www.w3.org/2000/svg\" xmlns:xlink=\"http://www.w3.org/1999/xlink\">\n",
       "<g id=\"graph0\" class=\"graph\" transform=\"scale(1 1) rotate(0) translate(4 94)\">\n",
       "<title>first expression</title>\n",
       "<polygon fill=\"white\" stroke=\"transparent\" points=\"-4,4 -4,-94 229,-94 229,4 -4,4\"/>\n",
       "<!-- a -->\n",
       "<g id=\"node1\" class=\"node\">\n",
       "<title>a</title>\n",
       "<ellipse fill=\"none\" stroke=\"black\" cx=\"18\" cy=\"-72\" rx=\"18\" ry=\"18\"/>\n",
       "<text text-anchor=\"middle\" x=\"18\" y=\"-68.3\" font-family=\"Times New Roman,serif\" font-size=\"14.00\">a</text>\n",
       "</g>\n",
       "<!-- f -->\n",
       "<g id=\"node2\" class=\"node\">\n",
       "<title>f</title>\n",
       "<ellipse fill=\"none\" stroke=\"black\" cx=\"207\" cy=\"-45\" rx=\"18\" ry=\"18\"/>\n",
       "<text text-anchor=\"middle\" x=\"207\" y=\"-41.3\" font-family=\"Times New Roman,serif\" font-size=\"14.00\">f</text>\n",
       "</g>\n",
       "<!-- a&#45;&gt;f -->\n",
       "<g id=\"edge1\" class=\"edge\">\n",
       "<title>a&#45;&gt;f</title>\n",
       "<path fill=\"none\" stroke=\"black\" d=\"M35.92,-69.56C68.39,-64.87 139.64,-54.58 178.83,-48.92\"/>\n",
       "<polygon fill=\"black\" stroke=\"black\" points=\"179.58,-52.35 188.98,-47.46 178.58,-45.42 179.58,-52.35\"/>\n",
       "<text text-anchor=\"middle\" x=\"112.5\" y=\"-69.8\" font-family=\"Times New Roman,serif\" font-size=\"14.00\">df/da=d(a·b)/da=b=5</text>\n",
       "</g>\n",
       "<!-- b -->\n",
       "<g id=\"node3\" class=\"node\">\n",
       "<title>b</title>\n",
       "<ellipse fill=\"none\" stroke=\"black\" cx=\"18\" cy=\"-18\" rx=\"18\" ry=\"18\"/>\n",
       "<text text-anchor=\"middle\" x=\"18\" y=\"-14.3\" font-family=\"Times New Roman,serif\" font-size=\"14.00\">b</text>\n",
       "</g>\n",
       "<!-- b&#45;&gt;f -->\n",
       "<g id=\"edge2\" class=\"edge\">\n",
       "<title>b&#45;&gt;f</title>\n",
       "<path fill=\"none\" stroke=\"black\" d=\"M36.13,-17.83C64.55,-17.92 123.07,-19.63 171,-31 174.25,-31.77 177.59,-32.79 180.86,-33.93\"/>\n",
       "<polygon fill=\"black\" stroke=\"black\" points=\"179.7,-37.23 190.29,-37.57 182.22,-30.7 179.7,-37.23\"/>\n",
       "<text text-anchor=\"middle\" x=\"112.5\" y=\"-34.8\" font-family=\"Times New Roman,serif\" font-size=\"14.00\">df/db=d(a·b)/db=a=3</text>\n",
       "</g>\n",
       "</g>\n",
       "</svg>\n"
      ],
      "text/plain": [
       "<graphviz.graphs.Digraph at 0x1a1e0f44610>"
      ]
     },
     "execution_count": 2,
     "metadata": {},
     "output_type": "execute_result"
    }
   ],
   "source": [
    "e1 = graphviz.Digraph('first expression',filename='fsm.gv')\n",
    "\n",
    "e1.attr(rankdir='LR', size='8,5')\n",
    "\n",
    "e1.attr('node', shape='circle')\n",
    "e1.edge('a', 'f', label='df/da=d(a·b)/da=b=5')\n",
    "e1.edge('b', 'f', label='df/db=d(a·b)/db=a=3')\n",
    "\n",
    "e1"
   ]
  },
  {
   "cell_type": "code",
   "execution_count": 3,
   "metadata": {
    "colab": {
     "base_uri": "https://localhost:8080/",
     "height": 232
    },
    "id": "0nittR-mZFeX",
    "outputId": "fa3656a3-732c-4abe-8084-98a492b0d6be",
    "tags": []
   },
   "outputs": [
    {
     "data": {
      "image/svg+xml": [
       "<?xml version=\"1.0\" encoding=\"UTF-8\" standalone=\"no\"?>\n",
       "<!DOCTYPE svg PUBLIC \"-//W3C//DTD SVG 1.1//EN\"\n",
       " \"http://www.w3.org/Graphics/SVG/1.1/DTD/svg11.dtd\">\n",
       "<!-- Generated by graphviz version 2.50.0 (0)\n",
       " -->\n",
       "<!-- Title: second expression Pages: 1 -->\n",
       "<svg width=\"410pt\" height=\"158pt\"\n",
       " viewBox=\"0.00 0.00 410.00 158.00\" xmlns=\"http://www.w3.org/2000/svg\" xmlns:xlink=\"http://www.w3.org/1999/xlink\">\n",
       "<g id=\"graph0\" class=\"graph\" transform=\"scale(1 1) rotate(0) translate(4 154)\">\n",
       "<title>second expression</title>\n",
       "<polygon fill=\"white\" stroke=\"transparent\" points=\"-4,4 -4,-154 406,-154 406,4 -4,4\"/>\n",
       "<!-- a -->\n",
       "<g id=\"node1\" class=\"node\">\n",
       "<title>a</title>\n",
       "<ellipse fill=\"none\" stroke=\"black\" cx=\"18\" cy=\"-75\" rx=\"18\" ry=\"18\"/>\n",
       "<text text-anchor=\"middle\" x=\"18\" y=\"-71.3\" font-family=\"Times New Roman,serif\" font-size=\"14.00\">a</text>\n",
       "</g>\n",
       "<!-- c -->\n",
       "<g id=\"node2\" class=\"node\">\n",
       "<title>c</title>\n",
       "<ellipse fill=\"none\" stroke=\"black\" cx=\"208\" cy=\"-102\" rx=\"18\" ry=\"18\"/>\n",
       "<text text-anchor=\"middle\" x=\"208\" y=\"-98.3\" font-family=\"Times New Roman,serif\" font-size=\"14.00\">c</text>\n",
       "</g>\n",
       "<!-- a&#45;&gt;c -->\n",
       "<g id=\"edge1\" class=\"edge\">\n",
       "<title>a&#45;&gt;c</title>\n",
       "<path fill=\"none\" stroke=\"black\" d=\"M36.04,-76.85C64.35,-80 122.84,-86.88 172,-95 174.71,-95.45 177.54,-95.95 180.36,-96.48\"/>\n",
       "<polygon fill=\"black\" stroke=\"black\" points=\"179.82,-99.94 190.31,-98.42 181.16,-93.07 179.82,-99.94\"/>\n",
       "<text text-anchor=\"middle\" x=\"113\" y=\"-98.8\" font-family=\"Times New Roman,serif\" font-size=\"14.00\">dc/da=d(a·b)/da=b=5</text>\n",
       "</g>\n",
       "<!-- e -->\n",
       "<g id=\"node4\" class=\"node\">\n",
       "<title>e</title>\n",
       "<ellipse fill=\"none\" stroke=\"black\" cx=\"208\" cy=\"-48\" rx=\"18\" ry=\"18\"/>\n",
       "<text text-anchor=\"middle\" x=\"208\" y=\"-44.3\" font-family=\"Times New Roman,serif\" font-size=\"14.00\">e</text>\n",
       "</g>\n",
       "<!-- a&#45;&gt;e -->\n",
       "<g id=\"edge3\" class=\"edge\">\n",
       "<title>a&#45;&gt;e</title>\n",
       "<path fill=\"none\" stroke=\"black\" d=\"M34.3,-67.15C40.3,-64.43 47.32,-61.64 54,-60 97.04,-49.39 148.77,-47.51 179.7,-47.48\"/>\n",
       "<polygon fill=\"black\" stroke=\"black\" points=\"179.71,-50.98 189.73,-47.54 179.75,-43.98 179.71,-50.98\"/>\n",
       "<text text-anchor=\"middle\" x=\"113\" y=\"-63.8\" font-family=\"Times New Roman,serif\" font-size=\"14.00\">de/da=d(a·d)/da=d=9</text>\n",
       "</g>\n",
       "<!-- f -->\n",
       "<g id=\"node6\" class=\"node\">\n",
       "<title>f</title>\n",
       "<ellipse fill=\"none\" stroke=\"black\" cx=\"384\" cy=\"-75\" rx=\"18\" ry=\"18\"/>\n",
       "<text text-anchor=\"middle\" x=\"384\" y=\"-71.3\" font-family=\"Times New Roman,serif\" font-size=\"14.00\">f</text>\n",
       "</g>\n",
       "<!-- c&#45;&gt;f -->\n",
       "<g id=\"edge5\" class=\"edge\">\n",
       "<title>c&#45;&gt;f</title>\n",
       "<path fill=\"none\" stroke=\"black\" d=\"M226,-99.36C256.22,-94.67 319.53,-84.85 355.85,-79.21\"/>\n",
       "<polygon fill=\"black\" stroke=\"black\" points=\"356.84,-82.6 366.19,-77.61 355.77,-75.68 356.84,-82.6\"/>\n",
       "<text text-anchor=\"middle\" x=\"296\" y=\"-99.8\" font-family=\"Times New Roman,serif\" font-size=\"14.00\">df/dc=d(c+e)/dc=1</text>\n",
       "</g>\n",
       "<!-- b -->\n",
       "<g id=\"node3\" class=\"node\">\n",
       "<title>b</title>\n",
       "<ellipse fill=\"none\" stroke=\"black\" cx=\"18\" cy=\"-132\" rx=\"18\" ry=\"18\"/>\n",
       "<text text-anchor=\"middle\" x=\"18\" y=\"-128.3\" font-family=\"Times New Roman,serif\" font-size=\"14.00\">b</text>\n",
       "</g>\n",
       "<!-- b&#45;&gt;c -->\n",
       "<g id=\"edge2\" class=\"edge\">\n",
       "<title>b&#45;&gt;c</title>\n",
       "<path fill=\"none\" stroke=\"black\" d=\"M36.06,-130.01C64.4,-126.6 122.93,-119.12 172,-110 174.72,-109.49 177.55,-108.92 180.37,-108.32\"/>\n",
       "<polygon fill=\"black\" stroke=\"black\" points=\"181.33,-111.7 190.32,-106.1 179.8,-104.87 181.33,-111.7\"/>\n",
       "<text text-anchor=\"middle\" x=\"113\" y=\"-130.8\" font-family=\"Times New Roman,serif\" font-size=\"14.00\">dc/db=d(a·b)/db=a=3</text>\n",
       "</g>\n",
       "<!-- e&#45;&gt;f -->\n",
       "<g id=\"edge6\" class=\"edge\">\n",
       "<title>e&#45;&gt;f</title>\n",
       "<path fill=\"none\" stroke=\"black\" d=\"M226.38,-48.04C252.95,-48.44 305.12,-50.65 348,-61 351.24,-61.78 354.59,-62.81 357.86,-63.95\"/>\n",
       "<polygon fill=\"black\" stroke=\"black\" points=\"356.7,-67.26 367.29,-67.6 359.22,-60.73 356.7,-67.26\"/>\n",
       "<text text-anchor=\"middle\" x=\"296\" y=\"-64.8\" font-family=\"Times New Roman,serif\" font-size=\"14.00\">df/de=d(c+e)/de=1</text>\n",
       "</g>\n",
       "<!-- d -->\n",
       "<g id=\"node5\" class=\"node\">\n",
       "<title>d</title>\n",
       "<ellipse fill=\"none\" stroke=\"black\" cx=\"18\" cy=\"-18\" rx=\"18\" ry=\"18\"/>\n",
       "<text text-anchor=\"middle\" x=\"18\" y=\"-14.3\" font-family=\"Times New Roman,serif\" font-size=\"14.00\">d</text>\n",
       "</g>\n",
       "<!-- d&#45;&gt;e -->\n",
       "<g id=\"edge4\" class=\"edge\">\n",
       "<title>d&#45;&gt;e</title>\n",
       "<path fill=\"none\" stroke=\"black\" d=\"M35.96,-16.66C64.67,-14.93 124.33,-13.66 172,-28 175.96,-29.19 179.95,-30.9 183.76,-32.82\"/>\n",
       "<polygon fill=\"black\" stroke=\"black\" points=\"182.26,-35.99 192.69,-37.86 185.7,-29.89 182.26,-35.99\"/>\n",
       "<text text-anchor=\"middle\" x=\"113\" y=\"-31.8\" font-family=\"Times New Roman,serif\" font-size=\"14.00\">de/dd=d(a·d)/dd=a=3</text>\n",
       "</g>\n",
       "</g>\n",
       "</svg>\n"
      ],
      "text/plain": [
       "<graphviz.graphs.Digraph at 0x1a1e0f94990>"
      ]
     },
     "execution_count": 3,
     "metadata": {},
     "output_type": "execute_result"
    }
   ],
   "source": [
    "e2 = graphviz.Digraph('second expression', filename='fsm.gv')\n",
    "\n",
    "e2.attr(rankdir='LR', size='8,5')\n",
    "\n",
    "e2.attr('node', shape='circle')\n",
    "e2.edge('a', 'c', label='dc/da=d(a·b)/da=b=5')\n",
    "e2.edge('b', 'c', label='dc/db=d(a·b)/db=a=3')\n",
    "e2.edge('a', 'e', label='de/da=d(a·d)/da=d=9')\n",
    "e2.edge('d', 'e', label='de/dd=d(a·d)/dd=a=3')\n",
    "e2.edge('c', 'f', label='df/dc=d(c+e)/dc=1')\n",
    "e2.edge('e', 'f', label='df/de=d(c+e)/de=1')\n",
    "\n",
    "e2"
   ]
  },
  {
   "cell_type": "markdown",
   "metadata": {
    "id": "A5oi21W4gpeM"
   },
   "source": [
    "## Exercise c) What happens if we run backward again?\n",
    "\n",
    "Try to execute the code below. Explain what happens."
   ]
  },
  {
   "cell_type": "code",
   "execution_count": 5,
   "metadata": {
    "colab": {
     "base_uri": "https://localhost:8080/"
    },
    "id": "DCtpJyr-gyX1",
    "outputId": "d014bcfa-c9ae-49c3-d268-91cc6ca94ea5"
   },
   "outputs": [
    {
     "name": "stdout",
     "output_type": "stream",
     "text": [
      "Var(v=3.0000, grad=28.0000)\n",
      "Var(v=5.0000, grad=6.0000)\n",
      "Var(v=15.0000, grad=2.0000)\n",
      "Var(v=9.0000, grad=6.0000)\n",
      "Var(v=27.0000, grad=2.0000)\n",
      "Var(v=42.0000, grad=2.0000)\n"
     ]
    }
   ],
   "source": [
    "f.backward()\n",
    "\n",
    "for v in [a, b, c, d, e, f]:\n",
    "    print(v)"
   ]
  },
  {
   "cell_type": "markdown",
   "metadata": {},
   "source": [
    "<span style=\"color:navy\"> By executing the function `backward()` again, we observed that the gradients for each variable are being updated, while the values are not changed since no more operations are added. \n",
    "This is because the gradients are computed again and added to the previous ones. \n",
    "\n",
    "``` \n",
    "a = Var(3.0) ----> v=3.0; grad=grad+14=28\n",
    "b = Var(5.0) ----> v=5.0; grad=grad+3=6\n",
    "c = Var(15.0) ---> v=15.0; grad=grad+1=2\n",
    "d = Var(9.0) ----> v=9.0; grad=grad+3=6\n",
    "e = Var(27.0) ---> v=27.0; grad=grad+1=2\n",
    "f = Var(42.0) ---> v=42.0; grad=grad+1=2\n",
    "\n",
    "``` \n",
    "</span>"
   ]
  },
  {
   "cell_type": "markdown",
   "metadata": {
    "id": "e8bPVq2VhsP-",
    "tags": []
   },
   "source": [
    "## Exercise d) Zero gradient\n",
    "\n",
    "We can zero the gradient by backpropagating a -1.0 as is shown in the example below. (If you have run backward multiple time then you also have to run the cell below an equal amount of times.) Explain what is going on."
   ]
  },
  {
   "cell_type": "markdown",
   "metadata": {
    "id": "e8bPVq2VhsP-",
    "tags": []
   },
   "source": [
    "## Exercise d) Zero gradient\n",
    "\n",
    "We can zero the gradient by backpropagating a -1.0 as is shown in the example below. (If you have run backward multiple time then you also have to run the cell below an equal amount of times.) Explain what is going on."
   ]
  },
  {
   "cell_type": "code",
   "execution_count": 6,
   "metadata": {
    "colab": {
     "base_uri": "https://localhost:8080/"
    },
    "id": "OnyPDQx9lJe0",
    "outputId": "7a125fdc-60c4-4340-a580-8b82aea5b0db"
   },
   "outputs": [
    {
     "name": "stdout",
     "output_type": "stream",
     "text": [
      "Var(v=2.0000, grad=0.0000)\n",
      "Var(v=5.0000, grad=6.0000)\n",
      "Var(v=15.0000, grad=2.0000)\n",
      "Var(v=9.0000, grad=6.0000)\n",
      "Var(v=27.0000, grad=2.0000)\n",
      "Var(v=42.0000, grad=2.0000)\n",
      "\n",
      "\n",
      "Var(v=2.0000, grad=0.0000)\n",
      "Var(v=5.0000, grad=3.0000)\n",
      "Var(v=15.0000, grad=1.0000)\n",
      "Var(v=9.0000, grad=3.0000)\n",
      "Var(v=27.0000, grad=1.0000)\n",
      "Var(v=42.0000, grad=1.0000)\n"
     ]
    }
   ],
   "source": [
    "a = Var(2.0)\n",
    "\n",
    "for v in [a, b, c, d, e, f]:\n",
    "    print(v)\n",
    "\n",
    "print('\\n')\n",
    "f.backprop(-1.0)\n",
    "\n",
    "for v in [a, b, c, d, e, f]:\n",
    "    print(v)"
   ]
  },
  {
   "cell_type": "markdown",
   "metadata": {},
   "source": [
    "<span style=\"color:darkblue\"> By backpropagating with -1, it is exaclty doing the same operation as before but in negative values. Thus, we will have values below 0 for the gradients. In case we wanted to obtain the intial values of the gradient, we would backpropagating with +1. \n",
    "    \n",
    "</span>"
   ]
  },
  {
   "cell_type": "markdown",
   "metadata": {
    "id": "U4057_ljNvWB"
   },
   "source": [
    "## Exercise e) Test correctness of derivatives with the finite difference method\n",
    "\n",
    "Write a small function that uses [the finite difference method](https://en.wikipedia.org/wiki/Finite_difference_method) to numerically test that backpropation implementation is working. In short we will use\n",
    "$$\n",
    "\\frac{\\partial f(a)}{\\partial a} \\approx \\frac{f(a+da)-f(a)}{da}\n",
    "$$\n",
    "for $da \\ll 1$.\n",
    "\n",
    "As an example, we could approximate the derivative of the function $f(a)=a^2$ in e.g. the value $a=4$ using the finite difference method. This amounts to inserting the relevant values and approximating the gradient $f'(4)$ with the fraction above. \n"
   ]
  },
  {
   "cell_type": "code",
   "execution_count": 4,
   "metadata": {
    "colab": {
     "base_uri": "https://localhost:8080/"
    },
    "id": "9TGil92lSXDN",
    "outputId": "7ef5489b-b525-4132-ab08-0b1109c07f4d",
    "tags": []
   },
   "outputs": [
    {
     "ename": "NameError",
     "evalue": "name 'Var' is not defined",
     "output_type": "error",
     "traceback": [
      "\u001b[1;31m---------------------------------------------------------------------------\u001b[0m",
      "\u001b[1;31mNameError\u001b[0m                                 Traceback (most recent call last)",
      "Cell \u001b[1;32mIn[4], line 9\u001b[0m\n\u001b[0;32m      6\u001b[0m   f\u001b[38;5;241m.\u001b[39mbackward()\n\u001b[0;32m      7\u001b[0m   \u001b[38;5;28;01mreturn\u001b[39;00m a,b,f\n\u001b[1;32m----> 9\u001b[0m \u001b[38;5;28;01mfor\u001b[39;00m v \u001b[38;5;129;01min\u001b[39;00m f_function(\u001b[38;5;241m3.0\u001b[39m):\n\u001b[0;32m     10\u001b[0m   \u001b[38;5;28mprint\u001b[39m(v)\n\u001b[0;32m     12\u001b[0m \u001b[38;5;66;03m# Insert your finite difference code here\u001b[39;00m\n",
      "Cell \u001b[1;32mIn[4], line 3\u001b[0m, in \u001b[0;36mf_function\u001b[1;34m(a)\u001b[0m\n\u001b[0;32m      2\u001b[0m \u001b[38;5;28;01mdef\u001b[39;00m \u001b[38;5;21mf_function\u001b[39m(a):\n\u001b[1;32m----> 3\u001b[0m   a \u001b[38;5;241m=\u001b[39m Var(a)\n\u001b[0;32m      4\u001b[0m   b \u001b[38;5;241m=\u001b[39m Var(\u001b[38;5;241m5.0\u001b[39m)\n\u001b[0;32m      5\u001b[0m   f \u001b[38;5;241m=\u001b[39m a \u001b[38;5;241m*\u001b[39m b\n",
      "\u001b[1;31mNameError\u001b[0m: name 'Var' is not defined"
     ]
    }
   ],
   "source": [
    "# f function - try to change the code to test other types of functions as well (such as different polynomials etc.)\n",
    "def f_function(a):\n",
    "  a = Var(a)\n",
    "  b = Var(5.0)\n",
    "  f = a * b\n",
    "  f.backward()\n",
    "  return a,b,f\n",
    "\n",
    "for v in f_function(3.0):\n",
    "  print(v)\n",
    "\n",
    "# Insert your finite difference code here\n",
    "def finite_difference(da=1e-10):\n",
    "    \"\"\"\n",
    "    This function compute the finite difference between\n",
    "    \n",
    "    Input:\n",
    "    da:          The finite difference                           (float)\n",
    "    \n",
    "    Output:\n",
    "    finite_difference: numerical approximation to the derivative (float) \n",
    "    \"\"\"\n",
    "    \n",
    "    a1,b1,fa_da = f_function(3.0+da)       \n",
    "    a2,b2,fa = f_function(3.0)              \n",
    "    finite_difference = (fa_da.v - fa.v) / da\n",
    "    \n",
    "    return finite_difference\n",
    "\n",
    "print(finite_difference())"
   ]
  },
  {
   "cell_type": "markdown",
   "metadata": {
    "id": "6pZar5RKaUkg"
   },
   "source": [
    "# Create an artificial dataset to play with\n",
    "\n",
    "We create a non-linear 1d regression task. The generator supports various noise levels and it creates train, validation and test sets. You can modify it yourself if you want more or less challenging tasks."
   ]
  },
  {
   "cell_type": "code",
   "execution_count": 8,
   "metadata": {
    "id": "Y6yfMAQ8aduj"
   },
   "outputs": [],
   "source": [
    "import numpy as np\n",
    "import matplotlib.pyplot as plt\n",
    "\n",
    "np.random.seed(42)"
   ]
  },
  {
   "cell_type": "code",
   "execution_count": 9,
   "metadata": {
    "id": "4YabfD43ajNh"
   },
   "outputs": [],
   "source": [
    "def data_generator(noise=0.1, n_samples=300, D1=True):\n",
    "    # Create covariates and response variable\n",
    "    if D1:\n",
    "        X = np.linspace(-3, 3, num=n_samples).reshape(-1,1) # 1-D\n",
    "        np.random.shuffle(X)\n",
    "        y = np.random.normal((0.5*np.sin(X[:,0]*3) + X[:,0]), noise) # 1-D with trend\n",
    "    else:\n",
    "        X = np.random.multivariate_normal(np.zeros(3), noise*np.eye(3), size = n_samples) # 3-D\n",
    "        np.random.shuffle(X)    \n",
    "        y = np.sin(X[:,0]) - 5*(X[:,1]**2) + 0.5*X[:,2] # 3-D\n",
    "\n",
    "    # Stack them together vertically to split data set\n",
    "    data_set = np.vstack((X.T,y)).T\n",
    "    \n",
    "    train, validation, test = np.split(data_set, [int(0.35*n_samples), int(0.7*n_samples)], axis=0)\n",
    "    \n",
    "    # Standardization of the data, remember we do the standardization with the training set mean and standard deviation\n",
    "    train_mu = np.mean(train, axis=0)\n",
    "    train_sigma = np.std(train, axis=0)\n",
    "    \n",
    "    train = (train-train_mu)/train_sigma\n",
    "    validation = (validation-train_mu)/train_sigma\n",
    "    test = (test-train_mu)/train_sigma\n",
    "    \n",
    "    x_train, x_validation, x_test = train[:,:-1], validation[:,:-1], test[:,:-1]\n",
    "    y_train, y_validation, y_test = train[:,-1], validation[:,-1], test[:,-1]\n",
    "\n",
    "    return x_train, y_train,  x_validation, y_validation, x_test, y_test"
   ]
  },
  {
   "cell_type": "code",
   "execution_count": 10,
   "metadata": {
    "id": "u1oDngHLapIz"
   },
   "outputs": [],
   "source": [
    "D1 = True\n",
    "x_train, y_train,  x_validation, y_validation, x_test, y_test = data_generator(noise=0.5, D1=D1)"
   ]
  },
  {
   "cell_type": "code",
   "execution_count": 11,
   "metadata": {
    "colab": {
     "base_uri": "https://localhost:8080/",
     "height": 265
    },
    "id": "Ysfa3FsBavlm",
    "outputId": "399e5382-ae7d-48f6-9774-7ea4c73e7d95"
   },
   "outputs": [
    {
     "data": {
      "image/png": "[encoded data removed]",
      "text/plain": [
       "<Figure size 432x288 with 1 Axes>"
      ]
     },
     "metadata": {
      "needs_background": "light"
     },
     "output_type": "display_data"
    }
   ],
   "source": [
    "if D1:\n",
    "    plt.scatter(x_train[:,0], y_train);\n",
    "    plt.scatter(x_validation[:,0], y_validation);\n",
    "    plt.scatter(x_test[:,0], y_test);\n",
    "else:\n",
    "    plt.scatter(x_train[:,1], y_train);\n",
    "    plt.scatter(x_validation[:,1], y_validation);\n",
    "    plt.scatter(x_test[:,1], y_test);\n",
    "plt.show()"
   ]
  },
  {
   "cell_type": "code",
   "execution_count": 12,
   "metadata": {
    "id": "zac2HHNlgbpm"
   },
   "outputs": [],
   "source": [
    "# convert from nparray to Var\n",
    "def nparray_to_Var(x):\n",
    "  if x.ndim==1:\n",
    "    y = [[Var(float(x[i]))] for i in range(x.shape[0])] # always work with list of list\n",
    "  else:\n",
    "    y = [[Var(float(x[i,j])) for j in range(x.shape[1])] for i in range(x.shape[0])]\n",
    "  return y\n",
    "   \n",
    "x_train = nparray_to_Var(x_train)\n",
    "y_train = nparray_to_Var(y_train)\n",
    "x_validation = nparray_to_Var(x_validation)\n",
    "y_validation = nparray_to_Var(y_validation)\n",
    "x_test = nparray_to_Var(x_test)\n",
    "y_test = nparray_to_Var(y_test)\n",
    "\n"
   ]
  },
  {
   "cell_type": "markdown",
   "metadata": {
    "id": "VbjrqcpVFtGe"
   },
   "source": [
    "# Defining and initializing the network\n",
    "\n",
    "The steps to create a feed forward neural network are the following:\n",
    "\n",
    "1. **Number of hidden layer and hidden units**. We have to define the number of hidden units in each layer. The number of features in X and the output dimensionality (the size of Y) are given but the numbers in between are set by the researcher. Remember that for each unit in each layer beside in the input has a bias term.\n",
    "2. **Activation functions** for each hidden layer. Each hidden layer in your list must have an activation function (it can also be the linear activation which is equivalent to identity function). The power of neural networks comes from non-linear activation functions that learn representations (features) from the data allowing us to learn from it. \n",
    "3. **Parameter initialization**. We will initialize the weights to have random values. This is done in practice by drawing pseudo random numbers from a Gaussian or uniform distribution. It turns out that for deeper models we have to be careful about how we scale the random numbers. This will be the topic of the exercise below. For now we will just use unit variance Gaussians.  \n",
    "\n",
    "In order to make life easier for ourselves we define a DenseLayer class that takes care of initialization and the forward pass. We can also extend it later with print and advanced initialization capabilities. For the latter we have introduced a Initializer class.\n",
    "\n",
    "Note that we use Sequence in the code below. A Sequence is an ordered list. This means the order we insert and access items are the same."
   ]
  },
  {
   "cell_type": "code",
   "execution_count": 13,
   "metadata": {
    "id": "ij_ieRsAt7Xt"
   },
   "outputs": [],
   "source": [
    "class Initializer:\n",
    "\n",
    "  def init_weights(self, n_in, n_out):\n",
    "    raise NotImplementedError\n",
    "\n",
    "  def init_bias(self, n_out):\n",
    "    raise NotImplementedError"
   ]
  },
  {
   "cell_type": "code",
   "execution_count": 14,
   "metadata": {
    "id": "eb18N5phuIha"
   },
   "outputs": [],
   "source": [
    "import random\n",
    "\n",
    "class NormalInitializer(Initializer):\n",
    "\n",
    "  def __init__(self, mean=0, std=0.1):\n",
    "    self.mean = mean\n",
    "    self.std = std\n",
    "\n",
    "  def init_weights(self, n_in, n_out):\n",
    "    return [[Var(random.gauss(self.mean, self.std)) for _ in range(n_out)] for _ in range(n_in)]\n",
    "\n",
    "  def init_bias(self, n_out):\n",
    "    return [Var(0.0) for _ in range(n_out)]\n",
    "\n",
    "class ConstantInitializer(Initializer):\n",
    "\n",
    "  def __init__(self, weight=1.0, bias=0.0):\n",
    "    self.weight = weight\n",
    "    self.bias = bias\n",
    "\n",
    "  def init_weights(self, n_in, n_out):\n",
    "    return [[Var(self.weight) for _ in range(n_out)] for _ in range(n_in)]\n",
    "\n",
    "  def init_bias(self, n_out):\n",
    "    return [Var(self.bias) for _ in range(n_out)]"
   ]
  },
  {
   "cell_type": "code",
   "execution_count": 15,
   "metadata": {
    "id": "jOLYGnZKuM6W"
   },
   "outputs": [],
   "source": [
    "from typing import Sequence\n",
    "\n",
    "class DenseLayer:\n",
    "    def __init__(self, n_in: int, n_out: int, act_fn, initializer = NormalInitializer()):\n",
    "        self.weights = initializer.init_weights(n_in, n_out)\n",
    "        self.bias = initializer.init_bias(n_out)\n",
    "        self.act_fn = act_fn\n",
    "    \n",
    "    def __repr__(self):    \n",
    "        return 'Weights: ' + repr(self.weights) + ' Biases: ' + repr(self.bias)\n",
    "\n",
    "    def parameters(self) -> Sequence[Var]:\n",
    "      params = []\n",
    "      for r in self.weights:\n",
    "        params += r\n",
    "\n",
    "      return params + self.bias\n",
    "\n",
    "    def forward(self, inputs: Sequence[Var]) -> Sequence[Var]:\n",
    "        # self.weights is a matrix with dimension n_in x n_out. We check that the dimensionality of the input \n",
    "        # to the current layer matches the number of nodes in the current layer\n",
    "        assert len(self.weights) == len(inputs), \"weights and single_input must match in first dimension\"\n",
    "        weights = self.weights\n",
    "        out = []\n",
    "        # For some given data point single_input, we now want to calculate the resulting value in each node in the current layer\n",
    "        # We therefore loop over the (number of) nodes in the current layer:\n",
    "        for j in range(len(weights[0])): \n",
    "            # Initialize the node value depending on its corresponding parameters.\n",
    "            node = self.bias[j] # <- Insert code\n",
    "            # We now finish the linear transformation corresponding to the parameters of the currently considered node.\n",
    "            for i in range(len(inputs)):\n",
    "                node += weights[i][j]*inputs[i]  # <- Insert code\n",
    "            node = self.act_fn(node)\n",
    "            out.append(node)\n",
    "\n",
    "        return out\n",
    "    "
   ]
  },
  {
   "cell_type": "markdown",
   "metadata": {
    "id": "jpIZPBpNI0pO"
   },
   "source": [
    "## Exercise f) Add more activation functions\n",
    "\n",
    "To have a full definition of the neural network, we must define an activation function for every layer. Several activation functions have been proposed and have different characteristics. In the Var class we have already defined the rectified linear init (relu). \n",
    " \n",
    "Implement the following activation functions in the Var class:\n",
    "\n",
    "* Identity: $$\\mathrm{identity}(x) = x$$\n",
    "* Hyperbolic tangent: $$\\tanh(x)$$\n",
    "* Sigmoid (or logistic function): $$\\mathrm{sigmoid}(x) = \\frac{1}{1.0 + \\exp(-x ) }$$  Hint: $\\mathrm{sigmoid}'(x)= \\mathrm{sigmoid}(x)(1-\\mathrm{sigmoid}(x))$.  \n",
    "\n",
    "Hint: You can seek inspiration in the relu method in the Var class."
   ]
  },
  {
   "cell_type": "code",
   "execution_count": 16,
   "metadata": {},
   "outputs": [],
   "source": [
    "class Var:\n",
    "    \"\"\"\n",
    "    A variable which holds a float and enables gradient computations.\n",
    "    \"\"\"\n",
    "\n",
    "    def __init__(self, val: float, grad_fn=lambda: []):\n",
    "        assert type(val) == float\n",
    "        self.v = val\n",
    "        self.grad_fn = grad_fn\n",
    "        self.grad = 0.0\n",
    "\n",
    "    def backprop(self, bp):\n",
    "        self.grad += bp\n",
    "        for input, grad in self.grad_fn():\n",
    "            input.backprop(grad * bp)\n",
    "\n",
    "    def backward(self):\n",
    "        self.backprop(1.0)\n",
    "\n",
    "    def __add__(self: 'Var', other: 'Var') -> 'Var':\n",
    "        return Var(self.v + other.v, lambda: [(self, 1.0), (other, 1.0)])\n",
    "\n",
    "    def __mul__(self: 'Var', other: 'Var') -> 'Var':\n",
    "        #One variables takes the value of the other one as the gradient. \n",
    "        return Var(self.v * other.v, lambda: [(self, other.v), (other, self.v)]) \n",
    "\n",
    "    def __pow__(self, power):\n",
    "        assert type(power) in {float, int}, \"power must be float or int\"\n",
    "        return Var(self.v ** power, lambda: [(self, power * self.v ** (power - 1))])\n",
    "\n",
    "    def __neg__(self: 'Var') -> 'Var':\n",
    "        return Var(-1.0) * self\n",
    "\n",
    "    def __sub__(self: 'Var', other: 'Var') -> 'Var':\n",
    "        return self + (-other)\n",
    "\n",
    "    def __truediv__(self: 'Var', other: 'Var') -> 'Var':\n",
    "        return self * other ** -1\n",
    "\n",
    "    def __repr__(self):\n",
    "        return \"Var(v=%.4f, grad=%.4f)\" % (self.v, self.grad)\n",
    "\n",
    "    def relu(self):\n",
    "        return Var(self.v if self.v > 0.0 else 0.0, lambda: [(self, 1.0 if self.v > 0.0 else 0.0)])\n",
    "\n",
    "    #ADDED ACTIVATION FUNCTIONS\n",
    "    def identity(self):\n",
    "        return Var(self.v, lambda: [(self, 1.0)])\n",
    "\n",
    "    def tanh(self):\n",
    "        return Var(tanh(self.v), lambda: [(self, 1 - tanh(self.v)**2)])\n",
    "    \n",
    "    def sigmoid(self):\n",
    "        return Var(1/(1+exp(-self.v)) , lambda: [(self, (1/(1.0+exp(-self.v))) * (1 - 1/(1.0+exp(-self.v))))])"
   ]
  },
  {
   "cell_type": "markdown",
   "metadata": {
    "id": "p_8n_SKnIW2F"
   },
   "source": [
    "## Exercise g) Complete the forward pass\n",
    "\n",
    "In the code below we initialize a 1-5-1 network and pass the training set through it. *The forward method in DenseLayer is **not** complete*. It just outputs zeros right now. The method forward should perform an [affine transformation](https://en.wikipedia.org/wiki/Affine_transformation) on the input followed by an application of the activation function."
   ]
  },
  {
   "cell_type": "code",
   "execution_count": 17,
   "metadata": {
    "colab": {
     "base_uri": "https://localhost:8080/",
     "height": 337
    },
    "id": "xDEjtePxE7Mv",
    "outputId": "753406cd-d8a1-4282-ce03-25ad959b0e11"
   },
   "outputs": [
    {
     "name": "stdout",
     "output_type": "stream",
     "text": [
      "[[Var(v=-0.0126, grad=0.0000)], [Var(v=-0.0252, grad=0.0000)], [Var(v=-0.0023, grad=0.0000)], [Var(v=0.0167, grad=0.0000)], [Var(v=-0.0186, grad=0.0000)], [Var(v=-0.0172, grad=0.0000)], [Var(v=-0.0111, grad=0.0000)], [Var(v=0.0040, grad=0.0000)], [Var(v=0.0172, grad=0.0000)], [Var(v=-0.0069, grad=0.0000)], [Var(v=-0.0194, grad=0.0000)], [Var(v=0.0106, grad=0.0000)], [Var(v=-0.0156, grad=0.0000)], [Var(v=0.0122, grad=0.0000)], [Var(v=-0.0083, grad=0.0000)], [Var(v=-0.0162, grad=0.0000)], [Var(v=-0.0299, grad=0.0000)], [Var(v=-0.0142, grad=0.0000)], [Var(v=-0.0015, grad=0.0000)], [Var(v=-0.0049, grad=0.0000)], [Var(v=0.0080, grad=0.0000)], [Var(v=0.0035, grad=0.0000)], [Var(v=-0.0218, grad=0.0000)], [Var(v=-0.0220, grad=0.0000)], [Var(v=0.0047, grad=0.0000)], [Var(v=0.0125, grad=0.0000)], [Var(v=-0.0283, grad=0.0000)], [Var(v=-0.0311, grad=0.0000)], [Var(v=-0.0033, grad=0.0000)], [Var(v=-0.0196, grad=0.0000)], [Var(v=0.0157, grad=0.0000)], [Var(v=-0.0047, grad=0.0000)], [Var(v=0.0137, grad=0.0000)], [Var(v=0.0148, grad=0.0000)], [Var(v=-0.0150, grad=0.0000)], [Var(v=0.0027, grad=0.0000)], [Var(v=0.0170, grad=0.0000)], [Var(v=0.0064, grad=0.0000)], [Var(v=0.0120, grad=0.0000)], [Var(v=0.0086, grad=0.0000)], [Var(v=0.0061, grad=0.0000)], [Var(v=0.0082, grad=0.0000)], [Var(v=-0.0293, grad=0.0000)], [Var(v=0.0102, grad=0.0000)], [Var(v=0.0081, grad=0.0000)], [Var(v=0.0099, grad=0.0000)], [Var(v=-0.0188, grad=0.0000)], [Var(v=-0.0178, grad=0.0000)], [Var(v=0.0038, grad=0.0000)], [Var(v=-0.0182, grad=0.0000)], [Var(v=-0.0079, grad=0.0000)], [Var(v=-0.0007, grad=0.0000)], [Var(v=-0.0198, grad=0.0000)], [Var(v=0.0083, grad=0.0000)], [Var(v=-0.0315, grad=0.0000)], [Var(v=-0.0277, grad=0.0000)], [Var(v=0.0055, grad=0.0000)], [Var(v=0.0062, grad=0.0000)], [Var(v=-0.0103, grad=0.0000)], [Var(v=0.0147, grad=0.0000)], [Var(v=-0.0184, grad=0.0000)], [Var(v=0.0104, grad=0.0000)], [Var(v=0.0171, grad=0.0000)], [Var(v=-0.0089, grad=0.0000)], [Var(v=-0.0065, grad=0.0000)], [Var(v=0.0141, grad=0.0000)], [Var(v=0.0151, grad=0.0000)], [Var(v=-0.0232, grad=0.0000)], [Var(v=0.0108, grad=0.0000)], [Var(v=-0.0091, grad=0.0000)], [Var(v=0.0041, grad=0.0000)], [Var(v=0.0019, grad=0.0000)], [Var(v=-0.0180, grad=0.0000)], [Var(v=-0.0105, grad=0.0000)], [Var(v=0.0015, grad=0.0000)], [Var(v=-0.0285, grad=0.0000)], [Var(v=0.0075, grad=0.0000)], [Var(v=0.0072, grad=0.0000)], [Var(v=0.0095, grad=0.0000)], [Var(v=-0.0297, grad=0.0000)], [Var(v=-0.0045, grad=0.0000)], [Var(v=-0.0027, grad=0.0000)], [Var(v=0.0155, grad=0.0000)], [Var(v=0.0021, grad=0.0000)], [Var(v=0.0078, grad=0.0000)], [Var(v=0.0034, grad=0.0000)], [Var(v=0.0029, grad=0.0000)], [Var(v=0.0087, grad=0.0000)], [Var(v=0.0160, grad=0.0000)], [Var(v=0.0166, grad=0.0000)], [Var(v=-0.0107, grad=0.0000)], [Var(v=0.0050, grad=0.0000)], [Var(v=0.0092, grad=0.0000)], [Var(v=-0.0168, grad=0.0000)], [Var(v=0.0132, grad=0.0000)], [Var(v=0.0158, grad=0.0000)], [Var(v=-0.0077, grad=0.0000)], [Var(v=-0.0013, grad=0.0000)], [Var(v=-0.0269, grad=0.0000)], [Var(v=0.0094, grad=0.0000)], [Var(v=-0.0176, grad=0.0000)], [Var(v=0.0091, grad=0.0000)], [Var(v=0.0139, grad=0.0000)], [Var(v=-0.0085, grad=0.0000)], [Var(v=-0.0250, grad=0.0000)]]\n"
     ]
    }
   ],
   "source": [
    "NN = [\n",
    "    DenseLayer(1, 5, lambda x: x.relu()),\n",
    "    DenseLayer(5, 1, lambda x: x.identity())\n",
    "]\n",
    "\n",
    "def forward(input, network):\n",
    "\n",
    "  def forward_single(x, network):\n",
    "    for layer in network:\n",
    "        x = layer.forward(x)\n",
    "    return x\n",
    "\n",
    "  output = [ forward_single(input[n], network) for n in range(len(input))]\n",
    "  return output\n",
    "\n",
    "print(forward(x_train, NN))\n"
   ]
  },
  {
   "cell_type": "markdown",
   "metadata": {
    "id": "oLrGJytZFtGm"
   },
   "source": [
    "## Exercise h) Print all network parameters\n",
    "\n",
    "Make a function that prints all the parameters of the network (weights and biases) with information about in which layer the appear. In the object oriented spirit you should introduce a method in the DenseLayer class to print the parameters of a layer. Hint: You can take inspiration from the corresponding method in Var. "
   ]
  },
  {
   "cell_type": "code",
   "execution_count": 18,
   "metadata": {
    "id": "iac-VwYGFtGm"
   },
   "outputs": [
    {
     "name": "stdout",
     "output_type": "stream",
     "text": [
      "Weights: [[Var(v=-0.0805, grad=0.0000), Var(v=0.0523, grad=0.0000), Var(v=0.2411, grad=0.0000), Var(v=0.0964, grad=0.0000), Var(v=-0.1403, grad=0.0000)]] Biases: [Var(v=0.0000, grad=0.0000), Var(v=0.0000, grad=0.0000), Var(v=0.0000, grad=0.0000), Var(v=0.0000, grad=0.0000), Var(v=0.0000, grad=0.0000)]\n",
      "Weights: [[Var(v=0.1190, grad=0.0000)], [Var(v=0.0304, grad=0.0000)], [Var(v=-0.1031, grad=0.0000)], [Var(v=0.0608, grad=0.0000)], [Var(v=0.0101, grad=0.0000)]] Biases: [Var(v=0.0000, grad=0.0000)]\n"
     ]
    }
   ],
   "source": [
    "# Insert code here and in the DenseLayer class\n",
    "\n",
    "def net_param(network):\n",
    "    for layer in network:\n",
    "        print(layer)\n",
    "\n",
    "net_param(NN)"
   ]
  },
  {
   "cell_type": "markdown",
   "metadata": {
    "id": "_79HOAXrFtHK"
   },
   "source": [
    "## Visualization\n",
    "\n",
    "Now that we have defined our activation functions we can visualize them to see what they look like:"
   ]
  },
  {
   "cell_type": "code",
   "execution_count": 19,
   "metadata": {
    "id": "1FcylHqLTl-Z"
   },
   "outputs": [
    {
     "data": {
      "image/png": "[encoded data removed]",
      "text/plain": [
       "<Figure size 432x288 with 1 Axes>"
      ]
     },
     "metadata": {
      "needs_background": "light"
     },
     "output_type": "display_data"
    }
   ],
   "source": [
    "x = np.linspace(-6, 6, 100)\n",
    "\n",
    "# convert from Var to ndarray  \n",
    "def Var_to_nparray(x):\n",
    "  y = np.zeros((len(x),len(x[0])))\n",
    "  for i in range(len(x)):\n",
    "    for j in range(len(x[0])):\n",
    "      y[i,j] = x[i][j].v\n",
    "  return y\n",
    "\n",
    "# define 1-1 network with weight = 1 and relu activation \n",
    "NN = [ DenseLayer(1, 1, lambda x: x.relu(), initializer = ConstantInitializer(1.0)) ] \n",
    "y = Var_to_nparray(forward(nparray_to_Var(x), NN))\n",
    "\n",
    "#y = Var_to_nparray(relu(nparray_to_Var(x)))\n",
    "plt.plot(x,y)\n",
    "plt.show()"
   ]
  },
  {
   "cell_type": "code",
   "execution_count": 20,
   "metadata": {
    "id": "oOL2UolJFtHL"
   },
   "outputs": [
    {
     "data": {
      "image/png": "[encoded data removed]",
      "text/plain": [
       "<Figure size 360x360 with 1 Axes>"
      ]
     },
     "metadata": {
      "needs_background": "light"
     },
     "output_type": "display_data"
    }
   ],
   "source": [
    "# Testing all activation layers\n",
    "\n",
    "x = np.linspace(-6, 6, 100)\n",
    "units = {\n",
    "    \"identity\": lambda x: x.identity(),\n",
    "    \"sigmoid\": lambda x: x.sigmoid(), \n",
    "    \"relu\": lambda x: x.relu(),\n",
    "    \"tanh\": lambda x: x.tanh() \n",
    "}\n",
    "\n",
    "plt.figure(figsize=(5, 5))\n",
    "[plt.plot(x, Var_to_nparray(forward(nparray_to_Var(x), [DenseLayer(1, 1, unit, initializer = ConstantInitializer(1.0))]) ), label=unit_name, lw=2) for unit_name, unit in units.items()] # unit(nparray_to_Var(x))), label=unit_name, lw=2) for unit_name, unit in units.items()]\n",
    "plt.legend(loc=2, fontsize=16)\n",
    "plt.title('Our activation functions', fontsize=20)\n",
    "plt.ylim([-2, 5])\n",
    "plt.xlim([-6, 6])\n",
    "plt.show()\n"
   ]
  },
  {
   "cell_type": "markdown",
   "metadata": {
    "id": "b-jdEl-7FtGs"
   },
   "source": [
    "# Advanced initialization schemes\n",
    "\n",
    "If we are not careful with initialization, the signals we propagate forward ($a^{(l)}$, $l=1,\\ldots,L$) and backward ($\\delta^l$, $l=L,L-1,\\ldots,1$) can blow up or shrink to zero. A statistical analysis of the variance of the signals for different activation functions can be found in these two papers: [Glorot initialization](http://proceedings.mlr.press/v9/glorot10a/glorot10a.pdf) and [He initialization](https://arxiv.org/pdf/1502.01852v1.pdf). \n",
    "\n",
    "The result of the analyses are proposals for how to make the initialization such that the variance of the signals (forward and backward) are kept approxmimatly constant when propagating from layer to layer. The exact expressions depend upon the non-linear activation function used. In Glorot initialization, the aim is to keep both the forward and backward variances constant whereas He only aims at keeping the variance in the forward pass constant.\n",
    "\n",
    "We define $n_{in}$ and $n_{out}$ as the number of input units and output units of a particular layer. \n",
    "\n",
    "The Glorot initialization has the form: \n",
    "\n",
    "$$w_{ij} \\sim N \\bigg( 0, \\, \\frac{2 \\alpha }{n_{in} + n_{out}} \\bigg) \\ . $$\n",
    "\n",
    "where $N(\\mu,\\sigma^2)$ is a Gaussian distribution with mean $\\mu$ and variance $\\sigma^2$ and $\\alpha$ is a parameter that depends upon the activation function used. For $\\tanh$, $\\alpha=1$ and for Rectified Linear Unit (ReLU) activations, $\\alpha=2$. (It is also possible to use a uniform distribution for initialization, see [this blog post](https://mmuratarat.github.io/2019-02-25/xavier-glorot-he-weight-init).) \n",
    "\n",
    "The He initialization is very similar\n",
    "\n",
    "$$w_{ij} \\sim N \\bigg( 0, \\, \\frac{\\alpha}{n_{in}} \\bigg) \\ . $$"
   ]
  },
  {
   "cell_type": "markdown",
   "metadata": {
    "id": "mqeyab9qFtGs"
   },
   "source": [
    "## Exercise i) Glorot and He initialization\n",
    " \n",
    "Using the Initializer class, implement functions that implement Glorot and He \n",
    "\n",
    "Explain briefly how you would test numerically that these initializations have the sought after property. Hint: See plots in Glorot paper.\n",
    "\n",
    "Comment: If you want to be more advanced then try to make a universal initializer taking both the activation function and type (Glorot or He) as argument."
   ]
  },
  {
   "cell_type": "code",
   "execution_count": 21,
   "metadata": {
    "id": "Qyk01CgaFtGt"
   },
   "outputs": [],
   "source": [
    "## Glorot\n",
    "def DenseLayer_Glorot_tanh(n_in: int, n_out: int):\n",
    "    alfa=1\n",
    "    std = 2*alfa/(n_in + n_out) # <- replace with proper initialization\n",
    "    return DenseLayer(n_in, n_out, lambda x: x.tanh(), initializer = NormalInitializer(std))\n",
    "\n",
    "## He\n",
    "def DenseLayer_He_relu(n_in: int, n_out: int):\n",
    "    alfa=2\n",
    "    std = alfa/(n_in)# <- replace with proper initialization\n",
    "    return DenseLayer(n_in, n_out, lambda x: x.relu(), initializer = NormalInitializer(std))"
   ]
  },
  {
   "cell_type": "code",
   "execution_count": 73,
   "metadata": {},
   "outputs": [
    {
     "data": {
      "image/png": "[encoded data removed]",
      "text/plain": [
       "<Figure size 432x288 with 1 Axes>"
      ]
     },
     "metadata": {
      "needs_background": "light"
     },
     "output_type": "display_data"
    }
   ],
   "source": [
    "layer = DenseLayer_Glorot_tanh(8, 2000)\n",
    "\n",
    "for ind,w in enumerate(layer.weights):\n",
    "    p = [x.v for x in w] \n",
    "    i=ind+1\n",
    "    plt.hist(p, bins=np.linspace(-1, 1, 1000),density=True,histtype='step',label='Input %i' % i) \n",
    "\n",
    "plt.legend()\n",
    "plt.title('Forward pass unit with Glorot initialization and tanh activation function')\n",
    "plt.xlabel('Weights')\n",
    "plt.ylabel('Frequency') \n",
    "plt.show()\n"
   ]
  },
  {
   "cell_type": "code",
   "execution_count": 31,
   "metadata": {},
   "outputs": [
    {
     "data": {
      "image/png": "[encoded data removed]",
      "text/plain": [
       "<Figure size 432x288 with 1 Axes>"
      ]
     },
     "metadata": {
      "needs_background": "light"
     },
     "output_type": "display_data"
    }
   ],
   "source": [
    "layer = DenseLayer_He_relu(8, 2000)\n",
    "\n",
    "for ind,w in enumerate(layer.weights):\n",
    "    p = [x.v for x in w]  \n",
    "    i=ind+1\n",
    "    plt.hist(p, bins=np.linspace(-1, 1, 1000), histtype='step', density=True,label='Input %i' % i)  \n",
    "    \n",
    "plt.legend()\n",
    "plt.title('Forward pass unit with He initialization and relu activation function')\n",
    "plt.xlabel('Weights')\n",
    "plt.ylabel('Frequency') \n",
    "plt.show()"
   ]
  },
  {
   "cell_type": "markdown",
   "metadata": {},
   "source": [
    "<span style=\"color:darkblue\"> The aim of using different initialitzations schemes relies on keeping approximately constant the variance of the signals when propagating from layer to layer. The idea is to initialize each weight with a small Gaussian value with mean = 0.0 and variance based on the fan-in and fan-out of the weight. In both cases, the weights are mantained relatively constant for each input. \n",
    "Thus, this proper initialization would avoid reducing or magnifying the magnitudes of input signals exponentially as we need the variance of the outputs of each layer to be equal to the variance of its inputs. Then, we also need the gradients to have equal variance before and after flowing through a layer in the reverse direction.\n",
    "    \n",
    "    \n",
    "<span style=\"color:darkblue\">To sum up, Glorot Initialization is used to maintain the same smooth distribution for both the forward pass as well the backpropagation. As Glorot Initialization fails for ReLU, instead we use He Initialization for ReLU. \n",
    "\n",
    "\n",
    "</span>"
   ]
  },
  {
   "cell_type": "markdown",
   "metadata": {
    "id": "-XyXBD37FtHk"
   },
   "source": [
    "## Exercise j) Forward pass unit test\n",
    "\n",
    "Write a bit of code to make a unit test that the forward pass works. This can be done by defining a simple network with for example all weights equal to one (using the ConstantInitializer method) and identity activation functions. \n",
    "\n",
    "Hints: Use the [assert](https://www.w3schools.com/python/ref_keyword_assert.asp), the nparray_to_Var and the Var_to_nparray commands. "
   ]
  },
  {
   "cell_type": "code",
   "execution_count": 32,
   "metadata": {
    "id": "k0miqRUAFtHl"
   },
   "outputs": [
    {
     "name": "stdout",
     "output_type": "stream",
     "text": [
      "Weights: [[Var(v=1.0000, grad=0.0000)]] Biases: [Var(v=0.0000, grad=0.0000)]\n",
      "NN Inputs: [ 0.  1.  2.  3.  4.  5.  6.  7.  8.  9. 10. 11. 12. 13. 14. 15. 16. 17.\n",
      " 18. 19. 20. 21. 22. 23. 24.]\n",
      "NN Ouputs [[ 0.  1.  2.  3.  4.  5.  6.  7.  8.  9. 10. 11. 12. 13. 14. 15. 16. 17.\n",
      "  18. 19. 20. 21. 22. 23. 24.]]\n"
     ]
    }
   ],
   "source": [
    "# Insert code here\n",
    "layer = DenseLayer(1, 1, lambda x: x.identity(), initializer=ConstantInitializer())\n",
    "print(layer)\n",
    "\n",
    "x = np.array([float(i) for i in range(25)])\n",
    "y = Var_to_nparray(forward(nparray_to_Var(x), NN))\n",
    "\n",
    "print('NN Inputs:',x)\n",
    "print('NN Ouputs',y.T)\n"
   ]
  },
  {
   "cell_type": "markdown",
   "metadata": {},
   "source": [
    "<span style=\"color:darkblue\"> A simple network has been defined with all weights equal to one. As we have one input neuron and an output one, there is just one weight equal 1.0 and one neuron referring to the bias (in this case, equal 0). \n",
    "Due to using the identity activation function, the inputs are passed through the network, obtaining the same input responses as outputs. \n",
    "    \n",
    "</span>"
   ]
  },
  {
   "cell_type": "markdown",
   "metadata": {
    "id": "faCxhfFnFtHp"
   },
   "source": [
    "# Loss functions\n",
    "\n",
    "We are only missing a loss function to we need to define a loss function and its derivative with respect to the output of the neural network $y$"
   ]
  },
  {
   "cell_type": "code",
   "execution_count": 33,
   "metadata": {
    "id": "I2eDYKvAFtHq"
   },
   "outputs": [],
   "source": [
    "def squared_loss(t, y):\n",
    "  # add check that sizes agree\n",
    "  def squared_loss_single(t, y):\n",
    "    Loss = Var(0.0)\n",
    "    for i in range(len(t)): # sum over outputs\n",
    "      Loss += (t[i]-y[i]) ** 2\n",
    "    return Loss\n",
    "\n",
    "  Loss = Var(0.0)\n",
    "  for n in range(len(t)): # sum over training data\n",
    "    Loss += squared_loss_single(t[n],y[n])\n",
    "  return Loss"
   ]
  },
  {
   "cell_type": "markdown",
   "metadata": {
    "id": "SrwSJ2UWFtHu"
   },
   "source": [
    "## Exercise j) Implement cross entropy loss\n",
    "\n",
    "Insert code below to implement cross-entropy loss for general dimensionality of $t$. Use a logits formulation:\n",
    "$$\n",
    "\\rm{Loss} = - \\sum_i t_i \\, log \\, p_i \n",
    "$$\n",
    "with $p$ given by the the softmax function in terms of the logits $h$:\n",
    "$$\n",
    "p_i = \\frac{\\exp(h_i)}{\\sum_{i'} \\exp(h_{i'})} .\n",
    "$$\n",
    "Inserting $p$ in the expression for the loss gives\n",
    "$$\n",
    "\\rm{Loss} = - \\sum_i t_i h_i + \\rm{LogSumExp}(h) \\ ,\n",
    "$$\n",
    "where \n",
    "$$\n",
    "\\rm{LogSumExp}(h) = \\log \\sum_i \\exp h_i \\ .\n",
    "$$\n",
    "This is true for $t$ being a one-hot vector. \n",
    "\n",
    "Call the function to convince yourself it works. \n",
    "\n",
    "In practice you want to implement a [numerically stable](https://leimao.github.io/blog/LogSumExp/) version of LogSumExp. But we will not bother about that here.\n",
    "\n",
    "Help: You can add these methods in the Var class:\n",
    "\n",
    "    def exp(self):\n",
    "        return Var(exp(self.v), lambda: [(self, exp(self.v))])\n",
    "    \n",
    "    def log(self):\n",
    "        return Var(log(self.v), lambda: [(self, self.v ** -1)])"
   ]
  },
  {
   "cell_type": "code",
   "execution_count": 34,
   "metadata": {},
   "outputs": [],
   "source": [
    "class Var:\n",
    "    \"\"\"\n",
    "    A variable which holds a float and enables gradient computations.\n",
    "    \"\"\"\n",
    "\n",
    "    def __init__(self, val: float, grad_fn=lambda: []):\n",
    "        assert type(val) == float\n",
    "        self.v = val\n",
    "        self.grad_fn = grad_fn\n",
    "        self.grad = 0.0\n",
    "\n",
    "    def backprop(self, bp):\n",
    "        self.grad += bp\n",
    "        for input, grad in self.grad_fn():\n",
    "            input.backprop(grad * bp)\n",
    "\n",
    "    def backward(self):\n",
    "        self.backprop(1.0)\n",
    "\n",
    "    def __add__(self: 'Var', other: 'Var') -> 'Var':\n",
    "        return Var(self.v + other.v, lambda: [(self, 1.0), (other, 1.0)])\n",
    "\n",
    "    def __mul__(self: 'Var', other: 'Var') -> 'Var':\n",
    "        #One variables takes the value of the other one as the gradient. \n",
    "        return Var(self.v * other.v, lambda: [(self, other.v), (other, self.v)]) \n",
    "\n",
    "    def __pow__(self, power):\n",
    "        assert type(power) in {float, int}, \"power must be float or int\"\n",
    "        return Var(self.v ** power, lambda: [(self, power * self.v ** (power - 1))])\n",
    "\n",
    "    def __neg__(self: 'Var') -> 'Var':\n",
    "        return Var(-1.0) * self\n",
    "\n",
    "    def __sub__(self: 'Var', other: 'Var') -> 'Var':\n",
    "        return self + (-other)\n",
    "\n",
    "    def __truediv__(self: 'Var', other: 'Var') -> 'Var':\n",
    "        return self * other ** -1\n",
    "\n",
    "    def __repr__(self):\n",
    "        return \"Var(v=%.4f, grad=%.4f)\" % (self.v, self.grad)\n",
    "\n",
    "    def relu(self):\n",
    "        return Var(self.v if self.v > 0.0 else 0.0, lambda: [(self, 1.0 if self.v > 0.0 else 0.0)])\n",
    "\n",
    "    #ADDED ACTIVATION FUNCTIONS\n",
    "    def identity(self):\n",
    "        return Var(self.v, lambda: [(self, 1.0)])\n",
    "\n",
    "    def tanh(self):\n",
    "        return Var(tanh(self.v), lambda: [(self, 1 - tanh(self.v)**2)])\n",
    "    \n",
    "    def sigmoid(self):\n",
    "        return Var(1/(1+exp(-self.v)) , lambda: [(self, (1/(1.0+exp(-self.v))) * (1 - 1/(1.0+exp(-self.v))))])\n",
    "    \n",
    "    def exp(self):\n",
    "        return Var(exp(self.v), lambda: [(self, exp(self.v))])\n",
    "\n",
    "    def log(self):\n",
    "        return Var(log(self.v), lambda: [(self, self.v ** -1)])\n",
    "    "
   ]
  },
  {
   "cell_type": "code",
   "execution_count": 35,
   "metadata": {
    "id": "6nMuxyfzFtHv"
   },
   "outputs": [],
   "source": [
    "def cross_entropy_loss(t, h):\n",
    "     \n",
    "    Loss = Var(0.0)\n",
    "    for i in range(len(t)): \n",
    "        log_sum=Var(0.0)\n",
    "        for k in range(len(h)):\n",
    "            log_sum+=h[i].exp()\n",
    "        log_sum=log_sum.log()\n",
    "        Loss+=t[i]*h[i]+log_sum\n",
    "    return -Loss"
   ]
  },
  {
   "cell_type": "markdown",
   "metadata": {
    "id": "8fAF5ew4FtHy"
   },
   "source": [
    "# Backward pass\n",
    "\n",
    "Now the magic happens! We get the calculation of the gradients for free. Just do:"
   ]
  },
  {
   "cell_type": "code",
   "execution_count": 36,
   "metadata": {
    "id": "iHyfPPI9Qqwu"
   },
   "outputs": [],
   "source": [
    "NN = [\n",
    "    DenseLayer(1, 5, lambda x: x.relu()),\n",
    "    DenseLayer(5, 1, lambda x: x.identity())\n",
    "]\n",
    "\n",
    "output = forward(x_train, NN)\n",
    "\n",
    "Loss = squared_loss(y_train,output)\n",
    "Loss.backward()"
   ]
  },
  {
   "cell_type": "markdown",
   "metadata": {
    "id": "49biIAYKQ1oG"
   },
   "source": [
    "and the gradients will be calculated:"
   ]
  },
  {
   "cell_type": "code",
   "execution_count": 37,
   "metadata": {
    "id": "_rGt1bq_Q7uk"
   },
   "outputs": [
    {
     "name": "stdout",
     "output_type": "stream",
     "text": [
      "Layer 0 \n",
      " Weights: [[Var(v=-0.0947, grad=-2.7411), Var(v=0.0890, grad=-18.3751), Var(v=0.1184, grad=-13.6529), Var(v=-0.0511, grad=17.9838), Var(v=0.0632, grad=10.3059)]] Biases: [Var(v=0.0000, grad=2.4912), Var(v=0.0000, grad=-15.7928), Var(v=0.0000, grad=-11.7342), Var(v=0.0000, grad=-16.3443), Var(v=0.0000, grad=8.8576)]\n",
      "Layer 1 \n",
      " Weights: [[Var(v=0.0288, grad=9.0237)], [Var(v=0.1862, grad=-8.7808)], [Var(v=0.1383, grad=-11.6884)], [Var(v=-0.1887, grad=4.8729)], [Var(v=-0.1044, grad=-6.2383)]] Biases: [Var(v=0.0000, grad=1.7987)]\n"
     ]
    },
    {
     "data": {
      "text/plain": [
       "[None, None]"
      ]
     },
     "execution_count": 37,
     "metadata": {},
     "output_type": "execute_result"
    }
   ],
   "source": [
    "[print('Layer', i, '\\n', NN[i]) for i in range(len(NN))] "
   ]
  },
  {
   "cell_type": "markdown",
   "metadata": {
    "id": "D7d7qK0uFtH9"
   },
   "source": [
    "# Backward pass unit test\n",
    "\n",
    "Above we used finite differences to test that Nanograd is actually doing what it is supposed to do. We can in principle try the same for the neural network. But we will trust that the test above is enough."
   ]
  },
  {
   "cell_type": "markdown",
   "metadata": {
    "id": "WgBi8GOSFtIN"
   },
   "source": [
    "# Training and validation\n",
    "\n",
    "We are ready to train some neural networks!\n",
    "\n",
    "We initialize again:"
   ]
  },
  {
   "cell_type": "code",
   "execution_count": 38,
   "metadata": {
    "id": "01ePmzBzRtdh"
   },
   "outputs": [],
   "source": [
    "NN = [\n",
    "    DenseLayer(1, 15, lambda x: x.relu()),\n",
    "    DenseLayer(15, 50, lambda x: x.relu()),\n",
    "    DenseLayer(50, 1, lambda x: x.identity())\n",
    "]\n",
    "\n",
    "output = forward(x_train, NN)\n",
    "\n",
    "Loss = squared_loss(y_train,output)\n",
    "Loss.backward()"
   ]
  },
  {
   "cell_type": "markdown",
   "metadata": {
    "id": "10iRPiQ1ISHw"
   },
   "source": [
    "and make an update:\n",
    "\n",
    "We introduce a help function parameters to have a handle in all parameters in the network."
   ]
  },
  {
   "cell_type": "code",
   "execution_count": 39,
   "metadata": {
    "id": "dhAI7eyeznia"
   },
   "outputs": [
    {
     "name": "stdout",
     "output_type": "stream",
     "text": [
      "Network before update:\n",
      "Layer 0 \n",
      " Weights: [[Var(v=-0.1541, grad=-4.6009), Var(v=0.0958, grad=-3.4083), Var(v=-0.0040, grad=-6.5134), Var(v=-0.1200, grad=-1.3975), Var(v=-0.0172, grad=0.5361), Var(v=-0.1193, grad=0.8019), Var(v=0.0174, grad=-0.0017), Var(v=0.0033, grad=-1.8967), Var(v=-0.0190, grad=-5.5864), Var(v=-0.0433, grad=-5.2356), Var(v=0.0655, grad=9.1416), Var(v=0.0287, grad=-9.2383), Var(v=0.0140, grad=-3.1086), Var(v=-0.1177, grad=1.2628), Var(v=-0.0831, grad=-5.9812)]] Biases: [Var(v=0.0000, grad=4.1831), Var(v=0.0000, grad=-2.9277), Var(v=0.0000, grad=5.9220), Var(v=0.0000, grad=1.2706), Var(v=0.0000, grad=-0.4874), Var(v=0.0000, grad=-0.7291), Var(v=0.0000, grad=-0.0015), Var(v=0.0000, grad=-1.6292), Var(v=0.0000, grad=5.0792), Var(v=0.0000, grad=4.7602), Var(v=0.0000, grad=7.8527), Var(v=0.0000, grad=-7.9358), Var(v=0.0000, grad=-2.6703), Var(v=0.0000, grad=-1.1481), Var(v=0.0000, grad=5.4381)]\n",
      "Layer 1 \n",
      " Weights: [[Var(v=-0.1240, grad=0.0000), Var(v=-0.0944, grad=0.0000), Var(v=0.1580, grad=-1.3993), Var(v=-0.1120, grad=0.0000), Var(v=-0.0345, grad=-0.6045), Var(v=-0.0171, grad=1.2822), Var(v=-0.1078, grad=0.0000), Var(v=-0.0008, grad=0.0000), Var(v=0.0229, grad=2.0353), Var(v=0.1264, grad=0.0000), Var(v=0.0987, grad=1.9101), Var(v=0.1326, grad=0.5331), Var(v=-0.0783, grad=0.0000), Var(v=-0.0883, grad=2.0532), Var(v=0.0146, grad=0.9581), Var(v=-0.1111, grad=0.0000), Var(v=0.0631, grad=0.0000), Var(v=-0.0937, grad=0.0000), Var(v=-0.1242, grad=0.0000), Var(v=-0.0005, grad=-0.6345), Var(v=-0.0159, grad=0.0000), Var(v=0.1328, grad=2.1489), Var(v=-0.2869, grad=-1.4209), Var(v=0.2030, grad=-1.4274), Var(v=0.0378, grad=0.0000), Var(v=0.0313, grad=0.0000), Var(v=0.1005, grad=-0.6958), Var(v=-0.0371, grad=0.0000), Var(v=-0.0252, grad=1.5837), Var(v=-0.0612, grad=0.0000), Var(v=0.0685, grad=0.0000), Var(v=-0.2521, grad=0.0000), Var(v=-0.0339, grad=0.0000), Var(v=0.0903, grad=-3.4971), Var(v=0.2997, grad=0.4865), Var(v=-0.0060, grad=2.2037), Var(v=-0.0494, grad=0.0000), Var(v=-0.0674, grad=0.0000), Var(v=0.0061, grad=1.3218), Var(v=0.0624, grad=-0.1342), Var(v=0.1977, grad=0.7865), Var(v=-0.0562, grad=0.0000), Var(v=0.1319, grad=2.7846), Var(v=-0.0906, grad=0.0000), Var(v=-0.0034, grad=0.0000), Var(v=-0.0719, grad=0.0000), Var(v=-0.1862, grad=0.0000), Var(v=-0.1009, grad=-1.3623), Var(v=-0.0287, grad=-0.0567), Var(v=-0.0358, grad=-0.5682)], [Var(v=-0.0158, grad=-0.6509), Var(v=0.1557, grad=1.5120), Var(v=-0.1091, grad=0.9061), Var(v=0.0495, grad=0.9278), Var(v=0.0091, grad=0.0000), Var(v=0.0698, grad=-0.8303), Var(v=-0.1771, grad=0.0000), Var(v=-0.0876, grad=0.0000), Var(v=-0.0502, grad=-1.3179), Var(v=-0.0917, grad=0.0000), Var(v=-0.1382, grad=0.0000), Var(v=-0.0833, grad=0.0000), Var(v=-0.2050, grad=0.0000), Var(v=-0.0734, grad=0.0000), Var(v=0.0605, grad=-0.6204), Var(v=0.1156, grad=-1.0789), Var(v=-0.0422, grad=0.0000), Var(v=-0.0268, grad=0.0000), Var(v=-0.0633, grad=0.0000), Var(v=-0.0348, grad=0.0000), Var(v=-0.0041, grad=-0.3297), Var(v=-0.0509, grad=-1.3915), Var(v=-0.0086, grad=0.9201), Var(v=0.0856, grad=0.0000), Var(v=0.0510, grad=-0.1826), Var(v=0.1191, grad=0.0000), Var(v=0.0756, grad=0.4506), Var(v=-0.0127, grad=-0.1145), Var(v=-0.0068, grad=0.0000), Var(v=-0.1067, grad=0.0000), Var(v=0.0267, grad=-1.1401), Var(v=-0.1020, grad=0.0000), Var(v=-0.0634, grad=0.0000), Var(v=-0.0770, grad=2.2645), Var(v=-0.0171, grad=0.0000), Var(v=-0.0467, grad=0.0000), Var(v=0.0214, grad=1.0491), Var(v=-0.1279, grad=0.0000), Var(v=0.0762, grad=0.0000), Var(v=-0.0315, grad=0.0000), Var(v=0.2352, grad=-0.5093), Var(v=0.0136, grad=0.9673), Var(v=0.1007, grad=-1.8031), Var(v=-0.1264, grad=0.0000), Var(v=-0.0039, grad=0.0000), Var(v=0.1357, grad=0.7435), Var(v=-0.1624, grad=0.9867), Var(v=-0.1410, grad=0.0000), Var(v=0.1182, grad=0.0367), Var(v=0.1895, grad=0.3679)], [Var(v=-0.0815, grad=0.0000), Var(v=-0.0909, grad=0.0000), Var(v=-0.0454, grad=-0.0366), Var(v=-0.0055, grad=0.0000), Var(v=0.1122, grad=-0.0158), Var(v=0.1330, grad=0.0335), Var(v=-0.0592, grad=0.0000), Var(v=0.1161, grad=0.0000), Var(v=-0.0013, grad=0.0532), Var(v=0.0023, grad=0.0000), Var(v=-0.0064, grad=0.0499), Var(v=0.0046, grad=0.0139), Var(v=-0.0288, grad=0.0000), Var(v=0.2216, grad=0.0537), Var(v=-0.0595, grad=0.0250), Var(v=0.0761, grad=0.0000), Var(v=0.0267, grad=0.0000), Var(v=0.0592, grad=0.0000), Var(v=0.0607, grad=0.0000), Var(v=-0.0617, grad=-0.0166), Var(v=-0.0580, grad=0.0000), Var(v=0.0606, grad=0.0562), Var(v=0.1439, grad=-0.0371), Var(v=0.0916, grad=-0.0373), Var(v=-0.2297, grad=0.0000), Var(v=-0.0916, grad=0.0000), Var(v=0.1028, grad=-0.0182), Var(v=0.1053, grad=0.0000), Var(v=-0.0140, grad=0.0414), Var(v=-0.0217, grad=0.0000), Var(v=0.0330, grad=0.0000), Var(v=0.2279, grad=0.0000), Var(v=-0.0586, grad=0.0000), Var(v=-0.1358, grad=-0.0914), Var(v=0.1727, grad=0.0127), Var(v=0.0986, grad=0.0576), Var(v=0.0455, grad=0.0000), Var(v=-0.0345, grad=0.0000), Var(v=-0.1048, grad=0.0346), Var(v=-0.0928, grad=-0.0035), Var(v=0.0659, grad=0.0206), Var(v=0.1450, grad=0.0000), Var(v=0.0087, grad=0.0728), Var(v=-0.0380, grad=0.0000), Var(v=0.0792, grad=0.0000), Var(v=0.0874, grad=0.0000), Var(v=0.1079, grad=0.0000), Var(v=0.0226, grad=-0.0356), Var(v=0.0065, grad=-0.0015), Var(v=-0.0294, grad=-0.0149)], [Var(v=-0.0472, grad=0.0000), Var(v=-0.0724, grad=0.0000), Var(v=0.0244, grad=-1.0899), Var(v=-0.1662, grad=0.0000), Var(v=0.0839, grad=-0.4709), Var(v=-0.0547, grad=0.9987), Var(v=-0.0628, grad=0.0000), Var(v=0.0351, grad=0.0000), Var(v=0.0306, grad=1.5853), Var(v=-0.0367, grad=0.0000), Var(v=0.0482, grad=1.4877), Var(v=0.0147, grad=0.4153), Var(v=-0.2218, grad=0.0000), Var(v=0.0871, grad=1.5992), Var(v=0.1794, grad=0.7463), Var(v=0.1726, grad=0.0000), Var(v=-0.0987, grad=0.0000), Var(v=-0.1074, grad=0.0000), Var(v=-0.0884, grad=0.0000), Var(v=0.0454, grad=-0.4942), Var(v=-0.2090, grad=0.0000), Var(v=-0.0545, grad=1.6738), Var(v=0.1063, grad=-1.1068), Var(v=-0.0317, grad=-1.1118), Var(v=-0.1001, grad=0.0000), Var(v=-0.0372, grad=0.0000), Var(v=0.0136, grad=-0.5420), Var(v=0.0095, grad=0.0000), Var(v=0.0662, grad=1.2335), Var(v=-0.0535, grad=0.0000), Var(v=-0.0533, grad=0.0000), Var(v=-0.0798, grad=0.0000), Var(v=-0.0141, grad=0.0000), Var(v=0.1539, grad=-2.7239), Var(v=-0.0589, grad=0.3789), Var(v=0.1382, grad=1.7164), Var(v=-0.0239, grad=0.0000), Var(v=-0.0124, grad=0.0000), Var(v=-0.0544, grad=1.0295), Var(v=-0.1875, grad=-0.1045), Var(v=0.1410, grad=0.6126), Var(v=-0.0748, grad=0.0000), Var(v=0.0565, grad=2.1689), Var(v=0.0392, grad=0.0000), Var(v=0.0320, grad=0.0000), Var(v=-0.0229, grad=0.0000), Var(v=0.0204, grad=0.0000), Var(v=-0.0724, grad=-1.0611), Var(v=0.0043, grad=-0.0442), Var(v=0.0767, grad=-0.4425)], [Var(v=-0.0010, grad=0.0000), Var(v=-0.0191, grad=0.0000), Var(v=-0.0263, grad=-0.1559), Var(v=0.0347, grad=0.0000), Var(v=0.0413, grad=-0.0673), Var(v=-0.0061, grad=0.1428), Var(v=0.0637, grad=0.0000), Var(v=-0.0196, grad=0.0000), Var(v=-0.0344, grad=0.2267), Var(v=0.1344, grad=0.0000), Var(v=0.1126, grad=0.2127), Var(v=0.2549, grad=0.0594), Var(v=-0.0944, grad=0.0000), Var(v=-0.0930, grad=0.2287), Var(v=0.0692, grad=0.1067), Var(v=-0.0893, grad=0.0000), Var(v=-0.1785, grad=0.0000), Var(v=0.0429, grad=0.0000), Var(v=-0.0311, grad=0.0000), Var(v=-0.1540, grad=-0.0707), Var(v=0.0113, grad=0.0000), Var(v=-0.0655, grad=0.2394), Var(v=-0.0360, grad=-0.1583), Var(v=0.0317, grad=-0.1590), Var(v=0.0267, grad=0.0000), Var(v=-0.1740, grad=0.0000), Var(v=-0.0169, grad=-0.0775), Var(v=0.0304, grad=0.0000), Var(v=0.0272, grad=0.1764), Var(v=-0.0532, grad=0.0000), Var(v=0.1648, grad=0.0000), Var(v=0.1610, grad=0.0000), Var(v=-0.0615, grad=0.0000), Var(v=-0.0489, grad=-0.3895), Var(v=0.0581, grad=0.0542), Var(v=0.0170, grad=0.2455), Var(v=0.2134, grad=0.0000), Var(v=0.0431, grad=0.0000), Var(v=-0.1406, grad=0.1472), Var(v=0.0214, grad=-0.0150), Var(v=0.0040, grad=0.0876), Var(v=0.0945, grad=0.0000), Var(v=-0.0381, grad=0.3102), Var(v=0.1625, grad=0.0000), Var(v=0.1820, grad=0.0000), Var(v=0.0351, grad=0.0000), Var(v=-0.1762, grad=0.0000), Var(v=0.1212, grad=-0.1517), Var(v=0.1132, grad=-0.0063), Var(v=0.0601, grad=-0.0633)], [Var(v=0.0615, grad=0.0000), Var(v=-0.0151, grad=0.0000), Var(v=-0.0116, grad=-1.0836), Var(v=-0.1118, grad=0.0000), Var(v=0.1265, grad=-0.4681), Var(v=0.1144, grad=0.9929), Var(v=-0.1096, grad=0.0000), Var(v=-0.0989, grad=0.0000), Var(v=0.1147, grad=1.5761), Var(v=-0.1395, grad=0.0000), Var(v=0.0868, grad=1.4791), Var(v=0.1718, grad=0.4128), Var(v=0.1112, grad=0.0000), Var(v=0.0685, grad=1.5899), Var(v=-0.0052, grad=0.7419), Var(v=-0.0326, grad=0.0000), Var(v=-0.0050, grad=0.0000), Var(v=0.1154, grad=0.0000), Var(v=-0.0077, grad=0.0000), Var(v=0.1738, grad=-0.4913), Var(v=0.0249, grad=0.0000), Var(v=0.1416, grad=1.6641), Var(v=0.0148, grad=-1.1003), Var(v=0.0157, grad=-1.1053), Var(v=0.0996, grad=0.0000), Var(v=-0.1269, grad=0.0000), Var(v=0.0468, grad=-0.5388), Var(v=-0.0039, grad=0.0000), Var(v=0.1224, grad=1.2264), Var(v=0.1488, grad=0.0000), Var(v=-0.0938, grad=0.0000), Var(v=-0.1474, grad=0.0000), Var(v=0.0210, grad=0.0000), Var(v=0.2456, grad=-2.7081), Var(v=0.0388, grad=0.3767), Var(v=-0.1297, grad=1.7065), Var(v=0.0033, grad=0.0000), Var(v=-0.0264, grad=0.0000), Var(v=-0.0235, grad=1.0236), Var(v=0.1352, grad=-0.1039), Var(v=-0.0359, grad=0.6091), Var(v=-0.1346, grad=0.0000), Var(v=0.0663, grad=2.1563), Var(v=-0.2195, grad=0.0000), Var(v=-0.1991, grad=0.0000), Var(v=-0.0852, grad=0.0000), Var(v=-0.0080, grad=0.0000), Var(v=0.0917, grad=-1.0549), Var(v=0.1672, grad=-0.0439), Var(v=-0.0081, grad=-0.4400)], [Var(v=-0.0383, grad=-0.1180), Var(v=0.0041, grad=0.2741), Var(v=0.1232, grad=0.1643), Var(v=0.1257, grad=0.1682), Var(v=-0.1274, grad=0.0000), Var(v=-0.0575, grad=-0.1505), Var(v=-0.1113, grad=0.0000), Var(v=-0.0279, grad=0.0000), Var(v=0.0801, grad=-0.2390), Var(v=0.0691, grad=0.0000), Var(v=0.1273, grad=0.0000), Var(v=-0.0213, grad=0.0000), Var(v=0.1489, grad=0.0000), Var(v=0.0935, grad=0.0000), Var(v=0.1513, grad=-0.1125), Var(v=-0.0882, grad=-0.1956), Var(v=0.0271, grad=0.0000), Var(v=0.0496, grad=0.0000), Var(v=-0.0669, grad=0.0000), Var(v=0.0546, grad=0.0000), Var(v=0.0994, grad=-0.0598), Var(v=0.0045, grad=-0.2523), Var(v=0.0017, grad=0.1668), Var(v=-0.1314, grad=0.0000), Var(v=0.0172, grad=-0.0331), Var(v=-0.1742, grad=0.0000), Var(v=-0.0972, grad=0.0817), Var(v=-0.0874, grad=-0.0208), Var(v=-0.0148, grad=0.0000), Var(v=0.0069, grad=0.0000), Var(v=-0.0529, grad=-0.2067), Var(v=0.0010, grad=0.0000), Var(v=0.0216, grad=0.0000), Var(v=-0.0357, grad=0.4106), Var(v=0.0734, grad=0.0000), Var(v=-0.0697, grad=0.0000), Var(v=-0.0370, grad=0.1902), Var(v=0.0892, grad=0.0000), Var(v=0.0044, grad=0.0000), Var(v=0.0011, grad=0.0000), Var(v=0.0976, grad=-0.0923), Var(v=-0.1324, grad=0.1754), Var(v=-0.0036, grad=-0.3269), Var(v=0.0912, grad=0.0000), Var(v=0.0888, grad=0.0000), Var(v=-0.0117, grad=0.1348), Var(v=0.0777, grad=0.1789), Var(v=0.0060, grad=0.0000), Var(v=0.1203, grad=0.0067), Var(v=0.0804, grad=0.0667)], [Var(v=0.0302, grad=-0.0227), Var(v=-0.1649, grad=0.0528), Var(v=-0.1662, grad=0.0317), Var(v=-0.0646, grad=0.0324), Var(v=0.0772, grad=0.0000), Var(v=0.0322, grad=-0.0290), Var(v=0.0484, grad=0.0000), Var(v=-0.0150, grad=0.0000), Var(v=-0.1475, grad=-0.0460), Var(v=0.0342, grad=0.0000), Var(v=-0.1111, grad=0.0000), Var(v=-0.0046, grad=0.0000), Var(v=-0.0331, grad=0.0000), Var(v=0.2076, grad=0.0000), Var(v=0.0722, grad=-0.0217), Var(v=-0.1144, grad=-0.0377), Var(v=0.1512, grad=0.0000), Var(v=-0.0362, grad=0.0000), Var(v=-0.0335, grad=0.0000), Var(v=-0.0902, grad=0.0000), Var(v=0.1374, grad=-0.0115), Var(v=-0.0594, grad=-0.0486), Var(v=-0.0917, grad=0.0321), Var(v=0.0656, grad=0.0000), Var(v=0.0618, grad=-0.0064), Var(v=-0.0975, grad=0.0000), Var(v=-0.1177, grad=0.0157), Var(v=-0.0568, grad=-0.0040), Var(v=0.0703, grad=0.0000), Var(v=-0.0259, grad=0.0000), Var(v=0.0179, grad=-0.0398), Var(v=-0.1501, grad=0.0000), Var(v=0.1275, grad=0.0000), Var(v=0.0623, grad=0.0791), Var(v=-0.2132, grad=0.0000), Var(v=-0.0865, grad=0.0000), Var(v=-0.1201, grad=0.0367), Var(v=-0.0920, grad=0.0000), Var(v=0.0029, grad=0.0000), Var(v=0.0000, grad=0.0000), Var(v=0.0113, grad=-0.0178), Var(v=-0.0941, grad=0.0338), Var(v=-0.0155, grad=-0.0630), Var(v=-0.1645, grad=0.0000), Var(v=0.0072, grad=0.0000), Var(v=0.1528, grad=0.0260), Var(v=0.1407, grad=0.0345), Var(v=-0.0868, grad=0.0000), Var(v=0.0103, grad=0.0013), Var(v=-0.0604, grad=0.0129)], [Var(v=-0.0229, grad=0.0000), Var(v=0.1163, grad=0.0000), Var(v=0.0393, grad=-0.1724), Var(v=-0.0649, grad=0.0000), Var(v=0.0952, grad=-0.0745), Var(v=0.0207, grad=0.1580), Var(v=-0.2490, grad=0.0000), Var(v=0.1407, grad=0.0000), Var(v=-0.0500, grad=0.2507), Var(v=0.0275, grad=0.0000), Var(v=0.0676, grad=0.2353), Var(v=0.0764, grad=0.0657), Var(v=0.2319, grad=0.0000), Var(v=-0.0931, grad=0.2529), Var(v=0.0913, grad=0.1180), Var(v=-0.1842, grad=0.0000), Var(v=-0.0782, grad=0.0000), Var(v=0.0676, grad=0.0000), Var(v=0.2081, grad=0.0000), Var(v=-0.1694, grad=-0.0782), Var(v=-0.0314, grad=0.0000), Var(v=0.1839, grad=0.2647), Var(v=0.0716, grad=-0.1750), Var(v=-0.0718, grad=-0.1758), Var(v=-0.1199, grad=0.0000), Var(v=-0.0018, grad=0.0000), Var(v=0.0149, grad=-0.0857), Var(v=0.0295, grad=0.0000), Var(v=0.0750, grad=0.1951), Var(v=0.1340, grad=0.0000), Var(v=-0.0843, grad=0.0000), Var(v=0.0508, grad=0.0000), Var(v=-0.0134, grad=0.0000), Var(v=0.0601, grad=-0.4308), Var(v=0.1394, grad=0.0599), Var(v=0.0822, grad=0.2715), Var(v=0.0965, grad=0.0000), Var(v=0.1034, grad=0.0000), Var(v=0.0489, grad=0.1628), Var(v=-0.1141, grad=-0.0165), Var(v=0.0588, grad=0.0969), Var(v=0.0158, grad=0.0000), Var(v=0.0430, grad=0.3430), Var(v=0.1325, grad=0.0000), Var(v=0.0341, grad=0.0000), Var(v=-0.0165, grad=0.0000), Var(v=0.0814, grad=0.0000), Var(v=-0.0272, grad=-0.1678), Var(v=0.0303, grad=-0.0070), Var(v=-0.0884, grad=-0.0700)], [Var(v=-0.0026, grad=0.0000), Var(v=-0.1602, grad=0.0000), Var(v=0.0013, grad=-0.3936), Var(v=0.0318, grad=0.0000), Var(v=-0.0376, grad=-0.1700), Var(v=-0.0606, grad=0.3606), Var(v=-0.0405, grad=0.0000), Var(v=-0.0886, grad=0.0000), Var(v=0.1610, grad=0.5725), Var(v=-0.0633, grad=0.0000), Var(v=0.1240, grad=0.5372), Var(v=-0.0240, grad=0.1499), Var(v=-0.0308, grad=0.0000), Var(v=-0.0556, grad=0.5775), Var(v=-0.0834, grad=0.2695), Var(v=0.0189, grad=0.0000), Var(v=-0.0265, grad=0.0000), Var(v=0.0353, grad=0.0000), Var(v=-0.0081, grad=0.0000), Var(v=0.0845, grad=-0.1785), Var(v=-0.0693, grad=0.0000), Var(v=-0.1579, grad=0.6044), Var(v=-0.0331, grad=-0.3997), Var(v=0.0984, grad=-0.4015), Var(v=-0.0190, grad=0.0000), Var(v=-0.0003, grad=0.0000), Var(v=0.0434, grad=-0.1957), Var(v=-0.1286, grad=0.0000), Var(v=0.1116, grad=0.4454), Var(v=0.0872, grad=0.0000), Var(v=-0.0101, grad=0.0000), Var(v=-0.0068, grad=0.0000), Var(v=0.0602, grad=0.0000), Var(v=-0.1344, grad=-0.9836), Var(v=0.0273, grad=0.1368), Var(v=0.0069, grad=0.6198), Var(v=-0.0642, grad=0.0000), Var(v=0.0325, grad=0.0000), Var(v=-0.0454, grad=0.3718), Var(v=-0.0756, grad=-0.0378), Var(v=0.1015, grad=0.2212), Var(v=-0.0422, grad=0.0000), Var(v=0.1138, grad=0.7832), Var(v=-0.1078, grad=0.0000), Var(v=0.0457, grad=0.0000), Var(v=0.0909, grad=0.0000), Var(v=0.0650, grad=0.0000), Var(v=-0.0405, grad=-0.3832), Var(v=0.0750, grad=-0.0159), Var(v=0.0893, grad=-0.1598)], [Var(v=0.1002, grad=-0.4451), Var(v=0.0300, grad=1.0340), Var(v=0.1596, grad=0.6196), Var(v=0.1845, grad=0.6345), Var(v=-0.1870, grad=0.0000), Var(v=0.0424, grad=-0.5678), Var(v=0.1314, grad=0.0000), Var(v=0.0209, grad=0.0000), Var(v=0.0446, grad=-0.9012), Var(v=-0.0256, grad=0.0000), Var(v=-0.0052, grad=0.0000), Var(v=-0.0405, grad=0.0000), Var(v=0.1833, grad=0.0000), Var(v=-0.0966, grad=0.0000), Var(v=-0.1331, grad=-0.4243), Var(v=0.0582, grad=-0.7378), Var(v=0.0803, grad=0.0000), Var(v=-0.0946, grad=0.0000), Var(v=0.0507, grad=0.0000), Var(v=-0.1269, grad=0.0000), Var(v=0.0238, grad=-0.2254), Var(v=0.0427, grad=-0.9516), Var(v=0.0413, grad=0.6292), Var(v=-0.1281, grad=0.0000), Var(v=0.0051, grad=-0.1249), Var(v=-0.0449, grad=0.0000), Var(v=-0.0065, grad=0.3081), Var(v=0.0045, grad=-0.0783), Var(v=0.0441, grad=0.0000), Var(v=0.0666, grad=0.0000), Var(v=0.0516, grad=-0.7796), Var(v=-0.1002, grad=0.0000), Var(v=-0.0320, grad=0.0000), Var(v=0.2043, grad=1.5485), Var(v=-0.0081, grad=0.0000), Var(v=-0.0096, grad=0.0000), Var(v=0.1787, grad=0.7174), Var(v=-0.0105, grad=0.0000), Var(v=-0.0476, grad=0.0000), Var(v=0.0856, grad=0.0000), Var(v=0.1991, grad=-0.3483), Var(v=0.1386, grad=0.6615), Var(v=0.1591, grad=-1.2330), Var(v=0.0094, grad=0.0000), Var(v=0.0315, grad=0.0000), Var(v=0.1060, grad=0.5084), Var(v=0.3362, grad=0.6747), Var(v=0.0016, grad=0.0000), Var(v=0.1661, grad=0.0251), Var(v=-0.1793, grad=0.2516)], [Var(v=0.1916, grad=-0.1953), Var(v=0.0868, grad=0.4536), Var(v=0.0553, grad=0.2718), Var(v=-0.0089, grad=0.2783), Var(v=0.1526, grad=0.0000), Var(v=0.0078, grad=-0.2491), Var(v=0.0401, grad=0.0000), Var(v=-0.1009, grad=0.0000), Var(v=0.1071, grad=-0.3954), Var(v=0.0687, grad=0.0000), Var(v=-0.1965, grad=0.0000), Var(v=0.0521, grad=0.0000), Var(v=0.0938, grad=0.0000), Var(v=-0.0497, grad=0.0000), Var(v=0.1339, grad=-0.1861), Var(v=0.1065, grad=-0.3237), Var(v=-0.1346, grad=0.0000), Var(v=0.0183, grad=0.0000), Var(v=-0.0677, grad=0.0000), Var(v=0.0158, grad=0.0000), Var(v=-0.0260, grad=-0.0989), Var(v=0.3015, grad=-0.4175), Var(v=0.2016, grad=0.2760), Var(v=0.0233, grad=0.0000), Var(v=0.1897, grad=-0.0548), Var(v=-0.1515, grad=0.0000), Var(v=0.0795, grad=0.1352), Var(v=0.1108, grad=-0.0344), Var(v=-0.2364, grad=0.0000), Var(v=0.0432, grad=0.0000), Var(v=0.1418, grad=-0.3420), Var(v=0.1358, grad=0.0000), Var(v=0.0058, grad=0.0000), Var(v=0.0312, grad=0.6794), Var(v=-0.1279, grad=0.0000), Var(v=0.1040, grad=0.0000), Var(v=-0.1418, grad=0.3147), Var(v=-0.0692, grad=0.0000), Var(v=-0.1647, grad=0.0000), Var(v=-0.0833, grad=0.0000), Var(v=-0.0940, grad=-0.1528), Var(v=-0.0874, grad=0.2902), Var(v=0.0277, grad=-0.5409), Var(v=0.0120, grad=0.0000), Var(v=-0.0845, grad=0.0000), Var(v=0.0509, grad=0.2230), Var(v=-0.0708, grad=0.2960), Var(v=-0.1324, grad=0.0000), Var(v=0.0552, grad=0.0110), Var(v=0.0144, grad=0.1104)], [Var(v=0.1036, grad=-0.0953), Var(v=-0.1502, grad=0.2214), Var(v=0.0374, grad=0.1327), Var(v=0.2815, grad=0.1359), Var(v=-0.0727, grad=0.0000), Var(v=-0.0010, grad=-0.1216), Var(v=-0.0324, grad=0.0000), Var(v=0.0694, grad=0.0000), Var(v=0.0335, grad=-0.1930), Var(v=-0.2131, grad=0.0000), Var(v=0.0651, grad=0.0000), Var(v=0.0734, grad=0.0000), Var(v=-0.0877, grad=0.0000), Var(v=0.1201, grad=0.0000), Var(v=-0.0479, grad=-0.0908), Var(v=0.1764, grad=-0.1580), Var(v=-0.0171, grad=0.0000), Var(v=0.0074, grad=0.0000), Var(v=0.1093, grad=0.0000), Var(v=0.0540, grad=0.0000), Var(v=0.0878, grad=-0.0483), Var(v=0.0770, grad=-0.2038), Var(v=-0.1308, grad=0.1347), Var(v=0.0724, grad=0.0000), Var(v=-0.0956, grad=-0.0267), Var(v=-0.1310, grad=0.0000), Var(v=0.0628, grad=0.0660), Var(v=-0.0203, grad=-0.0168), Var(v=0.1268, grad=0.0000), Var(v=0.0912, grad=0.0000), Var(v=-0.1040, grad=-0.1669), Var(v=0.0234, grad=0.0000), Var(v=-0.0333, grad=0.0000), Var(v=-0.0980, grad=0.3316), Var(v=0.0967, grad=0.0000), Var(v=0.0651, grad=0.0000), Var(v=0.1112, grad=0.1536), Var(v=0.0606, grad=0.0000), Var(v=-0.0116, grad=0.0000), Var(v=-0.1332, grad=0.0000), Var(v=-0.1374, grad=-0.0746), Var(v=-0.1106, grad=0.1416), Var(v=0.0046, grad=-0.2640), Var(v=0.1101, grad=0.0000), Var(v=-0.1237, grad=0.0000), Var(v=0.0955, grad=0.1089), Var(v=0.1164, grad=0.1445), Var(v=0.0458, grad=0.0000), Var(v=0.0775, grad=0.0054), Var(v=-0.1159, grad=0.0539)], [Var(v=-0.0065, grad=0.0000), Var(v=-0.1534, grad=0.0000), Var(v=0.0171, grad=-1.0687), Var(v=-0.0783, grad=0.0000), Var(v=0.1009, grad=-0.4617), Var(v=0.0831, grad=0.9793), Var(v=0.0852, grad=0.0000), Var(v=0.0221, grad=0.0000), Var(v=0.0427, grad=1.5545), Var(v=-0.1843, grad=0.0000), Var(v=0.0831, grad=1.4588), Var(v=0.0002, grad=0.4072), Var(v=0.0424, grad=0.0000), Var(v=0.1355, grad=1.5681), Var(v=0.0804, grad=0.7318), Var(v=0.0196, grad=0.0000), Var(v=0.0606, grad=0.0000), Var(v=0.0004, grad=0.0000), Var(v=0.0309, grad=0.0000), Var(v=-0.0154, grad=-0.4846), Var(v=-0.0418, grad=0.0000), Var(v=-0.0436, grad=1.6413), Var(v=0.2782, grad=-1.0852), Var(v=0.0447, grad=-1.0902), Var(v=-0.0172, grad=0.0000), Var(v=-0.0541, grad=0.0000), Var(v=0.1579, grad=-0.5314), Var(v=-0.1554, grad=0.0000), Var(v=-0.0408, grad=1.2096), Var(v=-0.1467, grad=0.0000), Var(v=-0.0077, grad=0.0000), Var(v=0.0952, grad=0.0000), Var(v=-0.0630, grad=0.0000), Var(v=0.0185, grad=-2.6709), Var(v=-0.0758, grad=0.3715), Var(v=-0.0682, grad=1.6831), Var(v=-0.0670, grad=0.0000), Var(v=0.0391, grad=0.0000), Var(v=0.0344, grad=1.0095), Var(v=0.1632, grad=-0.1025), Var(v=0.1044, grad=0.6007), Var(v=0.0278, grad=0.0000), Var(v=0.0305, grad=2.1267), Var(v=0.0404, grad=0.0000), Var(v=-0.0506, grad=0.0000), Var(v=-0.1134, grad=0.0000), Var(v=0.0324, grad=0.0000), Var(v=0.0310, grad=-1.0404), Var(v=-0.0550, grad=-0.0433), Var(v=-0.0007, grad=-0.4339)], [Var(v=0.0285, grad=0.0000), Var(v=0.0395, grad=0.0000), Var(v=0.0179, grad=-0.7546), Var(v=0.0000, grad=0.0000), Var(v=0.0030, grad=-0.3260), Var(v=0.1246, grad=0.6915), Var(v=0.0209, grad=0.0000), Var(v=-0.1355, grad=0.0000), Var(v=0.0563, grad=1.0976), Var(v=-0.0480, grad=0.0000), Var(v=0.0145, grad=1.0301), Var(v=0.0961, grad=0.2875), Var(v=-0.1604, grad=0.0000), Var(v=0.0590, grad=1.1073), Var(v=0.0268, grad=0.5167), Var(v=-0.0055, grad=0.0000), Var(v=-0.1440, grad=0.0000), Var(v=-0.0310, grad=0.0000), Var(v=0.0087, grad=0.0000), Var(v=-0.0443, grad=-0.3422), Var(v=-0.0116, grad=0.0000), Var(v=0.0583, grad=1.1589), Var(v=0.0798, grad=-0.7663), Var(v=-0.1676, grad=-0.7698), Var(v=-0.0104, grad=0.0000), Var(v=0.1456, grad=0.0000), Var(v=0.0327, grad=-0.3753), Var(v=0.0523, grad=0.0000), Var(v=-0.0165, grad=0.8541), Var(v=-0.0280, grad=0.0000), Var(v=0.0427, grad=0.0000), Var(v=0.0784, grad=0.0000), Var(v=-0.2066, grad=0.0000), Var(v=-0.0836, grad=-1.8860), Var(v=0.0075, grad=0.2624), Var(v=0.1083, grad=1.1885), Var(v=0.0208, grad=0.0000), Var(v=0.0206, grad=0.0000), Var(v=0.1129, grad=0.7128), Var(v=0.0694, grad=-0.0724), Var(v=-0.0650, grad=0.4242), Var(v=-0.0214, grad=0.0000), Var(v=-0.0937, grad=1.5017), Var(v=-0.1247, grad=0.0000), Var(v=-0.0621, grad=0.0000), Var(v=-0.0213, grad=0.0000), Var(v=-0.0530, grad=0.0000), Var(v=0.1207, grad=-0.7347), Var(v=0.0708, grad=-0.0306), Var(v=-0.0416, grad=-0.3064)]] Biases: [Var(v=0.0000, grad=-5.8347), Var(v=0.0000, grad=13.5538), Var(v=0.0000, grad=-0.1345), Var(v=0.0000, grad=8.3169), Var(v=0.0000, grad=-3.5672), Var(v=0.0000, grad=0.1232), Var(v=0.0000, grad=0.0000), Var(v=0.0000, grad=0.0000), Var(v=0.0000, grad=0.1956), Var(v=0.0000, grad=0.0000), Var(v=0.0000, grad=11.2707), Var(v=0.0000, grad=3.1458), Var(v=0.0000, grad=0.0000), Var(v=0.0000, grad=12.1151), Var(v=0.0000, grad=0.0921), Var(v=0.0000, grad=-9.6717), Var(v=0.0000, grad=0.0000), Var(v=0.0000, grad=0.0000), Var(v=0.0000, grad=0.0000), Var(v=0.0000, grad=-3.7439), Var(v=0.0000, grad=-2.9553), Var(v=0.0000, grad=0.2065), Var(v=0.0000, grad=-0.1365), Var(v=0.0000, grad=-8.4224), Var(v=0.0000, grad=-1.6373), Var(v=0.0000, grad=0.0000), Var(v=0.0000, grad=-0.0669), Var(v=0.0000, grad=-1.0268), Var(v=0.0000, grad=9.3450), Var(v=0.0000, grad=0.0000), Var(v=0.0000, grad=-10.2197), Var(v=0.0000, grad=0.0000), Var(v=0.0000, grad=0.0000), Var(v=0.0000, grad=-0.3361), Var(v=0.0000, grad=2.8705), Var(v=0.0000, grad=13.0033), Var(v=0.0000, grad=9.4045), Var(v=0.0000, grad=0.0000), Var(v=0.0000, grad=7.7995), Var(v=0.0000, grad=-0.7920), Var(v=0.0000, grad=0.0756), Var(v=0.0000, grad=8.6714), Var(v=0.0000, grad=0.2676), Var(v=0.0000, grad=0.0000), Var(v=0.0000, grad=0.0000), Var(v=0.0000, grad=6.6647), Var(v=0.0000, grad=8.8449), Var(v=0.0000, grad=-8.0383), Var(v=0.0000, grad=-0.0054), Var(v=0.0000, grad=-0.0546)]\n",
      "Layer 2 \n",
      " Weights: [[Var(v=0.0669, grad=-1.1623)], [Var(v=-0.1554, grad=-1.7053)], [Var(v=-0.0931, grad=2.5058)], [Var(v=-0.0953, grad=-2.2847)], [Var(v=-0.0402, grad=3.2488)], [Var(v=0.0853, grad=1.3298)], [Var(v=0.0472, grad=0.0000)], [Var(v=-0.0778, grad=0.0000)], [Var(v=0.1354, grad=3.2542)], [Var(v=0.0951, grad=0.0000)], [Var(v=0.1271, grad=4.9651)], [Var(v=0.0355, grad=5.4139)], [Var(v=-0.0356, grad=0.0000)], [Var(v=0.1366, grad=2.0462)], [Var(v=0.0638, grad=2.9903)], [Var(v=0.1109, grad=-1.8802)], [Var(v=0.0009, grad=0.0000)], [Var(v=0.0088, grad=0.0000)], [Var(v=0.0160, grad=0.0000)], [Var(v=-0.0422, grad=1.7714)], [Var(v=0.0339, grad=-0.3903)], [Var(v=0.1430, grad=1.7985)], [Var(v=-0.0946, grad=0.3679)], [Var(v=-0.0950, grad=2.3890)], [Var(v=0.0188, grad=-0.9991)], [Var(v=0.0131, grad=0.0000)], [Var(v=-0.0463, grad=3.7107)], [Var(v=0.0118, grad=-0.0277)], [Var(v=0.1054, grad=1.8681)], [Var(v=-0.0760, grad=0.0000)], [Var(v=0.1172, grad=-0.7810)], [Var(v=-0.0230, grad=0.0000)], [Var(v=-0.1962, grad=0.0000)], [Var(v=-0.2327, grad=4.4394)], [Var(v=0.0324, grad=3.9951)], [Var(v=0.1466, grad=0.3625)], [Var(v=-0.1078, grad=-1.0358)], [Var(v=-0.0165, grad=0.0000)], [Var(v=0.0880, grad=0.1122)], [Var(v=-0.0089, grad=2.2206)], [Var(v=0.0523, grad=2.1257)], [Var(v=-0.0994, grad=-0.3759)], [Var(v=0.1853, grad=1.3926)], [Var(v=0.1254, grad=0.0000)], [Var(v=0.0701, grad=0.0000)], [Var(v=-0.0764, grad=-2.3426)], [Var(v=-0.1014, grad=-0.8007)], [Var(v=-0.0907, grad=0.0271)], [Var(v=-0.0038, grad=-0.6705)], [Var(v=-0.0378, grad=-0.4265)]] Biases: [Var(v=0.0000, grad=1.4441)]\n",
      "\n",
      "Network after update:\n",
      "Layer 0 \n",
      " Weights: [[Var(v=-0.1081, grad=-4.6009), Var(v=0.1299, grad=-3.4083), Var(v=0.0611, grad=-6.5134), Var(v=-0.1060, grad=-1.3975), Var(v=-0.0225, grad=0.5361), Var(v=-0.1273, grad=0.8019), Var(v=0.0174, grad=-0.0017), Var(v=0.0223, grad=-1.8967), Var(v=0.0369, grad=-5.5864), Var(v=0.0090, grad=-5.2356), Var(v=-0.0259, grad=9.1416), Var(v=0.1211, grad=-9.2383), Var(v=0.0451, grad=-3.1086), Var(v=-0.1303, grad=1.2628), Var(v=-0.0233, grad=-5.9812)]] Biases: [Var(v=-0.0418, grad=4.1831), Var(v=0.0293, grad=-2.9277), Var(v=-0.0592, grad=5.9220), Var(v=-0.0127, grad=1.2706), Var(v=0.0049, grad=-0.4874), Var(v=0.0073, grad=-0.7291), Var(v=0.0000, grad=-0.0015), Var(v=0.0163, grad=-1.6292), Var(v=-0.0508, grad=5.0792), Var(v=-0.0476, grad=4.7602), Var(v=-0.0785, grad=7.8527), Var(v=0.0794, grad=-7.9358), Var(v=0.0267, grad=-2.6703), Var(v=0.0115, grad=-1.1481), Var(v=-0.0544, grad=5.4381)]\n",
      "Layer 1 \n",
      " Weights: [[Var(v=-0.1240, grad=0.0000), Var(v=-0.0944, grad=0.0000), Var(v=0.1720, grad=-1.3993), Var(v=-0.1120, grad=0.0000), Var(v=-0.0284, grad=-0.6045), Var(v=-0.0300, grad=1.2822), Var(v=-0.1078, grad=0.0000), Var(v=-0.0008, grad=0.0000), Var(v=0.0026, grad=2.0353), Var(v=0.1264, grad=0.0000), Var(v=0.0796, grad=1.9101), Var(v=0.1273, grad=0.5331), Var(v=-0.0783, grad=0.0000), Var(v=-0.1089, grad=2.0532), Var(v=0.0050, grad=0.9581), Var(v=-0.1111, grad=0.0000), Var(v=0.0631, grad=0.0000), Var(v=-0.0937, grad=0.0000), Var(v=-0.1242, grad=0.0000), Var(v=0.0058, grad=-0.6345), Var(v=-0.0159, grad=0.0000), Var(v=0.1114, grad=2.1489), Var(v=-0.2727, grad=-1.4209), Var(v=0.2173, grad=-1.4274), Var(v=0.0378, grad=0.0000), Var(v=0.0313, grad=0.0000), Var(v=0.1074, grad=-0.6958), Var(v=-0.0371, grad=0.0000), Var(v=-0.0411, grad=1.5837), Var(v=-0.0612, grad=0.0000), Var(v=0.0685, grad=0.0000), Var(v=-0.2521, grad=0.0000), Var(v=-0.0339, grad=0.0000), Var(v=0.1253, grad=-3.4971), Var(v=0.2948, grad=0.4865), Var(v=-0.0280, grad=2.2037), Var(v=-0.0494, grad=0.0000), Var(v=-0.0674, grad=0.0000), Var(v=-0.0072, grad=1.3218), Var(v=0.0637, grad=-0.1342), Var(v=0.1898, grad=0.7865), Var(v=-0.0562, grad=0.0000), Var(v=0.1041, grad=2.7846), Var(v=-0.0906, grad=0.0000), Var(v=-0.0034, grad=0.0000), Var(v=-0.0719, grad=0.0000), Var(v=-0.1862, grad=0.0000), Var(v=-0.0873, grad=-1.3623), Var(v=-0.0281, grad=-0.0567), Var(v=-0.0301, grad=-0.5682)], [Var(v=-0.0093, grad=-0.6509), Var(v=0.1406, grad=1.5120), Var(v=-0.1181, grad=0.9061), Var(v=0.0402, grad=0.9278), Var(v=0.0091, grad=0.0000), Var(v=0.0781, grad=-0.8303), Var(v=-0.1771, grad=0.0000), Var(v=-0.0876, grad=0.0000), Var(v=-0.0371, grad=-1.3179), Var(v=-0.0917, grad=0.0000), Var(v=-0.1382, grad=0.0000), Var(v=-0.0833, grad=0.0000), Var(v=-0.2050, grad=0.0000), Var(v=-0.0734, grad=0.0000), Var(v=0.0667, grad=-0.6204), Var(v=0.1264, grad=-1.0789), Var(v=-0.0422, grad=0.0000), Var(v=-0.0268, grad=0.0000), Var(v=-0.0633, grad=0.0000), Var(v=-0.0348, grad=0.0000), Var(v=-0.0008, grad=-0.3297), Var(v=-0.0370, grad=-1.3915), Var(v=-0.0178, grad=0.9201), Var(v=0.0856, grad=0.0000), Var(v=0.0528, grad=-0.1826), Var(v=0.1191, grad=0.0000), Var(v=0.0711, grad=0.4506), Var(v=-0.0115, grad=-0.1145), Var(v=-0.0068, grad=0.0000), Var(v=-0.1067, grad=0.0000), Var(v=0.0381, grad=-1.1401), Var(v=-0.1020, grad=0.0000), Var(v=-0.0634, grad=0.0000), Var(v=-0.0996, grad=2.2645), Var(v=-0.0171, grad=0.0000), Var(v=-0.0467, grad=0.0000), Var(v=0.0109, grad=1.0491), Var(v=-0.1279, grad=0.0000), Var(v=0.0762, grad=0.0000), Var(v=-0.0315, grad=0.0000), Var(v=0.2403, grad=-0.5093), Var(v=0.0039, grad=0.9673), Var(v=0.1187, grad=-1.8031), Var(v=-0.1264, grad=0.0000), Var(v=-0.0039, grad=0.0000), Var(v=0.1283, grad=0.7435), Var(v=-0.1723, grad=0.9867), Var(v=-0.1410, grad=0.0000), Var(v=0.1179, grad=0.0367), Var(v=0.1858, grad=0.3679)], [Var(v=-0.0815, grad=0.0000), Var(v=-0.0909, grad=0.0000), Var(v=-0.0450, grad=-0.0366), Var(v=-0.0055, grad=0.0000), Var(v=0.1123, grad=-0.0158), Var(v=0.1327, grad=0.0335), Var(v=-0.0592, grad=0.0000), Var(v=0.1161, grad=0.0000), Var(v=-0.0019, grad=0.0532), Var(v=0.0023, grad=0.0000), Var(v=-0.0069, grad=0.0499), Var(v=0.0045, grad=0.0139), Var(v=-0.0288, grad=0.0000), Var(v=0.2210, grad=0.0537), Var(v=-0.0598, grad=0.0250), Var(v=0.0761, grad=0.0000), Var(v=0.0267, grad=0.0000), Var(v=0.0592, grad=0.0000), Var(v=0.0607, grad=0.0000), Var(v=-0.0615, grad=-0.0166), Var(v=-0.0580, grad=0.0000), Var(v=0.0600, grad=0.0562), Var(v=0.1443, grad=-0.0371), Var(v=0.0920, grad=-0.0373), Var(v=-0.2297, grad=0.0000), Var(v=-0.0916, grad=0.0000), Var(v=0.1029, grad=-0.0182), Var(v=0.1053, grad=0.0000), Var(v=-0.0144, grad=0.0414), Var(v=-0.0217, grad=0.0000), Var(v=0.0330, grad=0.0000), Var(v=0.2279, grad=0.0000), Var(v=-0.0586, grad=0.0000), Var(v=-0.1349, grad=-0.0914), Var(v=0.1725, grad=0.0127), Var(v=0.0980, grad=0.0576), Var(v=0.0455, grad=0.0000), Var(v=-0.0345, grad=0.0000), Var(v=-0.1051, grad=0.0346), Var(v=-0.0927, grad=-0.0035), Var(v=0.0657, grad=0.0206), Var(v=0.1450, grad=0.0000), Var(v=0.0079, grad=0.0728), Var(v=-0.0380, grad=0.0000), Var(v=0.0792, grad=0.0000), Var(v=0.0874, grad=0.0000), Var(v=0.1079, grad=0.0000), Var(v=0.0230, grad=-0.0356), Var(v=0.0065, grad=-0.0015), Var(v=-0.0293, grad=-0.0149)], [Var(v=-0.0472, grad=0.0000), Var(v=-0.0724, grad=0.0000), Var(v=0.0353, grad=-1.0899), Var(v=-0.1662, grad=0.0000), Var(v=0.0886, grad=-0.4709), Var(v=-0.0647, grad=0.9987), Var(v=-0.0628, grad=0.0000), Var(v=0.0351, grad=0.0000), Var(v=0.0148, grad=1.5853), Var(v=-0.0367, grad=0.0000), Var(v=0.0333, grad=1.4877), Var(v=0.0105, grad=0.4153), Var(v=-0.2218, grad=0.0000), Var(v=0.0711, grad=1.5992), Var(v=0.1719, grad=0.7463), Var(v=0.1726, grad=0.0000), Var(v=-0.0987, grad=0.0000), Var(v=-0.1074, grad=0.0000), Var(v=-0.0884, grad=0.0000), Var(v=0.0503, grad=-0.4942), Var(v=-0.2090, grad=0.0000), Var(v=-0.0712, grad=1.6738), Var(v=0.1173, grad=-1.1068), Var(v=-0.0206, grad=-1.1118), Var(v=-0.1001, grad=0.0000), Var(v=-0.0372, grad=0.0000), Var(v=0.0190, grad=-0.5420), Var(v=0.0095, grad=0.0000), Var(v=0.0538, grad=1.2335), Var(v=-0.0535, grad=0.0000), Var(v=-0.0533, grad=0.0000), Var(v=-0.0798, grad=0.0000), Var(v=-0.0141, grad=0.0000), Var(v=0.1811, grad=-2.7239), Var(v=-0.0626, grad=0.3789), Var(v=0.1210, grad=1.7164), Var(v=-0.0239, grad=0.0000), Var(v=-0.0124, grad=0.0000), Var(v=-0.0647, grad=1.0295), Var(v=-0.1865, grad=-0.1045), Var(v=0.1348, grad=0.6126), Var(v=-0.0748, grad=0.0000), Var(v=0.0348, grad=2.1689), Var(v=0.0392, grad=0.0000), Var(v=0.0320, grad=0.0000), Var(v=-0.0229, grad=0.0000), Var(v=0.0204, grad=0.0000), Var(v=-0.0618, grad=-1.0611), Var(v=0.0048, grad=-0.0442), Var(v=0.0811, grad=-0.4425)], [Var(v=-0.0010, grad=0.0000), Var(v=-0.0191, grad=0.0000), Var(v=-0.0248, grad=-0.1559), Var(v=0.0347, grad=0.0000), Var(v=0.0420, grad=-0.0673), Var(v=-0.0075, grad=0.1428), Var(v=0.0637, grad=0.0000), Var(v=-0.0196, grad=0.0000), Var(v=-0.0366, grad=0.2267), Var(v=0.1344, grad=0.0000), Var(v=0.1105, grad=0.2127), Var(v=0.2543, grad=0.0594), Var(v=-0.0944, grad=0.0000), Var(v=-0.0953, grad=0.2287), Var(v=0.0682, grad=0.1067), Var(v=-0.0893, grad=0.0000), Var(v=-0.1785, grad=0.0000), Var(v=0.0429, grad=0.0000), Var(v=-0.0311, grad=0.0000), Var(v=-0.1533, grad=-0.0707), Var(v=0.0113, grad=0.0000), Var(v=-0.0679, grad=0.2394), Var(v=-0.0344, grad=-0.1583), Var(v=0.0333, grad=-0.1590), Var(v=0.0267, grad=0.0000), Var(v=-0.1740, grad=0.0000), Var(v=-0.0162, grad=-0.0775), Var(v=0.0304, grad=0.0000), Var(v=0.0254, grad=0.1764), Var(v=-0.0532, grad=0.0000), Var(v=0.1648, grad=0.0000), Var(v=0.1610, grad=0.0000), Var(v=-0.0615, grad=0.0000), Var(v=-0.0450, grad=-0.3895), Var(v=0.0576, grad=0.0542), Var(v=0.0145, grad=0.2455), Var(v=0.2134, grad=0.0000), Var(v=0.0431, grad=0.0000), Var(v=-0.1421, grad=0.1472), Var(v=0.0216, grad=-0.0150), Var(v=0.0032, grad=0.0876), Var(v=0.0945, grad=0.0000), Var(v=-0.0412, grad=0.3102), Var(v=0.1625, grad=0.0000), Var(v=0.1820, grad=0.0000), Var(v=0.0351, grad=0.0000), Var(v=-0.1762, grad=0.0000), Var(v=0.1227, grad=-0.1517), Var(v=0.1132, grad=-0.0063), Var(v=0.0607, grad=-0.0633)], [Var(v=0.0615, grad=0.0000), Var(v=-0.0151, grad=0.0000), Var(v=-0.0008, grad=-1.0836), Var(v=-0.1118, grad=0.0000), Var(v=0.1311, grad=-0.4681), Var(v=0.1045, grad=0.9929), Var(v=-0.1096, grad=0.0000), Var(v=-0.0989, grad=0.0000), Var(v=0.0989, grad=1.5761), Var(v=-0.1395, grad=0.0000), Var(v=0.0720, grad=1.4791), Var(v=0.1677, grad=0.4128), Var(v=0.1112, grad=0.0000), Var(v=0.0526, grad=1.5899), Var(v=-0.0126, grad=0.7419), Var(v=-0.0326, grad=0.0000), Var(v=-0.0050, grad=0.0000), Var(v=0.1154, grad=0.0000), Var(v=-0.0077, grad=0.0000), Var(v=0.1787, grad=-0.4913), Var(v=0.0249, grad=0.0000), Var(v=0.1249, grad=1.6641), Var(v=0.0258, grad=-1.1003), Var(v=0.0267, grad=-1.1053), Var(v=0.0996, grad=0.0000), Var(v=-0.1269, grad=0.0000), Var(v=0.0522, grad=-0.5388), Var(v=-0.0039, grad=0.0000), Var(v=0.1101, grad=1.2264), Var(v=0.1488, grad=0.0000), Var(v=-0.0938, grad=0.0000), Var(v=-0.1474, grad=0.0000), Var(v=0.0210, grad=0.0000), Var(v=0.2727, grad=-2.7081), Var(v=0.0350, grad=0.3767), Var(v=-0.1467, grad=1.7065), Var(v=0.0033, grad=0.0000), Var(v=-0.0264, grad=0.0000), Var(v=-0.0337, grad=1.0236), Var(v=0.1362, grad=-0.1039), Var(v=-0.0420, grad=0.6091), Var(v=-0.1346, grad=0.0000), Var(v=0.0447, grad=2.1563), Var(v=-0.2195, grad=0.0000), Var(v=-0.1991, grad=0.0000), Var(v=-0.0852, grad=0.0000), Var(v=-0.0080, grad=0.0000), Var(v=0.1022, grad=-1.0549), Var(v=0.1677, grad=-0.0439), Var(v=-0.0037, grad=-0.4400)], [Var(v=-0.0371, grad=-0.1180), Var(v=0.0014, grad=0.2741), Var(v=0.1216, grad=0.1643), Var(v=0.1240, grad=0.1682), Var(v=-0.1274, grad=0.0000), Var(v=-0.0560, grad=-0.1505), Var(v=-0.1113, grad=0.0000), Var(v=-0.0279, grad=0.0000), Var(v=0.0825, grad=-0.2390), Var(v=0.0691, grad=0.0000), Var(v=0.1273, grad=0.0000), Var(v=-0.0213, grad=0.0000), Var(v=0.1489, grad=0.0000), Var(v=0.0935, grad=0.0000), Var(v=0.1525, grad=-0.1125), Var(v=-0.0862, grad=-0.1956), Var(v=0.0271, grad=0.0000), Var(v=0.0496, grad=0.0000), Var(v=-0.0669, grad=0.0000), Var(v=0.0546, grad=0.0000), Var(v=0.1000, grad=-0.0598), Var(v=0.0070, grad=-0.2523), Var(v=0.0000, grad=0.1668), Var(v=-0.1314, grad=0.0000), Var(v=0.0175, grad=-0.0331), Var(v=-0.1742, grad=0.0000), Var(v=-0.0981, grad=0.0817), Var(v=-0.0872, grad=-0.0208), Var(v=-0.0148, grad=0.0000), Var(v=0.0069, grad=0.0000), Var(v=-0.0508, grad=-0.2067), Var(v=0.0010, grad=0.0000), Var(v=0.0216, grad=0.0000), Var(v=-0.0398, grad=0.4106), Var(v=0.0734, grad=0.0000), Var(v=-0.0697, grad=0.0000), Var(v=-0.0389, grad=0.1902), Var(v=0.0892, grad=0.0000), Var(v=0.0044, grad=0.0000), Var(v=0.0011, grad=0.0000), Var(v=0.0985, grad=-0.0923), Var(v=-0.1342, grad=0.1754), Var(v=-0.0003, grad=-0.3269), Var(v=0.0912, grad=0.0000), Var(v=0.0888, grad=0.0000), Var(v=-0.0130, grad=0.1348), Var(v=0.0759, grad=0.1789), Var(v=0.0060, grad=0.0000), Var(v=0.1202, grad=0.0067), Var(v=0.0797, grad=0.0667)], [Var(v=0.0304, grad=-0.0227), Var(v=-0.1654, grad=0.0528), Var(v=-0.1665, grad=0.0317), Var(v=-0.0650, grad=0.0324), Var(v=0.0772, grad=0.0000), Var(v=0.0325, grad=-0.0290), Var(v=0.0484, grad=0.0000), Var(v=-0.0150, grad=0.0000), Var(v=-0.1471, grad=-0.0460), Var(v=0.0342, grad=0.0000), Var(v=-0.1111, grad=0.0000), Var(v=-0.0046, grad=0.0000), Var(v=-0.0331, grad=0.0000), Var(v=0.2076, grad=0.0000), Var(v=0.0724, grad=-0.0217), Var(v=-0.1140, grad=-0.0377), Var(v=0.1512, grad=0.0000), Var(v=-0.0362, grad=0.0000), Var(v=-0.0335, grad=0.0000), Var(v=-0.0902, grad=0.0000), Var(v=0.1375, grad=-0.0115), Var(v=-0.0589, grad=-0.0486), Var(v=-0.0921, grad=0.0321), Var(v=0.0656, grad=0.0000), Var(v=0.0618, grad=-0.0064), Var(v=-0.0975, grad=0.0000), Var(v=-0.1179, grad=0.0157), Var(v=-0.0567, grad=-0.0040), Var(v=0.0703, grad=0.0000), Var(v=-0.0259, grad=0.0000), Var(v=0.0183, grad=-0.0398), Var(v=-0.1501, grad=0.0000), Var(v=0.1275, grad=0.0000), Var(v=0.0615, grad=0.0791), Var(v=-0.2132, grad=0.0000), Var(v=-0.0865, grad=0.0000), Var(v=-0.1205, grad=0.0367), Var(v=-0.0920, grad=0.0000), Var(v=0.0029, grad=0.0000), Var(v=0.0000, grad=0.0000), Var(v=0.0115, grad=-0.0178), Var(v=-0.0945, grad=0.0338), Var(v=-0.0149, grad=-0.0630), Var(v=-0.1645, grad=0.0000), Var(v=0.0072, grad=0.0000), Var(v=0.1526, grad=0.0260), Var(v=0.1403, grad=0.0345), Var(v=-0.0868, grad=0.0000), Var(v=0.0102, grad=0.0013), Var(v=-0.0606, grad=0.0129)], [Var(v=-0.0229, grad=0.0000), Var(v=0.1163, grad=0.0000), Var(v=0.0410, grad=-0.1724), Var(v=-0.0649, grad=0.0000), Var(v=0.0960, grad=-0.0745), Var(v=0.0191, grad=0.1580), Var(v=-0.2490, grad=0.0000), Var(v=0.1407, grad=0.0000), Var(v=-0.0525, grad=0.2507), Var(v=0.0275, grad=0.0000), Var(v=0.0653, grad=0.2353), Var(v=0.0758, grad=0.0657), Var(v=0.2319, grad=0.0000), Var(v=-0.0956, grad=0.2529), Var(v=0.0901, grad=0.1180), Var(v=-0.1842, grad=0.0000), Var(v=-0.0782, grad=0.0000), Var(v=0.0676, grad=0.0000), Var(v=0.2081, grad=0.0000), Var(v=-0.1686, grad=-0.0782), Var(v=-0.0314, grad=0.0000), Var(v=0.1813, grad=0.2647), Var(v=0.0734, grad=-0.1750), Var(v=-0.0701, grad=-0.1758), Var(v=-0.1199, grad=0.0000), Var(v=-0.0018, grad=0.0000), Var(v=0.0158, grad=-0.0857), Var(v=0.0295, grad=0.0000), Var(v=0.0730, grad=0.1951), Var(v=0.1340, grad=0.0000), Var(v=-0.0843, grad=0.0000), Var(v=0.0508, grad=0.0000), Var(v=-0.0134, grad=0.0000), Var(v=0.0644, grad=-0.4308), Var(v=0.1388, grad=0.0599), Var(v=0.0795, grad=0.2715), Var(v=0.0965, grad=0.0000), Var(v=0.1034, grad=0.0000), Var(v=0.0473, grad=0.1628), Var(v=-0.1139, grad=-0.0165), Var(v=0.0578, grad=0.0969), Var(v=0.0158, grad=0.0000), Var(v=0.0396, grad=0.3430), Var(v=0.1325, grad=0.0000), Var(v=0.0341, grad=0.0000), Var(v=-0.0165, grad=0.0000), Var(v=0.0814, grad=0.0000), Var(v=-0.0256, grad=-0.1678), Var(v=0.0304, grad=-0.0070), Var(v=-0.0877, grad=-0.0700)], [Var(v=-0.0026, grad=0.0000), Var(v=-0.1602, grad=0.0000), Var(v=0.0052, grad=-0.3936), Var(v=0.0318, grad=0.0000), Var(v=-0.0359, grad=-0.1700), Var(v=-0.0642, grad=0.3606), Var(v=-0.0405, grad=0.0000), Var(v=-0.0886, grad=0.0000), Var(v=0.1552, grad=0.5725), Var(v=-0.0633, grad=0.0000), Var(v=0.1186, grad=0.5372), Var(v=-0.0255, grad=0.1499), Var(v=-0.0308, grad=0.0000), Var(v=-0.0614, grad=0.5775), Var(v=-0.0861, grad=0.2695), Var(v=0.0189, grad=0.0000), Var(v=-0.0265, grad=0.0000), Var(v=0.0353, grad=0.0000), Var(v=-0.0081, grad=0.0000), Var(v=0.0862, grad=-0.1785), Var(v=-0.0693, grad=0.0000), Var(v=-0.1640, grad=0.6044), Var(v=-0.0291, grad=-0.3997), Var(v=0.1025, grad=-0.4015), Var(v=-0.0190, grad=0.0000), Var(v=-0.0003, grad=0.0000), Var(v=0.0454, grad=-0.1957), Var(v=-0.1286, grad=0.0000), Var(v=0.1072, grad=0.4454), Var(v=0.0872, grad=0.0000), Var(v=-0.0101, grad=0.0000), Var(v=-0.0068, grad=0.0000), Var(v=0.0602, grad=0.0000), Var(v=-0.1245, grad=-0.9836), Var(v=0.0259, grad=0.1368), Var(v=0.0007, grad=0.6198), Var(v=-0.0642, grad=0.0000), Var(v=0.0325, grad=0.0000), Var(v=-0.0491, grad=0.3718), Var(v=-0.0752, grad=-0.0378), Var(v=0.0993, grad=0.2212), Var(v=-0.0422, grad=0.0000), Var(v=0.1060, grad=0.7832), Var(v=-0.1078, grad=0.0000), Var(v=0.0457, grad=0.0000), Var(v=0.0909, grad=0.0000), Var(v=0.0650, grad=0.0000), Var(v=-0.0367, grad=-0.3832), Var(v=0.0752, grad=-0.0159), Var(v=0.0909, grad=-0.1598)], [Var(v=0.1046, grad=-0.4451), Var(v=0.0197, grad=1.0340), Var(v=0.1534, grad=0.6196), Var(v=0.1782, grad=0.6345), Var(v=-0.1870, grad=0.0000), Var(v=0.0481, grad=-0.5678), Var(v=0.1314, grad=0.0000), Var(v=0.0209, grad=0.0000), Var(v=0.0536, grad=-0.9012), Var(v=-0.0256, grad=0.0000), Var(v=-0.0052, grad=0.0000), Var(v=-0.0405, grad=0.0000), Var(v=0.1833, grad=0.0000), Var(v=-0.0966, grad=0.0000), Var(v=-0.1289, grad=-0.4243), Var(v=0.0655, grad=-0.7378), Var(v=0.0803, grad=0.0000), Var(v=-0.0946, grad=0.0000), Var(v=0.0507, grad=0.0000), Var(v=-0.1269, grad=0.0000), Var(v=0.0261, grad=-0.2254), Var(v=0.0523, grad=-0.9516), Var(v=0.0351, grad=0.6292), Var(v=-0.1281, grad=0.0000), Var(v=0.0064, grad=-0.1249), Var(v=-0.0449, grad=0.0000), Var(v=-0.0096, grad=0.3081), Var(v=0.0053, grad=-0.0783), Var(v=0.0441, grad=0.0000), Var(v=0.0666, grad=0.0000), Var(v=0.0594, grad=-0.7796), Var(v=-0.1002, grad=0.0000), Var(v=-0.0320, grad=0.0000), Var(v=0.1888, grad=1.5485), Var(v=-0.0081, grad=0.0000), Var(v=-0.0096, grad=0.0000), Var(v=0.1715, grad=0.7174), Var(v=-0.0105, grad=0.0000), Var(v=-0.0476, grad=0.0000), Var(v=0.0856, grad=0.0000), Var(v=0.2026, grad=-0.3483), Var(v=0.1320, grad=0.6615), Var(v=0.1714, grad=-1.2330), Var(v=0.0094, grad=0.0000), Var(v=0.0315, grad=0.0000), Var(v=0.1010, grad=0.5084), Var(v=0.3294, grad=0.6747), Var(v=0.0016, grad=0.0000), Var(v=0.1659, grad=0.0251), Var(v=-0.1818, grad=0.2516)], [Var(v=0.1935, grad=-0.1953), Var(v=0.0823, grad=0.4536), Var(v=0.0526, grad=0.2718), Var(v=-0.0117, grad=0.2783), Var(v=0.1526, grad=0.0000), Var(v=0.0102, grad=-0.2491), Var(v=0.0401, grad=0.0000), Var(v=-0.1009, grad=0.0000), Var(v=0.1111, grad=-0.3954), Var(v=0.0687, grad=0.0000), Var(v=-0.1965, grad=0.0000), Var(v=0.0521, grad=0.0000), Var(v=0.0938, grad=0.0000), Var(v=-0.0497, grad=0.0000), Var(v=0.1358, grad=-0.1861), Var(v=0.1098, grad=-0.3237), Var(v=-0.1346, grad=0.0000), Var(v=0.0183, grad=0.0000), Var(v=-0.0677, grad=0.0000), Var(v=0.0158, grad=0.0000), Var(v=-0.0250, grad=-0.0989), Var(v=0.3057, grad=-0.4175), Var(v=0.1989, grad=0.2760), Var(v=0.0233, grad=0.0000), Var(v=0.1902, grad=-0.0548), Var(v=-0.1515, grad=0.0000), Var(v=0.0782, grad=0.1352), Var(v=0.1112, grad=-0.0344), Var(v=-0.2364, grad=0.0000), Var(v=0.0432, grad=0.0000), Var(v=0.1452, grad=-0.3420), Var(v=0.1358, grad=0.0000), Var(v=0.0058, grad=0.0000), Var(v=0.0244, grad=0.6794), Var(v=-0.1279, grad=0.0000), Var(v=0.1040, grad=0.0000), Var(v=-0.1449, grad=0.3147), Var(v=-0.0692, grad=0.0000), Var(v=-0.1647, grad=0.0000), Var(v=-0.0833, grad=0.0000), Var(v=-0.0925, grad=-0.1528), Var(v=-0.0903, grad=0.2902), Var(v=0.0331, grad=-0.5409), Var(v=0.0120, grad=0.0000), Var(v=-0.0845, grad=0.0000), Var(v=0.0487, grad=0.2230), Var(v=-0.0738, grad=0.2960), Var(v=-0.1324, grad=0.0000), Var(v=0.0551, grad=0.0110), Var(v=0.0132, grad=0.1104)], [Var(v=0.1045, grad=-0.0953), Var(v=-0.1524, grad=0.2214), Var(v=0.0360, grad=0.1327), Var(v=0.2802, grad=0.1359), Var(v=-0.0727, grad=0.0000), Var(v=0.0002, grad=-0.1216), Var(v=-0.0324, grad=0.0000), Var(v=0.0694, grad=0.0000), Var(v=0.0354, grad=-0.1930), Var(v=-0.2131, grad=0.0000), Var(v=0.0651, grad=0.0000), Var(v=0.0734, grad=0.0000), Var(v=-0.0877, grad=0.0000), Var(v=0.1201, grad=0.0000), Var(v=-0.0470, grad=-0.0908), Var(v=0.1780, grad=-0.1580), Var(v=-0.0171, grad=0.0000), Var(v=0.0074, grad=0.0000), Var(v=0.1093, grad=0.0000), Var(v=0.0540, grad=0.0000), Var(v=0.0883, grad=-0.0483), Var(v=0.0791, grad=-0.2038), Var(v=-0.1322, grad=0.1347), Var(v=0.0724, grad=0.0000), Var(v=-0.0954, grad=-0.0267), Var(v=-0.1310, grad=0.0000), Var(v=0.0622, grad=0.0660), Var(v=-0.0201, grad=-0.0168), Var(v=0.1268, grad=0.0000), Var(v=0.0912, grad=0.0000), Var(v=-0.1023, grad=-0.1669), Var(v=0.0234, grad=0.0000), Var(v=-0.0333, grad=0.0000), Var(v=-0.1013, grad=0.3316), Var(v=0.0967, grad=0.0000), Var(v=0.0651, grad=0.0000), Var(v=0.1097, grad=0.1536), Var(v=0.0606, grad=0.0000), Var(v=-0.0116, grad=0.0000), Var(v=-0.1332, grad=0.0000), Var(v=-0.1367, grad=-0.0746), Var(v=-0.1120, grad=0.1416), Var(v=0.0073, grad=-0.2640), Var(v=0.1101, grad=0.0000), Var(v=-0.1237, grad=0.0000), Var(v=0.0944, grad=0.1089), Var(v=0.1149, grad=0.1445), Var(v=0.0458, grad=0.0000), Var(v=0.0774, grad=0.0054), Var(v=-0.1165, grad=0.0539)], [Var(v=-0.0065, grad=0.0000), Var(v=-0.1534, grad=0.0000), Var(v=0.0278, grad=-1.0687), Var(v=-0.0783, grad=0.0000), Var(v=0.1055, grad=-0.4617), Var(v=0.0733, grad=0.9793), Var(v=0.0852, grad=0.0000), Var(v=0.0221, grad=0.0000), Var(v=0.0272, grad=1.5545), Var(v=-0.1843, grad=0.0000), Var(v=0.0685, grad=1.4588), Var(v=-0.0039, grad=0.4072), Var(v=0.0424, grad=0.0000), Var(v=0.1198, grad=1.5681), Var(v=0.0731, grad=0.7318), Var(v=0.0196, grad=0.0000), Var(v=0.0606, grad=0.0000), Var(v=0.0004, grad=0.0000), Var(v=0.0309, grad=0.0000), Var(v=-0.0105, grad=-0.4846), Var(v=-0.0418, grad=0.0000), Var(v=-0.0600, grad=1.6413), Var(v=0.2891, grad=-1.0852), Var(v=0.0556, grad=-1.0902), Var(v=-0.0172, grad=0.0000), Var(v=-0.0541, grad=0.0000), Var(v=0.1632, grad=-0.5314), Var(v=-0.1554, grad=0.0000), Var(v=-0.0529, grad=1.2096), Var(v=-0.1467, grad=0.0000), Var(v=-0.0077, grad=0.0000), Var(v=0.0952, grad=0.0000), Var(v=-0.0630, grad=0.0000), Var(v=0.0452, grad=-2.6709), Var(v=-0.0795, grad=0.3715), Var(v=-0.0850, grad=1.6831), Var(v=-0.0670, grad=0.0000), Var(v=0.0391, grad=0.0000), Var(v=0.0243, grad=1.0095), Var(v=0.1643, grad=-0.1025), Var(v=0.0984, grad=0.6007), Var(v=0.0278, grad=0.0000), Var(v=0.0092, grad=2.1267), Var(v=0.0404, grad=0.0000), Var(v=-0.0506, grad=0.0000), Var(v=-0.1134, grad=0.0000), Var(v=0.0324, grad=0.0000), Var(v=0.0414, grad=-1.0404), Var(v=-0.0546, grad=-0.0433), Var(v=0.0036, grad=-0.4339)], [Var(v=0.0285, grad=0.0000), Var(v=0.0395, grad=0.0000), Var(v=0.0254, grad=-0.7546), Var(v=0.0000, grad=0.0000), Var(v=0.0063, grad=-0.3260), Var(v=0.1177, grad=0.6915), Var(v=0.0209, grad=0.0000), Var(v=-0.1355, grad=0.0000), Var(v=0.0453, grad=1.0976), Var(v=-0.0480, grad=0.0000), Var(v=0.0042, grad=1.0301), Var(v=0.0932, grad=0.2875), Var(v=-0.1604, grad=0.0000), Var(v=0.0479, grad=1.1073), Var(v=0.0216, grad=0.5167), Var(v=-0.0055, grad=0.0000), Var(v=-0.1440, grad=0.0000), Var(v=-0.0310, grad=0.0000), Var(v=0.0087, grad=0.0000), Var(v=-0.0408, grad=-0.3422), Var(v=-0.0116, grad=0.0000), Var(v=0.0468, grad=1.1589), Var(v=0.0874, grad=-0.7663), Var(v=-0.1599, grad=-0.7698), Var(v=-0.0104, grad=0.0000), Var(v=0.1456, grad=0.0000), Var(v=0.0364, grad=-0.3753), Var(v=0.0523, grad=0.0000), Var(v=-0.0250, grad=0.8541), Var(v=-0.0280, grad=0.0000), Var(v=0.0427, grad=0.0000), Var(v=0.0784, grad=0.0000), Var(v=-0.2066, grad=0.0000), Var(v=-0.0648, grad=-1.8860), Var(v=0.0049, grad=0.2624), Var(v=0.0964, grad=1.1885), Var(v=0.0208, grad=0.0000), Var(v=0.0206, grad=0.0000), Var(v=0.1057, grad=0.7128), Var(v=0.0701, grad=-0.0724), Var(v=-0.0693, grad=0.4242), Var(v=-0.0214, grad=0.0000), Var(v=-0.1087, grad=1.5017), Var(v=-0.1247, grad=0.0000), Var(v=-0.0621, grad=0.0000), Var(v=-0.0213, grad=0.0000), Var(v=-0.0530, grad=0.0000), Var(v=0.1280, grad=-0.7347), Var(v=0.0712, grad=-0.0306), Var(v=-0.0386, grad=-0.3064)]] Biases: [Var(v=0.0583, grad=-5.8347), Var(v=-0.1355, grad=13.5538), Var(v=0.0013, grad=-0.1345), Var(v=-0.0832, grad=8.3169), Var(v=0.0357, grad=-3.5672), Var(v=-0.0012, grad=0.1232), Var(v=0.0000, grad=0.0000), Var(v=0.0000, grad=0.0000), Var(v=-0.0020, grad=0.1956), Var(v=0.0000, grad=0.0000), Var(v=-0.1127, grad=11.2707), Var(v=-0.0315, grad=3.1458), Var(v=0.0000, grad=0.0000), Var(v=-0.1212, grad=12.1151), Var(v=-0.0009, grad=0.0921), Var(v=0.0967, grad=-9.6717), Var(v=0.0000, grad=0.0000), Var(v=0.0000, grad=0.0000), Var(v=0.0000, grad=0.0000), Var(v=0.0374, grad=-3.7439), Var(v=0.0296, grad=-2.9553), Var(v=-0.0021, grad=0.2065), Var(v=0.0014, grad=-0.1365), Var(v=0.0842, grad=-8.4224), Var(v=0.0164, grad=-1.6373), Var(v=0.0000, grad=0.0000), Var(v=0.0007, grad=-0.0669), Var(v=0.0103, grad=-1.0268), Var(v=-0.0934, grad=9.3450), Var(v=0.0000, grad=0.0000), Var(v=0.1022, grad=-10.2197), Var(v=0.0000, grad=0.0000), Var(v=0.0000, grad=0.0000), Var(v=0.0034, grad=-0.3361), Var(v=-0.0287, grad=2.8705), Var(v=-0.1300, grad=13.0033), Var(v=-0.0940, grad=9.4045), Var(v=0.0000, grad=0.0000), Var(v=-0.0780, grad=7.7995), Var(v=0.0079, grad=-0.7920), Var(v=-0.0008, grad=0.0756), Var(v=-0.0867, grad=8.6714), Var(v=-0.0027, grad=0.2676), Var(v=0.0000, grad=0.0000), Var(v=0.0000, grad=0.0000), Var(v=-0.0666, grad=6.6647), Var(v=-0.0884, grad=8.8449), Var(v=0.0804, grad=-8.0383), Var(v=0.0001, grad=-0.0054), Var(v=0.0005, grad=-0.0546)]\n",
      "Layer 2 \n",
      " Weights: [[Var(v=0.0785, grad=-1.1623)], [Var(v=-0.1383, grad=-1.7053)], [Var(v=-0.1182, grad=2.5058)], [Var(v=-0.0725, grad=-2.2847)], [Var(v=-0.0727, grad=3.2488)], [Var(v=0.0720, grad=1.3298)], [Var(v=0.0472, grad=0.0000)], [Var(v=-0.0778, grad=0.0000)], [Var(v=0.1029, grad=3.2542)], [Var(v=0.0951, grad=0.0000)], [Var(v=0.0775, grad=4.9651)], [Var(v=-0.0187, grad=5.4139)], [Var(v=-0.0356, grad=0.0000)], [Var(v=0.1162, grad=2.0462)], [Var(v=0.0339, grad=2.9903)], [Var(v=0.1297, grad=-1.8802)], [Var(v=0.0009, grad=0.0000)], [Var(v=0.0088, grad=0.0000)], [Var(v=0.0160, grad=0.0000)], [Var(v=-0.0599, grad=1.7714)], [Var(v=0.0378, grad=-0.3903)], [Var(v=0.1250, grad=1.7985)], [Var(v=-0.0982, grad=0.3679)], [Var(v=-0.1189, grad=2.3890)], [Var(v=0.0288, grad=-0.9991)], [Var(v=0.0131, grad=0.0000)], [Var(v=-0.0834, grad=3.7107)], [Var(v=0.0120, grad=-0.0277)], [Var(v=0.0867, grad=1.8681)], [Var(v=-0.0760, grad=0.0000)], [Var(v=0.1250, grad=-0.7810)], [Var(v=-0.0230, grad=0.0000)], [Var(v=-0.1962, grad=0.0000)], [Var(v=-0.2771, grad=4.4394)], [Var(v=-0.0076, grad=3.9951)], [Var(v=0.1430, grad=0.3625)], [Var(v=-0.0975, grad=-1.0358)], [Var(v=-0.0165, grad=0.0000)], [Var(v=0.0868, grad=0.1122)], [Var(v=-0.0311, grad=2.2206)], [Var(v=0.0311, grad=2.1257)], [Var(v=-0.0957, grad=-0.3759)], [Var(v=0.1714, grad=1.3926)], [Var(v=0.1254, grad=0.0000)], [Var(v=0.0701, grad=0.0000)], [Var(v=-0.0530, grad=-2.3426)], [Var(v=-0.0934, grad=-0.8007)], [Var(v=-0.0909, grad=0.0271)], [Var(v=0.0029, grad=-0.6705)], [Var(v=-0.0335, grad=-0.4265)]] Biases: [Var(v=-0.0144, grad=1.4441)]\n",
      "\n",
      "Network after zeroing gradients:\n",
      "Layer 0 \n",
      " Weights: [[Var(v=-0.1081, grad=0.0000), Var(v=0.1299, grad=0.0000), Var(v=0.0611, grad=0.0000), Var(v=-0.1060, grad=0.0000), Var(v=-0.0225, grad=0.0000), Var(v=-0.1273, grad=0.0000), Var(v=0.0174, grad=0.0000), Var(v=0.0223, grad=0.0000), Var(v=0.0369, grad=0.0000), Var(v=0.0090, grad=0.0000), Var(v=-0.0259, grad=0.0000), Var(v=0.1211, grad=0.0000), Var(v=0.0451, grad=0.0000), Var(v=-0.1303, grad=0.0000), Var(v=-0.0233, grad=0.0000)]] Biases: [Var(v=-0.0418, grad=0.0000), Var(v=0.0293, grad=0.0000), Var(v=-0.0592, grad=0.0000), Var(v=-0.0127, grad=0.0000), Var(v=0.0049, grad=0.0000), Var(v=0.0073, grad=0.0000), Var(v=0.0000, grad=0.0000), Var(v=0.0163, grad=0.0000), Var(v=-0.0508, grad=0.0000), Var(v=-0.0476, grad=0.0000), Var(v=-0.0785, grad=0.0000), Var(v=0.0794, grad=0.0000), Var(v=0.0267, grad=0.0000), Var(v=0.0115, grad=0.0000), Var(v=-0.0544, grad=0.0000)]\n",
      "Layer 1 \n",
      " Weights: [[Var(v=-0.1240, grad=0.0000), Var(v=-0.0944, grad=0.0000), Var(v=0.1720, grad=0.0000), Var(v=-0.1120, grad=0.0000), Var(v=-0.0284, grad=0.0000), Var(v=-0.0300, grad=0.0000), Var(v=-0.1078, grad=0.0000), Var(v=-0.0008, grad=0.0000), Var(v=0.0026, grad=0.0000), Var(v=0.1264, grad=0.0000), Var(v=0.0796, grad=0.0000), Var(v=0.1273, grad=0.0000), Var(v=-0.0783, grad=0.0000), Var(v=-0.1089, grad=0.0000), Var(v=0.0050, grad=0.0000), Var(v=-0.1111, grad=0.0000), Var(v=0.0631, grad=0.0000), Var(v=-0.0937, grad=0.0000), Var(v=-0.1242, grad=0.0000), Var(v=0.0058, grad=0.0000), Var(v=-0.0159, grad=0.0000), Var(v=0.1114, grad=0.0000), Var(v=-0.2727, grad=0.0000), Var(v=0.2173, grad=0.0000), Var(v=0.0378, grad=0.0000), Var(v=0.0313, grad=0.0000), Var(v=0.1074, grad=0.0000), Var(v=-0.0371, grad=0.0000), Var(v=-0.0411, grad=0.0000), Var(v=-0.0612, grad=0.0000), Var(v=0.0685, grad=0.0000), Var(v=-0.2521, grad=0.0000), Var(v=-0.0339, grad=0.0000), Var(v=0.1253, grad=0.0000), Var(v=0.2948, grad=0.0000), Var(v=-0.0280, grad=0.0000), Var(v=-0.0494, grad=0.0000), Var(v=-0.0674, grad=0.0000), Var(v=-0.0072, grad=0.0000), Var(v=0.0637, grad=0.0000), Var(v=0.1898, grad=0.0000), Var(v=-0.0562, grad=0.0000), Var(v=0.1041, grad=0.0000), Var(v=-0.0906, grad=0.0000), Var(v=-0.0034, grad=0.0000), Var(v=-0.0719, grad=0.0000), Var(v=-0.1862, grad=0.0000), Var(v=-0.0873, grad=0.0000), Var(v=-0.0281, grad=0.0000), Var(v=-0.0301, grad=0.0000)], [Var(v=-0.0093, grad=0.0000), Var(v=0.1406, grad=0.0000), Var(v=-0.1181, grad=0.0000), Var(v=0.0402, grad=0.0000), Var(v=0.0091, grad=0.0000), Var(v=0.0781, grad=0.0000), Var(v=-0.1771, grad=0.0000), Var(v=-0.0876, grad=0.0000), Var(v=-0.0371, grad=0.0000), Var(v=-0.0917, grad=0.0000), Var(v=-0.1382, grad=0.0000), Var(v=-0.0833, grad=0.0000), Var(v=-0.2050, grad=0.0000), Var(v=-0.0734, grad=0.0000), Var(v=0.0667, grad=0.0000), Var(v=0.1264, grad=0.0000), Var(v=-0.0422, grad=0.0000), Var(v=-0.0268, grad=0.0000), Var(v=-0.0633, grad=0.0000), Var(v=-0.0348, grad=0.0000), Var(v=-0.0008, grad=0.0000), Var(v=-0.0370, grad=0.0000), Var(v=-0.0178, grad=0.0000), Var(v=0.0856, grad=0.0000), Var(v=0.0528, grad=0.0000), Var(v=0.1191, grad=0.0000), Var(v=0.0711, grad=0.0000), Var(v=-0.0115, grad=0.0000), Var(v=-0.0068, grad=0.0000), Var(v=-0.1067, grad=0.0000), Var(v=0.0381, grad=0.0000), Var(v=-0.1020, grad=0.0000), Var(v=-0.0634, grad=0.0000), Var(v=-0.0996, grad=0.0000), Var(v=-0.0171, grad=0.0000), Var(v=-0.0467, grad=0.0000), Var(v=0.0109, grad=0.0000), Var(v=-0.1279, grad=0.0000), Var(v=0.0762, grad=0.0000), Var(v=-0.0315, grad=0.0000), Var(v=0.2403, grad=0.0000), Var(v=0.0039, grad=0.0000), Var(v=0.1187, grad=0.0000), Var(v=-0.1264, grad=0.0000), Var(v=-0.0039, grad=0.0000), Var(v=0.1283, grad=0.0000), Var(v=-0.1723, grad=0.0000), Var(v=-0.1410, grad=0.0000), Var(v=0.1179, grad=0.0000), Var(v=0.1858, grad=0.0000)], [Var(v=-0.0815, grad=0.0000), Var(v=-0.0909, grad=0.0000), Var(v=-0.0450, grad=0.0000), Var(v=-0.0055, grad=0.0000), Var(v=0.1123, grad=0.0000), Var(v=0.1327, grad=0.0000), Var(v=-0.0592, grad=0.0000), Var(v=0.1161, grad=0.0000), Var(v=-0.0019, grad=0.0000), Var(v=0.0023, grad=0.0000), Var(v=-0.0069, grad=0.0000), Var(v=0.0045, grad=0.0000), Var(v=-0.0288, grad=0.0000), Var(v=0.2210, grad=0.0000), Var(v=-0.0598, grad=0.0000), Var(v=0.0761, grad=0.0000), Var(v=0.0267, grad=0.0000), Var(v=0.0592, grad=0.0000), Var(v=0.0607, grad=0.0000), Var(v=-0.0615, grad=0.0000), Var(v=-0.0580, grad=0.0000), Var(v=0.0600, grad=0.0000), Var(v=0.1443, grad=0.0000), Var(v=0.0920, grad=0.0000), Var(v=-0.2297, grad=0.0000), Var(v=-0.0916, grad=0.0000), Var(v=0.1029, grad=0.0000), Var(v=0.1053, grad=0.0000), Var(v=-0.0144, grad=0.0000), Var(v=-0.0217, grad=0.0000), Var(v=0.0330, grad=0.0000), Var(v=0.2279, grad=0.0000), Var(v=-0.0586, grad=0.0000), Var(v=-0.1349, grad=0.0000), Var(v=0.1725, grad=0.0000), Var(v=0.0980, grad=0.0000), Var(v=0.0455, grad=0.0000), Var(v=-0.0345, grad=0.0000), Var(v=-0.1051, grad=0.0000), Var(v=-0.0927, grad=0.0000), Var(v=0.0657, grad=0.0000), Var(v=0.1450, grad=0.0000), Var(v=0.0079, grad=0.0000), Var(v=-0.0380, grad=0.0000), Var(v=0.0792, grad=0.0000), Var(v=0.0874, grad=0.0000), Var(v=0.1079, grad=0.0000), Var(v=0.0230, grad=0.0000), Var(v=0.0065, grad=0.0000), Var(v=-0.0293, grad=0.0000)], [Var(v=-0.0472, grad=0.0000), Var(v=-0.0724, grad=0.0000), Var(v=0.0353, grad=0.0000), Var(v=-0.1662, grad=0.0000), Var(v=0.0886, grad=0.0000), Var(v=-0.0647, grad=0.0000), Var(v=-0.0628, grad=0.0000), Var(v=0.0351, grad=0.0000), Var(v=0.0148, grad=0.0000), Var(v=-0.0367, grad=0.0000), Var(v=0.0333, grad=0.0000), Var(v=0.0105, grad=0.0000), Var(v=-0.2218, grad=0.0000), Var(v=0.0711, grad=0.0000), Var(v=0.1719, grad=0.0000), Var(v=0.1726, grad=0.0000), Var(v=-0.0987, grad=0.0000), Var(v=-0.1074, grad=0.0000), Var(v=-0.0884, grad=0.0000), Var(v=0.0503, grad=0.0000), Var(v=-0.2090, grad=0.0000), Var(v=-0.0712, grad=0.0000), Var(v=0.1173, grad=0.0000), Var(v=-0.0206, grad=0.0000), Var(v=-0.1001, grad=0.0000), Var(v=-0.0372, grad=0.0000), Var(v=0.0190, grad=0.0000), Var(v=0.0095, grad=0.0000), Var(v=0.0538, grad=0.0000), Var(v=-0.0535, grad=0.0000), Var(v=-0.0533, grad=0.0000), Var(v=-0.0798, grad=0.0000), Var(v=-0.0141, grad=0.0000), Var(v=0.1811, grad=0.0000), Var(v=-0.0626, grad=0.0000), Var(v=0.1210, grad=0.0000), Var(v=-0.0239, grad=0.0000), Var(v=-0.0124, grad=0.0000), Var(v=-0.0647, grad=0.0000), Var(v=-0.1865, grad=0.0000), Var(v=0.1348, grad=0.0000), Var(v=-0.0748, grad=0.0000), Var(v=0.0348, grad=0.0000), Var(v=0.0392, grad=0.0000), Var(v=0.0320, grad=0.0000), Var(v=-0.0229, grad=0.0000), Var(v=0.0204, grad=0.0000), Var(v=-0.0618, grad=0.0000), Var(v=0.0048, grad=0.0000), Var(v=0.0811, grad=0.0000)], [Var(v=-0.0010, grad=0.0000), Var(v=-0.0191, grad=0.0000), Var(v=-0.0248, grad=0.0000), Var(v=0.0347, grad=0.0000), Var(v=0.0420, grad=0.0000), Var(v=-0.0075, grad=0.0000), Var(v=0.0637, grad=0.0000), Var(v=-0.0196, grad=0.0000), Var(v=-0.0366, grad=0.0000), Var(v=0.1344, grad=0.0000), Var(v=0.1105, grad=0.0000), Var(v=0.2543, grad=0.0000), Var(v=-0.0944, grad=0.0000), Var(v=-0.0953, grad=0.0000), Var(v=0.0682, grad=0.0000), Var(v=-0.0893, grad=0.0000), Var(v=-0.1785, grad=0.0000), Var(v=0.0429, grad=0.0000), Var(v=-0.0311, grad=0.0000), Var(v=-0.1533, grad=0.0000), Var(v=0.0113, grad=0.0000), Var(v=-0.0679, grad=0.0000), Var(v=-0.0344, grad=0.0000), Var(v=0.0333, grad=0.0000), Var(v=0.0267, grad=0.0000), Var(v=-0.1740, grad=0.0000), Var(v=-0.0162, grad=0.0000), Var(v=0.0304, grad=0.0000), Var(v=0.0254, grad=0.0000), Var(v=-0.0532, grad=0.0000), Var(v=0.1648, grad=0.0000), Var(v=0.1610, grad=0.0000), Var(v=-0.0615, grad=0.0000), Var(v=-0.0450, grad=0.0000), Var(v=0.0576, grad=0.0000), Var(v=0.0145, grad=0.0000), Var(v=0.2134, grad=0.0000), Var(v=0.0431, grad=0.0000), Var(v=-0.1421, grad=0.0000), Var(v=0.0216, grad=0.0000), Var(v=0.0032, grad=0.0000), Var(v=0.0945, grad=0.0000), Var(v=-0.0412, grad=0.0000), Var(v=0.1625, grad=0.0000), Var(v=0.1820, grad=0.0000), Var(v=0.0351, grad=0.0000), Var(v=-0.1762, grad=0.0000), Var(v=0.1227, grad=0.0000), Var(v=0.1132, grad=0.0000), Var(v=0.0607, grad=0.0000)], [Var(v=0.0615, grad=0.0000), Var(v=-0.0151, grad=0.0000), Var(v=-0.0008, grad=0.0000), Var(v=-0.1118, grad=0.0000), Var(v=0.1311, grad=0.0000), Var(v=0.1045, grad=0.0000), Var(v=-0.1096, grad=0.0000), Var(v=-0.0989, grad=0.0000), Var(v=0.0989, grad=0.0000), Var(v=-0.1395, grad=0.0000), Var(v=0.0720, grad=0.0000), Var(v=0.1677, grad=0.0000), Var(v=0.1112, grad=0.0000), Var(v=0.0526, grad=0.0000), Var(v=-0.0126, grad=0.0000), Var(v=-0.0326, grad=0.0000), Var(v=-0.0050, grad=0.0000), Var(v=0.1154, grad=0.0000), Var(v=-0.0077, grad=0.0000), Var(v=0.1787, grad=0.0000), Var(v=0.0249, grad=0.0000), Var(v=0.1249, grad=0.0000), Var(v=0.0258, grad=0.0000), Var(v=0.0267, grad=0.0000), Var(v=0.0996, grad=0.0000), Var(v=-0.1269, grad=0.0000), Var(v=0.0522, grad=0.0000), Var(v=-0.0039, grad=0.0000), Var(v=0.1101, grad=0.0000), Var(v=0.1488, grad=0.0000), Var(v=-0.0938, grad=0.0000), Var(v=-0.1474, grad=0.0000), Var(v=0.0210, grad=0.0000), Var(v=0.2727, grad=0.0000), Var(v=0.0350, grad=0.0000), Var(v=-0.1467, grad=0.0000), Var(v=0.0033, grad=0.0000), Var(v=-0.0264, grad=0.0000), Var(v=-0.0337, grad=0.0000), Var(v=0.1362, grad=0.0000), Var(v=-0.0420, grad=0.0000), Var(v=-0.1346, grad=0.0000), Var(v=0.0447, grad=0.0000), Var(v=-0.2195, grad=0.0000), Var(v=-0.1991, grad=0.0000), Var(v=-0.0852, grad=0.0000), Var(v=-0.0080, grad=0.0000), Var(v=0.1022, grad=0.0000), Var(v=0.1677, grad=0.0000), Var(v=-0.0037, grad=0.0000)], [Var(v=-0.0371, grad=0.0000), Var(v=0.0014, grad=0.0000), Var(v=0.1216, grad=0.0000), Var(v=0.1240, grad=0.0000), Var(v=-0.1274, grad=0.0000), Var(v=-0.0560, grad=0.0000), Var(v=-0.1113, grad=0.0000), Var(v=-0.0279, grad=0.0000), Var(v=0.0825, grad=0.0000), Var(v=0.0691, grad=0.0000), Var(v=0.1273, grad=0.0000), Var(v=-0.0213, grad=0.0000), Var(v=0.1489, grad=0.0000), Var(v=0.0935, grad=0.0000), Var(v=0.1525, grad=0.0000), Var(v=-0.0862, grad=0.0000), Var(v=0.0271, grad=0.0000), Var(v=0.0496, grad=0.0000), Var(v=-0.0669, grad=0.0000), Var(v=0.0546, grad=0.0000), Var(v=0.1000, grad=0.0000), Var(v=0.0070, grad=0.0000), Var(v=0.0000, grad=0.0000), Var(v=-0.1314, grad=0.0000), Var(v=0.0175, grad=0.0000), Var(v=-0.1742, grad=0.0000), Var(v=-0.0981, grad=0.0000), Var(v=-0.0872, grad=0.0000), Var(v=-0.0148, grad=0.0000), Var(v=0.0069, grad=0.0000), Var(v=-0.0508, grad=0.0000), Var(v=0.0010, grad=0.0000), Var(v=0.0216, grad=0.0000), Var(v=-0.0398, grad=0.0000), Var(v=0.0734, grad=0.0000), Var(v=-0.0697, grad=0.0000), Var(v=-0.0389, grad=0.0000), Var(v=0.0892, grad=0.0000), Var(v=0.0044, grad=0.0000), Var(v=0.0011, grad=0.0000), Var(v=0.0985, grad=0.0000), Var(v=-0.1342, grad=0.0000), Var(v=-0.0003, grad=0.0000), Var(v=0.0912, grad=0.0000), Var(v=0.0888, grad=0.0000), Var(v=-0.0130, grad=0.0000), Var(v=0.0759, grad=0.0000), Var(v=0.0060, grad=0.0000), Var(v=0.1202, grad=0.0000), Var(v=0.0797, grad=0.0000)], [Var(v=0.0304, grad=0.0000), Var(v=-0.1654, grad=0.0000), Var(v=-0.1665, grad=0.0000), Var(v=-0.0650, grad=0.0000), Var(v=0.0772, grad=0.0000), Var(v=0.0325, grad=0.0000), Var(v=0.0484, grad=0.0000), Var(v=-0.0150, grad=0.0000), Var(v=-0.1471, grad=0.0000), Var(v=0.0342, grad=0.0000), Var(v=-0.1111, grad=0.0000), Var(v=-0.0046, grad=0.0000), Var(v=-0.0331, grad=0.0000), Var(v=0.2076, grad=0.0000), Var(v=0.0724, grad=0.0000), Var(v=-0.1140, grad=0.0000), Var(v=0.1512, grad=0.0000), Var(v=-0.0362, grad=0.0000), Var(v=-0.0335, grad=0.0000), Var(v=-0.0902, grad=0.0000), Var(v=0.1375, grad=0.0000), Var(v=-0.0589, grad=0.0000), Var(v=-0.0921, grad=0.0000), Var(v=0.0656, grad=0.0000), Var(v=0.0618, grad=0.0000), Var(v=-0.0975, grad=0.0000), Var(v=-0.1179, grad=0.0000), Var(v=-0.0567, grad=0.0000), Var(v=0.0703, grad=0.0000), Var(v=-0.0259, grad=0.0000), Var(v=0.0183, grad=0.0000), Var(v=-0.1501, grad=0.0000), Var(v=0.1275, grad=0.0000), Var(v=0.0615, grad=0.0000), Var(v=-0.2132, grad=0.0000), Var(v=-0.0865, grad=0.0000), Var(v=-0.1205, grad=0.0000), Var(v=-0.0920, grad=0.0000), Var(v=0.0029, grad=0.0000), Var(v=0.0000, grad=0.0000), Var(v=0.0115, grad=0.0000), Var(v=-0.0945, grad=0.0000), Var(v=-0.0149, grad=0.0000), Var(v=-0.1645, grad=0.0000), Var(v=0.0072, grad=0.0000), Var(v=0.1526, grad=0.0000), Var(v=0.1403, grad=0.0000), Var(v=-0.0868, grad=0.0000), Var(v=0.0102, grad=0.0000), Var(v=-0.0606, grad=0.0000)], [Var(v=-0.0229, grad=0.0000), Var(v=0.1163, grad=0.0000), Var(v=0.0410, grad=0.0000), Var(v=-0.0649, grad=0.0000), Var(v=0.0960, grad=0.0000), Var(v=0.0191, grad=0.0000), Var(v=-0.2490, grad=0.0000), Var(v=0.1407, grad=0.0000), Var(v=-0.0525, grad=0.0000), Var(v=0.0275, grad=0.0000), Var(v=0.0653, grad=0.0000), Var(v=0.0758, grad=0.0000), Var(v=0.2319, grad=0.0000), Var(v=-0.0956, grad=0.0000), Var(v=0.0901, grad=0.0000), Var(v=-0.1842, grad=0.0000), Var(v=-0.0782, grad=0.0000), Var(v=0.0676, grad=0.0000), Var(v=0.2081, grad=0.0000), Var(v=-0.1686, grad=0.0000), Var(v=-0.0314, grad=0.0000), Var(v=0.1813, grad=0.0000), Var(v=0.0734, grad=0.0000), Var(v=-0.0701, grad=0.0000), Var(v=-0.1199, grad=0.0000), Var(v=-0.0018, grad=0.0000), Var(v=0.0158, grad=0.0000), Var(v=0.0295, grad=0.0000), Var(v=0.0730, grad=0.0000), Var(v=0.1340, grad=0.0000), Var(v=-0.0843, grad=0.0000), Var(v=0.0508, grad=0.0000), Var(v=-0.0134, grad=0.0000), Var(v=0.0644, grad=0.0000), Var(v=0.1388, grad=0.0000), Var(v=0.0795, grad=0.0000), Var(v=0.0965, grad=0.0000), Var(v=0.1034, grad=0.0000), Var(v=0.0473, grad=0.0000), Var(v=-0.1139, grad=0.0000), Var(v=0.0578, grad=0.0000), Var(v=0.0158, grad=0.0000), Var(v=0.0396, grad=0.0000), Var(v=0.1325, grad=0.0000), Var(v=0.0341, grad=0.0000), Var(v=-0.0165, grad=0.0000), Var(v=0.0814, grad=0.0000), Var(v=-0.0256, grad=0.0000), Var(v=0.0304, grad=0.0000), Var(v=-0.0877, grad=0.0000)], [Var(v=-0.0026, grad=0.0000), Var(v=-0.1602, grad=0.0000), Var(v=0.0052, grad=0.0000), Var(v=0.0318, grad=0.0000), Var(v=-0.0359, grad=0.0000), Var(v=-0.0642, grad=0.0000), Var(v=-0.0405, grad=0.0000), Var(v=-0.0886, grad=0.0000), Var(v=0.1552, grad=0.0000), Var(v=-0.0633, grad=0.0000), Var(v=0.1186, grad=0.0000), Var(v=-0.0255, grad=0.0000), Var(v=-0.0308, grad=0.0000), Var(v=-0.0614, grad=0.0000), Var(v=-0.0861, grad=0.0000), Var(v=0.0189, grad=0.0000), Var(v=-0.0265, grad=0.0000), Var(v=0.0353, grad=0.0000), Var(v=-0.0081, grad=0.0000), Var(v=0.0862, grad=0.0000), Var(v=-0.0693, grad=0.0000), Var(v=-0.1640, grad=0.0000), Var(v=-0.0291, grad=0.0000), Var(v=0.1025, grad=0.0000), Var(v=-0.0190, grad=0.0000), Var(v=-0.0003, grad=0.0000), Var(v=0.0454, grad=0.0000), Var(v=-0.1286, grad=0.0000), Var(v=0.1072, grad=0.0000), Var(v=0.0872, grad=0.0000), Var(v=-0.0101, grad=0.0000), Var(v=-0.0068, grad=0.0000), Var(v=0.0602, grad=0.0000), Var(v=-0.1245, grad=0.0000), Var(v=0.0259, grad=0.0000), Var(v=0.0007, grad=0.0000), Var(v=-0.0642, grad=0.0000), Var(v=0.0325, grad=0.0000), Var(v=-0.0491, grad=0.0000), Var(v=-0.0752, grad=0.0000), Var(v=0.0993, grad=0.0000), Var(v=-0.0422, grad=0.0000), Var(v=0.1060, grad=0.0000), Var(v=-0.1078, grad=0.0000), Var(v=0.0457, grad=0.0000), Var(v=0.0909, grad=0.0000), Var(v=0.0650, grad=0.0000), Var(v=-0.0367, grad=0.0000), Var(v=0.0752, grad=0.0000), Var(v=0.0909, grad=0.0000)], [Var(v=0.1046, grad=0.0000), Var(v=0.0197, grad=0.0000), Var(v=0.1534, grad=0.0000), Var(v=0.1782, grad=0.0000), Var(v=-0.1870, grad=0.0000), Var(v=0.0481, grad=0.0000), Var(v=0.1314, grad=0.0000), Var(v=0.0209, grad=0.0000), Var(v=0.0536, grad=0.0000), Var(v=-0.0256, grad=0.0000), Var(v=-0.0052, grad=0.0000), Var(v=-0.0405, grad=0.0000), Var(v=0.1833, grad=0.0000), Var(v=-0.0966, grad=0.0000), Var(v=-0.1289, grad=0.0000), Var(v=0.0655, grad=0.0000), Var(v=0.0803, grad=0.0000), Var(v=-0.0946, grad=0.0000), Var(v=0.0507, grad=0.0000), Var(v=-0.1269, grad=0.0000), Var(v=0.0261, grad=0.0000), Var(v=0.0523, grad=0.0000), Var(v=0.0351, grad=0.0000), Var(v=-0.1281, grad=0.0000), Var(v=0.0064, grad=0.0000), Var(v=-0.0449, grad=0.0000), Var(v=-0.0096, grad=0.0000), Var(v=0.0053, grad=0.0000), Var(v=0.0441, grad=0.0000), Var(v=0.0666, grad=0.0000), Var(v=0.0594, grad=0.0000), Var(v=-0.1002, grad=0.0000), Var(v=-0.0320, grad=0.0000), Var(v=0.1888, grad=0.0000), Var(v=-0.0081, grad=0.0000), Var(v=-0.0096, grad=0.0000), Var(v=0.1715, grad=0.0000), Var(v=-0.0105, grad=0.0000), Var(v=-0.0476, grad=0.0000), Var(v=0.0856, grad=0.0000), Var(v=0.2026, grad=0.0000), Var(v=0.1320, grad=0.0000), Var(v=0.1714, grad=0.0000), Var(v=0.0094, grad=0.0000), Var(v=0.0315, grad=0.0000), Var(v=0.1010, grad=0.0000), Var(v=0.3294, grad=0.0000), Var(v=0.0016, grad=0.0000), Var(v=0.1659, grad=0.0000), Var(v=-0.1818, grad=0.0000)], [Var(v=0.1935, grad=0.0000), Var(v=0.0823, grad=0.0000), Var(v=0.0526, grad=0.0000), Var(v=-0.0117, grad=0.0000), Var(v=0.1526, grad=0.0000), Var(v=0.0102, grad=0.0000), Var(v=0.0401, grad=0.0000), Var(v=-0.1009, grad=0.0000), Var(v=0.1111, grad=0.0000), Var(v=0.0687, grad=0.0000), Var(v=-0.1965, grad=0.0000), Var(v=0.0521, grad=0.0000), Var(v=0.0938, grad=0.0000), Var(v=-0.0497, grad=0.0000), Var(v=0.1358, grad=0.0000), Var(v=0.1098, grad=0.0000), Var(v=-0.1346, grad=0.0000), Var(v=0.0183, grad=0.0000), Var(v=-0.0677, grad=0.0000), Var(v=0.0158, grad=0.0000), Var(v=-0.0250, grad=0.0000), Var(v=0.3057, grad=0.0000), Var(v=0.1989, grad=0.0000), Var(v=0.0233, grad=0.0000), Var(v=0.1902, grad=0.0000), Var(v=-0.1515, grad=0.0000), Var(v=0.0782, grad=0.0000), Var(v=0.1112, grad=0.0000), Var(v=-0.2364, grad=0.0000), Var(v=0.0432, grad=0.0000), Var(v=0.1452, grad=0.0000), Var(v=0.1358, grad=0.0000), Var(v=0.0058, grad=0.0000), Var(v=0.0244, grad=0.0000), Var(v=-0.1279, grad=0.0000), Var(v=0.1040, grad=0.0000), Var(v=-0.1449, grad=0.0000), Var(v=-0.0692, grad=0.0000), Var(v=-0.1647, grad=0.0000), Var(v=-0.0833, grad=0.0000), Var(v=-0.0925, grad=0.0000), Var(v=-0.0903, grad=0.0000), Var(v=0.0331, grad=0.0000), Var(v=0.0120, grad=0.0000), Var(v=-0.0845, grad=0.0000), Var(v=0.0487, grad=0.0000), Var(v=-0.0738, grad=0.0000), Var(v=-0.1324, grad=0.0000), Var(v=0.0551, grad=0.0000), Var(v=0.0132, grad=0.0000)], [Var(v=0.1045, grad=0.0000), Var(v=-0.1524, grad=0.0000), Var(v=0.0360, grad=0.0000), Var(v=0.2802, grad=0.0000), Var(v=-0.0727, grad=0.0000), Var(v=0.0002, grad=0.0000), Var(v=-0.0324, grad=0.0000), Var(v=0.0694, grad=0.0000), Var(v=0.0354, grad=0.0000), Var(v=-0.2131, grad=0.0000), Var(v=0.0651, grad=0.0000), Var(v=0.0734, grad=0.0000), Var(v=-0.0877, grad=0.0000), Var(v=0.1201, grad=0.0000), Var(v=-0.0470, grad=0.0000), Var(v=0.1780, grad=0.0000), Var(v=-0.0171, grad=0.0000), Var(v=0.0074, grad=0.0000), Var(v=0.1093, grad=0.0000), Var(v=0.0540, grad=0.0000), Var(v=0.0883, grad=0.0000), Var(v=0.0791, grad=0.0000), Var(v=-0.1322, grad=0.0000), Var(v=0.0724, grad=0.0000), Var(v=-0.0954, grad=0.0000), Var(v=-0.1310, grad=0.0000), Var(v=0.0622, grad=0.0000), Var(v=-0.0201, grad=0.0000), Var(v=0.1268, grad=0.0000), Var(v=0.0912, grad=0.0000), Var(v=-0.1023, grad=0.0000), Var(v=0.0234, grad=0.0000), Var(v=-0.0333, grad=0.0000), Var(v=-0.1013, grad=0.0000), Var(v=0.0967, grad=0.0000), Var(v=0.0651, grad=0.0000), Var(v=0.1097, grad=0.0000), Var(v=0.0606, grad=0.0000), Var(v=-0.0116, grad=0.0000), Var(v=-0.1332, grad=0.0000), Var(v=-0.1367, grad=0.0000), Var(v=-0.1120, grad=0.0000), Var(v=0.0073, grad=0.0000), Var(v=0.1101, grad=0.0000), Var(v=-0.1237, grad=0.0000), Var(v=0.0944, grad=0.0000), Var(v=0.1149, grad=0.0000), Var(v=0.0458, grad=0.0000), Var(v=0.0774, grad=0.0000), Var(v=-0.1165, grad=0.0000)], [Var(v=-0.0065, grad=0.0000), Var(v=-0.1534, grad=0.0000), Var(v=0.0278, grad=0.0000), Var(v=-0.0783, grad=0.0000), Var(v=0.1055, grad=0.0000), Var(v=0.0733, grad=0.0000), Var(v=0.0852, grad=0.0000), Var(v=0.0221, grad=0.0000), Var(v=0.0272, grad=0.0000), Var(v=-0.1843, grad=0.0000), Var(v=0.0685, grad=0.0000), Var(v=-0.0039, grad=0.0000), Var(v=0.0424, grad=0.0000), Var(v=0.1198, grad=0.0000), Var(v=0.0731, grad=0.0000), Var(v=0.0196, grad=0.0000), Var(v=0.0606, grad=0.0000), Var(v=0.0004, grad=0.0000), Var(v=0.0309, grad=0.0000), Var(v=-0.0105, grad=0.0000), Var(v=-0.0418, grad=0.0000), Var(v=-0.0600, grad=0.0000), Var(v=0.2891, grad=0.0000), Var(v=0.0556, grad=0.0000), Var(v=-0.0172, grad=0.0000), Var(v=-0.0541, grad=0.0000), Var(v=0.1632, grad=0.0000), Var(v=-0.1554, grad=0.0000), Var(v=-0.0529, grad=0.0000), Var(v=-0.1467, grad=0.0000), Var(v=-0.0077, grad=0.0000), Var(v=0.0952, grad=0.0000), Var(v=-0.0630, grad=0.0000), Var(v=0.0452, grad=0.0000), Var(v=-0.0795, grad=0.0000), Var(v=-0.0850, grad=0.0000), Var(v=-0.0670, grad=0.0000), Var(v=0.0391, grad=0.0000), Var(v=0.0243, grad=0.0000), Var(v=0.1643, grad=0.0000), Var(v=0.0984, grad=0.0000), Var(v=0.0278, grad=0.0000), Var(v=0.0092, grad=0.0000), Var(v=0.0404, grad=0.0000), Var(v=-0.0506, grad=0.0000), Var(v=-0.1134, grad=0.0000), Var(v=0.0324, grad=0.0000), Var(v=0.0414, grad=0.0000), Var(v=-0.0546, grad=0.0000), Var(v=0.0036, grad=0.0000)], [Var(v=0.0285, grad=0.0000), Var(v=0.0395, grad=0.0000), Var(v=0.0254, grad=0.0000), Var(v=0.0000, grad=0.0000), Var(v=0.0063, grad=0.0000), Var(v=0.1177, grad=0.0000), Var(v=0.0209, grad=0.0000), Var(v=-0.1355, grad=0.0000), Var(v=0.0453, grad=0.0000), Var(v=-0.0480, grad=0.0000), Var(v=0.0042, grad=0.0000), Var(v=0.0932, grad=0.0000), Var(v=-0.1604, grad=0.0000), Var(v=0.0479, grad=0.0000), Var(v=0.0216, grad=0.0000), Var(v=-0.0055, grad=0.0000), Var(v=-0.1440, grad=0.0000), Var(v=-0.0310, grad=0.0000), Var(v=0.0087, grad=0.0000), Var(v=-0.0408, grad=0.0000), Var(v=-0.0116, grad=0.0000), Var(v=0.0468, grad=0.0000), Var(v=0.0874, grad=0.0000), Var(v=-0.1599, grad=0.0000), Var(v=-0.0104, grad=0.0000), Var(v=0.1456, grad=0.0000), Var(v=0.0364, grad=0.0000), Var(v=0.0523, grad=0.0000), Var(v=-0.0250, grad=0.0000), Var(v=-0.0280, grad=0.0000), Var(v=0.0427, grad=0.0000), Var(v=0.0784, grad=0.0000), Var(v=-0.2066, grad=0.0000), Var(v=-0.0648, grad=0.0000), Var(v=0.0049, grad=0.0000), Var(v=0.0964, grad=0.0000), Var(v=0.0208, grad=0.0000), Var(v=0.0206, grad=0.0000), Var(v=0.1057, grad=0.0000), Var(v=0.0701, grad=0.0000), Var(v=-0.0693, grad=0.0000), Var(v=-0.0214, grad=0.0000), Var(v=-0.1087, grad=0.0000), Var(v=-0.1247, grad=0.0000), Var(v=-0.0621, grad=0.0000), Var(v=-0.0213, grad=0.0000), Var(v=-0.0530, grad=0.0000), Var(v=0.1280, grad=0.0000), Var(v=0.0712, grad=0.0000), Var(v=-0.0386, grad=0.0000)]] Biases: [Var(v=0.0583, grad=0.0000), Var(v=-0.1355, grad=0.0000), Var(v=0.0013, grad=0.0000), Var(v=-0.0832, grad=0.0000), Var(v=0.0357, grad=0.0000), Var(v=-0.0012, grad=0.0000), Var(v=0.0000, grad=0.0000), Var(v=0.0000, grad=0.0000), Var(v=-0.0020, grad=0.0000), Var(v=0.0000, grad=0.0000), Var(v=-0.1127, grad=0.0000), Var(v=-0.0315, grad=0.0000), Var(v=0.0000, grad=0.0000), Var(v=-0.1212, grad=0.0000), Var(v=-0.0009, grad=0.0000), Var(v=0.0967, grad=0.0000), Var(v=0.0000, grad=0.0000), Var(v=0.0000, grad=0.0000), Var(v=0.0000, grad=0.0000), Var(v=0.0374, grad=0.0000), Var(v=0.0296, grad=0.0000), Var(v=-0.0021, grad=0.0000), Var(v=0.0014, grad=0.0000), Var(v=0.0842, grad=0.0000), Var(v=0.0164, grad=0.0000), Var(v=0.0000, grad=0.0000), Var(v=0.0007, grad=0.0000), Var(v=0.0103, grad=0.0000), Var(v=-0.0934, grad=0.0000), Var(v=0.0000, grad=0.0000), Var(v=0.1022, grad=0.0000), Var(v=0.0000, grad=0.0000), Var(v=0.0000, grad=0.0000), Var(v=0.0034, grad=0.0000), Var(v=-0.0287, grad=0.0000), Var(v=-0.1300, grad=0.0000), Var(v=-0.0940, grad=0.0000), Var(v=0.0000, grad=0.0000), Var(v=-0.0780, grad=0.0000), Var(v=0.0079, grad=0.0000), Var(v=-0.0008, grad=0.0000), Var(v=-0.0867, grad=0.0000), Var(v=-0.0027, grad=0.0000), Var(v=0.0000, grad=0.0000), Var(v=0.0000, grad=0.0000), Var(v=-0.0666, grad=0.0000), Var(v=-0.0884, grad=0.0000), Var(v=0.0804, grad=0.0000), Var(v=0.0001, grad=0.0000), Var(v=0.0005, grad=0.0000)]\n",
      "Layer 2 \n",
      " Weights: [[Var(v=0.0785, grad=0.0000)], [Var(v=-0.1383, grad=0.0000)], [Var(v=-0.1182, grad=0.0000)], [Var(v=-0.0725, grad=0.0000)], [Var(v=-0.0727, grad=0.0000)], [Var(v=0.0720, grad=0.0000)], [Var(v=0.0472, grad=0.0000)], [Var(v=-0.0778, grad=0.0000)], [Var(v=0.1029, grad=0.0000)], [Var(v=0.0951, grad=0.0000)], [Var(v=0.0775, grad=0.0000)], [Var(v=-0.0187, grad=0.0000)], [Var(v=-0.0356, grad=0.0000)], [Var(v=0.1162, grad=0.0000)], [Var(v=0.0339, grad=0.0000)], [Var(v=0.1297, grad=0.0000)], [Var(v=0.0009, grad=0.0000)], [Var(v=0.0088, grad=0.0000)], [Var(v=0.0160, grad=0.0000)], [Var(v=-0.0599, grad=0.0000)], [Var(v=0.0378, grad=0.0000)], [Var(v=0.1250, grad=0.0000)], [Var(v=-0.0982, grad=0.0000)], [Var(v=-0.1189, grad=0.0000)], [Var(v=0.0288, grad=0.0000)], [Var(v=0.0131, grad=0.0000)], [Var(v=-0.0834, grad=0.0000)], [Var(v=0.0120, grad=0.0000)], [Var(v=0.0867, grad=0.0000)], [Var(v=-0.0760, grad=0.0000)], [Var(v=0.1250, grad=0.0000)], [Var(v=-0.0230, grad=0.0000)], [Var(v=-0.1962, grad=0.0000)], [Var(v=-0.2771, grad=0.0000)], [Var(v=-0.0076, grad=0.0000)], [Var(v=0.1430, grad=0.0000)], [Var(v=-0.0975, grad=0.0000)], [Var(v=-0.0165, grad=0.0000)], [Var(v=0.0868, grad=0.0000)], [Var(v=-0.0311, grad=0.0000)], [Var(v=0.0311, grad=0.0000)], [Var(v=-0.0957, grad=0.0000)], [Var(v=0.1714, grad=0.0000)], [Var(v=0.1254, grad=0.0000)], [Var(v=0.0701, grad=0.0000)], [Var(v=-0.0530, grad=0.0000)], [Var(v=-0.0934, grad=0.0000)], [Var(v=-0.0909, grad=0.0000)], [Var(v=0.0029, grad=0.0000)], [Var(v=-0.0335, grad=0.0000)]] Biases: [Var(v=-0.0144, grad=0.0000)]\n"
     ]
    },
    {
     "data": {
      "text/plain": [
       "[None, None, None]"
      ]
     },
     "execution_count": 39,
     "metadata": {},
     "output_type": "execute_result"
    }
   ],
   "source": [
    "print('Network before update:')\n",
    "[print('Layer', i, '\\n', NN[i]) for i in range(len(NN))] \n",
    "\n",
    "def parameters(network):\n",
    "  params = []\n",
    "  for layer in range(len(network)):\n",
    "    params += network[layer].parameters()\n",
    "  return params\n",
    "\n",
    "def update_parameters(params, learning_rate=0.01):\n",
    "  for p in params:\n",
    "    p.v -= learning_rate*p.grad\n",
    "\n",
    "def zero_gradients(params):\n",
    "  for p in params:\n",
    "    p.grad = 0.0\n",
    "\n",
    "update_parameters(parameters(NN))\n",
    "\n",
    "print('\\nNetwork after update:')\n",
    "[print('Layer', i, '\\n', NN[i]) for i in range(len(NN))] \n",
    "\n",
    "zero_gradients(parameters(NN))\n",
    "\n",
    "print('\\nNetwork after zeroing gradients:')\n",
    "[print('Layer', i, '\\n', NN[i]) for i in range(len(NN))] "
   ]
  },
  {
   "cell_type": "code",
   "execution_count": 41,
   "metadata": {
    "id": "woWYpdw6FtIO"
   },
   "outputs": [],
   "source": [
    "# Initialize an arbitrary neural network\n",
    "NN = [\n",
    "    DenseLayer(1, 8, lambda x: x.relu()),\n",
    "    DenseLayer(8, 1, lambda x: x.identity())\n",
    "]\n",
    "\n",
    "# Recommended hyper-parameters for 3-D: \n",
    "#NN = [\n",
    "#    DenseLayer(3, 16, lambda x: x.relu()),\n",
    "#    DenseLayer(16, 1, lambda x: x.identity())\n",
    "#]\n",
    "\n",
    "\n",
    "### Notice that, when we switch from tanh to relu activation, we decrease the learning rate. This is due the stability of the gradients \n",
    "## of the activation functions."
   ]
  },
  {
   "cell_type": "code",
   "execution_count": 40,
   "metadata": {
    "id": "mdqaqYBVFtIR"
   },
   "outputs": [],
   "source": [
    "# Initialize training hyperparameters\n",
    "EPOCHS = 200\n",
    "LEARN_R = 2e-3 "
   ]
  },
  {
   "cell_type": "code",
   "execution_count": 42,
   "metadata": {
    "colab": {
     "base_uri": "https://localhost:8080/"
    },
    "id": "5kfg76GMFtIW",
    "outputId": "e30cf68a-31f2-42b4-cc5e-860c297c0f04",
    "scrolled": true
   },
   "outputs": [
    {
     "name": "stdout",
     "output_type": "stream",
     "text": [
      "   0 ( 0.00%) Train loss: 108.703 \t Validation loss: 106.384\n",
      "  10 ( 5.00%) Train loss: 30.141 \t Validation loss: 20.652\n",
      "  20 (10.00%) Train loss: 14.380 \t Validation loss: 10.721\n",
      "  30 (15.00%) Train loss: 13.977 \t Validation loss: 10.456\n",
      "  40 (20.00%) Train loss: 13.627 \t Validation loss: 10.222\n",
      "  50 (25.00%) Train loss: 13.159 \t Validation loss: 9.920\n",
      "  60 (30.00%) Train loss: 12.720 \t Validation loss: 9.625\n",
      "  70 (35.00%) Train loss: 12.400 \t Validation loss: 9.398\n",
      "  80 (40.00%) Train loss: 12.227 \t Validation loss: 9.278\n",
      "  90 (45.00%) Train loss: 12.097 \t Validation loss: 9.178\n",
      " 100 (50.00%) Train loss: 12.011 \t Validation loss: 9.150\n",
      " 110 (55.00%) Train loss: 11.959 \t Validation loss: 9.139\n",
      " 120 (60.00%) Train loss: 11.930 \t Validation loss: 9.128\n",
      " 130 (65.00%) Train loss: 11.913 \t Validation loss: 9.108\n",
      " 140 (70.00%) Train loss: 11.904 \t Validation loss: 9.092\n",
      " 150 (75.00%) Train loss: 11.899 \t Validation loss: 9.078\n",
      " 160 (80.00%) Train loss: 11.896 \t Validation loss: 9.068\n",
      " 170 (85.00%) Train loss: 11.894 \t Validation loss: 9.060\n",
      " 180 (90.00%) Train loss: 11.893 \t Validation loss: 9.053\n",
      " 190 (95.00%) Train loss: 11.893 \t Validation loss: 9.049\n"
     ]
    }
   ],
   "source": [
    "train_loss = []\n",
    "val_loss = []\n",
    "\n",
    "for e in range(EPOCHS):\n",
    "     \n",
    "    # Forward pass and loss computation\n",
    "    Loss = squared_loss(y_train, forward(x_train, NN))\n",
    "\n",
    "    # Backward pass\n",
    "    Loss.backward()\n",
    "    \n",
    "    # gradient descent update\n",
    "    update_parameters(parameters(NN), LEARN_R)\n",
    "    zero_gradients(parameters(NN))\n",
    "    \n",
    "    # Training loss\n",
    "    train_loss.append(Loss.v)\n",
    "    \n",
    "    # Validation\n",
    "    Loss_validation = squared_loss(y_validation, forward(x_validation, NN))\n",
    "    val_loss.append(Loss_validation.v)\n",
    "    \n",
    "    if e%10==0:\n",
    "        print(\"{:4d}\".format(e),\n",
    "              \"({:5.2f}%)\".format(e/EPOCHS*100), \n",
    "              \"Train loss: {:4.3f} \\t Validation loss: {:4.3f}\".format(train_loss[-1], val_loss[-1]))\n",
    "        \n"
   ]
  },
  {
   "cell_type": "code",
   "execution_count": 43,
   "metadata": {
    "colab": {
     "base_uri": "https://localhost:8080/",
     "height": 265
    },
    "id": "VetyRWFwFtIY",
    "outputId": "344e490d-6d7d-455a-fa6f-88dd11eb957e"
   },
   "outputs": [
    {
     "data": {
      "image/png": "[encoded data removed]",
      "text/plain": [
       "<Figure size 432x288 with 1 Axes>"
      ]
     },
     "metadata": {
      "needs_background": "light"
     },
     "output_type": "display_data"
    }
   ],
   "source": [
    "plt.plot(range(len(train_loss)), train_loss);\n",
    "plt.plot(range(len(val_loss)), val_loss);"
   ]
  },
  {
   "cell_type": "markdown",
   "metadata": {
    "id": "8OgmIrM9FtIb"
   },
   "source": [
    "# Testing\n",
    "\n",
    "We have kept the calculation of the test error separate in order to emphasize that you should not use the test set in optimization."
   ]
  },
  {
   "cell_type": "code",
   "execution_count": 44,
   "metadata": {
    "id": "HmNi7S-vFtIc"
   },
   "outputs": [],
   "source": [
    "output_test = forward(x_test, NN)"
   ]
  },
  {
   "cell_type": "code",
   "execution_count": 45,
   "metadata": {
    "colab": {
     "base_uri": "https://localhost:8080/",
     "height": 316
    },
    "id": "7mmJOTSEFtIf",
    "outputId": "e3264095-cefe-4aee-893d-bf152438e332"
   },
   "outputs": [
    {
     "name": "stdout",
     "output_type": "stream",
     "text": [
      "Test loss:  9.834\n"
     ]
    },
    {
     "data": {
      "image/png": "[encoded data removed]",
      "text/plain": [
       "<Figure size 432x288 with 1 Axes>"
      ]
     },
     "metadata": {
      "needs_background": "light"
     },
     "output_type": "display_data"
    }
   ],
   "source": [
    "y_test_np = Var_to_nparray(y_test)\n",
    "plt.scatter(y_test_np, Var_to_nparray(output_test));\n",
    "plt.plot([np.min(y_test_np), np.max(y_test_np)], [np.min(y_test_np), np.max(y_test_np)], color='k');\n",
    "plt.xlabel(\"y\");\n",
    "plt.ylabel(\"$\\hat{y}$\");\n",
    "plt.title(\"Model prediction vs real in the test set, the close to the line the better\")\n",
    "plt.grid(True);\n",
    "plt.axis('equal');\n",
    "plt.tight_layout();\n",
    "\n",
    "Loss_test = squared_loss(y_test, forward(x_test, NN))\n",
    "\n",
    "print(\"Test loss:  {:4.3f}\".format(Loss_test.v))"
   ]
  },
  {
   "cell_type": "code",
   "execution_count": 46,
   "metadata": {
    "colab": {
     "base_uri": "https://localhost:8080/",
     "height": 279
    },
    "id": "ODi0WlmQFtIh",
    "outputId": "d1ab874f-0717-4987-87bf-1f0c7c8e7148"
   },
   "outputs": [
    {
     "data": {
      "image/png": "[encoded data removed]",
      "text/plain": [
       "<Figure size 432x288 with 1 Axes>"
      ]
     },
     "metadata": {
      "needs_background": "light"
     },
     "output_type": "display_data"
    }
   ],
   "source": [
    "x_test_np = Var_to_nparray(x_test)\n",
    "x_train_np = Var_to_nparray(x_train)\n",
    "y_train_np = Var_to_nparray(y_train)\n",
    "if D1:\n",
    "    plt.scatter(x_train_np, y_train_np, label=\"train data\");\n",
    "    plt.scatter(x_test_np, Var_to_nparray(output_test), label=\"test prediction\");\n",
    "    plt.scatter(x_test_np, y_test_np, label=\"test data\");\n",
    "    plt.legend();\n",
    "    plt.xlabel(\"x\");\n",
    "    plt.ylabel(\"y\");\n",
    "else:\n",
    "    plt.scatter(x_train_np[:,1], y_train, label=\"train data\");\n",
    "    plt.scatter(x_test_np[:,1], Var_to_nparray(output_test), label=\"test data prediction\");\n",
    "    plt.scatter(x_test_np[:,1], y_test_np, label=\"test data\");\n",
    "    plt.legend();\n",
    "    plt.xlabel(\"x\");\n",
    "    plt.ylabel(\"y\");"
   ]
  },
  {
   "cell_type": "markdown",
   "metadata": {
    "id": "zTBAmjsAFtIk"
   },
   "source": [
    "## Exercise k) Show overfitting, underfitting and just right fitting\n",
    "\n",
    "Vary the architecture and other things to show clear signs of overfitting (=training loss significantly lower than test loss) and underfitting (=not fitting enoung to training data so that test performance is also hurt).\n",
    "\n",
    "See also if you can get a good compromise which leads to a low validation loss. \n",
    "\n",
    "For this problem do you see any big difference between validation and test loss? The answer here will probably be no. Discuss cases where it is important to keep the two separate.\n",
    "\n",
    "<span style=\"color:darkblue\"> Above it can be seen the results obtained when overfitting and the underfitting the neural network. \n",
    "    \n",
    "<span style=\"color:darkblue\"> - We can see **overfitting** when the algorithm models the data too well. It happens when the model learns detail and noise in the training data to the extent that it negatively impacts the performance of the model on new data. This can take place when increasing too much the number of epochs that the model learns a lot from the data it has. In this case, the training loss should be much less than the test loss. \n",
    "    \n",
    "<span style=\"color:darkblue\"> - On the other hand, the **underfitting** is a situation when your model is too simple for your data with such a high bias. The model can not do accurate predictions. To model that, few epochs are being used so that the model is too simple to make accurate decisions. In this case, train error is large and val/test error is large too as shown in the model below. \n",
    "    \n",
    "    \n",
    "<span style=\"color:darkblue\"> Finally, I am not seeing too much difference between the validation and test loss due to this specific data set. It is crucial to separate them since the validation test is used to optimize model parameters and performance by fine-tuning the model after each epoch while the test set gets an estimate of the final model performance. \n",
    "</span>\n",
    "\n",
    "\n",
    " "
   ]
  },
  {
   "cell_type": "markdown",
   "metadata": {},
   "source": [
    "### k.a) Overfitting"
   ]
  },
  {
   "cell_type": "code",
   "execution_count": 86,
   "metadata": {
    "id": "tQZCn2dxFtIl"
   },
   "outputs": [
    {
     "name": "stdout",
     "output_type": "stream",
     "text": [
      "   0 ( 0.00%) Train loss: 99.095 \t Validation loss: 102.630\n",
      "  50 ( 1.00%) Train loss: 94.971 \t Validation loss: 98.554\n",
      " 100 ( 2.00%) Train loss: 90.704 \t Validation loss: 94.305\n",
      " 150 ( 3.00%) Train loss: 86.171 \t Validation loss: 89.762\n",
      " 200 ( 4.00%) Train loss: 81.160 \t Validation loss: 84.727\n",
      " 250 ( 5.00%) Train loss: 75.667 \t Validation loss: 79.188\n",
      " 300 ( 6.00%) Train loss: 69.678 \t Validation loss: 73.146\n",
      " 350 ( 7.00%) Train loss: 63.277 \t Validation loss: 66.633\n",
      " 400 ( 8.00%) Train loss: 56.604 \t Validation loss: 59.758\n",
      " 450 ( 9.00%) Train loss: 49.890 \t Validation loss: 52.745\n",
      " 500 (10.00%) Train loss: 43.408 \t Validation loss: 45.859\n",
      " 550 (11.00%) Train loss: 37.401 \t Validation loss: 39.363\n",
      " 600 (12.00%) Train loss: 32.070 \t Validation loss: 33.482\n",
      " 650 (13.00%) Train loss: 27.542 \t Validation loss: 28.375\n",
      " 700 (14.00%) Train loss: 23.853 \t Validation loss: 24.112\n",
      " 750 (15.00%) Train loss: 20.966 \t Validation loss: 20.683\n",
      " 800 (16.00%) Train loss: 18.789 \t Validation loss: 18.014\n",
      " 850 (17.00%) Train loss: 17.200 \t Validation loss: 15.993\n",
      " 900 (18.00%) Train loss: 16.073 \t Validation loss: 14.497\n",
      " 950 (19.00%) Train loss: 15.293 \t Validation loss: 13.406\n",
      "1000 (20.00%) Train loss: 14.760 \t Validation loss: 12.618\n",
      "1050 (21.00%) Train loss: 14.400 \t Validation loss: 12.050\n",
      "1100 (22.00%) Train loss: 14.157 \t Validation loss: 11.640\n",
      "1150 (23.00%) Train loss: 13.992 \t Validation loss: 11.341\n",
      "1200 (24.00%) Train loss: 13.875 \t Validation loss: 11.121\n",
      "1250 (25.00%) Train loss: 13.791 \t Validation loss: 10.955\n",
      "1300 (26.00%) Train loss: 13.728 \t Validation loss: 10.829\n",
      "1350 (27.00%) Train loss: 13.678 \t Validation loss: 10.729\n",
      "1400 (28.00%) Train loss: 13.637 \t Validation loss: 10.649\n",
      "1450 (29.00%) Train loss: 13.601 \t Validation loss: 10.583\n",
      "1500 (30.00%) Train loss: 13.568 \t Validation loss: 10.528\n",
      "1550 (31.00%) Train loss: 13.537 \t Validation loss: 10.481\n",
      "1600 (32.00%) Train loss: 13.508 \t Validation loss: 10.440\n",
      "1650 (33.00%) Train loss: 13.478 \t Validation loss: 10.403\n",
      "1700 (34.00%) Train loss: 13.448 \t Validation loss: 10.369\n",
      "1750 (35.00%) Train loss: 13.420 \t Validation loss: 10.338\n",
      "1800 (36.00%) Train loss: 13.393 \t Validation loss: 10.309\n",
      "1850 (37.00%) Train loss: 13.368 \t Validation loss: 10.282\n",
      "1900 (38.00%) Train loss: 13.342 \t Validation loss: 10.256\n",
      "1950 (39.00%) Train loss: 13.316 \t Validation loss: 10.230\n",
      "2000 (40.00%) Train loss: 13.289 \t Validation loss: 10.205\n",
      "2050 (41.00%) Train loss: 13.263 \t Validation loss: 10.180\n",
      "2100 (42.00%) Train loss: 13.238 \t Validation loss: 10.157\n",
      "2150 (43.00%) Train loss: 13.216 \t Validation loss: 10.134\n",
      "2200 (44.00%) Train loss: 13.194 \t Validation loss: 10.111\n",
      "2250 (45.00%) Train loss: 13.173 \t Validation loss: 10.087\n",
      "2300 (46.00%) Train loss: 13.152 \t Validation loss: 10.063\n",
      "2350 (47.00%) Train loss: 13.129 \t Validation loss: 10.039\n",
      "2400 (48.00%) Train loss: 13.107 \t Validation loss: 10.015\n",
      "2450 (49.00%) Train loss: 13.086 \t Validation loss: 9.993\n",
      "2500 (50.00%) Train loss: 13.066 \t Validation loss: 9.971\n",
      "2550 (51.00%) Train loss: 13.047 \t Validation loss: 9.949\n",
      "2600 (52.00%) Train loss: 13.028 \t Validation loss: 9.928\n",
      "2650 (53.00%) Train loss: 13.011 \t Validation loss: 9.907\n",
      "2700 (54.00%) Train loss: 12.995 \t Validation loss: 9.887\n",
      "2750 (55.00%) Train loss: 12.977 \t Validation loss: 9.868\n",
      "2800 (56.00%) Train loss: 12.960 \t Validation loss: 9.848\n",
      "2850 (57.00%) Train loss: 12.943 \t Validation loss: 9.829\n",
      "2900 (58.00%) Train loss: 12.927 \t Validation loss: 9.810\n",
      "2950 (59.00%) Train loss: 12.911 \t Validation loss: 9.791\n",
      "3000 (60.00%) Train loss: 12.899 \t Validation loss: 9.773\n",
      "3050 (61.00%) Train loss: 12.886 \t Validation loss: 9.756\n",
      "3100 (62.00%) Train loss: 12.874 \t Validation loss: 9.738\n",
      "3150 (63.00%) Train loss: 12.862 \t Validation loss: 9.721\n",
      "3200 (64.00%) Train loss: 12.850 \t Validation loss: 9.705\n",
      "3250 (65.00%) Train loss: 12.839 \t Validation loss: 9.689\n",
      "3300 (66.00%) Train loss: 12.827 \t Validation loss: 9.674\n",
      "3350 (67.00%) Train loss: 12.816 \t Validation loss: 9.659\n",
      "3400 (68.00%) Train loss: 12.806 \t Validation loss: 9.645\n",
      "3450 (69.00%) Train loss: 12.795 \t Validation loss: 9.631\n",
      "3500 (70.00%) Train loss: 12.785 \t Validation loss: 9.618\n",
      "3550 (71.00%) Train loss: 12.775 \t Validation loss: 9.605\n",
      "3600 (72.00%) Train loss: 12.765 \t Validation loss: 9.593\n",
      "3650 (73.00%) Train loss: 12.755 \t Validation loss: 9.581\n",
      "3700 (74.00%) Train loss: 12.745 \t Validation loss: 9.569\n",
      "3750 (75.00%) Train loss: 12.735 \t Validation loss: 9.557\n",
      "3800 (76.00%) Train loss: 12.724 \t Validation loss: 9.545\n",
      "3850 (77.00%) Train loss: 12.714 \t Validation loss: 9.532\n",
      "3900 (78.00%) Train loss: 12.704 \t Validation loss: 9.520\n",
      "3950 (79.00%) Train loss: 12.694 \t Validation loss: 9.507\n",
      "4000 (80.00%) Train loss: 12.684 \t Validation loss: 9.495\n",
      "4050 (81.00%) Train loss: 12.674 \t Validation loss: 9.483\n",
      "4100 (82.00%) Train loss: 12.664 \t Validation loss: 9.470\n",
      "4150 (83.00%) Train loss: 12.655 \t Validation loss: 9.458\n",
      "4200 (84.00%) Train loss: 12.645 \t Validation loss: 9.446\n",
      "4250 (85.00%) Train loss: 12.636 \t Validation loss: 9.434\n",
      "4300 (86.00%) Train loss: 12.626 \t Validation loss: 9.422\n",
      "4350 (87.00%) Train loss: 12.617 \t Validation loss: 9.410\n",
      "4400 (88.00%) Train loss: 12.608 \t Validation loss: 9.398\n",
      "4450 (89.00%) Train loss: 12.599 \t Validation loss: 9.386\n",
      "4500 (90.00%) Train loss: 12.591 \t Validation loss: 9.375\n",
      "4550 (91.00%) Train loss: 12.583 \t Validation loss: 9.364\n",
      "4600 (92.00%) Train loss: 12.574 \t Validation loss: 9.352\n",
      "4650 (93.00%) Train loss: 12.566 \t Validation loss: 9.341\n",
      "4700 (94.00%) Train loss: 12.558 \t Validation loss: 9.330\n",
      "4750 (95.00%) Train loss: 12.550 \t Validation loss: 9.319\n",
      "4800 (96.00%) Train loss: 12.542 \t Validation loss: 9.307\n",
      "4850 (97.00%) Train loss: 12.534 \t Validation loss: 9.296\n",
      "4900 (98.00%) Train loss: 12.527 \t Validation loss: 9.285\n",
      "4950 (99.00%) Train loss: 12.519 \t Validation loss: 9.274\n"
     ]
    }
   ],
   "source": [
    "# We Initialize an arbitrary neural network\n",
    "NN = [\n",
    "    DenseLayer(1, 15, lambda x: x.relu()),\n",
    "    DenseLayer(15, 1, lambda x: x.identity())\n",
    "]\n",
    "\n",
    "EPOCHS = 5000\n",
    "LEARN_R = 2e-5 \n",
    "\n",
    "train_loss = []\n",
    "val_loss = []\n",
    "\n",
    "\n",
    "for e in range(EPOCHS):\n",
    "     \n",
    "    # Forward pass and loss computation\n",
    "    Loss = squared_loss(y_train, forward(x_train, NN))\n",
    "\n",
    "    # Backward pass\n",
    "    Loss.backward()\n",
    "    \n",
    "    # gradient descent update\n",
    "    update_parameters(parameters(NN), LEARN_R)\n",
    "    zero_gradients(parameters(NN))\n",
    "    \n",
    "    # Training loss\n",
    "    train_loss.append(Loss.v)\n",
    "    \n",
    "    # Validation\n",
    "    Loss_validation = squared_loss(y_validation, forward(x_validation, NN))\n",
    "    val_loss.append(Loss_validation.v)\n",
    "    \n",
    "    if e%50==0:\n",
    "        print(\"{:4d}\".format(e),\n",
    "              \"({:5.2f}%)\".format(e/EPOCHS*100), \n",
    "              \"Train loss: {:4.3f} \\t Validation loss: {:4.3f}\".format(train_loss[-1], val_loss[-1]))\n",
    "\n",
    "    "
   ]
  },
  {
   "cell_type": "code",
   "execution_count": 87,
   "metadata": {},
   "outputs": [
    {
     "name": "stdout",
     "output_type": "stream",
     "text": [
      "Test loss:  10.253\n"
     ]
    },
    {
     "data": {
      "image/png": "[encoded data removed]",
      "text/plain": [
       "<Figure size 432x288 with 1 Axes>"
      ]
     },
     "metadata": {
      "needs_background": "light"
     },
     "output_type": "display_data"
    }
   ],
   "source": [
    "plt.plot(range(len(train_loss)), train_loss,label='Train Loss');\n",
    "plt.plot(range(len(val_loss)), val_loss,label='Validation Loss');\n",
    "plt.xlabel('Epoch')\n",
    "plt.ylabel('Loss') \n",
    "plt.legend()\n",
    "\n",
    "output_test = forward(x_test, NN)\n",
    "Loss_test = squared_loss(y_test, forward(x_test, NN))\n",
    "print(\"Test loss:  {:4.3f}\".format(Loss_test.v))\n"
   ]
  },
  {
   "cell_type": "markdown",
   "metadata": {},
   "source": [
    "### k.b) Underfitting"
   ]
  },
  {
   "cell_type": "code",
   "execution_count": 84,
   "metadata": {},
   "outputs": [
    {
     "name": "stdout",
     "output_type": "stream",
     "text": [
      "   0 ( 0.00%) Train loss: 102.548 \t Validation loss: 104.935\n",
      "  20 (20.00%) Train loss: 101.504 \t Validation loss: 103.967\n",
      "  40 (40.00%) Train loss: 100.439 \t Validation loss: 102.969\n",
      "  60 (60.00%) Train loss: 99.343 \t Validation loss: 101.932\n",
      "  80 (80.00%) Train loss: 98.207 \t Validation loss: 100.846\n"
     ]
    }
   ],
   "source": [
    "# We Initialize an arbitrary neural network\n",
    "NN = [\n",
    "    DenseLayer(1, 10, lambda x: x.relu()),\n",
    "    DenseLayer(10, 1, lambda x: x.identity())\n",
    "]\n",
    "\n",
    "EPOCHS = 100\n",
    "LEARN_R = 2e-5 \n",
    "\n",
    "train_loss = []\n",
    "val_loss = []\n",
    "\n",
    "\n",
    "for e in range(EPOCHS):\n",
    "     \n",
    "    # Forward pass and loss computation\n",
    "    Loss = squared_loss(y_train, forward(x_train, NN))\n",
    "\n",
    "    # Backward pass\n",
    "    Loss.backward()\n",
    "    \n",
    "    # gradient descent update\n",
    "    update_parameters(parameters(NN), LEARN_R)\n",
    "    zero_gradients(parameters(NN))\n",
    "    \n",
    "    # Training loss\n",
    "    train_loss.append(Loss.v)\n",
    "    \n",
    "    # Validation\n",
    "    Loss_validation = squared_loss(y_validation, forward(x_validation, NN))\n",
    "    val_loss.append(Loss_validation.v)\n",
    "    \n",
    "    if e%20==0:\n",
    "        print(\"{:4d}\".format(e),\n",
    "              \"({:5.2f}%)\".format(e/EPOCHS*100), \n",
    "              \"Train loss: {:4.3f} \\t Validation loss: {:4.3f}\".format(train_loss[-1], val_loss[-1]))\n",
    "\n",
    "    "
   ]
  },
  {
   "cell_type": "code",
   "execution_count": 85,
   "metadata": {},
   "outputs": [
    {
     "name": "stdout",
     "output_type": "stream",
     "text": [
      "Test loss:  92.543\n"
     ]
    },
    {
     "data": {
      "image/png": "[encoded data removed]",
      "text/plain": [
       "<Figure size 432x288 with 1 Axes>"
      ]
     },
     "metadata": {
      "needs_background": "light"
     },
     "output_type": "display_data"
    }
   ],
   "source": [
    "plt.plot(range(len(train_loss)), train_loss,label='Train Loss');\n",
    "plt.plot(range(len(val_loss)), val_loss,label='Validation Loss');plt.xlabel('Epoch')\n",
    "plt.ylabel('Loss') \n",
    "plt.legend()\n",
    "\n",
    "\n",
    "plt.legend()\n",
    "\n",
    "output_test = forward(x_test, NN)\n",
    "Loss_test = squared_loss(y_test, forward(x_test, NN))\n",
    "print(\"Test loss:  {:4.3f}\".format(Loss_test.v))\n",
    "\n"
   ]
  },
  {
   "cell_type": "markdown",
   "metadata": {
    "id": "fYPZP-eTFtIo"
   },
   "source": [
    "# Next steps - classification\n",
    "\n",
    "It is straight forward to extend what we have done to classification. \n",
    "\n",
    "For numerical stability it is better to make softmax and cross-entropy as one function so we write the cross entropy loss as a function of the logits we talked about last week. \n",
    "\n",
    "Next week we will see how to perform classification in PyTorch."
   ]
  },
  {
   "cell_type": "markdown",
   "metadata": {
    "id": "qsVPul3QFtIo"
   },
   "source": [
    "## Exercise l) optional - Implement backpropagation for classification\n",
    "\n",
    "Should be possible with very few lines of code. :-)"
   ]
  },
  {
   "cell_type": "code",
   "execution_count": null,
   "metadata": {
    "id": "oC8QrI2tFtIp"
   },
   "outputs": [],
   "source": [
    "# Just add code."
   ]
  },
  {
   "cell_type": "markdown",
   "metadata": {
    "id": "APqhJv3tta1O"
   },
   "source": [
    "## Exercise m) optional - Introduce a NeuralNetwork class\n",
    "\n",
    "The functions we applied on the neural network (parameters, update_parameters and zero_gradients) can more naturally be included as methods in a NeuralNetwork class. Make such a class and modify the code to use it. "
   ]
  },
  {
   "cell_type": "code",
   "execution_count": null,
   "metadata": {
    "id": "Dqfnor1ouMLq"
   },
   "outputs": [],
   "source": [
    "# just add some code"
   ]
  }
 ],
 "metadata": {
  "anaconda-cloud": {},
  "colab": {
   "collapsed_sections": [
    "U4057_ljNvWB",
    "p_8n_SKnIW2F",
    "oLrGJytZFtGm",
    "jpIZPBpNI0pO",
    "_79HOAXrFtHK",
    "mqeyab9qFtGs",
    "-XyXBD37FtHk",
    "SrwSJ2UWFtHu",
    "zTBAmjsAFtIk",
    "qsVPul3QFtIo",
    "APqhJv3tta1O"
   ],
   "name": "2.1-EXE-FNN-AutoDif-Nanograd.ipynb",
   "provenance": []
  },
  "kernelspec": {
   "display_name": "Python 3 (ipykernel)",
   "language": "python",
   "name": "python3"
  },
  "language_info": {
   "codemirror_mode": {
    "name": "ipython",
    "version": 3
   },
   "file_extension": ".py",
   "mimetype": "text/x-python",
   "name": "python",
   "nbconvert_exporter": "python",
   "pygments_lexer": "ipython3",
   "version": "3.11.4"
  }
 },
 "nbformat": 4,
 "nbformat_minor": 4
}
