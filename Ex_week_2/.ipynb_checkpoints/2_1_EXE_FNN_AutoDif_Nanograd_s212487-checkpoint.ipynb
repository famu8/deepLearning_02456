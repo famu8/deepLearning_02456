{
 "cells": [
  {
   "cell_type": "markdown",
   "metadata": {
    "id": "HAva8TnYFtFu"
   },
   "source": [
    "# Contents and why we need this lab\n",
    "\n",
    "This lab is about implementing neural networks yourself before we start using other frameworks which hide some of the computation from you. It builds on the first lab where you derived the equations for neural network forward and backward propagation and gradient descent parameter updates. \n",
    "\n",
    "All the frameworks for deep learning you will meet from now on uses automatic differentiation (autodiff) so you don't have to code the backward step yourself. In this version of this lab you will develop your own autodif implementation. We also have a [version](https://github.com/DeepLearningDTU/02456-deep-learning-with-PyTorch/blob/master/2_Feedforward_NumPy/2.1-FNN-NumPy.ipynb) of this lab where you have to code the backward pass explicitly in Numpy."
   ]
  },
  {
   "cell_type": "markdown",
   "metadata": {
    "id": "sCa7HzwpFtFy"
   },
   "source": [
    "# External sources of information\n",
    "\n",
    "1. Jupyter notebook. You can find more information about Jupyter notebooks [here](https://jupyter.org/). It will come as part of the [Anaconda](https://www.anaconda.com/) Python installation. \n",
    "2. [NumPy](https://numpy.org/). Part of Anaconda distribution. If you already know how to program most things about Python and NumPy can be found through Google search.\n",
    "3. [Nanograd](https://github.com/rasmusbergpalm/nanograd) is a minimalistic version of autodiff developed by Rasmus Berg Palm that we use for our framework.\n"
   ]
  },
  {
   "cell_type": "markdown",
   "metadata": {
    "id": "1SjiIp-TFtF0"
   },
   "source": [
    "# This notebook will follow the next steps:\n",
    "\n",
    "1. Nanograd automatic differentiation framework\n",
    "2. Finite difference method\n",
    "3. Data generation\n",
    "4. Defining and initializing the network\n",
    "5. Forward pass\n",
    "6. Training loop \n",
    "7. Testing your model\n",
    "8. Further extensions"
   ]
  },
  {
   "cell_type": "markdown",
   "metadata": {
    "id": "OyXeAA-HuT7s"
   },
   "source": [
    "# Nanograd automatic differention framework"
   ]
  },
  {
   "cell_type": "markdown",
   "metadata": {
    "id": "k6UWKCLKubgA"
   },
   "source": [
    "The [Nanograd](https://github.com/rasmusbergpalm/nanograd) framework defines a class Var which both holds a value and gradient value that we can use to store the intermediate values when we apply the chain rule of differentiation."
   ]
  },
  {
   "cell_type": "code",
   "execution_count": 1,
   "metadata": {
    "id": "Jd4CoEBNzNWS"
   },
   "outputs": [],
   "source": [
    "# Copy and pasted from https://github.com/rasmusbergpalm/nanograd/blob/main/nanograd.py\n",
    "\n",
    "from math import exp, log, tanh\n",
    "\n",
    "class Var:\n",
    "    \"\"\"\n",
    "    A variable which holds a float and enables gradient computations.\n",
    "    \"\"\"\n",
    "\n",
    "    def __init__(self, val: float, grad_fn=lambda: []):\n",
    "        assert type(val) == float\n",
    "        self.v = val\n",
    "        self.grad_fn = grad_fn\n",
    "        self.grad = 0.0\n",
    "\n",
    "    def backprop(self, bp):\n",
    "        self.grad += bp\n",
    "        for input, grad in self.grad_fn():\n",
    "            input.backprop(grad * bp)\n",
    "\n",
    "    def backward(self):\n",
    "        self.backprop(1.0)\n",
    "\n",
    "    def __add__(self: 'Var', other: 'Var') -> 'Var':\n",
    "        return Var(self.v + other.v, lambda: [(self, 1.0), (other, 1.0)])\n",
    "\n",
    "    def __mul__(self: 'Var', other: 'Var') -> 'Var':\n",
    "        #One variables takes the value of the other one as the gradient. \n",
    "        return Var(self.v * other.v, lambda: [(self, other.v), (other, self.v)]) \n",
    "\n",
    "    def __pow__(self, power):\n",
    "        assert type(power) in {float, int}, \"power must be float or int\"\n",
    "        return Var(self.v ** power, lambda: [(self, power * self.v ** (power - 1))])\n",
    "\n",
    "    def __neg__(self: 'Var') -> 'Var':\n",
    "        return Var(-1.0) * self\n",
    "\n",
    "    def __sub__(self: 'Var', other: 'Var') -> 'Var':\n",
    "        return self + (-other)\n",
    "\n",
    "    def __truediv__(self: 'Var', other: 'Var') -> 'Var':\n",
    "        return self * other ** -1\n",
    "\n",
    "    def __repr__(self):\n",
    "        return \"Var(v=%.4f, grad=%.4f)\" % (self.v, self.grad)\n",
    "\n",
    "    def relu(self):\n",
    "        return Var(self.v if self.v > 0.0 else 0.0, lambda: [(self, 1.0 if self.v > 0.0 else 0.0)])"
   ]
  },
  {
   "cell_type": "markdown",
   "metadata": {
    "id": "yDX67D6jzcte"
   },
   "source": [
    "A few examples illustrate how we can use this:"
   ]
  },
  {
   "cell_type": "code",
   "execution_count": 2,
   "metadata": {
    "colab": {
     "base_uri": "https://localhost:8080/"
    },
    "id": "xk6PeLc3zwPT",
    "outputId": "26837b8f-2724-4142-a093-6549400a9096"
   },
   "outputs": [
    {
     "name": "stdout",
     "output_type": "stream",
     "text": [
      "Var(v=3.0000, grad=5.0000)\n",
      "Var(v=5.0000, grad=3.0000)\n",
      "Var(v=15.0000, grad=1.0000)\n"
     ]
    }
   ],
   "source": [
    "a = Var(3.0)\n",
    "b = Var(5.0)\n",
    "f = a * b\n",
    "\n",
    "f.backward()\n",
    "\n",
    "for v in [a, b, f]:\n",
    "    print(v)"
   ]
  },
  {
   "cell_type": "code",
   "execution_count": 3,
   "metadata": {
    "colab": {
     "base_uri": "https://localhost:8080/"
    },
    "id": "JmKhYgsY0g_o",
    "outputId": "d37cab4c-9e76-469a-d961-cb5b96ce3be6"
   },
   "outputs": [
    {
     "name": "stdout",
     "output_type": "stream",
     "text": [
      "Var(v=3.0000, grad=14.0000)\n",
      "Var(v=5.0000, grad=3.0000)\n",
      "Var(v=15.0000, grad=1.0000)\n",
      "Var(v=9.0000, grad=3.0000)\n",
      "Var(v=27.0000, grad=1.0000)\n",
      "Var(v=42.0000, grad=1.0000)\n"
     ]
    }
   ],
   "source": [
    "a = Var(3.0)\n",
    "b = Var(5.0)\n",
    "c = a * b\n",
    "d = Var(9.0)\n",
    "e = a * d\n",
    "f = c + e\n",
    "\n",
    "f.backward()\n",
    "\n",
    "for v in [a, b, c, d, e, f]:\n",
    "    print(v)\n",
    "    "
   ]
  },
  {
   "cell_type": "markdown",
   "metadata": {
    "id": "Fe3B6uEH140p"
   },
   "source": [
    "## Exercise a) What is being calculated?\n",
    "\n",
    "Explain briefly the output of the code? What is the expression we differentiate and with respect to what variables?"
   ]
  },
  {
   "cell_type": "markdown",
   "metadata": {
    "id": "B7yFBVD4TZRh"
   },
   "source": [
    "<span style=\"color:darkblue\"> The code defines a class called **Var** with two main attributes: its value and its gradient. When calling the function `backward()`, the gradient of each variable being initialitatized with its respective value is computed. \n",
    "\n",
    "<span style=\"color:darkblue\">For the example above, with the final expression being: $f=c+e=b·a+a·d$, each of the variables are differentiated with respect to $f$ (final value) to get their `grad` value. Below it is shown how it is computed. \n",
    "    \n",
    "<span style=\"color:darkblue\">\n",
    "$$\n",
    "\\begin{align}\n",
    "\\frac{\\partial f}{\\partial a} &= \\frac{\\partial f}{\\partial c} · \\frac{\\partial c}{\\partial a}+\\frac{\\partial f}{\\partial e} · \\frac{\\partial e}{\\partial a}=  1·b + 1·d = 5+9 = 14\\\\\n",
    "\\frac{\\partial f}{\\partial b} &= \\frac{\\partial f}{\\partial c} · \\frac{\\partial c}{\\partial b}=1·a = 3 \\\\\n",
    "\\frac{\\partial f}{\\partial c} &= 1 \\\\\n",
    "\\frac{\\partial f}{\\partial d} &= \\frac{\\partial f}{\\partial e} · \\frac{\\partial e}{\\partial d} = 1·a=3 \\\\\n",
    "\\frac{\\partial f}{\\partial e} &= 1 \\\\\n",
    "\\end{align}\n",
    "$$\n",
    "    \n",
    "</span>\n",
    "\n",
    "\n",
    "\n",
    "\n"
   ]
  },
  {
   "cell_type": "markdown",
   "metadata": {
    "id": "q8_Q0t2I3Ruj"
   },
   "source": [
    "## Exercise b) How does the backward function work?\n",
    "\n",
    "You need to understand how the backward function calculates the gradients. We can use the two examples above to help with that.\n",
    "\n",
    "Go through the following four steps and answer the questions on the way:\n",
    "\n",
    "1. We represent the two expressions as graphs as shown below. Fill in the missing expressions for the different derivatives.\n",
    "\n",
    "2. In the remainder consider the first expression. Make a schematic of the data structure which is generated when we define the expression for f. \n",
    "\n",
    "3. Then execute the backward function by hand to convince yourself that it indeed calculates the gradients with respect to the variables. \n",
    "\n",
    "4. Write down the sequence of calls to backprop."
   ]
  },
  {
   "cell_type": "markdown",
   "metadata": {
    "id": "GdF7sXMRTZRi"
   },
   "source": [
    "<span style=\"color:darkblue\"> The `backward()` function computes the different derivatives with respect to each variable added in the graph, as shown below. \n",
    "\n",
    "<span style=\"color:darkblue\"> For the first graph, where $f=a·b$, it is first initialized two objects (`a` and `b`) of class `Var`, with gradients equal 0. Then, `backward()` is applied to f, being also a variable of class `Var`. Thus, `backprop()` is called three times and the gradient of each object is updated. \n",
    "\n",
    "``` \n",
    "a = Var(3.0) ----> v=3.0; grad=0.0\n",
    "b = Var(5.0) ----> v=5.0; grad=0.0\n",
    "f = a * b    ----> v=15.0; grad=0; [(a, 5.0), (b, 3.0)]\n",
    "\n",
    "f.backward() ----> f.backprop(1.0)\n",
    "             ----> f.grad=1.0\n",
    "             ----> a.backprop(5.0)\n",
    "             ----> a.grad=5.0\n",
    "             ----> b.backprop(3.0)\n",
    "             ----> b.grad=3.0\n",
    "```\n",
    "    \n",
    "<span style=\"color:darkblue\"> For the second graph, where $f=c+e=b·a+a·d$, different objects of class `Var` are intiailized with gradients equal 0. Then, `backward()` is applied to the final expression f, being also a variable of class `Var` and the derivatives with respect to each variable are computed. This time, `backprop()` is called seven times and the gradient of each object is updated. \n",
    "\n",
    "``` \n",
    "a = Var(3.0) ----> v=3.0; grad=0.0\n",
    "b = Var(5.0) ----> v=5.0; grad=0.0\n",
    "c = a * b    ----> v=15.0; grad=0; [(a, 5.0), (b, 3.0)]\n",
    "d = Var(3.0) ----> v=9.0; grad=0.0\n",
    "e = a * d    ----> v=27.0; grad=0; [(a, 9.0), (d, 3.0)]\n",
    "f = c + e    ----> v=42.0; grad=0; [(c, 1.0), (e, 1.0)]\n",
    "\n",
    "f.backward() ----> f.backprop(1.0)\n",
    "             ----> f.grad=1.0\n",
    "             ----> c.backprop(1.0)\n",
    "             ----> c.grad=1.0\n",
    "             ----> a.backprop(5.0)\n",
    "             ----> a.grad=5.0\n",
    "             ----> b.backprop(3.0)\n",
    "             ----> b.grad=3.0\n",
    "             ----> e.backprop(1.0)\n",
    "             ----> e.grad=1.0\n",
    "             ----> a.backprop(9.0)\n",
    "             ----> a.grad=14.0\n",
    "             ----> d.backprop(3.0)\n",
    "             ----> d.grad=3.0\n",
    "\n",
    "```  \n",
    "\n",
    "\n",
    "\n",
    "    "
   ]
  },
  {
   "cell_type": "code",
   "execution_count": 4,
   "metadata": {
    "id": "idGr71jYXl26"
   },
   "outputs": [],
   "source": [
    "# import logging\n",
    "import graphviz\n",
    "\n",
    "#logging.basicConfig(format='[%(levelname)s@%(name)s] %(message)s', level=logging.DEBUG)\n",
    "\n",
    "#graphviz.__version__, graphviz.version()"
   ]
  },
  {
   "cell_type": "code",
   "execution_count": 5,
   "metadata": {
    "colab": {
     "base_uri": "https://localhost:8080/",
     "height": 152
    },
    "id": "KPe30Q2QXzeG",
    "outputId": "13a9d07c-700f-4c2f-c412-deadaf23a8dd"
   },
   "outputs": [
    {
     "data": {
      "image/svg+xml": [
       "<?xml version=\"1.0\" encoding=\"UTF-8\" standalone=\"no\"?>\n",
       "<!DOCTYPE svg PUBLIC \"-//W3C//DTD SVG 1.1//EN\"\n",
       " \"http://www.w3.org/Graphics/SVG/1.1/DTD/svg11.dtd\">\n",
       "<!-- Generated by graphviz version 2.40.1 (20161225.0304)\n",
       " -->\n",
       "<!-- Title: first expression Pages: 1 -->\n",
       "<svg width=\"238pt\" height=\"98pt\"\n",
       " viewBox=\"0.00 0.00 238.00 98.00\" xmlns=\"http://www.w3.org/2000/svg\" xmlns:xlink=\"http://www.w3.org/1999/xlink\">\n",
       "<g id=\"graph0\" class=\"graph\" transform=\"scale(1 1) rotate(0) translate(4 94)\">\n",
       "<title>first expression</title>\n",
       "<polygon fill=\"#ffffff\" stroke=\"transparent\" points=\"-4,4 -4,-94 234,-94 234,4 -4,4\"/>\n",
       "<!-- a -->\n",
       "<g id=\"node1\" class=\"node\">\n",
       "<title>a</title>\n",
       "<ellipse fill=\"none\" stroke=\"#000000\" cx=\"18\" cy=\"-72\" rx=\"18\" ry=\"18\"/>\n",
       "<text text-anchor=\"middle\" x=\"18\" y=\"-68.3\" font-family=\"Times,serif\" font-size=\"14.00\" fill=\"#000000\">a</text>\n",
       "</g>\n",
       "<!-- f -->\n",
       "<g id=\"node2\" class=\"node\">\n",
       "<title>f</title>\n",
       "<ellipse fill=\"none\" stroke=\"#000000\" cx=\"212\" cy=\"-45\" rx=\"18\" ry=\"18\"/>\n",
       "<text text-anchor=\"middle\" x=\"212\" y=\"-41.3\" font-family=\"Times,serif\" font-size=\"14.00\" fill=\"#000000\">f</text>\n",
       "</g>\n",
       "<!-- a&#45;&gt;f -->\n",
       "<g id=\"edge1\" class=\"edge\">\n",
       "<title>a&#45;&gt;f</title>\n",
       "<path fill=\"none\" stroke=\"#000000\" d=\"M35.9033,-69.5083C69.8294,-64.7866 143.6982,-54.5059 184.1487,-48.8762\"/>\n",
       "<polygon fill=\"#000000\" stroke=\"#000000\" points=\"184.7179,-52.3308 194.14,-47.4857 183.7529,-45.3976 184.7179,-52.3308\"/>\n",
       "<text text-anchor=\"middle\" x=\"115\" y=\"-69.8\" font-family=\"Times,serif\" font-size=\"14.00\" fill=\"#000000\">df/da=d(a·b)/da=b=5</text>\n",
       "</g>\n",
       "<!-- b -->\n",
       "<g id=\"node3\" class=\"node\">\n",
       "<title>b</title>\n",
       "<ellipse fill=\"none\" stroke=\"#000000\" cx=\"18\" cy=\"-18\" rx=\"18\" ry=\"18\"/>\n",
       "<text text-anchor=\"middle\" x=\"18\" y=\"-14.3\" font-family=\"Times,serif\" font-size=\"14.00\" fill=\"#000000\">b</text>\n",
       "</g>\n",
       "<!-- b&#45;&gt;f -->\n",
       "<g id=\"edge2\" class=\"edge\">\n",
       "<title>b&#45;&gt;f</title>\n",
       "<path fill=\"none\" stroke=\"#000000\" d=\"M36.2689,-17.8067C65.9651,-17.8686 126.3824,-19.5658 176,-31 179.2674,-31.7529 182.6317,-32.7458 185.9305,-33.8562\"/>\n",
       "<polygon fill=\"#000000\" stroke=\"#000000\" points=\"184.8751,-37.1981 195.4677,-37.4174 187.3238,-30.6404 184.8751,-37.1981\"/>\n",
       "<text text-anchor=\"middle\" x=\"115\" y=\"-34.8\" font-family=\"Times,serif\" font-size=\"14.00\" fill=\"#000000\">df/db=d(a·b)/db=a=3</text>\n",
       "</g>\n",
       "</g>\n",
       "</svg>\n"
      ],
      "text/plain": [
       "<graphviz.dot.Digraph at 0x7fc732e12950>"
      ]
     },
     "execution_count": 5,
     "metadata": {},
     "output_type": "execute_result"
    }
   ],
   "source": [
    "e1 = graphviz.Digraph('first expression',filename='fsm.gv')\n",
    "\n",
    "e1.attr(rankdir='LR', size='8,5')\n",
    "\n",
    "e1.attr('node', shape='circle')\n",
    "e1.edge('a', 'f', label='df/da=d(a·b)/da=b=5')\n",
    "e1.edge('b', 'f', label='df/db=d(a·b)/db=a=3')\n",
    "\n",
    "e1"
   ]
  },
  {
   "cell_type": "code",
   "execution_count": 6,
   "metadata": {
    "colab": {
     "base_uri": "https://localhost:8080/",
     "height": 232
    },
    "id": "0nittR-mZFeX",
    "outputId": "07db1c03-9725-46a1-d498-9f725337bc41"
   },
   "outputs": [
    {
     "data": {
      "image/svg+xml": [
       "<?xml version=\"1.0\" encoding=\"UTF-8\" standalone=\"no\"?>\n",
       "<!DOCTYPE svg PUBLIC \"-//W3C//DTD SVG 1.1//EN\"\n",
       " \"http://www.w3.org/Graphics/SVG/1.1/DTD/svg11.dtd\">\n",
       "<!-- Generated by graphviz version 2.40.1 (20161225.0304)\n",
       " -->\n",
       "<!-- Title: second expression Pages: 1 -->\n",
       "<svg width=\"420pt\" height=\"158pt\"\n",
       " viewBox=\"0.00 0.00 420.00 158.00\" xmlns=\"http://www.w3.org/2000/svg\" xmlns:xlink=\"http://www.w3.org/1999/xlink\">\n",
       "<g id=\"graph0\" class=\"graph\" transform=\"scale(1 1) rotate(0) translate(4 154)\">\n",
       "<title>second expression</title>\n",
       "<polygon fill=\"#ffffff\" stroke=\"transparent\" points=\"-4,4 -4,-154 416,-154 416,4 -4,4\"/>\n",
       "<!-- a -->\n",
       "<g id=\"node1\" class=\"node\">\n",
       "<title>a</title>\n",
       "<ellipse fill=\"none\" stroke=\"#000000\" cx=\"18\" cy=\"-75\" rx=\"18\" ry=\"18\"/>\n",
       "<text text-anchor=\"middle\" x=\"18\" y=\"-71.3\" font-family=\"Times,serif\" font-size=\"14.00\" fill=\"#000000\">a</text>\n",
       "</g>\n",
       "<!-- c -->\n",
       "<g id=\"node2\" class=\"node\">\n",
       "<title>c</title>\n",
       "<ellipse fill=\"none\" stroke=\"#000000\" cx=\"214\" cy=\"-102\" rx=\"18\" ry=\"18\"/>\n",
       "<text text-anchor=\"middle\" x=\"214\" y=\"-98.3\" font-family=\"Times,serif\" font-size=\"14.00\" fill=\"#000000\">c</text>\n",
       "</g>\n",
       "<!-- a&#45;&gt;c -->\n",
       "<g id=\"edge1\" class=\"edge\">\n",
       "<title>a&#45;&gt;c</title>\n",
       "<path fill=\"none\" stroke=\"#000000\" d=\"M36.2933,-76.8791C66.075,-80.0297 126.8579,-86.8411 178,-95 180.6781,-95.4272 183.4616,-95.9061 186.2413,-96.4076\"/>\n",
       "<polygon fill=\"#000000\" stroke=\"#000000\" points=\"185.621,-99.8522 196.0972,-98.271 186.9215,-92.9741 185.621,-99.8522\"/>\n",
       "<text text-anchor=\"middle\" x=\"116\" y=\"-98.8\" font-family=\"Times,serif\" font-size=\"14.00\" fill=\"#000000\">dc/da=d(a·b)/da=b=5</text>\n",
       "</g>\n",
       "<!-- e -->\n",
       "<g id=\"node4\" class=\"node\">\n",
       "<title>e</title>\n",
       "<ellipse fill=\"none\" stroke=\"#000000\" cx=\"214\" cy=\"-48\" rx=\"18\" ry=\"18\"/>\n",
       "<text text-anchor=\"middle\" x=\"214\" y=\"-44.3\" font-family=\"Times,serif\" font-size=\"14.00\" fill=\"#000000\">e</text>\n",
       "</g>\n",
       "<!-- a&#45;&gt;e -->\n",
       "<g id=\"edge3\" class=\"edge\">\n",
       "<title>a&#45;&gt;e</title>\n",
       "<path fill=\"none\" stroke=\"#000000\" d=\"M34.4763,-66.8333C40.4814,-64.2088 47.415,-61.5754 54,-60 99.2721,-49.1691 153.6172,-47.3651 185.8992,-47.4181\"/>\n",
       "<polygon fill=\"#000000\" stroke=\"#000000\" points=\"185.929,-50.9184 195.9562,-47.4969 185.9839,-43.9186 185.929,-50.9184\"/>\n",
       "<text text-anchor=\"middle\" x=\"116\" y=\"-63.8\" font-family=\"Times,serif\" font-size=\"14.00\" fill=\"#000000\">de/da=d(a·d)/da=d=9</text>\n",
       "</g>\n",
       "<!-- f -->\n",
       "<g id=\"node6\" class=\"node\">\n",
       "<title>f</title>\n",
       "<ellipse fill=\"none\" stroke=\"#000000\" cx=\"394\" cy=\"-75\" rx=\"18\" ry=\"18\"/>\n",
       "<text text-anchor=\"middle\" x=\"394\" y=\"-71.3\" font-family=\"Times,serif\" font-size=\"14.00\" fill=\"#000000\">f</text>\n",
       "</g>\n",
       "<!-- c&#45;&gt;f -->\n",
       "<g id=\"edge5\" class=\"edge\">\n",
       "<title>c&#45;&gt;f</title>\n",
       "<path fill=\"none\" stroke=\"#000000\" d=\"M231.9172,-99.3124C263.3197,-94.602 328.5106,-84.8234 365.9414,-79.2088\"/>\n",
       "<polygon fill=\"#000000\" stroke=\"#000000\" points=\"366.7852,-82.6215 376.1553,-77.6767 365.7467,-75.6989 366.7852,-82.6215\"/>\n",
       "<text text-anchor=\"middle\" x=\"304\" y=\"-99.8\" font-family=\"Times,serif\" font-size=\"14.00\" fill=\"#000000\">df/dc=d(c+e)/dc=1</text>\n",
       "</g>\n",
       "<!-- b -->\n",
       "<g id=\"node3\" class=\"node\">\n",
       "<title>b</title>\n",
       "<ellipse fill=\"none\" stroke=\"#000000\" cx=\"18\" cy=\"-132\" rx=\"18\" ry=\"18\"/>\n",
       "<text text-anchor=\"middle\" x=\"18\" y=\"-128.3\" font-family=\"Times,serif\" font-size=\"14.00\" fill=\"#000000\">b</text>\n",
       "</g>\n",
       "<!-- b&#45;&gt;c -->\n",
       "<g id=\"edge2\" class=\"edge\">\n",
       "<title>b&#45;&gt;c</title>\n",
       "<path fill=\"none\" stroke=\"#000000\" d=\"M36.3132,-129.9773C66.1228,-126.574 126.944,-119.167 178,-110 180.7412,-109.5078 183.5903,-108.9519 186.4315,-108.3681\"/>\n",
       "<polygon fill=\"#000000\" stroke=\"#000000\" points=\"187.4454,-111.7299 196.48,-106.1959 185.9662,-104.8879 187.4454,-111.7299\"/>\n",
       "<text text-anchor=\"middle\" x=\"116\" y=\"-130.8\" font-family=\"Times,serif\" font-size=\"14.00\" fill=\"#000000\">dc/db=d(a·b)/db=a=3</text>\n",
       "</g>\n",
       "<!-- e&#45;&gt;f -->\n",
       "<g id=\"edge6\" class=\"edge\">\n",
       "<title>e&#45;&gt;f</title>\n",
       "<path fill=\"none\" stroke=\"#000000\" d=\"M232.4473,-48.0213C260.0977,-48.4203 313.7672,-50.6216 358,-61 361.2643,-61.7659 364.6268,-62.7667 367.9246,-63.8814\"/>\n",
       "<polygon fill=\"#000000\" stroke=\"#000000\" points=\"366.8685,-67.2231 377.461,-67.4462 369.3196,-60.6662 366.8685,-67.2231\"/>\n",
       "<text text-anchor=\"middle\" x=\"304\" y=\"-64.8\" font-family=\"Times,serif\" font-size=\"14.00\" fill=\"#000000\">df/de=d(c+e)/de=1</text>\n",
       "</g>\n",
       "<!-- d -->\n",
       "<g id=\"node5\" class=\"node\">\n",
       "<title>d</title>\n",
       "<ellipse fill=\"none\" stroke=\"#000000\" cx=\"18\" cy=\"-18\" rx=\"18\" ry=\"18\"/>\n",
       "<text text-anchor=\"middle\" x=\"18\" y=\"-14.3\" font-family=\"Times,serif\" font-size=\"14.00\" fill=\"#000000\">d</text>\n",
       "</g>\n",
       "<!-- d&#45;&gt;e -->\n",
       "<g id=\"edge4\" class=\"edge\">\n",
       "<title>d&#45;&gt;e</title>\n",
       "<path fill=\"none\" stroke=\"#000000\" d=\"M36.2024,-16.5721C66.3668,-14.768 128.3172,-13.4572 178,-28 181.9777,-29.1643 185.9999,-30.8269 189.8425,-32.7023\"/>\n",
       "<polygon fill=\"#000000\" stroke=\"#000000\" points=\"188.4415,-35.9249 198.8966,-37.6401 191.7931,-29.7794 188.4415,-35.9249\"/>\n",
       "<text text-anchor=\"middle\" x=\"116\" y=\"-31.8\" font-family=\"Times,serif\" font-size=\"14.00\" fill=\"#000000\">de/dd=d(a·d)/dd=a=3</text>\n",
       "</g>\n",
       "</g>\n",
       "</svg>\n"
      ],
      "text/plain": [
       "<graphviz.dot.Digraph at 0x7fc732ddf590>"
      ]
     },
     "execution_count": 6,
     "metadata": {},
     "output_type": "execute_result"
    }
   ],
   "source": [
    "e2 = graphviz.Digraph('second expression', filename='fsm.gv')\n",
    "\n",
    "e2.attr(rankdir='LR', size='8,5')\n",
    "\n",
    "e2.attr('node', shape='circle')\n",
    "e2.edge('a', 'c', label='dc/da=d(a·b)/da=b=5')\n",
    "e2.edge('b', 'c', label='dc/db=d(a·b)/db=a=3')\n",
    "e2.edge('a', 'e', label='de/da=d(a·d)/da=d=9')\n",
    "e2.edge('d', 'e', label='de/dd=d(a·d)/dd=a=3')\n",
    "e2.edge('c', 'f', label='df/dc=d(c+e)/dc=1')\n",
    "e2.edge('e', 'f', label='df/de=d(c+e)/de=1')\n",
    "\n",
    "e2"
   ]
  },
  {
   "cell_type": "markdown",
   "metadata": {
    "id": "A5oi21W4gpeM"
   },
   "source": [
    "## Exercise c) What happens if we run backward again?\n",
    "\n",
    "Try to execute the code below. Explain what happens."
   ]
  },
  {
   "cell_type": "code",
   "execution_count": 7,
   "metadata": {
    "colab": {
     "base_uri": "https://localhost:8080/"
    },
    "id": "DCtpJyr-gyX1",
    "outputId": "d84112d2-b050-46a7-cc38-bf5f37ea306c"
   },
   "outputs": [
    {
     "name": "stdout",
     "output_type": "stream",
     "text": [
      "Var(v=3.0000, grad=28.0000)\n",
      "Var(v=5.0000, grad=6.0000)\n",
      "Var(v=15.0000, grad=2.0000)\n",
      "Var(v=9.0000, grad=6.0000)\n",
      "Var(v=27.0000, grad=2.0000)\n",
      "Var(v=42.0000, grad=2.0000)\n"
     ]
    }
   ],
   "source": [
    "f.backward()\n",
    "\n",
    "for v in [a, b, c, d, e, f]:\n",
    "    print(v)"
   ]
  },
  {
   "cell_type": "markdown",
   "metadata": {
    "id": "41H2UYi6TZRk"
   },
   "source": [
    "<span style=\"color:darkblue\"> By executing the function `backward()` again, we observed that the gradients for each variable are being updated, while the values are not changed since no more operations are added. \n",
    "This is because the gradients are computed again and added to the previous ones. \n",
    "\n",
    "``` \n",
    "a = Var(3.0) ----> v=3.0; grad=grad+14=28\n",
    "b = Var(5.0) ----> v=5.0; grad=grad+3=6\n",
    "c = Var(15.0) ---> v=15.0; grad=grad+1=2\n",
    "d = Var(9.0) ----> v=9.0; grad=grad+3=6\n",
    "e = Var(27.0) ---> v=27.0; grad=grad+1=2\n",
    "f = Var(42.0) ---> v=42.0; grad=grad+1=2\n",
    "\n",
    "``` \n",
    "</span>"
   ]
  },
  {
   "cell_type": "markdown",
   "metadata": {
    "id": "e8bPVq2VhsP-"
   },
   "source": [
    "## Exercise d) Zero gradient\n",
    "\n",
    "We can zero the gradient by backpropagating a -1.0 as is shown in the example below. (If you have run backward multiple time then you also have to run the cell below an equal amount of times.) Explain what is going on."
   ]
  },
  {
   "cell_type": "code",
   "execution_count": 8,
   "metadata": {
    "colab": {
     "base_uri": "https://localhost:8080/"
    },
    "id": "OnyPDQx9lJe0",
    "outputId": "3ff1a095-c2a2-46c2-86da-68cf08b087fa"
   },
   "outputs": [
    {
     "name": "stdout",
     "output_type": "stream",
     "text": [
      "Var(v=2.0000, grad=0.0000)\n",
      "Var(v=5.0000, grad=6.0000)\n",
      "Var(v=15.0000, grad=2.0000)\n",
      "Var(v=9.0000, grad=6.0000)\n",
      "Var(v=27.0000, grad=2.0000)\n",
      "Var(v=42.0000, grad=2.0000)\n",
      "\n",
      "\n",
      "Var(v=2.0000, grad=0.0000)\n",
      "Var(v=5.0000, grad=3.0000)\n",
      "Var(v=15.0000, grad=1.0000)\n",
      "Var(v=9.0000, grad=3.0000)\n",
      "Var(v=27.0000, grad=1.0000)\n",
      "Var(v=42.0000, grad=1.0000)\n"
     ]
    }
   ],
   "source": [
    "a = Var(2.0)\n",
    "\n",
    "for v in [a, b, c, d, e, f]:\n",
    "    print(v)\n",
    "\n",
    "print('\\n')\n",
    "f.backprop(-1.0)\n",
    "\n",
    "for v in [a, b, c, d, e, f]:\n",
    "    print(v)"
   ]
  },
  {
   "cell_type": "markdown",
   "metadata": {
    "id": "CTXB2s-RTZRl"
   },
   "source": [
    "<span style=\"color:darkblue\"> By backpropagating with -1, it is exaclty doing the same operation as before but in negative values. Thus, we will have values below 0 for the gradients. In case we wanted to obtain the intial values of the gradient, we would backpropagating with +1. \n",
    "    \n",
    "</span>"
   ]
  },
  {
   "cell_type": "markdown",
   "metadata": {
    "id": "U4057_ljNvWB"
   },
   "source": [
    "## Exercise e) Test correctness of derivatives with the finite difference method\n",
    "\n",
    "Write a small function that uses [the finite difference method](https://en.wikipedia.org/wiki/Finite_difference_method) to numerically test that backpropation implementation is working. In short we will use\n",
    "$$\n",
    "\\frac{\\partial f(a)}{\\partial a} \\approx \\frac{f(a+da)-f(a)}{da}\n",
    "$$\n",
    "for $da \\ll 1$.\n",
    "\n",
    "As an example, we could approximate the derivative of the function $f(a)=a^2$ in e.g. the value $a=4$ using the finite difference method. This amounts to inserting the relevant values and approximating the gradient $f'(4)$ with the fraction above. \n"
   ]
  },
  {
   "cell_type": "code",
   "execution_count": 9,
   "metadata": {
    "colab": {
     "base_uri": "https://localhost:8080/"
    },
    "id": "9TGil92lSXDN",
    "outputId": "016de8a2-95db-40d5-846c-599826bee39d"
   },
   "outputs": [
    {
     "name": "stdout",
     "output_type": "stream",
     "text": [
      "Var(v=3.0000, grad=5.0000)\n",
      "Var(v=5.0000, grad=3.0000)\n",
      "Var(v=15.0000, grad=1.0000)\n",
      "5.000000413701855\n"
     ]
    }
   ],
   "source": [
    "# f function - try to change the code to test other types of functions as well (such as different polynomials etc.)\n",
    "def f_function(a):\n",
    "  a = Var(a)\n",
    "  b = Var(5.0)\n",
    "  f = a * b\n",
    "  f.backward()\n",
    "  return a,b,f\n",
    "\n",
    "for v in f_function(3.0):\n",
    "  print(v)\n",
    "\n",
    "# Insert your finite difference code here\n",
    "def finite_difference(da=1e-10):\n",
    "    \"\"\"\n",
    "    This function compute the finite difference between\n",
    "    \n",
    "    Input:\n",
    "    da:          The finite difference                           (float)\n",
    "    \n",
    "    Output:\n",
    "    finite_difference: numerical approximation to the derivative (float) \n",
    "    \"\"\"\n",
    "    \n",
    "    a1,b1,fa_da = f_function(3.0+da)       \n",
    "    a2,b2,fa = f_function(3.0)              \n",
    "    finite_difference = (fa_da.v - fa.v) / da\n",
    "    \n",
    "    return finite_difference\n",
    "\n",
    "print(finite_difference())"
   ]
  },
  {
   "cell_type": "markdown",
   "metadata": {
    "id": "6pZar5RKaUkg"
   },
   "source": [
    "# Create an artificial dataset to play with\n",
    "\n",
    "We create a non-linear 1d regression task. The generator supports various noise levels and it creates train, validation and test sets. You can modify it yourself if you want more or less challenging tasks."
   ]
  },
  {
   "cell_type": "code",
   "execution_count": 10,
   "metadata": {
    "id": "Y6yfMAQ8aduj"
   },
   "outputs": [],
   "source": [
    "import numpy as np\n",
    "import matplotlib.pyplot as plt\n",
    "\n",
    "np.random.seed(42)"
   ]
  },
  {
   "cell_type": "code",
   "execution_count": 11,
   "metadata": {
    "id": "4YabfD43ajNh"
   },
   "outputs": [],
   "source": [
    "def data_generator(noise=0.1, n_samples=300, D1=True):\n",
    "    # Create covariates and response variable\n",
    "    if D1:\n",
    "        X = np.linspace(-3, 3, num=n_samples).reshape(-1,1) # 1-D\n",
    "        np.random.shuffle(X)\n",
    "        y = np.random.normal((0.5*np.sin(X[:,0]*3) + X[:,0]), noise) # 1-D with trend\n",
    "    else:\n",
    "        X = np.random.multivariate_normal(np.zeros(3), noise*np.eye(3), size = n_samples) # 3-D\n",
    "        np.random.shuffle(X)    \n",
    "        y = np.sin(X[:,0]) - 5*(X[:,1]**2) + 0.5*X[:,2] # 3-D\n",
    "\n",
    "    # Stack them together vertically to split data set\n",
    "    data_set = np.vstack((X.T,y)).T\n",
    "    \n",
    "    train, validation, test = np.split(data_set, [int(0.35*n_samples), int(0.7*n_samples)], axis=0)\n",
    "    \n",
    "    # Standardization of the data, remember we do the standardization with the training set mean and standard deviation\n",
    "    train_mu = np.mean(train, axis=0)\n",
    "    train_sigma = np.std(train, axis=0)\n",
    "    \n",
    "    train = (train-train_mu)/train_sigma\n",
    "    validation = (validation-train_mu)/train_sigma\n",
    "    test = (test-train_mu)/train_sigma\n",
    "    \n",
    "    x_train, x_validation, x_test = train[:,:-1], validation[:,:-1], test[:,:-1]\n",
    "    y_train, y_validation, y_test = train[:,-1], validation[:,-1], test[:,-1]\n",
    "\n",
    "    return x_train, y_train,  x_validation, y_validation, x_test, y_test"
   ]
  },
  {
   "cell_type": "code",
   "execution_count": 12,
   "metadata": {
    "id": "u1oDngHLapIz"
   },
   "outputs": [],
   "source": [
    "D1 = True\n",
    "x_train, y_train,  x_validation, y_validation, x_test, y_test = data_generator(noise=0.5, D1=D1)"
   ]
  },
  {
   "cell_type": "code",
   "execution_count": 13,
   "metadata": {
    "colab": {
     "base_uri": "https://localhost:8080/",
     "height": 265
    },
    "id": "Ysfa3FsBavlm",
    "outputId": "e2c53997-aae9-454e-de89-630a618a28ca"
   },
   "outputs": [
    {
     "data": {
      "image/png": "[encoded data removed]",
      "text/plain": [
       "<Figure size 432x288 with 1 Axes>"
      ]
     },
     "metadata": {
      "needs_background": "light"
     },
     "output_type": "display_data"
    }
   ],
   "source": [
    "if D1:\n",
    "    plt.scatter(x_train[:,0], y_train);\n",
    "    plt.scatter(x_validation[:,0], y_validation);\n",
    "    plt.scatter(x_test[:,0], y_test);\n",
    "else:\n",
    "    plt.scatter(x_train[:,1], y_train);\n",
    "    plt.scatter(x_validation[:,1], y_validation);\n",
    "    plt.scatter(x_test[:,1], y_test);\n",
    "plt.show()"
   ]
  },
  {
   "cell_type": "code",
   "execution_count": 14,
   "metadata": {
    "id": "zac2HHNlgbpm"
   },
   "outputs": [],
   "source": [
    "# convert from nparray to Var\n",
    "def nparray_to_Var(x):\n",
    "  if x.ndim==1:\n",
    "    y = [[Var(float(x[i]))] for i in range(x.shape[0])] # always work with list of list\n",
    "  else:\n",
    "    y = [[Var(float(x[i,j])) for j in range(x.shape[1])] for i in range(x.shape[0])]\n",
    "  return y\n",
    "   \n",
    "x_train = nparray_to_Var(x_train)\n",
    "y_train = nparray_to_Var(y_train)\n",
    "x_validation = nparray_to_Var(x_validation)\n",
    "y_validation = nparray_to_Var(y_validation)\n",
    "x_test = nparray_to_Var(x_test)\n",
    "y_test = nparray_to_Var(y_test)\n",
    "\n"
   ]
  },
  {
   "cell_type": "markdown",
   "metadata": {
    "id": "VbjrqcpVFtGe"
   },
   "source": [
    "# Defining and initializing the network\n",
    "\n",
    "The steps to create a feed forward neural network are the following:\n",
    "\n",
    "1. **Number of hidden layer and hidden units**. We have to define the number of hidden units in each layer. The number of features in X and the output dimensionality (the size of Y) are given but the numbers in between are set by the researcher. Remember that for each unit in each layer beside in the input has a bias term.\n",
    "2. **Activation functions** for each hidden layer. Each hidden layer in your list must have an activation function (it can also be the linear activation which is equivalent to identity function). The power of neural networks comes from non-linear activation functions that learn representations (features) from the data allowing us to learn from it. \n",
    "3. **Parameter initialization**. We will initialize the weights to have random values. This is done in practice by drawing pseudo random numbers from a Gaussian or uniform distribution. It turns out that for deeper models we have to be careful about how we scale the random numbers. This will be the topic of the exercise below. For now we will just use unit variance Gaussians.  \n",
    "\n",
    "In order to make life easier for ourselves we define a DenseLayer class that takes care of initialization and the forward pass. We can also extend it later with print and advanced initialization capabilities. For the latter we have introduced a Initializer class.\n",
    "\n",
    "Note that we use Sequence in the code below. A Sequence is an ordered list. This means the order we insert and access items are the same."
   ]
  },
  {
   "cell_type": "code",
   "execution_count": 15,
   "metadata": {
    "id": "ij_ieRsAt7Xt"
   },
   "outputs": [],
   "source": [
    "class Initializer:\n",
    "\n",
    "  def init_weights(self, n_in, n_out):\n",
    "    raise NotImplementedError\n",
    "\n",
    "  def init_bias(self, n_out):\n",
    "    raise NotImplementedError"
   ]
  },
  {
   "cell_type": "code",
   "execution_count": 16,
   "metadata": {
    "id": "eb18N5phuIha"
   },
   "outputs": [],
   "source": [
    "import random\n",
    "\n",
    "class NormalInitializer(Initializer):\n",
    "\n",
    "  def __init__(self, mean=0, std=0.1):\n",
    "    self.mean = mean\n",
    "    self.std = std\n",
    "\n",
    "  def init_weights(self, n_in, n_out):\n",
    "    return [[Var(random.gauss(self.mean, self.std)) for _ in range(n_out)] for _ in range(n_in)]\n",
    "\n",
    "  def init_bias(self, n_out):\n",
    "    return [Var(0.0) for _ in range(n_out)]\n",
    "\n",
    "class ConstantInitializer(Initializer):\n",
    "\n",
    "  def __init__(self, weight=1.0, bias=0.0):\n",
    "    self.weight = weight\n",
    "    self.bias = bias\n",
    "\n",
    "  def init_weights(self, n_in, n_out):\n",
    "    return [[Var(self.weight) for _ in range(n_out)] for _ in range(n_in)]\n",
    "\n",
    "  def init_bias(self, n_out):\n",
    "    return [Var(self.bias) for _ in range(n_out)]"
   ]
  },
  {
   "cell_type": "code",
   "execution_count": 17,
   "metadata": {
    "id": "jOLYGnZKuM6W"
   },
   "outputs": [],
   "source": [
    "from typing import Sequence\n",
    "\n",
    "class DenseLayer:\n",
    "    def __init__(self, n_in: int, n_out: int, act_fn, initializer = NormalInitializer()):\n",
    "        self.weights = initializer.init_weights(n_in, n_out)\n",
    "        self.bias = initializer.init_bias(n_out)\n",
    "        self.act_fn = act_fn\n",
    "    \n",
    "    def __repr__(self):    \n",
    "        return 'Weights: ' + repr(self.weights) + ' Biases: ' + repr(self.bias)\n",
    "\n",
    "    def parameters(self) -> Sequence[Var]:\n",
    "      params = []\n",
    "      for r in self.weights:\n",
    "        params += r\n",
    "\n",
    "      return params + self.bias\n",
    "\n",
    "    def forward(self, inputs: Sequence[Var]) -> Sequence[Var]:\n",
    "        # self.weights is a matrix with dimension n_in x n_out. We check that the dimensionality of the input \n",
    "        # to the current layer matches the number of nodes in the current layer\n",
    "        assert len(self.weights) == len(inputs), \"weights and single_input must match in first dimension\"\n",
    "        weights = self.weights\n",
    "        out = []\n",
    "        # For some given data point single_input, we now want to calculate the resulting value in each node in the current layer\n",
    "        # We therefore loop over the (number of) nodes in the current layer:\n",
    "        for j in range(len(weights[0])): \n",
    "            # Initialize the node value depending on its corresponding parameters.\n",
    "            node = self.bias[j] # <- Insert code\n",
    "            # We now finish the linear transformation corresponding to the parameters of the currently considered node.\n",
    "            for i in range(len(inputs)):\n",
    "                node += weights[i][j]*inputs[i]  # <- Insert code\n",
    "            node = self.act_fn(node)\n",
    "            out.append(node)\n",
    "\n",
    "        return out\n",
    "    "
   ]
  },
  {
   "cell_type": "markdown",
   "metadata": {
    "id": "jpIZPBpNI0pO"
   },
   "source": [
    "## Exercise f) Add more activation functions\n",
    "\n",
    "To have a full definition of the neural network, we must define an activation function for every layer. Several activation functions have been proposed and have different characteristics. In the Var class we have already defined the rectified linear init (relu). \n",
    " \n",
    "Implement the following activation functions in the Var class:\n",
    "\n",
    "* Identity: $$\\mathrm{identity}(x) = x$$\n",
    "* Hyperbolic tangent: $$\\tanh(x)$$\n",
    "* Sigmoid (or logistic function): $$\\mathrm{sigmoid}(x) = \\frac{1}{1.0 + \\exp(-x ) }$$  Hint: $\\mathrm{sigmoid}'(x)= \\mathrm{sigmoid}(x)(1-\\mathrm{sigmoid}(x))$.  \n",
    "\n",
    "Hint: You can seek inspiration in the relu method in the Var class."
   ]
  },
  {
   "cell_type": "code",
   "execution_count": 18,
   "metadata": {
    "id": "-ptw0Jh7TZRp"
   },
   "outputs": [],
   "source": [
    "class Var:\n",
    "    \"\"\"\n",
    "    A variable which holds a float and enables gradient computations.\n",
    "    \"\"\"\n",
    "\n",
    "    def __init__(self, val: float, grad_fn=lambda: []):\n",
    "        assert type(val) == float\n",
    "        self.v = val\n",
    "        self.grad_fn = grad_fn\n",
    "        self.grad = 0.0\n",
    "\n",
    "    def backprop(self, bp):\n",
    "        self.grad += bp\n",
    "        for input, grad in self.grad_fn():\n",
    "            input.backprop(grad * bp)\n",
    "\n",
    "    def backward(self):\n",
    "        self.backprop(1.0)\n",
    "\n",
    "    def __add__(self: 'Var', other: 'Var') -> 'Var':\n",
    "        return Var(self.v + other.v, lambda: [(self, 1.0), (other, 1.0)])\n",
    "\n",
    "    def __mul__(self: 'Var', other: 'Var') -> 'Var':\n",
    "        #One variables takes the value of the other one as the gradient. \n",
    "        return Var(self.v * other.v, lambda: [(self, other.v), (other, self.v)]) \n",
    "\n",
    "    def __pow__(self, power):\n",
    "        assert type(power) in {float, int}, \"power must be float or int\"\n",
    "        return Var(self.v ** power, lambda: [(self, power * self.v ** (power - 1))])\n",
    "\n",
    "    def __neg__(self: 'Var') -> 'Var':\n",
    "        return Var(-1.0) * self\n",
    "\n",
    "    def __sub__(self: 'Var', other: 'Var') -> 'Var':\n",
    "        return self + (-other)\n",
    "\n",
    "    def __truediv__(self: 'Var', other: 'Var') -> 'Var':\n",
    "        return self * other ** -1\n",
    "\n",
    "    def __repr__(self):\n",
    "        return \"Var(v=%.4f, grad=%.4f)\" % (self.v, self.grad)\n",
    "\n",
    "    def relu(self):\n",
    "        return Var(self.v if self.v > 0.0 else 0.0, lambda: [(self, 1.0 if self.v > 0.0 else 0.0)])\n",
    "\n",
    "    #ADDED ACTIVATION FUNCTIONS\n",
    "    def identity(self):\n",
    "        return Var(self.v, lambda: [(self, 1.0)])\n",
    "\n",
    "    def tanh(self):\n",
    "        return Var(tanh(self.v), lambda: [(self, 1 - tanh(self.v)**2)])\n",
    "    \n",
    "    def sigmoid(self):\n",
    "        return Var(1/(1+exp(-self.v)) , lambda: [(self, (1/(1.0+exp(-self.v))) * (1 - 1/(1.0+exp(-self.v))))])"
   ]
  },
  {
   "cell_type": "markdown",
   "metadata": {
    "id": "p_8n_SKnIW2F"
   },
   "source": [
    "## Exercise g) Complete the forward pass\n",
    "\n",
    "In the code below we initialize a 1-5-1 network and pass the training set through it. *The forward method in DenseLayer is **not** complete*. It just outputs zeros right now. The method forward should perform an [affine transformation](https://en.wikipedia.org/wiki/Affine_transformation) on the input followed by an application of the activation function."
   ]
  },
  {
   "cell_type": "code",
   "execution_count": 19,
   "metadata": {
    "colab": {
     "base_uri": "https://localhost:8080/"
    },
    "id": "xDEjtePxE7Mv",
    "outputId": "ad35f38e-e1a3-4413-d91b-0c94a4d39927"
   },
   "outputs": [
    {
     "name": "stdout",
     "output_type": "stream",
     "text": [
      "[[Var(v=0.0112, grad=0.0000)], [Var(v=0.0225, grad=0.0000)], [Var(v=0.0020, grad=0.0000)], [Var(v=0.0081, grad=0.0000)], [Var(v=0.0166, grad=0.0000)], [Var(v=0.0153, grad=0.0000)], [Var(v=0.0099, grad=0.0000)], [Var(v=0.0020, grad=0.0000)], [Var(v=0.0084, grad=0.0000)], [Var(v=0.0062, grad=0.0000)], [Var(v=0.0173, grad=0.0000)], [Var(v=0.0052, grad=0.0000)], [Var(v=0.0139, grad=0.0000)], [Var(v=0.0059, grad=0.0000)], [Var(v=0.0074, grad=0.0000)], [Var(v=0.0144, grad=0.0000)], [Var(v=0.0266, grad=0.0000)], [Var(v=0.0126, grad=0.0000)], [Var(v=0.0013, grad=0.0000)], [Var(v=0.0044, grad=0.0000)], [Var(v=0.0039, grad=0.0000)], [Var(v=0.0017, grad=0.0000)], [Var(v=0.0195, grad=0.0000)], [Var(v=0.0196, grad=0.0000)], [Var(v=0.0023, grad=0.0000)], [Var(v=0.0061, grad=0.0000)], [Var(v=0.0252, grad=0.0000)], [Var(v=0.0277, grad=0.0000)], [Var(v=0.0029, grad=0.0000)], [Var(v=0.0175, grad=0.0000)], [Var(v=0.0076, grad=0.0000)], [Var(v=0.0042, grad=0.0000)], [Var(v=0.0067, grad=0.0000)], [Var(v=0.0072, grad=0.0000)], [Var(v=0.0134, grad=0.0000)], [Var(v=0.0013, grad=0.0000)], [Var(v=0.0083, grad=0.0000)], [Var(v=0.0031, grad=0.0000)], [Var(v=0.0059, grad=0.0000)], [Var(v=0.0042, grad=0.0000)], [Var(v=0.0029, grad=0.0000)], [Var(v=0.0040, grad=0.0000)], [Var(v=0.0261, grad=0.0000)], [Var(v=0.0050, grad=0.0000)], [Var(v=0.0039, grad=0.0000)], [Var(v=0.0048, grad=0.0000)], [Var(v=0.0168, grad=0.0000)], [Var(v=0.0159, grad=0.0000)], [Var(v=0.0018, grad=0.0000)], [Var(v=0.0162, grad=0.0000)], [Var(v=0.0071, grad=0.0000)], [Var(v=0.0006, grad=0.0000)], [Var(v=0.0177, grad=0.0000)], [Var(v=0.0041, grad=0.0000)], [Var(v=0.0281, grad=0.0000)], [Var(v=0.0247, grad=0.0000)], [Var(v=0.0027, grad=0.0000)], [Var(v=0.0030, grad=0.0000)], [Var(v=0.0092, grad=0.0000)], [Var(v=0.0072, grad=0.0000)], [Var(v=0.0164, grad=0.0000)], [Var(v=0.0050, grad=0.0000)], [Var(v=0.0083, grad=0.0000)], [Var(v=0.0080, grad=0.0000)], [Var(v=0.0058, grad=0.0000)], [Var(v=0.0068, grad=0.0000)], [Var(v=0.0073, grad=0.0000)], [Var(v=0.0207, grad=0.0000)], [Var(v=0.0052, grad=0.0000)], [Var(v=0.0081, grad=0.0000)], [Var(v=0.0020, grad=0.0000)], [Var(v=0.0009, grad=0.0000)], [Var(v=0.0160, grad=0.0000)], [Var(v=0.0094, grad=0.0000)], [Var(v=0.0007, grad=0.0000)], [Var(v=0.0254, grad=0.0000)], [Var(v=0.0036, grad=0.0000)], [Var(v=0.0035, grad=0.0000)], [Var(v=0.0046, grad=0.0000)], [Var(v=0.0265, grad=0.0000)], [Var(v=0.0040, grad=0.0000)], [Var(v=0.0024, grad=0.0000)], [Var(v=0.0075, grad=0.0000)], [Var(v=0.0010, grad=0.0000)], [Var(v=0.0038, grad=0.0000)], [Var(v=0.0016, grad=0.0000)], [Var(v=0.0014, grad=0.0000)], [Var(v=0.0042, grad=0.0000)], [Var(v=0.0078, grad=0.0000)], [Var(v=0.0081, grad=0.0000)], [Var(v=0.0096, grad=0.0000)], [Var(v=0.0025, grad=0.0000)], [Var(v=0.0045, grad=0.0000)], [Var(v=0.0150, grad=0.0000)], [Var(v=0.0064, grad=0.0000)], [Var(v=0.0077, grad=0.0000)], [Var(v=0.0069, grad=0.0000)], [Var(v=0.0011, grad=0.0000)], [Var(v=0.0239, grad=0.0000)], [Var(v=0.0046, grad=0.0000)], [Var(v=0.0157, grad=0.0000)], [Var(v=0.0044, grad=0.0000)], [Var(v=0.0068, grad=0.0000)], [Var(v=0.0076, grad=0.0000)], [Var(v=0.0223, grad=0.0000)]]\n"
     ]
    }
   ],
   "source": [
    "NN = [\n",
    "    DenseLayer(1, 5, lambda x: x.relu()),\n",
    "    DenseLayer(5, 1, lambda x: x.identity())\n",
    "]\n",
    "\n",
    "def forward(input, network):\n",
    "\n",
    "  def forward_single(x, network):\n",
    "    for layer in network:\n",
    "        x = layer.forward(x)\n",
    "    return x\n",
    "\n",
    "  output = [ forward_single(input[n], network) for n in range(len(input))]\n",
    "  return output\n",
    "\n",
    "print(forward(x_train, NN))\n"
   ]
  },
  {
   "cell_type": "markdown",
   "metadata": {
    "id": "oLrGJytZFtGm"
   },
   "source": [
    "## Exercise h) Print all network parameters\n",
    "\n",
    "Make a function that prints all the parameters of the network (weights and biases) with information about in which layer the appear. In the object oriented spirit you should introduce a method in the DenseLayer class to print the parameters of a layer. Hint: You can take inspiration from the corresponding method in Var. "
   ]
  },
  {
   "cell_type": "code",
   "execution_count": 20,
   "metadata": {
    "colab": {
     "base_uri": "https://localhost:8080/"
    },
    "id": "iac-VwYGFtGm",
    "outputId": "4e8ed1aa-3a0a-4f30-f7ac-aff9f72649b2"
   },
   "outputs": [
    {
     "name": "stdout",
     "output_type": "stream",
     "text": [
      "Weights: [[Var(v=0.0345, grad=0.0000), Var(v=0.1340, grad=0.0000), Var(v=-0.0554, grad=0.0000), Var(v=-0.0300, grad=0.0000), Var(v=-0.0442, grad=0.0000)]] Biases: [Var(v=0.0000, grad=0.0000), Var(v=0.0000, grad=0.0000), Var(v=0.0000, grad=0.0000), Var(v=0.0000, grad=0.0000), Var(v=0.0000, grad=0.0000)]\n",
      "Weights: [[Var(v=-0.0931, grad=0.0000)], [Var(v=0.1398, grad=0.0000)], [Var(v=-0.0207, grad=0.0000)], [Var(v=0.2736, grad=0.0000)], [Var(v=-0.0384, grad=0.0000)]] Biases: [Var(v=0.0000, grad=0.0000)]\n"
     ]
    }
   ],
   "source": [
    "# Insert code here and in the DenseLayer class\n",
    "\n",
    "def net_param(network):\n",
    "    for layer in network:\n",
    "        print(layer)\n",
    "\n",
    "net_param(NN)"
   ]
  },
  {
   "cell_type": "markdown",
   "metadata": {
    "id": "_79HOAXrFtHK"
   },
   "source": [
    "## Visualization\n",
    "\n",
    "Now that we have defined our activation functions we can visualize them to see what they look like:"
   ]
  },
  {
   "cell_type": "code",
   "execution_count": 21,
   "metadata": {
    "colab": {
     "base_uri": "https://localhost:8080/",
     "height": 265
    },
    "id": "1FcylHqLTl-Z",
    "outputId": "28b71aa5-7731-414e-9b5a-0af44742b756"
   },
   "outputs": [
    {
     "data": {
      "image/png": "[encoded data removed]",
      "text/plain": [
       "<Figure size 432x288 with 1 Axes>"
      ]
     },
     "metadata": {
      "needs_background": "light"
     },
     "output_type": "display_data"
    }
   ],
   "source": [
    "x = np.linspace(-6, 6, 100)\n",
    "\n",
    "# convert from Var to ndarray  \n",
    "def Var_to_nparray(x):\n",
    "  y = np.zeros((len(x),len(x[0])))\n",
    "  for i in range(len(x)):\n",
    "    for j in range(len(x[0])):\n",
    "      y[i,j] = x[i][j].v\n",
    "  return y\n",
    "\n",
    "# define 1-1 network with weight = 1 and relu activation \n",
    "NN = [ DenseLayer(1, 1, lambda x: x.relu(), initializer = ConstantInitializer(1.0)) ] \n",
    "y = Var_to_nparray(forward(nparray_to_Var(x), NN))\n",
    "\n",
    "#y = Var_to_nparray(relu(nparray_to_Var(x)))\n",
    "plt.plot(x,y)\n",
    "plt.show()"
   ]
  },
  {
   "cell_type": "code",
   "execution_count": 22,
   "metadata": {
    "colab": {
     "base_uri": "https://localhost:8080/",
     "height": 341
    },
    "id": "oOL2UolJFtHL",
    "outputId": "02dbbece-f4e8-4d14-aa82-279c7c51fd32"
   },
   "outputs": [
    {
     "data": {
      "image/png": "[encoded data removed]",
      "text/plain": [
       "<Figure size 360x360 with 1 Axes>"
      ]
     },
     "metadata": {
      "needs_background": "light"
     },
     "output_type": "display_data"
    }
   ],
   "source": [
    "# Testing all activation layers\n",
    "\n",
    "x = np.linspace(-6, 6, 100)\n",
    "units = {\n",
    "    \"identity\": lambda x: x.identity(),\n",
    "    \"sigmoid\": lambda x: x.sigmoid(), \n",
    "    \"relu\": lambda x: x.relu(),\n",
    "    \"tanh\": lambda x: x.tanh() \n",
    "}\n",
    "\n",
    "plt.figure(figsize=(5, 5))\n",
    "[plt.plot(x, Var_to_nparray(forward(nparray_to_Var(x), [DenseLayer(1, 1, unit, initializer = ConstantInitializer(1.0))]) ), label=unit_name, lw=2) for unit_name, unit in units.items()] # unit(nparray_to_Var(x))), label=unit_name, lw=2) for unit_name, unit in units.items()]\n",
    "plt.legend(loc=2, fontsize=16)\n",
    "plt.title('Our activation functions', fontsize=20)\n",
    "plt.ylim([-2, 5])\n",
    "plt.xlim([-6, 6])\n",
    "plt.show()\n"
   ]
  },
  {
   "cell_type": "markdown",
   "metadata": {
    "id": "b-jdEl-7FtGs"
   },
   "source": [
    "# Advanced initialization schemes\n",
    "\n",
    "If we are not careful with initialization, the signals we propagate forward ($a^{(l)}$, $l=1,\\ldots,L$) and backward ($\\delta^l$, $l=L,L-1,\\ldots,1$) can blow up or shrink to zero. A statistical analysis of the variance of the signals for different activation functions can be found in these two papers: [Glorot initialization](http://proceedings.mlr.press/v9/glorot10a/glorot10a.pdf) and [He initialization](https://arxiv.org/pdf/1502.01852v1.pdf). \n",
    "\n",
    "The result of the analyses are proposals for how to make the initialization such that the variance of the signals (forward and backward) are kept approxmimatly constant when propagating from layer to layer. The exact expressions depend upon the non-linear activation function used. In Glorot initialization, the aim is to keep both the forward and backward variances constant whereas He only aims at keeping the variance in the forward pass constant.\n",
    "\n",
    "We define $n_{in}$ and $n_{out}$ as the number of input units and output units of a particular layer. \n",
    "\n",
    "The Glorot initialization has the form: \n",
    "\n",
    "$$w_{ij} \\sim N \\bigg( 0, \\, \\frac{2 \\alpha }{n_{in} + n_{out}} \\bigg) \\ . $$\n",
    "\n",
    "where $N(\\mu,\\sigma^2)$ is a Gaussian distribution with mean $\\mu$ and variance $\\sigma^2$ and $\\alpha$ is a parameter that depends upon the activation function used. For $\\tanh$, $\\alpha=1$ and for Rectified Linear Unit (ReLU) activations, $\\alpha=2$. (It is also possible to use a uniform distribution for initialization, see [this blog post](https://mmuratarat.github.io/2019-02-25/xavier-glorot-he-weight-init).) \n",
    "\n",
    "The He initialization is very similar\n",
    "\n",
    "$$w_{ij} \\sim N \\bigg( 0, \\, \\frac{\\alpha}{n_{in}} \\bigg) \\ . $$"
   ]
  },
  {
   "cell_type": "markdown",
   "metadata": {
    "id": "mqeyab9qFtGs"
   },
   "source": [
    "## Exercise i) Glorot and He initialization\n",
    " \n",
    "Using the Initializer class, implement functions that implement Glorot and He \n",
    "\n",
    "Explain briefly how you would test numerically that these initializations have the sought after property. Hint: See plots in Glorot paper.\n",
    "\n",
    "Comment: If you want to be more advanced then try to make a universal initializer taking both the activation function and type (Glorot or He) as argument."
   ]
  },
  {
   "cell_type": "code",
   "execution_count": 23,
   "metadata": {
    "id": "Qyk01CgaFtGt"
   },
   "outputs": [],
   "source": [
    "## Glorot\n",
    "def DenseLayer_Glorot_tanh(n_in: int, n_out: int):\n",
    "    alfa=1\n",
    "    std = 2*alfa/(n_in + n_out) # <- replace with proper initialization\n",
    "    return DenseLayer(n_in, n_out, lambda x: x.tanh(), initializer = NormalInitializer(std))\n",
    "\n",
    "## He\n",
    "def DenseLayer_He_relu(n_in: int, n_out: int):\n",
    "    alfa=2\n",
    "    std = alfa/(n_in)# <- replace with proper initialization\n",
    "    return DenseLayer(n_in, n_out, lambda x: x.relu(), initializer = NormalInitializer(std))"
   ]
  },
  {
   "cell_type": "code",
   "execution_count": 24,
   "metadata": {
    "colab": {
     "base_uri": "https://localhost:8080/",
     "height": 295
    },
    "id": "6uwMTkKTTZRs",
    "outputId": "088fac79-1e10-4cce-e10c-a5d66e7b7d99"
   },
   "outputs": [
    {
     "data": {
      "image/png": "[encoded data removed]",
      "text/plain": [
       "<Figure size 432x288 with 1 Axes>"
      ]
     },
     "metadata": {
      "needs_background": "light"
     },
     "output_type": "display_data"
    }
   ],
   "source": [
    "layer = DenseLayer_Glorot_tanh(8, 2000)\n",
    "\n",
    "for ind,w in enumerate(layer.weights):\n",
    "    p = [x.v for x in w] \n",
    "    i=ind+1\n",
    "    plt.hist(p, bins=np.linspace(-1, 1, 1000),density=True,histtype='step',label='Input %i' % i) \n",
    "\n",
    "plt.legend()\n",
    "plt.title('Forward pass unit with Glorot initialization and tanh activation function')\n",
    "plt.xlabel('Weights')\n",
    "plt.ylabel('Frequency') \n",
    "plt.show()\n"
   ]
  },
  {
   "cell_type": "code",
   "execution_count": 25,
   "metadata": {
    "colab": {
     "base_uri": "https://localhost:8080/",
     "height": 295
    },
    "id": "SxnL5l1ZTZRs",
    "outputId": "0df508f6-adba-4ca0-d993-f0a7c46aad3b"
   },
   "outputs": [
    {
     "data": {
      "image/png": "[encoded data removed]",
      "text/plain": [
       "<Figure size 432x288 with 1 Axes>"
      ]
     },
     "metadata": {
      "needs_background": "light"
     },
     "output_type": "display_data"
    }
   ],
   "source": [
    "layer = DenseLayer_He_relu(8, 2000)\n",
    "\n",
    "for ind,w in enumerate(layer.weights):\n",
    "    p = [x.v for x in w]  \n",
    "    i=ind+1\n",
    "    plt.hist(p, bins=np.linspace(-1, 1, 1000), histtype='step', density=True,label='Input %i' % i)  \n",
    "    \n",
    "plt.legend()\n",
    "plt.title('Forward pass unit with He initialization and relu activation function')\n",
    "plt.xlabel('Weights')\n",
    "plt.ylabel('Frequency') \n",
    "plt.show()"
   ]
  },
  {
   "cell_type": "markdown",
   "metadata": {
    "id": "jHQ_teLXTZRt"
   },
   "source": [
    "<span style=\"color:darkblue\"> The aim of using different initialitzations schemes relies on keeping approximately constant the variance of the signals when propagating from layer to layer. The idea is to initialize each weight with a small Gaussian value with mean = 0.0 and variance based on the fan-in and fan-out of the weight. In both cases, the weights are mantained relatively constant for each input. \n",
    "Thus, this proper initialization would avoid reducing or magnifying the magnitudes of input signals exponentially as we need the variance of the outputs of each layer to be equal to the variance of its inputs. Then, we also need the gradients to have equal variance before and after flowing through a layer in the reverse direction.\n",
    "    \n",
    "    \n",
    "<span style=\"color:darkblue\">To sum up, Glorot Initialization is used to maintain the same smooth distribution for both the forward pass as well the backpropagation. As Glorot Initialization fails for ReLU, instead we use He Initialization for ReLU. \n",
    "\n",
    "\n",
    "</span>"
   ]
  },
  {
   "cell_type": "markdown",
   "metadata": {
    "id": "-XyXBD37FtHk"
   },
   "source": [
    "## Exercise j) Forward pass unit test\n",
    "\n",
    "Write a bit of code to make a unit test that the forward pass works. This can be done by defining a simple network with for example all weights equal to one (using the ConstantInitializer method) and identity activation functions. \n",
    "\n",
    "Hints: Use the [assert](https://www.w3schools.com/python/ref_keyword_assert.asp), the nparray_to_Var and the Var_to_nparray commands. "
   ]
  },
  {
   "cell_type": "code",
   "execution_count": 26,
   "metadata": {
    "colab": {
     "base_uri": "https://localhost:8080/"
    },
    "id": "k0miqRUAFtHl",
    "outputId": "0514451a-0685-4857-b683-06fb7004fce9"
   },
   "outputs": [
    {
     "name": "stdout",
     "output_type": "stream",
     "text": [
      "Weights: [[Var(v=1.0000, grad=0.0000)]] Biases: [Var(v=0.0000, grad=0.0000)]\n",
      "NN Inputs: [ 0.  1.  2.  3.  4.  5.  6.  7.  8.  9. 10. 11. 12. 13. 14. 15. 16. 17.\n",
      " 18. 19. 20. 21. 22. 23. 24.]\n",
      "NN Ouputs [[ 0.  1.  2.  3.  4.  5.  6.  7.  8.  9. 10. 11. 12. 13. 14. 15. 16. 17.\n",
      "  18. 19. 20. 21. 22. 23. 24.]]\n"
     ]
    }
   ],
   "source": [
    "# Insert code here\n",
    "layer = DenseLayer(1, 1, lambda x: x.identity(), initializer=ConstantInitializer())\n",
    "print(layer)\n",
    "\n",
    "x = np.array([float(i) for i in range(25)])\n",
    "y = Var_to_nparray(forward(nparray_to_Var(x), NN))\n",
    "\n",
    "print('NN Inputs:',x)\n",
    "print('NN Ouputs',y.T)\n"
   ]
  },
  {
   "cell_type": "markdown",
   "metadata": {
    "id": "qvKQtn0yTZRt"
   },
   "source": [
    "<span style=\"color:darkblue\"> A simple network has been defined with all weights equal to one. As we have one input neuron and an output one, there is just one weight equal 1.0 and one neuron referring to the bias (in this case, equal 0). \n",
    "Due to using the identity activation function, the inputs are passed through the network, obtaining the same input responses as outputs. \n",
    "    \n",
    "</span>"
   ]
  },
  {
   "cell_type": "markdown",
   "metadata": {
    "id": "faCxhfFnFtHp"
   },
   "source": [
    "# Loss functions\n",
    "\n",
    "We are only missing a loss function to we need to define a loss function and its derivative with respect to the output of the neural network $y$"
   ]
  },
  {
   "cell_type": "code",
   "execution_count": 27,
   "metadata": {
    "id": "I2eDYKvAFtHq"
   },
   "outputs": [],
   "source": [
    "def squared_loss(t, y):\n",
    "  # add check that sizes agree\n",
    "  def squared_loss_single(t, y):\n",
    "    Loss = Var(0.0)\n",
    "    for i in range(len(t)): # sum over outputs\n",
    "      Loss += (t[i]-y[i]) ** 2\n",
    "    return Loss\n",
    "\n",
    "  Loss = Var(0.0)\n",
    "  for n in range(len(t)): # sum over training data\n",
    "    Loss += squared_loss_single(t[n],y[n])\n",
    "  return Loss"
   ]
  },
  {
   "cell_type": "markdown",
   "metadata": {
    "id": "SrwSJ2UWFtHu"
   },
   "source": [
    "## Exercise j) Implement cross entropy loss\n",
    "\n",
    "Insert code below to implement cross-entropy loss for general dimensionality of $t$. Use a logits formulation:\n",
    "$$\n",
    "\\rm{Loss} = - \\sum_i t_i \\, log \\, p_i \n",
    "$$\n",
    "with $p$ given by the the softmax function in terms of the logits $h$:\n",
    "$$\n",
    "p_i = \\frac{\\exp(h_i)}{\\sum_{i'} \\exp(h_{i'})} .\n",
    "$$\n",
    "Inserting $p$ in the expression for the loss gives\n",
    "$$\n",
    "\\rm{Loss} = - \\sum_i t_i h_i + \\rm{LogSumExp}(h) \\ ,\n",
    "$$\n",
    "where \n",
    "$$\n",
    "\\rm{LogSumExp}(h) = \\log \\sum_i \\exp h_i \\ .\n",
    "$$\n",
    "This is true for $t$ being a one-hot vector. \n",
    "\n",
    "Call the function to convince yourself it works. \n",
    "\n",
    "In practice you want to implement a [numerically stable](https://leimao.github.io/blog/LogSumExp/) version of LogSumExp. But we will not bother about that here.\n",
    "\n",
    "Help: You can add these methods in the Var class:\n",
    "\n",
    "    def exp(self):\n",
    "        return Var(exp(self.v), lambda: [(self, exp(self.v))])\n",
    "    \n",
    "    def log(self):\n",
    "        return Var(log(self.v), lambda: [(self, self.v ** -1)])"
   ]
  },
  {
   "cell_type": "code",
   "execution_count": 28,
   "metadata": {
    "id": "hp5-EE39TZRu"
   },
   "outputs": [],
   "source": [
    "class Var:\n",
    "    \"\"\"\n",
    "    A variable which holds a float and enables gradient computations.\n",
    "    \"\"\"\n",
    "\n",
    "    def __init__(self, val: float, grad_fn=lambda: []):\n",
    "        assert type(val) == float\n",
    "        self.v = val\n",
    "        self.grad_fn = grad_fn\n",
    "        self.grad = 0.0\n",
    "\n",
    "    def backprop(self, bp):\n",
    "        self.grad += bp\n",
    "        for input, grad in self.grad_fn():\n",
    "            input.backprop(grad * bp)\n",
    "\n",
    "    def backward(self):\n",
    "        self.backprop(1.0)\n",
    "\n",
    "    def __add__(self: 'Var', other: 'Var') -> 'Var':\n",
    "        return Var(self.v + other.v, lambda: [(self, 1.0), (other, 1.0)])\n",
    "\n",
    "    def __mul__(self: 'Var', other: 'Var') -> 'Var':\n",
    "        #One variables takes the value of the other one as the gradient. \n",
    "        return Var(self.v * other.v, lambda: [(self, other.v), (other, self.v)]) \n",
    "\n",
    "    def __pow__(self, power):\n",
    "        assert type(power) in {float, int}, \"power must be float or int\"\n",
    "        return Var(self.v ** power, lambda: [(self, power * self.v ** (power - 1))])\n",
    "\n",
    "    def __neg__(self: 'Var') -> 'Var':\n",
    "        return Var(-1.0) * self\n",
    "\n",
    "    def __sub__(self: 'Var', other: 'Var') -> 'Var':\n",
    "        return self + (-other)\n",
    "\n",
    "    def __truediv__(self: 'Var', other: 'Var') -> 'Var':\n",
    "        return self * other ** -1\n",
    "\n",
    "    def __repr__(self):\n",
    "        return \"Var(v=%.4f, grad=%.4f)\" % (self.v, self.grad)\n",
    "\n",
    "    def relu(self):\n",
    "        return Var(self.v if self.v > 0.0 else 0.0, lambda: [(self, 1.0 if self.v > 0.0 else 0.0)])\n",
    "\n",
    "    #ADDED ACTIVATION FUNCTIONS\n",
    "    def identity(self):\n",
    "        return Var(self.v, lambda: [(self, 1.0)])\n",
    "\n",
    "    def tanh(self):\n",
    "        return Var(tanh(self.v), lambda: [(self, 1 - tanh(self.v)**2)])\n",
    "    \n",
    "    def sigmoid(self):\n",
    "        return Var(1/(1+exp(-self.v)) , lambda: [(self, (1/(1.0+exp(-self.v))) * (1 - 1/(1.0+exp(-self.v))))])\n",
    "    \n",
    "    def exp(self):\n",
    "        return Var(exp(self.v), lambda: [(self, exp(self.v))])\n",
    "\n",
    "    def log(self):\n",
    "        return Var(log(self.v), lambda: [(self, self.v ** -1)])\n",
    "    "
   ]
  },
  {
   "cell_type": "code",
   "execution_count": 29,
   "metadata": {
    "id": "6nMuxyfzFtHv"
   },
   "outputs": [],
   "source": [
    "def cross_entropy_loss(t, h):\n",
    "     \n",
    "    Loss = Var(0.0)\n",
    "    for i in range(len(t)): \n",
    "        log_sum=Var(0.0)\n",
    "        for k in range(len(h)):\n",
    "            log_sum+=h[i].exp()\n",
    "        log_sum=log_sum.log()\n",
    "        Loss+=t[i]*h[i]+log_sum\n",
    "    return -Loss"
   ]
  },
  {
   "cell_type": "markdown",
   "metadata": {
    "id": "8fAF5ew4FtHy"
   },
   "source": [
    "# Backward pass\n",
    "\n",
    "Now the magic happens! We get the calculation of the gradients for free. Just do:"
   ]
  },
  {
   "cell_type": "code",
   "execution_count": 30,
   "metadata": {
    "id": "iHyfPPI9Qqwu"
   },
   "outputs": [],
   "source": [
    "NN = [\n",
    "    DenseLayer(1, 5, lambda x: x.relu()),\n",
    "    DenseLayer(5, 1, lambda x: x.identity())\n",
    "]\n",
    "\n",
    "output = forward(x_train, NN)\n",
    "\n",
    "Loss = squared_loss(y_train,output)\n",
    "Loss.backward()"
   ]
  },
  {
   "cell_type": "markdown",
   "metadata": {
    "id": "49biIAYKQ1oG"
   },
   "source": [
    "and the gradients will be calculated:"
   ]
  },
  {
   "cell_type": "code",
   "execution_count": 31,
   "metadata": {
    "colab": {
     "base_uri": "https://localhost:8080/"
    },
    "id": "_rGt1bq_Q7uk",
    "outputId": "e5255fb6-efcd-4c4b-99df-67210f402102"
   },
   "outputs": [
    {
     "name": "stdout",
     "output_type": "stream",
     "text": [
      "Layer 0 \n",
      " Weights: [[Var(v=0.0035, grad=4.3264), Var(v=0.1269, grad=8.6032), Var(v=-0.0169, grad=-19.7396), Var(v=-0.0608, grad=-0.5311), Var(v=-0.0776, grad=6.6749)]] Biases: [Var(v=0.0000, grad=3.7156), Var(v=0.0000, grad=7.3886), Var(v=0.0000, grad=17.9418), Var(v=0.0000, grad=0.4827), Var(v=0.0000, grad=-6.0670)]\n",
      "Layer 1 \n",
      " Weights: [[Var(v=-0.0421, grad=-0.3566)], [Var(v=-0.0837, grad=-13.0380)], [Var(v=0.2059, grad=1.6212)], [Var(v=0.0055, grad=5.8238)], [Var(v=-0.0696, grad=7.4370)]] Biases: [Var(v=0.0000, grad=-1.1436)]\n"
     ]
    },
    {
     "data": {
      "text/plain": [
       "[None, None]"
      ]
     },
     "execution_count": 31,
     "metadata": {},
     "output_type": "execute_result"
    }
   ],
   "source": [
    "[print('Layer', i, '\\n', NN[i]) for i in range(len(NN))] "
   ]
  },
  {
   "cell_type": "markdown",
   "metadata": {
    "id": "D7d7qK0uFtH9"
   },
   "source": [
    "# Backward pass unit test\n",
    "\n",
    "Above we used finite differences to test that Nanograd is actually doing what it is supposed to do. We can in principle try the same for the neural network. But we will trust that the test above is enough."
   ]
  },
  {
   "cell_type": "markdown",
   "metadata": {
    "id": "WgBi8GOSFtIN"
   },
   "source": [
    "# Training and validation\n",
    "\n",
    "We are ready to train some neural networks!\n",
    "\n",
    "We initialize again:"
   ]
  },
  {
   "cell_type": "code",
   "execution_count": 32,
   "metadata": {
    "id": "01ePmzBzRtdh"
   },
   "outputs": [],
   "source": [
    "NN = [\n",
    "    DenseLayer(1, 15, lambda x: x.relu()),\n",
    "    DenseLayer(15, 50, lambda x: x.relu()),\n",
    "    DenseLayer(50, 1, lambda x: x.identity())\n",
    "]\n",
    "\n",
    "output = forward(x_train, NN)\n",
    "\n",
    "Loss = squared_loss(y_train,output)\n",
    "Loss.backward()"
   ]
  },
  {
   "cell_type": "markdown",
   "metadata": {
    "id": "10iRPiQ1ISHw"
   },
   "source": [
    "and make an update:\n",
    "\n",
    "We introduce a help function parameters to have a handle in all parameters in the network."
   ]
  },
  {
   "cell_type": "code",
   "execution_count": 33,
   "metadata": {
    "colab": {
     "base_uri": "https://localhost:8080/"
    },
    "id": "dhAI7eyeznia",
    "outputId": "858f190b-cfcf-44ba-95a6-0cbc863c5c60"
   },
   "outputs": [
    {
     "name": "stdout",
     "output_type": "stream",
     "text": [
      "Network before update:\n",
      "Layer 0 \n",
      " Weights: [[Var(v=0.0372, grad=-7.1399), Var(v=0.0295, grad=-10.5913), Var(v=0.1267, grad=1.8825), Var(v=-0.0180, grad=3.7875), Var(v=0.0171, grad=-1.0164), Var(v=-0.1133, grad=-5.4192), Var(v=0.0065, grad=-10.0700), Var(v=0.0674, grad=4.0837), Var(v=-0.0155, grad=-3.5824), Var(v=-0.0256, grad=-2.1732), Var(v=0.1148, grad=-13.3222), Var(v=0.0132, grad=2.3814), Var(v=-0.0496, grad=10.4761), Var(v=0.1006, grad=-4.7271), Var(v=-0.0172, grad=2.0962)]] Biases: [Var(v=0.0000, grad=-6.1359), Var(v=0.0000, grad=-9.1019), Var(v=0.0000, grad=1.6178), Var(v=0.0000, grad=-3.4427), Var(v=0.0000, grad=-0.8735), Var(v=0.0000, grad=4.9259), Var(v=0.0000, grad=-8.6540), Var(v=0.0000, grad=3.5095), Var(v=0.0000, grad=3.2563), Var(v=0.0000, grad=1.9754), Var(v=0.0000, grad=-11.4488), Var(v=0.0000, grad=2.0465), Var(v=0.0000, grad=-9.5225), Var(v=0.0000, grad=-4.0624), Var(v=0.0000, grad=-1.9054)]\n",
      "Layer 1 \n",
      " Weights: [[Var(v=0.0330, grad=0.0000), Var(v=0.0152, grad=-0.4240), Var(v=0.0197, grad=-0.1072), Var(v=-0.1345, grad=0.0000), Var(v=0.1377, grad=-0.3490), Var(v=0.0219, grad=0.0000), Var(v=-0.0796, grad=-0.4951), Var(v=0.1091, grad=0.0000), Var(v=0.2194, grad=0.0000), Var(v=-0.0213, grad=0.0000), Var(v=0.0385, grad=0.0764), Var(v=0.1803, grad=-0.0192), Var(v=0.0326, grad=0.0000), Var(v=-0.0217, grad=-0.7753), Var(v=0.2203, grad=-0.2913), Var(v=-0.0110, grad=0.0000), Var(v=-0.0497, grad=-0.5338), Var(v=-0.0730, grad=0.6177), Var(v=0.2452, grad=-0.5068), Var(v=-0.1450, grad=0.0000), Var(v=-0.1062, grad=0.0000), Var(v=0.1178, grad=-0.0551), Var(v=-0.0344, grad=0.0000), Var(v=0.0095, grad=0.0000), Var(v=-0.0867, grad=0.0000), Var(v=-0.0489, grad=0.0000), Var(v=0.0226, grad=0.0000), Var(v=0.0018, grad=-0.3765), Var(v=0.1184, grad=-0.0673), Var(v=0.1326, grad=0.0000), Var(v=0.0836, grad=0.3269), Var(v=0.0681, grad=0.2434), Var(v=0.1468, grad=-0.2751), Var(v=-0.0606, grad=0.0599), Var(v=-0.0504, grad=0.0570), Var(v=0.0491, grad=0.0759), Var(v=-0.0363, grad=0.0000), Var(v=0.1425, grad=-0.5636), Var(v=0.0878, grad=0.0000), Var(v=-0.0036, grad=0.4690), Var(v=0.0084, grad=0.6871), Var(v=0.0728, grad=-0.0531), Var(v=0.1498, grad=0.0000), Var(v=0.0429, grad=-0.0281), Var(v=0.1729, grad=0.0000), Var(v=0.0068, grad=0.0000), Var(v=-0.0781, grad=0.0000), Var(v=0.0751, grad=0.2595), Var(v=-0.0531, grad=-0.6188), Var(v=0.0591, grad=-0.2491)], [Var(v=0.0999, grad=0.0000), Var(v=-0.0083, grad=-0.3356), Var(v=-0.0310, grad=-0.0848), Var(v=-0.0955, grad=0.0000), Var(v=0.0890, grad=-0.2763), Var(v=-0.1594, grad=0.0000), Var(v=0.0796, grad=-0.3920), Var(v=-0.0035, grad=0.0000), Var(v=0.0987, grad=0.0000), Var(v=0.0847, grad=0.0000), Var(v=0.0528, grad=0.0605), Var(v=-0.0748, grad=-0.0152), Var(v=-0.1786, grad=0.0000), Var(v=-0.0680, grad=-0.6138), Var(v=0.2545, grad=-0.2306), Var(v=0.0266, grad=0.0000), Var(v=0.0457, grad=-0.4226), Var(v=-0.0994, grad=0.4890), Var(v=0.1156, grad=-0.4012), Var(v=0.0258, grad=0.0000), Var(v=0.0049, grad=0.0000), Var(v=-0.2039, grad=-0.0436), Var(v=-0.0711, grad=0.0000), Var(v=0.1024, grad=0.0000), Var(v=0.0519, grad=0.0000), Var(v=-0.1436, grad=0.0000), Var(v=0.0944, grad=0.0000), Var(v=0.1884, grad=-0.2981), Var(v=0.2253, grad=-0.0533), Var(v=-0.0984, grad=0.0000), Var(v=-0.0049, grad=0.2588), Var(v=-0.1551, grad=0.1927), Var(v=0.0729, grad=-0.2178), Var(v=-0.0234, grad=0.0474), Var(v=0.2015, grad=0.0451), Var(v=-0.0880, grad=0.0601), Var(v=-0.0893, grad=0.0000), Var(v=-0.0288, grad=-0.4462), Var(v=0.0510, grad=0.0000), Var(v=-0.2389, grad=0.3713), Var(v=-0.0112, grad=0.5439), Var(v=-0.0563, grad=-0.0421), Var(v=0.0945, grad=0.0000), Var(v=0.0117, grad=-0.0222), Var(v=0.1901, grad=0.0000), Var(v=0.1746, grad=0.0000), Var(v=-0.1450, grad=0.0000), Var(v=-0.0646, grad=0.2055), Var(v=-0.1449, grad=-0.4899), Var(v=0.0470, grad=-0.1972)], [Var(v=-0.1204, grad=0.0000), Var(v=-0.0239, grad=-1.4421), Var(v=-0.0194, grad=-0.3645), Var(v=-0.0744, grad=0.0000), Var(v=-0.0109, grad=-1.1872), Var(v=-0.0883, grad=0.0000), Var(v=-0.0416, grad=-1.6842), Var(v=0.0770, grad=0.0000), Var(v=-0.0159, grad=0.0000), Var(v=0.0772, grad=0.0000), Var(v=0.1565, grad=0.2600), Var(v=0.0912, grad=-0.0653), Var(v=-0.0569, grad=0.0000), Var(v=0.0482, grad=-2.6373), Var(v=0.1061, grad=-0.9909), Var(v=-0.1117, grad=0.0000), Var(v=0.0809, grad=-1.8159), Var(v=0.0368, grad=2.1010), Var(v=-0.0638, grad=-1.7238), Var(v=-0.0089, grad=0.0000), Var(v=-0.1064, grad=0.0000), Var(v=-0.0244, grad=-0.1875), Var(v=-0.1166, grad=0.0000), Var(v=0.0036, grad=0.0000), Var(v=0.0109, grad=0.0000), Var(v=0.0185, grad=0.0000), Var(v=-0.2435, grad=0.0000), Var(v=-0.0505, grad=-1.2806), Var(v=-0.0132, grad=-0.2288), Var(v=0.0006, grad=0.0000), Var(v=0.1869, grad=1.1120), Var(v=-0.0489, grad=0.8280), Var(v=0.0787, grad=-0.9358), Var(v=0.0431, grad=0.2038), Var(v=-0.0395, grad=0.1939), Var(v=-0.0390, grad=0.2583), Var(v=-0.0581, grad=0.0000), Var(v=0.1067, grad=-1.9171), Var(v=0.0882, grad=0.0000), Var(v=0.1299, grad=1.5951), Var(v=0.1466, grad=2.3371), Var(v=0.0623, grad=-0.1807), Var(v=-0.1123, grad=0.0000), Var(v=0.0955, grad=-0.0955), Var(v=-0.0743, grad=0.0000), Var(v=-0.0845, grad=0.0000), Var(v=-0.0757, grad=0.0000), Var(v=-0.0359, grad=0.8828), Var(v=0.0788, grad=-2.1048), Var(v=0.0158, grad=-0.8472)], [Var(v=0.0432, grad=0.2721), Var(v=0.1109, grad=0.0000), Var(v=0.1055, grad=0.0503), Var(v=0.0542, grad=0.0000), Var(v=0.0305, grad=0.0000), Var(v=0.0821, grad=0.0000), Var(v=-0.2877, grad=0.2322), Var(v=-0.1425, grad=0.1731), Var(v=-0.1627, grad=0.0000), Var(v=0.0153, grad=0.0000), Var(v=0.0060, grad=-0.0358), Var(v=-0.1183, grad=0.0090), Var(v=0.0220, grad=-0.0506), Var(v=0.0509, grad=0.3636), Var(v=-0.0066, grad=0.1366), Var(v=0.1675, grad=0.0000), Var(v=0.1441, grad=0.0000), Var(v=-0.0603, grad=0.0000), Var(v=0.0181, grad=0.2377), Var(v=-0.0138, grad=0.0000), Var(v=0.0004, grad=0.0475), Var(v=0.0795, grad=0.0259), Var(v=-0.0922, grad=0.0000), Var(v=-0.0133, grad=0.0000), Var(v=0.0822, grad=0.0000), Var(v=-0.0113, grad=0.0000), Var(v=-0.0416, grad=0.0000), Var(v=0.0821, grad=0.0000), Var(v=-0.0724, grad=0.0000), Var(v=0.0581, grad=0.0000), Var(v=0.0810, grad=-0.1533), Var(v=0.0993, grad=-0.1142), Var(v=0.1139, grad=0.1290), Var(v=-0.0018, grad=0.0000), Var(v=0.0071, grad=-0.0267), Var(v=-0.0099, grad=-0.0356), Var(v=0.0011, grad=0.0000), Var(v=-0.1508, grad=0.0000), Var(v=0.0093, grad=0.0000), Var(v=-0.0018, grad=-0.2199), Var(v=0.0897, grad=0.0000), Var(v=0.0005, grad=0.0000), Var(v=0.2040, grad=0.0000), Var(v=-0.2089, grad=0.0000), Var(v=0.0009, grad=0.0000), Var(v=0.0395, grad=0.0000), Var(v=-0.0181, grad=-0.4165), Var(v=0.1069, grad=-0.1217), Var(v=0.0644, grad=0.0000), Var(v=-0.0129, grad=0.1168)], [Var(v=0.0446, grad=0.0000), Var(v=-0.1108, grad=-0.1952), Var(v=0.0493, grad=-0.0493), Var(v=-0.0539, grad=0.0000), Var(v=0.0810, grad=-0.1607), Var(v=0.0965, grad=0.0000), Var(v=-0.2551, grad=-0.2279), Var(v=-0.0028, grad=0.0000), Var(v=0.0794, grad=0.0000), Var(v=-0.2557, grad=0.0000), Var(v=0.2119, grad=0.0352), Var(v=0.1391, grad=-0.0088), Var(v=-0.0710, grad=0.0000), Var(v=-0.1067, grad=-0.3569), Var(v=0.0603, grad=-0.1341), Var(v=0.0315, grad=0.0000), Var(v=0.0317, grad=-0.2458), Var(v=-0.1034, grad=0.2844), Var(v=-0.0325, grad=-0.2333), Var(v=-0.0242, grad=0.0000), Var(v=-0.0095, grad=0.0000), Var(v=0.0827, grad=-0.0254), Var(v=0.0416, grad=0.0000), Var(v=-0.0407, grad=0.0000), Var(v=0.0339, grad=0.0000), Var(v=0.0226, grad=0.0000), Var(v=-0.1935, grad=0.0000), Var(v=0.1152, grad=-0.1733), Var(v=-0.0655, grad=-0.0310), Var(v=-0.0425, grad=0.0000), Var(v=0.0368, grad=0.1505), Var(v=0.0891, grad=0.1121), Var(v=-0.0266, grad=-0.1266), Var(v=-0.1437, grad=0.0276), Var(v=0.0303, grad=0.0262), Var(v=-0.0551, grad=0.0350), Var(v=-0.1389, grad=0.0000), Var(v=-0.0044, grad=-0.2595), Var(v=0.1477, grad=0.0000), Var(v=-0.0451, grad=0.2159), Var(v=-0.0715, grad=0.3163), Var(v=0.1057, grad=-0.0245), Var(v=-0.1728, grad=0.0000), Var(v=-0.0556, grad=-0.0129), Var(v=-0.0879, grad=0.0000), Var(v=-0.1233, grad=0.0000), Var(v=-0.0773, grad=0.0000), Var(v=-0.1489, grad=0.1195), Var(v=0.0981, grad=-0.2849), Var(v=0.0289, grad=-0.1147)], [Var(v=0.0953, grad=1.7099), Var(v=-0.0962, grad=0.0000), Var(v=0.0759, grad=0.3158), Var(v=-0.1180, grad=0.0000), Var(v=-0.0095, grad=0.0000), Var(v=-0.1096, grad=0.0000), Var(v=0.1122, grad=1.4592), Var(v=0.0972, grad=1.0879), Var(v=-0.1758, grad=0.0000), Var(v=-0.1265, grad=0.0000), Var(v=0.0666, grad=-0.2253), Var(v=0.1935, grad=0.0565), Var(v=0.1978, grad=-0.3177), Var(v=0.0935, grad=2.2850), Var(v=0.0943, grad=0.8586), Var(v=-0.0573, grad=0.0000), Var(v=-0.0137, grad=0.0000), Var(v=-0.0285, grad=0.0000), Var(v=0.0523, grad=1.4935), Var(v=-0.0790, grad=0.0000), Var(v=0.1463, grad=0.2986), Var(v=0.0629, grad=0.1625), Var(v=0.0107, grad=0.0000), Var(v=0.0198, grad=0.0000), Var(v=-0.1566, grad=0.0000), Var(v=-0.1165, grad=0.0000), Var(v=0.0013, grad=0.0000), Var(v=-0.0004, grad=0.0000), Var(v=-0.0636, grad=0.0000), Var(v=-0.1510, grad=0.0000), Var(v=0.0367, grad=-0.9634), Var(v=-0.0208, grad=-0.7174), Var(v=0.1454, grad=0.8108), Var(v=-0.0627, grad=0.0000), Var(v=0.0244, grad=-0.1680), Var(v=0.0320, grad=-0.2238), Var(v=-0.1042, grad=0.0000), Var(v=-0.1173, grad=0.0000), Var(v=-0.1017, grad=0.0000), Var(v=0.1629, grad=-1.3821), Var(v=-0.2643, grad=0.0000), Var(v=-0.1010, grad=0.0000), Var(v=-0.1551, grad=0.0000), Var(v=-0.0832, grad=0.0000), Var(v=-0.1270, grad=0.0000), Var(v=0.0154, grad=0.0000), Var(v=0.0908, grad=-2.6172), Var(v=0.0214, grad=-0.7649), Var(v=-0.1620, grad=0.0000), Var(v=0.2603, grad=0.7340)], [Var(v=0.1467, grad=0.0000), Var(v=0.0257, grad=-0.0739), Var(v=0.1377, grad=-0.0187), Var(v=-0.0013, grad=0.0000), Var(v=0.1409, grad=-0.0608), Var(v=-0.0098, grad=0.0000), Var(v=0.2582, grad=-0.0863), Var(v=0.0195, grad=0.0000), Var(v=0.0391, grad=0.0000), Var(v=0.1430, grad=0.0000), Var(v=-0.1134, grad=0.0133), Var(v=-0.0436, grad=-0.0033), Var(v=-0.0928, grad=0.0000), Var(v=0.0005, grad=-0.1351), Var(v=0.0264, grad=-0.0508), Var(v=-0.0106, grad=0.0000), Var(v=0.0210, grad=-0.0930), Var(v=0.0604, grad=0.1076), Var(v=-0.0220, grad=-0.0883), Var(v=-0.0929, grad=0.0000), Var(v=-0.0543, grad=0.0000), Var(v=-0.1262, grad=-0.0096), Var(v=-0.0230, grad=0.0000), Var(v=-0.0938, grad=0.0000), Var(v=-0.0116, grad=0.0000), Var(v=0.1267, grad=0.0000), Var(v=-0.0467, grad=0.0000), Var(v=0.0704, grad=-0.0656), Var(v=-0.0919, grad=-0.0117), Var(v=0.1031, grad=0.0000), Var(v=-0.1018, grad=0.0570), Var(v=0.1009, grad=0.0424), Var(v=0.1832, grad=-0.0479), Var(v=-0.0741, grad=0.0104), Var(v=-0.0011, grad=0.0099), Var(v=0.0522, grad=0.0132), Var(v=0.0082, grad=0.0000), Var(v=0.0909, grad=-0.0982), Var(v=0.1821, grad=0.0000), Var(v=-0.0577, grad=0.0817), Var(v=-0.0200, grad=0.1197), Var(v=-0.1026, grad=-0.0093), Var(v=-0.0139, grad=0.0000), Var(v=-0.2042, grad=-0.0049), Var(v=0.1701, grad=0.0000), Var(v=0.0429, grad=0.0000), Var(v=0.0053, grad=0.0000), Var(v=0.1467, grad=0.0452), Var(v=0.1277, grad=-0.1078), Var(v=-0.0042, grad=-0.0434)], [Var(v=0.0393, grad=0.0000), Var(v=0.0249, grad=-0.7670), Var(v=-0.1416, grad=-0.1938), Var(v=0.1560, grad=0.0000), Var(v=0.0899, grad=-0.6314), Var(v=0.0889, grad=0.0000), Var(v=-0.0109, grad=-0.8957), Var(v=-0.1256, grad=0.0000), Var(v=0.0923, grad=0.0000), Var(v=-0.1417, grad=0.0000), Var(v=0.1362, grad=0.1383), Var(v=-0.1001, grad=-0.0347), Var(v=-0.0745, grad=0.0000), Var(v=-0.0279, grad=-1.4026), Var(v=-0.0443, grad=-0.5270), Var(v=-0.0156, grad=0.0000), Var(v=-0.0147, grad=-0.9657), Var(v=0.0288, grad=1.1173), Var(v=-0.0504, grad=-0.9168), Var(v=0.0415, grad=0.0000), Var(v=0.0152, grad=0.0000), Var(v=-0.0499, grad=-0.0997), Var(v=0.1629, grad=0.0000), Var(v=-0.0211, grad=0.0000), Var(v=-0.0604, grad=0.0000), Var(v=0.0375, grad=0.0000), Var(v=0.0592, grad=0.0000), Var(v=0.0464, grad=-0.6811), Var(v=0.2219, grad=-0.1217), Var(v=-0.0241, grad=0.0000), Var(v=0.0143, grad=0.5914), Var(v=0.1444, grad=0.4404), Var(v=0.0457, grad=-0.4977), Var(v=0.0213, grad=0.1084), Var(v=0.1173, grad=0.1031), Var(v=-0.0126, grad=0.1374), Var(v=-0.0193, grad=0.0000), Var(v=-0.0478, grad=-1.0195), Var(v=-0.0131, grad=0.0000), Var(v=0.0291, grad=0.8483), Var(v=0.1315, grad=1.2429), Var(v=0.1515, grad=-0.0961), Var(v=-0.0616, grad=0.0000), Var(v=-0.1392, grad=-0.0508), Var(v=-0.1272, grad=0.0000), Var(v=-0.3028, grad=0.0000), Var(v=0.0641, grad=0.0000), Var(v=-0.0069, grad=0.4695), Var(v=0.1096, grad=-1.1194), Var(v=-0.0549, grad=-0.4506)], [Var(v=0.1130, grad=0.2332), Var(v=-0.1305, grad=0.0000), Var(v=-0.0101, grad=0.0431), Var(v=-0.0126, grad=0.0000), Var(v=-0.1011, grad=0.0000), Var(v=0.1106, grad=0.0000), Var(v=0.0867, grad=0.1990), Var(v=0.0359, grad=0.1484), Var(v=0.0532, grad=0.0000), Var(v=-0.1128, grad=0.0000), Var(v=0.0416, grad=-0.0307), Var(v=0.2190, grad=0.0077), Var(v=0.0477, grad=-0.0433), Var(v=0.1487, grad=0.3116), Var(v=-0.0222, grad=0.1171), Var(v=0.1741, grad=0.0000), Var(v=-0.0025, grad=0.0000), Var(v=-0.0417, grad=0.0000), Var(v=-0.0845, grad=0.2037), Var(v=0.0416, grad=0.0000), Var(v=0.1976, grad=0.0407), Var(v=0.0688, grad=0.0222), Var(v=0.0039, grad=0.0000), Var(v=-0.1254, grad=0.0000), Var(v=0.0819, grad=0.0000), Var(v=0.2577, grad=0.0000), Var(v=0.0179, grad=0.0000), Var(v=-0.1184, grad=0.0000), Var(v=0.0335, grad=0.0000), Var(v=0.0272, grad=0.0000), Var(v=0.1009, grad=-0.1314), Var(v=0.0180, grad=-0.0978), Var(v=-0.1545, grad=0.1106), Var(v=0.1489, grad=0.0000), Var(v=0.1308, grad=-0.0229), Var(v=0.0936, grad=-0.0305), Var(v=-0.0816, grad=0.0000), Var(v=-0.0137, grad=0.0000), Var(v=-0.0715, grad=0.0000), Var(v=0.0760, grad=-0.1885), Var(v=-0.1559, grad=0.0000), Var(v=-0.0639, grad=0.0000), Var(v=-0.0221, grad=0.0000), Var(v=-0.2151, grad=0.0000), Var(v=-0.0908, grad=0.0000), Var(v=-0.0726, grad=0.0000), Var(v=-0.0887, grad=-0.3569), Var(v=-0.0340, grad=-0.1043), Var(v=0.0352, grad=0.0000), Var(v=-0.1047, grad=0.1001)], [Var(v=-0.0718, grad=0.3859), Var(v=0.0674, grad=0.0000), Var(v=-0.0927, grad=0.0713), Var(v=-0.1374, grad=0.0000), Var(v=-0.1335, grad=0.0000), Var(v=-0.0417, grad=0.0000), Var(v=-0.0185, grad=0.3293), Var(v=0.1314, grad=0.2455), Var(v=-0.0450, grad=0.0000), Var(v=0.0255, grad=0.0000), Var(v=0.0430, grad=-0.0508), Var(v=0.0095, grad=0.0128), Var(v=0.1139, grad=-0.0717), Var(v=-0.1592, grad=0.5157), Var(v=-0.0794, grad=0.1938), Var(v=-0.0128, grad=0.0000), Var(v=-0.0388, grad=0.0000), Var(v=0.0019, grad=0.0000), Var(v=0.0182, grad=0.3371), Var(v=0.0040, grad=0.0000), Var(v=-0.0237, grad=0.0674), Var(v=0.0947, grad=0.0367), Var(v=-0.1334, grad=0.0000), Var(v=0.0121, grad=0.0000), Var(v=0.1813, grad=0.0000), Var(v=0.0056, grad=0.0000), Var(v=-0.1218, grad=0.0000), Var(v=0.0211, grad=0.0000), Var(v=-0.0815, grad=0.0000), Var(v=-0.0599, grad=0.0000), Var(v=-0.0495, grad=-0.2174), Var(v=0.0904, grad=-0.1619), Var(v=-0.0725, grad=0.1830), Var(v=0.1479, grad=0.0000), Var(v=-0.0441, grad=-0.0379), Var(v=0.0052, grad=-0.0505), Var(v=0.0014, grad=0.0000), Var(v=0.0111, grad=0.0000), Var(v=0.1255, grad=0.0000), Var(v=-0.1548, grad=-0.3119), Var(v=-0.0026, grad=0.0000), Var(v=0.0663, grad=0.0000), Var(v=0.1779, grad=0.0000), Var(v=-0.0787, grad=0.0000), Var(v=-0.0367, grad=0.0000), Var(v=0.0281, grad=0.0000), Var(v=-0.1754, grad=-0.5907), Var(v=-0.0601, grad=-0.1726), Var(v=-0.0067, grad=0.0000), Var(v=0.1018, grad=0.1657)], [Var(v=-0.1029, grad=0.0000), Var(v=0.1490, grad=-1.3070), Var(v=-0.0706, grad=-0.3303), Var(v=-0.0751, grad=0.0000), Var(v=-0.0581, grad=-1.0760), Var(v=-0.0246, grad=0.0000), Var(v=0.0914, grad=-1.5264), Var(v=0.0611, grad=0.0000), Var(v=-0.1817, grad=0.0000), Var(v=-0.1099, grad=0.0000), Var(v=0.1529, grad=0.2357), Var(v=-0.0029, grad=-0.0591), Var(v=0.0635, grad=0.0000), Var(v=0.1159, grad=-2.3902), Var(v=0.1470, grad=-0.8981), Var(v=-0.0586, grad=0.0000), Var(v=0.2378, grad=-1.6457), Var(v=0.0224, grad=1.9041), Var(v=0.1674, grad=-1.5623), Var(v=-0.0710, grad=0.0000), Var(v=-0.0053, grad=0.0000), Var(v=0.1120, grad=-0.1700), Var(v=-0.0586, grad=0.0000), Var(v=0.1351, grad=0.0000), Var(v=-0.0508, grad=0.0000), Var(v=-0.1224, grad=0.0000), Var(v=-0.0415, grad=0.0000), Var(v=0.0799, grad=-1.1606), Var(v=-0.0378, grad=-0.2074), Var(v=-0.0826, grad=0.0000), Var(v=0.0876, grad=1.0078), Var(v=0.0527, grad=0.7505), Var(v=0.0010, grad=-0.8481), Var(v=0.0983, grad=0.1847), Var(v=0.0930, grad=0.1757), Var(v=0.0553, grad=0.2341), Var(v=0.1013, grad=0.0000), Var(v=0.1894, grad=-1.7374), Var(v=-0.2016, grad=0.0000), Var(v=-0.0201, grad=1.4457), Var(v=-0.0628, grad=2.1181), Var(v=0.0230, grad=-0.1638), Var(v=-0.1241, grad=0.0000), Var(v=0.0340, grad=-0.0865), Var(v=-0.2281, grad=0.0000), Var(v=-0.0564, grad=0.0000), Var(v=-0.0558, grad=0.0000), Var(v=0.0631, grad=0.8001), Var(v=-0.0395, grad=-1.9076), Var(v=-0.0043, grad=-0.7678)], [Var(v=-0.0468, grad=0.0000), Var(v=-0.0455, grad=-0.1499), Var(v=0.0855, grad=-0.0379), Var(v=0.2192, grad=0.0000), Var(v=-0.0379, grad=-0.1234), Var(v=0.0016, grad=0.0000), Var(v=-0.0698, grad=-0.1750), Var(v=0.1027, grad=0.0000), Var(v=-0.1163, grad=0.0000), Var(v=0.0879, grad=0.0000), Var(v=0.0258, grad=0.0270), Var(v=-0.2061, grad=-0.0068), Var(v=-0.0248, grad=0.0000), Var(v=-0.0754, grad=-0.2741), Var(v=0.0332, grad=-0.1030), Var(v=0.1943, grad=0.0000), Var(v=0.0014, grad=-0.1887), Var(v=-0.0547, grad=0.2183), Var(v=0.0680, grad=-0.1791), Var(v=0.0488, grad=0.0000), Var(v=-0.1762, grad=0.0000), Var(v=-0.0147, grad=-0.0195), Var(v=0.0032, grad=0.0000), Var(v=-0.0954, grad=0.0000), Var(v=0.0445, grad=0.0000), Var(v=-0.0265, grad=0.0000), Var(v=0.0185, grad=0.0000), Var(v=-0.0625, grad=-0.1331), Var(v=0.0058, grad=-0.0238), Var(v=-0.0888, grad=0.0000), Var(v=-0.0634, grad=0.1156), Var(v=-0.0244, grad=0.0860), Var(v=0.0859, grad=-0.0972), Var(v=-0.1503, grad=0.0212), Var(v=0.0605, grad=0.0201), Var(v=0.1766, grad=0.0268), Var(v=-0.1053, grad=0.0000), Var(v=-0.0266, grad=-0.1992), Var(v=-0.0140, grad=0.0000), Var(v=0.0516, grad=0.1658), Var(v=0.1142, grad=0.2429), Var(v=-0.1134, grad=-0.0188), Var(v=0.0056, grad=0.0000), Var(v=-0.0354, grad=-0.0099), Var(v=-0.0272, grad=0.0000), Var(v=-0.0900, grad=0.0000), Var(v=0.0665, grad=0.0000), Var(v=-0.1554, grad=0.0917), Var(v=0.0968, grad=-0.2187), Var(v=-0.1568, grad=-0.0880)], [Var(v=-0.1113, grad=0.7477), Var(v=0.0218, grad=0.0000), Var(v=-0.1511, grad=0.1381), Var(v=-0.0978, grad=0.0000), Var(v=0.0597, grad=0.0000), Var(v=-0.0477, grad=0.0000), Var(v=-0.0462, grad=0.6381), Var(v=-0.1778, grad=0.4758), Var(v=0.0090, grad=0.0000), Var(v=0.0715, grad=0.0000), Var(v=-0.0124, grad=-0.0985), Var(v=0.0393, grad=0.0247), Var(v=0.0974, grad=-0.1389), Var(v=-0.0158, grad=0.9992), Var(v=-0.1079, grad=0.3755), Var(v=-0.0374, grad=0.0000), Var(v=-0.1685, grad=0.0000), Var(v=-0.0564, grad=0.0000), Var(v=-0.0945, grad=0.6531), Var(v=-0.0661, grad=0.0000), Var(v=0.1941, grad=0.1306), Var(v=-0.0963, grad=0.0711), Var(v=-0.0717, grad=0.0000), Var(v=-0.0461, grad=0.0000), Var(v=-0.0879, grad=0.0000), Var(v=-0.0325, grad=0.0000), Var(v=-0.0952, grad=0.0000), Var(v=-0.1001, grad=0.0000), Var(v=-0.0435, grad=0.0000), Var(v=-0.0753, grad=0.0000), Var(v=0.2352, grad=-0.4213), Var(v=-0.0378, grad=-0.3137), Var(v=-0.0135, grad=0.3546), Var(v=0.0139, grad=0.0000), Var(v=0.1130, grad=-0.0735), Var(v=-0.1066, grad=-0.0979), Var(v=0.0179, grad=0.0000), Var(v=-0.0672, grad=0.0000), Var(v=-0.0034, grad=0.0000), Var(v=0.0352, grad=-0.6044), Var(v=0.2049, grad=0.0000), Var(v=0.1113, grad=0.0000), Var(v=-0.0226, grad=0.0000), Var(v=0.0160, grad=0.0000), Var(v=-0.0396, grad=0.0000), Var(v=-0.0919, grad=0.0000), Var(v=-0.0080, grad=-1.1445), Var(v=0.1665, grad=-0.3345), Var(v=-0.0467, grad=0.0000), Var(v=-0.1013, grad=0.3210)], [Var(v=-0.1259, grad=0.0000), Var(v=-0.0181, grad=-1.1450), Var(v=0.1762, grad=-0.2894), Var(v=-0.1803, grad=0.0000), Var(v=-0.0055, grad=-0.9426), Var(v=-0.2251, grad=0.0000), Var(v=0.0677, grad=-1.3372), Var(v=-0.1366, grad=0.0000), Var(v=-0.1142, grad=0.0000), Var(v=-0.1418, grad=0.0000), Var(v=0.0218, grad=0.2064), Var(v=-0.0043, grad=-0.0518), Var(v=-0.1460, grad=0.0000), Var(v=0.0631, grad=-2.0939), Var(v=0.0653, grad=-0.7868), Var(v=-0.2637, grad=0.0000), Var(v=0.1359, grad=-1.4417), Var(v=0.0119, grad=1.6681), Var(v=0.0062, grad=-1.3686), Var(v=0.0441, grad=0.0000), Var(v=-0.0293, grad=0.0000), Var(v=-0.0152, grad=-0.1489), Var(v=-0.0010, grad=0.0000), Var(v=-0.1697, grad=0.0000), Var(v=0.0679, grad=0.0000), Var(v=-0.1148, grad=0.0000), Var(v=0.0176, grad=0.0000), Var(v=0.0989, grad=-1.0167), Var(v=0.0734, grad=-0.1817), Var(v=0.0927, grad=0.0000), Var(v=-0.1159, grad=0.8829), Var(v=-0.0189, grad=0.6574), Var(v=0.0127, grad=-0.7430), Var(v=0.0556, grad=0.1618), Var(v=-0.1541, grad=0.1539), Var(v=0.0311, grad=0.2051), Var(v=0.0436, grad=0.0000), Var(v=0.1113, grad=-1.5220), Var(v=-0.0508, grad=0.0000), Var(v=0.0781, grad=1.2665), Var(v=0.1895, grad=1.8555), Var(v=0.1592, grad=-0.1435), Var(v=0.0896, grad=0.0000), Var(v=0.0739, grad=-0.0758), Var(v=0.0205, grad=0.0000), Var(v=-0.0808, grad=0.0000), Var(v=-0.0832, grad=0.0000), Var(v=0.1178, grad=0.7009), Var(v=0.0146, grad=-1.6711), Var(v=0.0941, grad=-0.6727)], [Var(v=-0.0223, grad=0.2590), Var(v=-0.1545, grad=0.0000), Var(v=0.0928, grad=0.0478), Var(v=-0.0021, grad=0.0000), Var(v=0.0705, grad=0.0000), Var(v=-0.0895, grad=0.0000), Var(v=-0.0444, grad=0.2211), Var(v=-0.1888, grad=0.1648), Var(v=0.1029, grad=0.0000), Var(v=0.1002, grad=0.0000), Var(v=0.1782, grad=-0.0341), Var(v=-0.0893, grad=0.0086), Var(v=0.0359, grad=-0.0481), Var(v=0.0774, grad=0.3462), Var(v=-0.0588, grad=0.1301), Var(v=-0.0434, grad=0.0000), Var(v=0.0427, grad=0.0000), Var(v=0.0268, grad=0.0000), Var(v=-0.0315, grad=0.2263), Var(v=0.0496, grad=0.0000), Var(v=-0.0840, grad=0.0452), Var(v=0.1137, grad=0.0246), Var(v=-0.1247, grad=0.0000), Var(v=0.0648, grad=0.0000), Var(v=0.0648, grad=0.0000), Var(v=-0.1425, grad=0.0000), Var(v=-0.1061, grad=0.0000), Var(v=0.1194, grad=0.0000), Var(v=-0.0568, grad=0.0000), Var(v=-0.0809, grad=0.0000), Var(v=0.0974, grad=-0.1460), Var(v=0.0677, grad=-0.1087), Var(v=0.0815, grad=0.1228), Var(v=-0.0254, grad=0.0000), Var(v=-0.0290, grad=-0.0254), Var(v=0.0267, grad=-0.0339), Var(v=-0.1522, grad=0.0000), Var(v=-0.1473, grad=0.0000), Var(v=-0.0427, grad=0.0000), Var(v=-0.1592, grad=-0.2094), Var(v=-0.1782, grad=0.0000), Var(v=-0.0493, grad=0.0000), Var(v=-0.0900, grad=0.0000), Var(v=-0.0280, grad=0.0000), Var(v=0.0775, grad=0.0000), Var(v=-0.0062, grad=0.0000), Var(v=-0.0187, grad=-0.3965), Var(v=0.0304, grad=-0.1159), Var(v=-0.0414, grad=0.0000), Var(v=-0.1950, grad=0.1112)]] Biases: [Var(v=0.0000, grad=13.7131), Var(v=0.0000, grad=-9.7826), Var(v=0.0000, grad=0.0602), Var(v=0.0000, grad=0.0000), Var(v=0.0000, grad=-8.0535), Var(v=0.0000, grad=0.0000), Var(v=0.0000, grad=0.2783), Var(v=0.0000, grad=8.7253), Var(v=0.0000, grad=0.0000), Var(v=0.0000, grad=0.0000), Var(v=0.0000, grad=-0.0430), Var(v=0.0000, grad=0.0108), Var(v=0.0000, grad=-2.5482), Var(v=0.0000, grad=0.4357), Var(v=0.0000, grad=0.1637), Var(v=0.0000, grad=0.0000), Var(v=0.0000, grad=-12.3178), Var(v=0.0000, grad=14.2518), Var(v=0.0000, grad=0.2848), Var(v=0.0000, grad=0.0000), Var(v=0.0000, grad=2.3948), Var(v=0.0000, grad=0.0310), Var(v=0.0000, grad=0.0000), Var(v=0.0000, grad=0.0000), Var(v=0.0000, grad=0.0000), Var(v=0.0000, grad=0.0000), Var(v=0.0000, grad=0.0000), Var(v=0.0000, grad=-8.6870), Var(v=0.0000, grad=-1.5523), Var(v=0.0000, grad=0.0000), Var(v=0.0000, grad=-0.1837), Var(v=0.0000, grad=-0.1368), Var(v=0.0000, grad=0.1546), Var(v=0.0000, grad=1.3822), Var(v=0.0000, grad=-0.0320), Var(v=0.0000, grad=-0.0427), Var(v=0.0000, grad=0.0000), Var(v=0.0000, grad=-13.0042), Var(v=0.0000, grad=0.0000), Var(v=0.0000, grad=-0.2635), Var(v=0.0000, grad=15.8533), Var(v=0.0000, grad=-1.2259), Var(v=0.0000, grad=0.0000), Var(v=0.0000, grad=-0.6476), Var(v=0.0000, grad=0.0000), Var(v=0.0000, grad=0.0000), Var(v=0.0000, grad=-20.9898), Var(v=0.0000, grad=-0.1459), Var(v=0.0000, grad=-14.2775), Var(v=0.0000, grad=0.1400)]\n",
      "Layer 2 \n",
      " Weights: [[Var(v=0.1570, grad=0.5371)], [Var(v=0.1147, grad=-1.1829)], [Var(v=0.0290, grad=0.1690)], [Var(v=-0.0722, grad=0.0000)], [Var(v=0.0944, grad=-0.6955)], [Var(v=0.0205, grad=0.0000)], [Var(v=0.1340, grad=-0.1867)], [Var(v=0.0999, grad=0.0295)], [Var(v=0.0369, grad=0.0000)], [Var(v=-0.0699, grad=0.0000)], [Var(v=-0.0207, grad=-4.3181)], [Var(v=0.0052, grad=1.5028)], [Var(v=-0.0292, grad=3.0666)], [Var(v=0.2098, grad=-0.8223)], [Var(v=0.0788, grad=-4.9102)], [Var(v=0.0109, grad=0.0000)], [Var(v=0.1444, grad=-5.0043)], [Var(v=-0.1671, grad=-0.2614)], [Var(v=0.1371, grad=-2.0766)], [Var(v=0.2124, grad=0.0000)], [Var(v=0.0274, grad=2.6151)], [Var(v=0.0149, grad=0.5251)], [Var(v=0.0884, grad=0.0000)], [Var(v=0.0110, grad=0.0000)], [Var(v=-0.1221, grad=0.0000)], [Var(v=-0.0712, grad=0.0000)], [Var(v=-0.0301, grad=0.0000)], [Var(v=0.1019, grad=-2.2908)], [Var(v=0.0182, grad=-2.5539)], [Var(v=0.0287, grad=0.0000)], [Var(v=-0.0884, grad=-0.6451)], [Var(v=-0.0659, grad=-0.6182)], [Var(v=0.0744, grad=-0.9295)], [Var(v=-0.0162, grad=-1.5783)], [Var(v=-0.0154, grad=0.5111)], [Var(v=-0.0205, grad=-0.4416)], [Var(v=0.0621, grad=0.0000)], [Var(v=0.1525, grad=-4.7505)], [Var(v=0.0343, grad=0.0000)], [Var(v=-0.1269, grad=-0.2105)], [Var(v=-0.1859, grad=-3.9118)], [Var(v=0.0144, grad=-3.7184)], [Var(v=0.0405, grad=0.0000)], [Var(v=0.0076, grad=-1.3165)], [Var(v=0.1220, grad=0.0000)], [Var(v=0.0184, grad=0.0000)], [Var(v=-0.2403, grad=0.3251)], [Var(v=-0.0702, grad=-0.0583)], [Var(v=0.1674, grad=-1.1741)], [Var(v=0.0674, grad=1.1838)]] Biases: [Var(v=0.0000, grad=2.0773)]\n",
      "\n",
      "Network after update:\n",
      "Layer 0 \n",
      " Weights: [[Var(v=0.1086, grad=-7.1399), Var(v=0.1354, grad=-10.5913), Var(v=0.1079, grad=1.8825), Var(v=-0.0559, grad=3.7875), Var(v=0.0273, grad=-1.0164), Var(v=-0.0591, grad=-5.4192), Var(v=0.1072, grad=-10.0700), Var(v=0.0265, grad=4.0837), Var(v=0.0204, grad=-3.5824), Var(v=-0.0038, grad=-2.1732), Var(v=0.2480, grad=-13.3222), Var(v=-0.0106, grad=2.3814), Var(v=-0.1543, grad=10.4761), Var(v=0.1479, grad=-4.7271), Var(v=-0.0381, grad=2.0962)]] Biases: [Var(v=0.0614, grad=-6.1359), Var(v=0.0910, grad=-9.1019), Var(v=-0.0162, grad=1.6178), Var(v=0.0344, grad=-3.4427), Var(v=0.0087, grad=-0.8735), Var(v=-0.0493, grad=4.9259), Var(v=0.0865, grad=-8.6540), Var(v=-0.0351, grad=3.5095), Var(v=-0.0326, grad=3.2563), Var(v=-0.0198, grad=1.9754), Var(v=0.1145, grad=-11.4488), Var(v=-0.0205, grad=2.0465), Var(v=0.0952, grad=-9.5225), Var(v=0.0406, grad=-4.0624), Var(v=0.0191, grad=-1.9054)]\n",
      "Layer 1 \n",
      " Weights: [[Var(v=0.0330, grad=0.0000), Var(v=0.0195, grad=-0.4240), Var(v=0.0207, grad=-0.1072), Var(v=-0.1345, grad=0.0000), Var(v=0.1412, grad=-0.3490), Var(v=0.0219, grad=0.0000), Var(v=-0.0746, grad=-0.4951), Var(v=0.1091, grad=0.0000), Var(v=0.2194, grad=0.0000), Var(v=-0.0213, grad=0.0000), Var(v=0.0378, grad=0.0764), Var(v=0.1805, grad=-0.0192), Var(v=0.0326, grad=0.0000), Var(v=-0.0140, grad=-0.7753), Var(v=0.2233, grad=-0.2913), Var(v=-0.0110, grad=0.0000), Var(v=-0.0444, grad=-0.5338), Var(v=-0.0791, grad=0.6177), Var(v=0.2503, grad=-0.5068), Var(v=-0.1450, grad=0.0000), Var(v=-0.1062, grad=0.0000), Var(v=0.1184, grad=-0.0551), Var(v=-0.0344, grad=0.0000), Var(v=0.0095, grad=0.0000), Var(v=-0.0867, grad=0.0000), Var(v=-0.0489, grad=0.0000), Var(v=0.0226, grad=0.0000), Var(v=0.0055, grad=-0.3765), Var(v=0.1191, grad=-0.0673), Var(v=0.1326, grad=0.0000), Var(v=0.0803, grad=0.3269), Var(v=0.0656, grad=0.2434), Var(v=0.1495, grad=-0.2751), Var(v=-0.0612, grad=0.0599), Var(v=-0.0510, grad=0.0570), Var(v=0.0483, grad=0.0759), Var(v=-0.0363, grad=0.0000), Var(v=0.1481, grad=-0.5636), Var(v=0.0878, grad=0.0000), Var(v=-0.0083, grad=0.4690), Var(v=0.0015, grad=0.6871), Var(v=0.0733, grad=-0.0531), Var(v=0.1498, grad=0.0000), Var(v=0.0431, grad=-0.0281), Var(v=0.1729, grad=0.0000), Var(v=0.0068, grad=0.0000), Var(v=-0.0781, grad=0.0000), Var(v=0.0725, grad=0.2595), Var(v=-0.0469, grad=-0.6188), Var(v=0.0616, grad=-0.2491)], [Var(v=0.0999, grad=0.0000), Var(v=-0.0049, grad=-0.3356), Var(v=-0.0302, grad=-0.0848), Var(v=-0.0955, grad=0.0000), Var(v=0.0918, grad=-0.2763), Var(v=-0.1594, grad=0.0000), Var(v=0.0836, grad=-0.3920), Var(v=-0.0035, grad=0.0000), Var(v=0.0987, grad=0.0000), Var(v=0.0847, grad=0.0000), Var(v=0.0522, grad=0.0605), Var(v=-0.0746, grad=-0.0152), Var(v=-0.1786, grad=0.0000), Var(v=-0.0619, grad=-0.6138), Var(v=0.2568, grad=-0.2306), Var(v=0.0266, grad=0.0000), Var(v=0.0499, grad=-0.4226), Var(v=-0.1043, grad=0.4890), Var(v=0.1196, grad=-0.4012), Var(v=0.0258, grad=0.0000), Var(v=0.0049, grad=0.0000), Var(v=-0.2034, grad=-0.0436), Var(v=-0.0711, grad=0.0000), Var(v=0.1024, grad=0.0000), Var(v=0.0519, grad=0.0000), Var(v=-0.1436, grad=0.0000), Var(v=0.0944, grad=0.0000), Var(v=0.1914, grad=-0.2981), Var(v=0.2258, grad=-0.0533), Var(v=-0.0984, grad=0.0000), Var(v=-0.0075, grad=0.2588), Var(v=-0.1570, grad=0.1927), Var(v=0.0750, grad=-0.2178), Var(v=-0.0239, grad=0.0474), Var(v=0.2010, grad=0.0451), Var(v=-0.0886, grad=0.0601), Var(v=-0.0893, grad=0.0000), Var(v=-0.0243, grad=-0.4462), Var(v=0.0510, grad=0.0000), Var(v=-0.2427, grad=0.3713), Var(v=-0.0166, grad=0.5439), Var(v=-0.0558, grad=-0.0421), Var(v=0.0945, grad=0.0000), Var(v=0.0119, grad=-0.0222), Var(v=0.1901, grad=0.0000), Var(v=0.1746, grad=0.0000), Var(v=-0.1450, grad=0.0000), Var(v=-0.0667, grad=0.2055), Var(v=-0.1400, grad=-0.4899), Var(v=0.0490, grad=-0.1972)], [Var(v=-0.1204, grad=0.0000), Var(v=-0.0095, grad=-1.4421), Var(v=-0.0157, grad=-0.3645), Var(v=-0.0744, grad=0.0000), Var(v=0.0009, grad=-1.1872), Var(v=-0.0883, grad=0.0000), Var(v=-0.0248, grad=-1.6842), Var(v=0.0770, grad=0.0000), Var(v=-0.0159, grad=0.0000), Var(v=0.0772, grad=0.0000), Var(v=0.1539, grad=0.2600), Var(v=0.0918, grad=-0.0653), Var(v=-0.0569, grad=0.0000), Var(v=0.0746, grad=-2.6373), Var(v=0.1160, grad=-0.9909), Var(v=-0.1117, grad=0.0000), Var(v=0.0991, grad=-1.8159), Var(v=0.0158, grad=2.1010), Var(v=-0.0466, grad=-1.7238), Var(v=-0.0089, grad=0.0000), Var(v=-0.1064, grad=0.0000), Var(v=-0.0226, grad=-0.1875), Var(v=-0.1166, grad=0.0000), Var(v=0.0036, grad=0.0000), Var(v=0.0109, grad=0.0000), Var(v=0.0185, grad=0.0000), Var(v=-0.2435, grad=0.0000), Var(v=-0.0377, grad=-1.2806), Var(v=-0.0109, grad=-0.2288), Var(v=0.0006, grad=0.0000), Var(v=0.1757, grad=1.1120), Var(v=-0.0572, grad=0.8280), Var(v=0.0880, grad=-0.9358), Var(v=0.0410, grad=0.2038), Var(v=-0.0414, grad=0.1939), Var(v=-0.0416, grad=0.2583), Var(v=-0.0581, grad=0.0000), Var(v=0.1259, grad=-1.9171), Var(v=0.0882, grad=0.0000), Var(v=0.1139, grad=1.5951), Var(v=0.1232, grad=2.3371), Var(v=0.0641, grad=-0.1807), Var(v=-0.1123, grad=0.0000), Var(v=0.0965, grad=-0.0955), Var(v=-0.0743, grad=0.0000), Var(v=-0.0845, grad=0.0000), Var(v=-0.0757, grad=0.0000), Var(v=-0.0448, grad=0.8828), Var(v=0.0998, grad=-2.1048), Var(v=0.0243, grad=-0.8472)], [Var(v=0.0405, grad=0.2721), Var(v=0.1109, grad=0.0000), Var(v=0.1050, grad=0.0503), Var(v=0.0542, grad=0.0000), Var(v=0.0305, grad=0.0000), Var(v=0.0821, grad=0.0000), Var(v=-0.2900, grad=0.2322), Var(v=-0.1442, grad=0.1731), Var(v=-0.1627, grad=0.0000), Var(v=0.0153, grad=0.0000), Var(v=0.0064, grad=-0.0358), Var(v=-0.1184, grad=0.0090), Var(v=0.0225, grad=-0.0506), Var(v=0.0473, grad=0.3636), Var(v=-0.0079, grad=0.1366), Var(v=0.1675, grad=0.0000), Var(v=0.1441, grad=0.0000), Var(v=-0.0603, grad=0.0000), Var(v=0.0157, grad=0.2377), Var(v=-0.0138, grad=0.0000), Var(v=-0.0001, grad=0.0475), Var(v=0.0792, grad=0.0259), Var(v=-0.0922, grad=0.0000), Var(v=-0.0133, grad=0.0000), Var(v=0.0822, grad=0.0000), Var(v=-0.0113, grad=0.0000), Var(v=-0.0416, grad=0.0000), Var(v=0.0821, grad=0.0000), Var(v=-0.0724, grad=0.0000), Var(v=0.0581, grad=0.0000), Var(v=0.0826, grad=-0.1533), Var(v=0.1005, grad=-0.1142), Var(v=0.1127, grad=0.1290), Var(v=-0.0018, grad=0.0000), Var(v=0.0073, grad=-0.0267), Var(v=-0.0095, grad=-0.0356), Var(v=0.0011, grad=0.0000), Var(v=-0.1508, grad=0.0000), Var(v=0.0093, grad=0.0000), Var(v=0.0004, grad=-0.2199), Var(v=0.0897, grad=0.0000), Var(v=0.0005, grad=0.0000), Var(v=0.2040, grad=0.0000), Var(v=-0.2089, grad=0.0000), Var(v=0.0009, grad=0.0000), Var(v=0.0395, grad=0.0000), Var(v=-0.0139, grad=-0.4165), Var(v=0.1081, grad=-0.1217), Var(v=0.0644, grad=0.0000), Var(v=-0.0141, grad=0.1168)], [Var(v=0.0446, grad=0.0000), Var(v=-0.1088, grad=-0.1952), Var(v=0.0498, grad=-0.0493), Var(v=-0.0539, grad=0.0000), Var(v=0.0826, grad=-0.1607), Var(v=0.0965, grad=0.0000), Var(v=-0.2528, grad=-0.2279), Var(v=-0.0028, grad=0.0000), Var(v=0.0794, grad=0.0000), Var(v=-0.2557, grad=0.0000), Var(v=0.2115, grad=0.0352), Var(v=0.1392, grad=-0.0088), Var(v=-0.0710, grad=0.0000), Var(v=-0.1031, grad=-0.3569), Var(v=0.0616, grad=-0.1341), Var(v=0.0315, grad=0.0000), Var(v=0.0342, grad=-0.2458), Var(v=-0.1062, grad=0.2844), Var(v=-0.0301, grad=-0.2333), Var(v=-0.0242, grad=0.0000), Var(v=-0.0095, grad=0.0000), Var(v=0.0830, grad=-0.0254), Var(v=0.0416, grad=0.0000), Var(v=-0.0407, grad=0.0000), Var(v=0.0339, grad=0.0000), Var(v=0.0226, grad=0.0000), Var(v=-0.1935, grad=0.0000), Var(v=0.1169, grad=-0.1733), Var(v=-0.0652, grad=-0.0310), Var(v=-0.0425, grad=0.0000), Var(v=0.0353, grad=0.1505), Var(v=0.0880, grad=0.1121), Var(v=-0.0253, grad=-0.1266), Var(v=-0.1439, grad=0.0276), Var(v=0.0300, grad=0.0262), Var(v=-0.0555, grad=0.0350), Var(v=-0.1389, grad=0.0000), Var(v=-0.0018, grad=-0.2595), Var(v=0.1477, grad=0.0000), Var(v=-0.0473, grad=0.2159), Var(v=-0.0746, grad=0.3163), Var(v=0.1059, grad=-0.0245), Var(v=-0.1728, grad=0.0000), Var(v=-0.0554, grad=-0.0129), Var(v=-0.0879, grad=0.0000), Var(v=-0.1233, grad=0.0000), Var(v=-0.0773, grad=0.0000), Var(v=-0.1501, grad=0.1195), Var(v=0.1009, grad=-0.2849), Var(v=0.0300, grad=-0.1147)], [Var(v=0.0782, grad=1.7099), Var(v=-0.0962, grad=0.0000), Var(v=0.0727, grad=0.3158), Var(v=-0.1180, grad=0.0000), Var(v=-0.0095, grad=0.0000), Var(v=-0.1096, grad=0.0000), Var(v=0.0976, grad=1.4592), Var(v=0.0863, grad=1.0879), Var(v=-0.1758, grad=0.0000), Var(v=-0.1265, grad=0.0000), Var(v=0.0688, grad=-0.2253), Var(v=0.1929, grad=0.0565), Var(v=0.2009, grad=-0.3177), Var(v=0.0706, grad=2.2850), Var(v=0.0857, grad=0.8586), Var(v=-0.0573, grad=0.0000), Var(v=-0.0137, grad=0.0000), Var(v=-0.0285, grad=0.0000), Var(v=0.0374, grad=1.4935), Var(v=-0.0790, grad=0.0000), Var(v=0.1433, grad=0.2986), Var(v=0.0613, grad=0.1625), Var(v=0.0107, grad=0.0000), Var(v=0.0198, grad=0.0000), Var(v=-0.1566, grad=0.0000), Var(v=-0.1165, grad=0.0000), Var(v=0.0013, grad=0.0000), Var(v=-0.0004, grad=0.0000), Var(v=-0.0636, grad=0.0000), Var(v=-0.1510, grad=0.0000), Var(v=0.0463, grad=-0.9634), Var(v=-0.0136, grad=-0.7174), Var(v=0.1373, grad=0.8108), Var(v=-0.0627, grad=0.0000), Var(v=0.0260, grad=-0.1680), Var(v=0.0342, grad=-0.2238), Var(v=-0.1042, grad=0.0000), Var(v=-0.1173, grad=0.0000), Var(v=-0.1017, grad=0.0000), Var(v=0.1768, grad=-1.3821), Var(v=-0.2643, grad=0.0000), Var(v=-0.1010, grad=0.0000), Var(v=-0.1551, grad=0.0000), Var(v=-0.0832, grad=0.0000), Var(v=-0.1270, grad=0.0000), Var(v=0.0154, grad=0.0000), Var(v=0.1169, grad=-2.6172), Var(v=0.0291, grad=-0.7649), Var(v=-0.1620, grad=0.0000), Var(v=0.2530, grad=0.7340)], [Var(v=0.1467, grad=0.0000), Var(v=0.0265, grad=-0.0739), Var(v=0.1379, grad=-0.0187), Var(v=-0.0013, grad=0.0000), Var(v=0.1415, grad=-0.0608), Var(v=-0.0098, grad=0.0000), Var(v=0.2590, grad=-0.0863), Var(v=0.0195, grad=0.0000), Var(v=0.0391, grad=0.0000), Var(v=0.1430, grad=0.0000), Var(v=-0.1135, grad=0.0133), Var(v=-0.0436, grad=-0.0033), Var(v=-0.0928, grad=0.0000), Var(v=0.0018, grad=-0.1351), Var(v=0.0269, grad=-0.0508), Var(v=-0.0106, grad=0.0000), Var(v=0.0220, grad=-0.0930), Var(v=0.0593, grad=0.1076), Var(v=-0.0212, grad=-0.0883), Var(v=-0.0929, grad=0.0000), Var(v=-0.0543, grad=0.0000), Var(v=-0.1261, grad=-0.0096), Var(v=-0.0230, grad=0.0000), Var(v=-0.0938, grad=0.0000), Var(v=-0.0116, grad=0.0000), Var(v=0.1267, grad=0.0000), Var(v=-0.0467, grad=0.0000), Var(v=0.0710, grad=-0.0656), Var(v=-0.0917, grad=-0.0117), Var(v=0.1031, grad=0.0000), Var(v=-0.1023, grad=0.0570), Var(v=0.1004, grad=0.0424), Var(v=0.1837, grad=-0.0479), Var(v=-0.0742, grad=0.0104), Var(v=-0.0012, grad=0.0099), Var(v=0.0521, grad=0.0132), Var(v=0.0082, grad=0.0000), Var(v=0.0919, grad=-0.0982), Var(v=0.1821, grad=0.0000), Var(v=-0.0585, grad=0.0817), Var(v=-0.0212, grad=0.1197), Var(v=-0.1025, grad=-0.0093), Var(v=-0.0139, grad=0.0000), Var(v=-0.2042, grad=-0.0049), Var(v=0.1701, grad=0.0000), Var(v=0.0429, grad=0.0000), Var(v=0.0053, grad=0.0000), Var(v=0.1463, grad=0.0452), Var(v=0.1288, grad=-0.1078), Var(v=-0.0038, grad=-0.0434)], [Var(v=0.0393, grad=0.0000), Var(v=0.0326, grad=-0.7670), Var(v=-0.1396, grad=-0.1938), Var(v=0.1560, grad=0.0000), Var(v=0.0963, grad=-0.6314), Var(v=0.0889, grad=0.0000), Var(v=-0.0020, grad=-0.8957), Var(v=-0.1256, grad=0.0000), Var(v=0.0923, grad=0.0000), Var(v=-0.1417, grad=0.0000), Var(v=0.1349, grad=0.1383), Var(v=-0.0997, grad=-0.0347), Var(v=-0.0745, grad=0.0000), Var(v=-0.0139, grad=-1.4026), Var(v=-0.0391, grad=-0.5270), Var(v=-0.0156, grad=0.0000), Var(v=-0.0050, grad=-0.9657), Var(v=0.0176, grad=1.1173), Var(v=-0.0412, grad=-0.9168), Var(v=0.0415, grad=0.0000), Var(v=0.0152, grad=0.0000), Var(v=-0.0489, grad=-0.0997), Var(v=0.1629, grad=0.0000), Var(v=-0.0211, grad=0.0000), Var(v=-0.0604, grad=0.0000), Var(v=0.0375, grad=0.0000), Var(v=0.0592, grad=0.0000), Var(v=0.0532, grad=-0.6811), Var(v=0.2232, grad=-0.1217), Var(v=-0.0241, grad=0.0000), Var(v=0.0083, grad=0.5914), Var(v=0.1400, grad=0.4404), Var(v=0.0507, grad=-0.4977), Var(v=0.0202, grad=0.1084), Var(v=0.1162, grad=0.1031), Var(v=-0.0140, grad=0.1374), Var(v=-0.0193, grad=0.0000), Var(v=-0.0376, grad=-1.0195), Var(v=-0.0131, grad=0.0000), Var(v=0.0206, grad=0.8483), Var(v=0.1191, grad=1.2429), Var(v=0.1525, grad=-0.0961), Var(v=-0.0616, grad=0.0000), Var(v=-0.1387, grad=-0.0508), Var(v=-0.1272, grad=0.0000), Var(v=-0.3028, grad=0.0000), Var(v=0.0641, grad=0.0000), Var(v=-0.0116, grad=0.4695), Var(v=0.1208, grad=-1.1194), Var(v=-0.0503, grad=-0.4506)], [Var(v=0.1107, grad=0.2332), Var(v=-0.1305, grad=0.0000), Var(v=-0.0106, grad=0.0431), Var(v=-0.0126, grad=0.0000), Var(v=-0.1011, grad=0.0000), Var(v=0.1106, grad=0.0000), Var(v=0.0847, grad=0.1990), Var(v=0.0344, grad=0.1484), Var(v=0.0532, grad=0.0000), Var(v=-0.1128, grad=0.0000), Var(v=0.0419, grad=-0.0307), Var(v=0.2189, grad=0.0077), Var(v=0.0482, grad=-0.0433), Var(v=0.1456, grad=0.3116), Var(v=-0.0234, grad=0.1171), Var(v=0.1741, grad=0.0000), Var(v=-0.0025, grad=0.0000), Var(v=-0.0417, grad=0.0000), Var(v=-0.0866, grad=0.2037), Var(v=0.0416, grad=0.0000), Var(v=0.1972, grad=0.0407), Var(v=0.0686, grad=0.0222), Var(v=0.0039, grad=0.0000), Var(v=-0.1254, grad=0.0000), Var(v=0.0819, grad=0.0000), Var(v=0.2577, grad=0.0000), Var(v=0.0179, grad=0.0000), Var(v=-0.1184, grad=0.0000), Var(v=0.0335, grad=0.0000), Var(v=0.0272, grad=0.0000), Var(v=0.1022, grad=-0.1314), Var(v=0.0190, grad=-0.0978), Var(v=-0.1556, grad=0.1106), Var(v=0.1489, grad=0.0000), Var(v=0.1310, grad=-0.0229), Var(v=0.0939, grad=-0.0305), Var(v=-0.0816, grad=0.0000), Var(v=-0.0137, grad=0.0000), Var(v=-0.0715, grad=0.0000), Var(v=0.0779, grad=-0.1885), Var(v=-0.1559, grad=0.0000), Var(v=-0.0639, grad=0.0000), Var(v=-0.0221, grad=0.0000), Var(v=-0.2151, grad=0.0000), Var(v=-0.0908, grad=0.0000), Var(v=-0.0726, grad=0.0000), Var(v=-0.0851, grad=-0.3569), Var(v=-0.0329, grad=-0.1043), Var(v=0.0352, grad=0.0000), Var(v=-0.1057, grad=0.1001)], [Var(v=-0.0757, grad=0.3859), Var(v=0.0674, grad=0.0000), Var(v=-0.0934, grad=0.0713), Var(v=-0.1374, grad=0.0000), Var(v=-0.1335, grad=0.0000), Var(v=-0.0417, grad=0.0000), Var(v=-0.0218, grad=0.3293), Var(v=0.1289, grad=0.2455), Var(v=-0.0450, grad=0.0000), Var(v=0.0255, grad=0.0000), Var(v=0.0435, grad=-0.0508), Var(v=0.0094, grad=0.0128), Var(v=0.1147, grad=-0.0717), Var(v=-0.1644, grad=0.5157), Var(v=-0.0813, grad=0.1938), Var(v=-0.0128, grad=0.0000), Var(v=-0.0388, grad=0.0000), Var(v=0.0019, grad=0.0000), Var(v=0.0149, grad=0.3371), Var(v=0.0040, grad=0.0000), Var(v=-0.0244, grad=0.0674), Var(v=0.0943, grad=0.0367), Var(v=-0.1334, grad=0.0000), Var(v=0.0121, grad=0.0000), Var(v=0.1813, grad=0.0000), Var(v=0.0056, grad=0.0000), Var(v=-0.1218, grad=0.0000), Var(v=0.0211, grad=0.0000), Var(v=-0.0815, grad=0.0000), Var(v=-0.0599, grad=0.0000), Var(v=-0.0473, grad=-0.2174), Var(v=0.0920, grad=-0.1619), Var(v=-0.0743, grad=0.1830), Var(v=0.1479, grad=0.0000), Var(v=-0.0437, grad=-0.0379), Var(v=0.0057, grad=-0.0505), Var(v=0.0014, grad=0.0000), Var(v=0.0111, grad=0.0000), Var(v=0.1255, grad=0.0000), Var(v=-0.1517, grad=-0.3119), Var(v=-0.0026, grad=0.0000), Var(v=0.0663, grad=0.0000), Var(v=0.1779, grad=0.0000), Var(v=-0.0787, grad=0.0000), Var(v=-0.0367, grad=0.0000), Var(v=0.0281, grad=0.0000), Var(v=-0.1695, grad=-0.5907), Var(v=-0.0584, grad=-0.1726), Var(v=-0.0067, grad=0.0000), Var(v=0.1001, grad=0.1657)], [Var(v=-0.1029, grad=0.0000), Var(v=0.1620, grad=-1.3070), Var(v=-0.0673, grad=-0.3303), Var(v=-0.0751, grad=0.0000), Var(v=-0.0473, grad=-1.0760), Var(v=-0.0246, grad=0.0000), Var(v=0.1066, grad=-1.5264), Var(v=0.0611, grad=0.0000), Var(v=-0.1817, grad=0.0000), Var(v=-0.1099, grad=0.0000), Var(v=0.1506, grad=0.2357), Var(v=-0.0023, grad=-0.0591), Var(v=0.0635, grad=0.0000), Var(v=0.1398, grad=-2.3902), Var(v=0.1560, grad=-0.8981), Var(v=-0.0586, grad=0.0000), Var(v=0.2542, grad=-1.6457), Var(v=0.0034, grad=1.9041), Var(v=0.1831, grad=-1.5623), Var(v=-0.0710, grad=0.0000), Var(v=-0.0053, grad=0.0000), Var(v=0.1137, grad=-0.1700), Var(v=-0.0586, grad=0.0000), Var(v=0.1351, grad=0.0000), Var(v=-0.0508, grad=0.0000), Var(v=-0.1224, grad=0.0000), Var(v=-0.0415, grad=0.0000), Var(v=0.0916, grad=-1.1606), Var(v=-0.0357, grad=-0.2074), Var(v=-0.0826, grad=0.0000), Var(v=0.0775, grad=1.0078), Var(v=0.0452, grad=0.7505), Var(v=0.0095, grad=-0.8481), Var(v=0.0964, grad=0.1847), Var(v=0.0913, grad=0.1757), Var(v=0.0530, grad=0.2341), Var(v=0.1013, grad=0.0000), Var(v=0.2068, grad=-1.7374), Var(v=-0.2016, grad=0.0000), Var(v=-0.0346, grad=1.4457), Var(v=-0.0840, grad=2.1181), Var(v=0.0246, grad=-0.1638), Var(v=-0.1241, grad=0.0000), Var(v=0.0349, grad=-0.0865), Var(v=-0.2281, grad=0.0000), Var(v=-0.0564, grad=0.0000), Var(v=-0.0558, grad=0.0000), Var(v=0.0551, grad=0.8001), Var(v=-0.0205, grad=-1.9076), Var(v=0.0034, grad=-0.7678)], [Var(v=-0.0468, grad=0.0000), Var(v=-0.0440, grad=-0.1499), Var(v=0.0859, grad=-0.0379), Var(v=0.2192, grad=0.0000), Var(v=-0.0367, grad=-0.1234), Var(v=0.0016, grad=0.0000), Var(v=-0.0681, grad=-0.1750), Var(v=0.1027, grad=0.0000), Var(v=-0.1163, grad=0.0000), Var(v=0.0879, grad=0.0000), Var(v=0.0256, grad=0.0270), Var(v=-0.2060, grad=-0.0068), Var(v=-0.0248, grad=0.0000), Var(v=-0.0727, grad=-0.2741), Var(v=0.0342, grad=-0.1030), Var(v=0.1943, grad=0.0000), Var(v=0.0033, grad=-0.1887), Var(v=-0.0569, grad=0.2183), Var(v=0.0698, grad=-0.1791), Var(v=0.0488, grad=0.0000), Var(v=-0.1762, grad=0.0000), Var(v=-0.0145, grad=-0.0195), Var(v=0.0032, grad=0.0000), Var(v=-0.0954, grad=0.0000), Var(v=0.0445, grad=0.0000), Var(v=-0.0265, grad=0.0000), Var(v=0.0185, grad=0.0000), Var(v=-0.0611, grad=-0.1331), Var(v=0.0060, grad=-0.0238), Var(v=-0.0888, grad=0.0000), Var(v=-0.0645, grad=0.1156), Var(v=-0.0253, grad=0.0860), Var(v=0.0868, grad=-0.0972), Var(v=-0.1505, grad=0.0212), Var(v=0.0603, grad=0.0201), Var(v=0.1763, grad=0.0268), Var(v=-0.1053, grad=0.0000), Var(v=-0.0246, grad=-0.1992), Var(v=-0.0140, grad=0.0000), Var(v=0.0499, grad=0.1658), Var(v=0.1118, grad=0.2429), Var(v=-0.1132, grad=-0.0188), Var(v=0.0056, grad=0.0000), Var(v=-0.0353, grad=-0.0099), Var(v=-0.0272, grad=0.0000), Var(v=-0.0900, grad=0.0000), Var(v=0.0665, grad=0.0000), Var(v=-0.1563, grad=0.0917), Var(v=0.0990, grad=-0.2187), Var(v=-0.1559, grad=-0.0880)], [Var(v=-0.1188, grad=0.7477), Var(v=0.0218, grad=0.0000), Var(v=-0.1524, grad=0.1381), Var(v=-0.0978, grad=0.0000), Var(v=0.0597, grad=0.0000), Var(v=-0.0477, grad=0.0000), Var(v=-0.0526, grad=0.6381), Var(v=-0.1825, grad=0.4758), Var(v=0.0090, grad=0.0000), Var(v=0.0715, grad=0.0000), Var(v=-0.0114, grad=-0.0985), Var(v=0.0390, grad=0.0247), Var(v=0.0988, grad=-0.1389), Var(v=-0.0257, grad=0.9992), Var(v=-0.1116, grad=0.3755), Var(v=-0.0374, grad=0.0000), Var(v=-0.1685, grad=0.0000), Var(v=-0.0564, grad=0.0000), Var(v=-0.1011, grad=0.6531), Var(v=-0.0661, grad=0.0000), Var(v=0.1928, grad=0.1306), Var(v=-0.0970, grad=0.0711), Var(v=-0.0717, grad=0.0000), Var(v=-0.0461, grad=0.0000), Var(v=-0.0879, grad=0.0000), Var(v=-0.0325, grad=0.0000), Var(v=-0.0952, grad=0.0000), Var(v=-0.1001, grad=0.0000), Var(v=-0.0435, grad=0.0000), Var(v=-0.0753, grad=0.0000), Var(v=0.2394, grad=-0.4213), Var(v=-0.0346, grad=-0.3137), Var(v=-0.0170, grad=0.3546), Var(v=0.0139, grad=0.0000), Var(v=0.1137, grad=-0.0735), Var(v=-0.1056, grad=-0.0979), Var(v=0.0179, grad=0.0000), Var(v=-0.0672, grad=0.0000), Var(v=-0.0034, grad=0.0000), Var(v=0.0413, grad=-0.6044), Var(v=0.2049, grad=0.0000), Var(v=0.1113, grad=0.0000), Var(v=-0.0226, grad=0.0000), Var(v=0.0160, grad=0.0000), Var(v=-0.0396, grad=0.0000), Var(v=-0.0919, grad=0.0000), Var(v=0.0034, grad=-1.1445), Var(v=0.1699, grad=-0.3345), Var(v=-0.0467, grad=0.0000), Var(v=-0.1045, grad=0.3210)], [Var(v=-0.1259, grad=0.0000), Var(v=-0.0066, grad=-1.1450), Var(v=0.1791, grad=-0.2894), Var(v=-0.1803, grad=0.0000), Var(v=0.0039, grad=-0.9426), Var(v=-0.2251, grad=0.0000), Var(v=0.0811, grad=-1.3372), Var(v=-0.1366, grad=0.0000), Var(v=-0.1142, grad=0.0000), Var(v=-0.1418, grad=0.0000), Var(v=0.0197, grad=0.2064), Var(v=-0.0038, grad=-0.0518), Var(v=-0.1460, grad=0.0000), Var(v=0.0840, grad=-2.0939), Var(v=0.0732, grad=-0.7868), Var(v=-0.2637, grad=0.0000), Var(v=0.1503, grad=-1.4417), Var(v=-0.0047, grad=1.6681), Var(v=0.0199, grad=-1.3686), Var(v=0.0441, grad=0.0000), Var(v=-0.0293, grad=0.0000), Var(v=-0.0137, grad=-0.1489), Var(v=-0.0010, grad=0.0000), Var(v=-0.1697, grad=0.0000), Var(v=0.0679, grad=0.0000), Var(v=-0.1148, grad=0.0000), Var(v=0.0176, grad=0.0000), Var(v=0.1091, grad=-1.0167), Var(v=0.0752, grad=-0.1817), Var(v=0.0927, grad=0.0000), Var(v=-0.1247, grad=0.8829), Var(v=-0.0255, grad=0.6574), Var(v=0.0201, grad=-0.7430), Var(v=0.0540, grad=0.1618), Var(v=-0.1557, grad=0.1539), Var(v=0.0291, grad=0.2051), Var(v=0.0436, grad=0.0000), Var(v=0.1266, grad=-1.5220), Var(v=-0.0508, grad=0.0000), Var(v=0.0655, grad=1.2665), Var(v=0.1710, grad=1.8555), Var(v=0.1607, grad=-0.1435), Var(v=0.0896, grad=0.0000), Var(v=0.0747, grad=-0.0758), Var(v=0.0205, grad=0.0000), Var(v=-0.0808, grad=0.0000), Var(v=-0.0832, grad=0.0000), Var(v=0.1108, grad=0.7009), Var(v=0.0313, grad=-1.6711), Var(v=0.1008, grad=-0.6727)], [Var(v=-0.0249, grad=0.2590), Var(v=-0.1545, grad=0.0000), Var(v=0.0923, grad=0.0478), Var(v=-0.0021, grad=0.0000), Var(v=0.0705, grad=0.0000), Var(v=-0.0895, grad=0.0000), Var(v=-0.0466, grad=0.2211), Var(v=-0.1904, grad=0.1648), Var(v=0.1029, grad=0.0000), Var(v=0.1002, grad=0.0000), Var(v=0.1785, grad=-0.0341), Var(v=-0.0894, grad=0.0086), Var(v=0.0364, grad=-0.0481), Var(v=0.0739, grad=0.3462), Var(v=-0.0601, grad=0.1301), Var(v=-0.0434, grad=0.0000), Var(v=0.0427, grad=0.0000), Var(v=0.0268, grad=0.0000), Var(v=-0.0338, grad=0.2263), Var(v=0.0496, grad=0.0000), Var(v=-0.0844, grad=0.0452), Var(v=0.1134, grad=0.0246), Var(v=-0.1247, grad=0.0000), Var(v=0.0648, grad=0.0000), Var(v=0.0648, grad=0.0000), Var(v=-0.1425, grad=0.0000), Var(v=-0.1061, grad=0.0000), Var(v=0.1194, grad=0.0000), Var(v=-0.0568, grad=0.0000), Var(v=-0.0809, grad=0.0000), Var(v=0.0988, grad=-0.1460), Var(v=0.0688, grad=-0.1087), Var(v=0.0803, grad=0.1228), Var(v=-0.0254, grad=0.0000), Var(v=-0.0287, grad=-0.0254), Var(v=0.0270, grad=-0.0339), Var(v=-0.1522, grad=0.0000), Var(v=-0.1473, grad=0.0000), Var(v=-0.0427, grad=0.0000), Var(v=-0.1571, grad=-0.2094), Var(v=-0.1782, grad=0.0000), Var(v=-0.0493, grad=0.0000), Var(v=-0.0900, grad=0.0000), Var(v=-0.0280, grad=0.0000), Var(v=0.0775, grad=0.0000), Var(v=-0.0062, grad=0.0000), Var(v=-0.0148, grad=-0.3965), Var(v=0.0315, grad=-0.1159), Var(v=-0.0414, grad=0.0000), Var(v=-0.1962, grad=0.1112)]] Biases: [Var(v=-0.1371, grad=13.7131), Var(v=0.0978, grad=-9.7826), Var(v=-0.0006, grad=0.0602), Var(v=0.0000, grad=0.0000), Var(v=0.0805, grad=-8.0535), Var(v=0.0000, grad=0.0000), Var(v=-0.0028, grad=0.2783), Var(v=-0.0873, grad=8.7253), Var(v=0.0000, grad=0.0000), Var(v=0.0000, grad=0.0000), Var(v=0.0004, grad=-0.0430), Var(v=-0.0001, grad=0.0108), Var(v=0.0255, grad=-2.5482), Var(v=-0.0044, grad=0.4357), Var(v=-0.0016, grad=0.1637), Var(v=0.0000, grad=0.0000), Var(v=0.1232, grad=-12.3178), Var(v=-0.1425, grad=14.2518), Var(v=-0.0028, grad=0.2848), Var(v=0.0000, grad=0.0000), Var(v=-0.0239, grad=2.3948), Var(v=-0.0003, grad=0.0310), Var(v=0.0000, grad=0.0000), Var(v=0.0000, grad=0.0000), Var(v=0.0000, grad=0.0000), Var(v=0.0000, grad=0.0000), Var(v=0.0000, grad=0.0000), Var(v=0.0869, grad=-8.6870), Var(v=0.0155, grad=-1.5523), Var(v=0.0000, grad=0.0000), Var(v=0.0018, grad=-0.1837), Var(v=0.0014, grad=-0.1368), Var(v=-0.0015, grad=0.1546), Var(v=-0.0138, grad=1.3822), Var(v=0.0003, grad=-0.0320), Var(v=0.0004, grad=-0.0427), Var(v=0.0000, grad=0.0000), Var(v=0.1300, grad=-13.0042), Var(v=0.0000, grad=0.0000), Var(v=0.0026, grad=-0.2635), Var(v=-0.1585, grad=15.8533), Var(v=0.0123, grad=-1.2259), Var(v=0.0000, grad=0.0000), Var(v=0.0065, grad=-0.6476), Var(v=0.0000, grad=0.0000), Var(v=0.0000, grad=0.0000), Var(v=0.2099, grad=-20.9898), Var(v=0.0015, grad=-0.1459), Var(v=0.1428, grad=-14.2775), Var(v=-0.0014, grad=0.1400)]\n",
      "Layer 2 \n",
      " Weights: [[Var(v=0.1516, grad=0.5371)], [Var(v=0.1265, grad=-1.1829)], [Var(v=0.0273, grad=0.1690)], [Var(v=-0.0722, grad=0.0000)], [Var(v=0.1014, grad=-0.6955)], [Var(v=0.0205, grad=0.0000)], [Var(v=0.1358, grad=-0.1867)], [Var(v=0.0996, grad=0.0295)], [Var(v=0.0369, grad=0.0000)], [Var(v=-0.0699, grad=0.0000)], [Var(v=0.0225, grad=-4.3181)], [Var(v=-0.0098, grad=1.5028)], [Var(v=-0.0598, grad=3.0666)], [Var(v=0.2180, grad=-0.8223)], [Var(v=0.1279, grad=-4.9102)], [Var(v=0.0109, grad=0.0000)], [Var(v=0.1945, grad=-5.0043)], [Var(v=-0.1645, grad=-0.2614)], [Var(v=0.1579, grad=-2.0766)], [Var(v=0.2124, grad=0.0000)], [Var(v=0.0013, grad=2.6151)], [Var(v=0.0097, grad=0.5251)], [Var(v=0.0884, grad=0.0000)], [Var(v=0.0110, grad=0.0000)], [Var(v=-0.1221, grad=0.0000)], [Var(v=-0.0712, grad=0.0000)], [Var(v=-0.0301, grad=0.0000)], [Var(v=0.1248, grad=-2.2908)], [Var(v=0.0437, grad=-2.5539)], [Var(v=0.0287, grad=0.0000)], [Var(v=-0.0820, grad=-0.6451)], [Var(v=-0.0597, grad=-0.6182)], [Var(v=0.0837, grad=-0.9295)], [Var(v=-0.0004, grad=-1.5783)], [Var(v=-0.0205, grad=0.5111)], [Var(v=-0.0161, grad=-0.4416)], [Var(v=0.0621, grad=0.0000)], [Var(v=0.2000, grad=-4.7505)], [Var(v=0.0343, grad=0.0000)], [Var(v=-0.1248, grad=-0.2105)], [Var(v=-0.1468, grad=-3.9118)], [Var(v=0.0516, grad=-3.7184)], [Var(v=0.0405, grad=0.0000)], [Var(v=0.0208, grad=-1.3165)], [Var(v=0.1220, grad=0.0000)], [Var(v=0.0184, grad=0.0000)], [Var(v=-0.2435, grad=0.3251)], [Var(v=-0.0696, grad=-0.0583)], [Var(v=0.1791, grad=-1.1741)], [Var(v=0.0555, grad=1.1838)]] Biases: [Var(v=-0.0208, grad=2.0773)]\n",
      "\n",
      "Network after zeroing gradients:\n",
      "Layer 0 \n",
      " Weights: [[Var(v=0.1086, grad=0.0000), Var(v=0.1354, grad=0.0000), Var(v=0.1079, grad=0.0000), Var(v=-0.0559, grad=0.0000), Var(v=0.0273, grad=0.0000), Var(v=-0.0591, grad=0.0000), Var(v=0.1072, grad=0.0000), Var(v=0.0265, grad=0.0000), Var(v=0.0204, grad=0.0000), Var(v=-0.0038, grad=0.0000), Var(v=0.2480, grad=0.0000), Var(v=-0.0106, grad=0.0000), Var(v=-0.1543, grad=0.0000), Var(v=0.1479, grad=0.0000), Var(v=-0.0381, grad=0.0000)]] Biases: [Var(v=0.0614, grad=0.0000), Var(v=0.0910, grad=0.0000), Var(v=-0.0162, grad=0.0000), Var(v=0.0344, grad=0.0000), Var(v=0.0087, grad=0.0000), Var(v=-0.0493, grad=0.0000), Var(v=0.0865, grad=0.0000), Var(v=-0.0351, grad=0.0000), Var(v=-0.0326, grad=0.0000), Var(v=-0.0198, grad=0.0000), Var(v=0.1145, grad=0.0000), Var(v=-0.0205, grad=0.0000), Var(v=0.0952, grad=0.0000), Var(v=0.0406, grad=0.0000), Var(v=0.0191, grad=0.0000)]\n",
      "Layer 1 \n",
      " Weights: [[Var(v=0.0330, grad=0.0000), Var(v=0.0195, grad=0.0000), Var(v=0.0207, grad=0.0000), Var(v=-0.1345, grad=0.0000), Var(v=0.1412, grad=0.0000), Var(v=0.0219, grad=0.0000), Var(v=-0.0746, grad=0.0000), Var(v=0.1091, grad=0.0000), Var(v=0.2194, grad=0.0000), Var(v=-0.0213, grad=0.0000), Var(v=0.0378, grad=0.0000), Var(v=0.1805, grad=0.0000), Var(v=0.0326, grad=0.0000), Var(v=-0.0140, grad=0.0000), Var(v=0.2233, grad=0.0000), Var(v=-0.0110, grad=0.0000), Var(v=-0.0444, grad=0.0000), Var(v=-0.0791, grad=0.0000), Var(v=0.2503, grad=0.0000), Var(v=-0.1450, grad=0.0000), Var(v=-0.1062, grad=0.0000), Var(v=0.1184, grad=0.0000), Var(v=-0.0344, grad=0.0000), Var(v=0.0095, grad=0.0000), Var(v=-0.0867, grad=0.0000), Var(v=-0.0489, grad=0.0000), Var(v=0.0226, grad=0.0000), Var(v=0.0055, grad=0.0000), Var(v=0.1191, grad=0.0000), Var(v=0.1326, grad=0.0000), Var(v=0.0803, grad=0.0000), Var(v=0.0656, grad=0.0000), Var(v=0.1495, grad=0.0000), Var(v=-0.0612, grad=0.0000), Var(v=-0.0510, grad=0.0000), Var(v=0.0483, grad=0.0000), Var(v=-0.0363, grad=0.0000), Var(v=0.1481, grad=0.0000), Var(v=0.0878, grad=0.0000), Var(v=-0.0083, grad=0.0000), Var(v=0.0015, grad=0.0000), Var(v=0.0733, grad=0.0000), Var(v=0.1498, grad=0.0000), Var(v=0.0431, grad=0.0000), Var(v=0.1729, grad=0.0000), Var(v=0.0068, grad=0.0000), Var(v=-0.0781, grad=0.0000), Var(v=0.0725, grad=0.0000), Var(v=-0.0469, grad=0.0000), Var(v=0.0616, grad=0.0000)], [Var(v=0.0999, grad=0.0000), Var(v=-0.0049, grad=0.0000), Var(v=-0.0302, grad=0.0000), Var(v=-0.0955, grad=0.0000), Var(v=0.0918, grad=0.0000), Var(v=-0.1594, grad=0.0000), Var(v=0.0836, grad=0.0000), Var(v=-0.0035, grad=0.0000), Var(v=0.0987, grad=0.0000), Var(v=0.0847, grad=0.0000), Var(v=0.0522, grad=0.0000), Var(v=-0.0746, grad=0.0000), Var(v=-0.1786, grad=0.0000), Var(v=-0.0619, grad=0.0000), Var(v=0.2568, grad=0.0000), Var(v=0.0266, grad=0.0000), Var(v=0.0499, grad=0.0000), Var(v=-0.1043, grad=0.0000), Var(v=0.1196, grad=0.0000), Var(v=0.0258, grad=0.0000), Var(v=0.0049, grad=0.0000), Var(v=-0.2034, grad=0.0000), Var(v=-0.0711, grad=0.0000), Var(v=0.1024, grad=0.0000), Var(v=0.0519, grad=0.0000), Var(v=-0.1436, grad=0.0000), Var(v=0.0944, grad=0.0000), Var(v=0.1914, grad=0.0000), Var(v=0.2258, grad=0.0000), Var(v=-0.0984, grad=0.0000), Var(v=-0.0075, grad=0.0000), Var(v=-0.1570, grad=0.0000), Var(v=0.0750, grad=0.0000), Var(v=-0.0239, grad=0.0000), Var(v=0.2010, grad=0.0000), Var(v=-0.0886, grad=0.0000), Var(v=-0.0893, grad=0.0000), Var(v=-0.0243, grad=0.0000), Var(v=0.0510, grad=0.0000), Var(v=-0.2427, grad=0.0000), Var(v=-0.0166, grad=0.0000), Var(v=-0.0558, grad=0.0000), Var(v=0.0945, grad=0.0000), Var(v=0.0119, grad=0.0000), Var(v=0.1901, grad=0.0000), Var(v=0.1746, grad=0.0000), Var(v=-0.1450, grad=0.0000), Var(v=-0.0667, grad=0.0000), Var(v=-0.1400, grad=0.0000), Var(v=0.0490, grad=0.0000)], [Var(v=-0.1204, grad=0.0000), Var(v=-0.0095, grad=0.0000), Var(v=-0.0157, grad=0.0000), Var(v=-0.0744, grad=0.0000), Var(v=0.0009, grad=0.0000), Var(v=-0.0883, grad=0.0000), Var(v=-0.0248, grad=0.0000), Var(v=0.0770, grad=0.0000), Var(v=-0.0159, grad=0.0000), Var(v=0.0772, grad=0.0000), Var(v=0.1539, grad=0.0000), Var(v=0.0918, grad=0.0000), Var(v=-0.0569, grad=0.0000), Var(v=0.0746, grad=0.0000), Var(v=0.1160, grad=0.0000), Var(v=-0.1117, grad=0.0000), Var(v=0.0991, grad=0.0000), Var(v=0.0158, grad=0.0000), Var(v=-0.0466, grad=0.0000), Var(v=-0.0089, grad=0.0000), Var(v=-0.1064, grad=0.0000), Var(v=-0.0226, grad=0.0000), Var(v=-0.1166, grad=0.0000), Var(v=0.0036, grad=0.0000), Var(v=0.0109, grad=0.0000), Var(v=0.0185, grad=0.0000), Var(v=-0.2435, grad=0.0000), Var(v=-0.0377, grad=0.0000), Var(v=-0.0109, grad=0.0000), Var(v=0.0006, grad=0.0000), Var(v=0.1757, grad=0.0000), Var(v=-0.0572, grad=0.0000), Var(v=0.0880, grad=0.0000), Var(v=0.0410, grad=0.0000), Var(v=-0.0414, grad=0.0000), Var(v=-0.0416, grad=0.0000), Var(v=-0.0581, grad=0.0000), Var(v=0.1259, grad=0.0000), Var(v=0.0882, grad=0.0000), Var(v=0.1139, grad=0.0000), Var(v=0.1232, grad=0.0000), Var(v=0.0641, grad=0.0000), Var(v=-0.1123, grad=0.0000), Var(v=0.0965, grad=0.0000), Var(v=-0.0743, grad=0.0000), Var(v=-0.0845, grad=0.0000), Var(v=-0.0757, grad=0.0000), Var(v=-0.0448, grad=0.0000), Var(v=0.0998, grad=0.0000), Var(v=0.0243, grad=0.0000)], [Var(v=0.0405, grad=0.0000), Var(v=0.1109, grad=0.0000), Var(v=0.1050, grad=0.0000), Var(v=0.0542, grad=0.0000), Var(v=0.0305, grad=0.0000), Var(v=0.0821, grad=0.0000), Var(v=-0.2900, grad=0.0000), Var(v=-0.1442, grad=0.0000), Var(v=-0.1627, grad=0.0000), Var(v=0.0153, grad=0.0000), Var(v=0.0064, grad=0.0000), Var(v=-0.1184, grad=0.0000), Var(v=0.0225, grad=0.0000), Var(v=0.0473, grad=0.0000), Var(v=-0.0079, grad=0.0000), Var(v=0.1675, grad=0.0000), Var(v=0.1441, grad=0.0000), Var(v=-0.0603, grad=0.0000), Var(v=0.0157, grad=0.0000), Var(v=-0.0138, grad=0.0000), Var(v=-0.0001, grad=0.0000), Var(v=0.0792, grad=0.0000), Var(v=-0.0922, grad=0.0000), Var(v=-0.0133, grad=0.0000), Var(v=0.0822, grad=0.0000), Var(v=-0.0113, grad=0.0000), Var(v=-0.0416, grad=0.0000), Var(v=0.0821, grad=0.0000), Var(v=-0.0724, grad=0.0000), Var(v=0.0581, grad=0.0000), Var(v=0.0826, grad=0.0000), Var(v=0.1005, grad=0.0000), Var(v=0.1127, grad=0.0000), Var(v=-0.0018, grad=0.0000), Var(v=0.0073, grad=0.0000), Var(v=-0.0095, grad=0.0000), Var(v=0.0011, grad=0.0000), Var(v=-0.1508, grad=0.0000), Var(v=0.0093, grad=0.0000), Var(v=0.0004, grad=0.0000), Var(v=0.0897, grad=0.0000), Var(v=0.0005, grad=0.0000), Var(v=0.2040, grad=0.0000), Var(v=-0.2089, grad=0.0000), Var(v=0.0009, grad=0.0000), Var(v=0.0395, grad=0.0000), Var(v=-0.0139, grad=0.0000), Var(v=0.1081, grad=0.0000), Var(v=0.0644, grad=0.0000), Var(v=-0.0141, grad=0.0000)], [Var(v=0.0446, grad=0.0000), Var(v=-0.1088, grad=0.0000), Var(v=0.0498, grad=0.0000), Var(v=-0.0539, grad=0.0000), Var(v=0.0826, grad=0.0000), Var(v=0.0965, grad=0.0000), Var(v=-0.2528, grad=0.0000), Var(v=-0.0028, grad=0.0000), Var(v=0.0794, grad=0.0000), Var(v=-0.2557, grad=0.0000), Var(v=0.2115, grad=0.0000), Var(v=0.1392, grad=0.0000), Var(v=-0.0710, grad=0.0000), Var(v=-0.1031, grad=0.0000), Var(v=0.0616, grad=0.0000), Var(v=0.0315, grad=0.0000), Var(v=0.0342, grad=0.0000), Var(v=-0.1062, grad=0.0000), Var(v=-0.0301, grad=0.0000), Var(v=-0.0242, grad=0.0000), Var(v=-0.0095, grad=0.0000), Var(v=0.0830, grad=0.0000), Var(v=0.0416, grad=0.0000), Var(v=-0.0407, grad=0.0000), Var(v=0.0339, grad=0.0000), Var(v=0.0226, grad=0.0000), Var(v=-0.1935, grad=0.0000), Var(v=0.1169, grad=0.0000), Var(v=-0.0652, grad=0.0000), Var(v=-0.0425, grad=0.0000), Var(v=0.0353, grad=0.0000), Var(v=0.0880, grad=0.0000), Var(v=-0.0253, grad=0.0000), Var(v=-0.1439, grad=0.0000), Var(v=0.0300, grad=0.0000), Var(v=-0.0555, grad=0.0000), Var(v=-0.1389, grad=0.0000), Var(v=-0.0018, grad=0.0000), Var(v=0.1477, grad=0.0000), Var(v=-0.0473, grad=0.0000), Var(v=-0.0746, grad=0.0000), Var(v=0.1059, grad=0.0000), Var(v=-0.1728, grad=0.0000), Var(v=-0.0554, grad=0.0000), Var(v=-0.0879, grad=0.0000), Var(v=-0.1233, grad=0.0000), Var(v=-0.0773, grad=0.0000), Var(v=-0.1501, grad=0.0000), Var(v=0.1009, grad=0.0000), Var(v=0.0300, grad=0.0000)], [Var(v=0.0782, grad=0.0000), Var(v=-0.0962, grad=0.0000), Var(v=0.0727, grad=0.0000), Var(v=-0.1180, grad=0.0000), Var(v=-0.0095, grad=0.0000), Var(v=-0.1096, grad=0.0000), Var(v=0.0976, grad=0.0000), Var(v=0.0863, grad=0.0000), Var(v=-0.1758, grad=0.0000), Var(v=-0.1265, grad=0.0000), Var(v=0.0688, grad=0.0000), Var(v=0.1929, grad=0.0000), Var(v=0.2009, grad=0.0000), Var(v=0.0706, grad=0.0000), Var(v=0.0857, grad=0.0000), Var(v=-0.0573, grad=0.0000), Var(v=-0.0137, grad=0.0000), Var(v=-0.0285, grad=0.0000), Var(v=0.0374, grad=0.0000), Var(v=-0.0790, grad=0.0000), Var(v=0.1433, grad=0.0000), Var(v=0.0613, grad=0.0000), Var(v=0.0107, grad=0.0000), Var(v=0.0198, grad=0.0000), Var(v=-0.1566, grad=0.0000), Var(v=-0.1165, grad=0.0000), Var(v=0.0013, grad=0.0000), Var(v=-0.0004, grad=0.0000), Var(v=-0.0636, grad=0.0000), Var(v=-0.1510, grad=0.0000), Var(v=0.0463, grad=0.0000), Var(v=-0.0136, grad=0.0000), Var(v=0.1373, grad=0.0000), Var(v=-0.0627, grad=0.0000), Var(v=0.0260, grad=0.0000), Var(v=0.0342, grad=0.0000), Var(v=-0.1042, grad=0.0000), Var(v=-0.1173, grad=0.0000), Var(v=-0.1017, grad=0.0000), Var(v=0.1768, grad=0.0000), Var(v=-0.2643, grad=0.0000), Var(v=-0.1010, grad=0.0000), Var(v=-0.1551, grad=0.0000), Var(v=-0.0832, grad=0.0000), Var(v=-0.1270, grad=0.0000), Var(v=0.0154, grad=0.0000), Var(v=0.1169, grad=0.0000), Var(v=0.0291, grad=0.0000), Var(v=-0.1620, grad=0.0000), Var(v=0.2530, grad=0.0000)], [Var(v=0.1467, grad=0.0000), Var(v=0.0265, grad=0.0000), Var(v=0.1379, grad=0.0000), Var(v=-0.0013, grad=0.0000), Var(v=0.1415, grad=0.0000), Var(v=-0.0098, grad=0.0000), Var(v=0.2590, grad=0.0000), Var(v=0.0195, grad=0.0000), Var(v=0.0391, grad=0.0000), Var(v=0.1430, grad=0.0000), Var(v=-0.1135, grad=0.0000), Var(v=-0.0436, grad=0.0000), Var(v=-0.0928, grad=0.0000), Var(v=0.0018, grad=0.0000), Var(v=0.0269, grad=0.0000), Var(v=-0.0106, grad=0.0000), Var(v=0.0220, grad=0.0000), Var(v=0.0593, grad=0.0000), Var(v=-0.0212, grad=0.0000), Var(v=-0.0929, grad=0.0000), Var(v=-0.0543, grad=0.0000), Var(v=-0.1261, grad=0.0000), Var(v=-0.0230, grad=0.0000), Var(v=-0.0938, grad=0.0000), Var(v=-0.0116, grad=0.0000), Var(v=0.1267, grad=0.0000), Var(v=-0.0467, grad=0.0000), Var(v=0.0710, grad=0.0000), Var(v=-0.0917, grad=0.0000), Var(v=0.1031, grad=0.0000), Var(v=-0.1023, grad=0.0000), Var(v=0.1004, grad=0.0000), Var(v=0.1837, grad=0.0000), Var(v=-0.0742, grad=0.0000), Var(v=-0.0012, grad=0.0000), Var(v=0.0521, grad=0.0000), Var(v=0.0082, grad=0.0000), Var(v=0.0919, grad=0.0000), Var(v=0.1821, grad=0.0000), Var(v=-0.0585, grad=0.0000), Var(v=-0.0212, grad=0.0000), Var(v=-0.1025, grad=0.0000), Var(v=-0.0139, grad=0.0000), Var(v=-0.2042, grad=0.0000), Var(v=0.1701, grad=0.0000), Var(v=0.0429, grad=0.0000), Var(v=0.0053, grad=0.0000), Var(v=0.1463, grad=0.0000), Var(v=0.1288, grad=0.0000), Var(v=-0.0038, grad=0.0000)], [Var(v=0.0393, grad=0.0000), Var(v=0.0326, grad=0.0000), Var(v=-0.1396, grad=0.0000), Var(v=0.1560, grad=0.0000), Var(v=0.0963, grad=0.0000), Var(v=0.0889, grad=0.0000), Var(v=-0.0020, grad=0.0000), Var(v=-0.1256, grad=0.0000), Var(v=0.0923, grad=0.0000), Var(v=-0.1417, grad=0.0000), Var(v=0.1349, grad=0.0000), Var(v=-0.0997, grad=0.0000), Var(v=-0.0745, grad=0.0000), Var(v=-0.0139, grad=0.0000), Var(v=-0.0391, grad=0.0000), Var(v=-0.0156, grad=0.0000), Var(v=-0.0050, grad=0.0000), Var(v=0.0176, grad=0.0000), Var(v=-0.0412, grad=0.0000), Var(v=0.0415, grad=0.0000), Var(v=0.0152, grad=0.0000), Var(v=-0.0489, grad=0.0000), Var(v=0.1629, grad=0.0000), Var(v=-0.0211, grad=0.0000), Var(v=-0.0604, grad=0.0000), Var(v=0.0375, grad=0.0000), Var(v=0.0592, grad=0.0000), Var(v=0.0532, grad=0.0000), Var(v=0.2232, grad=0.0000), Var(v=-0.0241, grad=0.0000), Var(v=0.0083, grad=0.0000), Var(v=0.1400, grad=0.0000), Var(v=0.0507, grad=0.0000), Var(v=0.0202, grad=0.0000), Var(v=0.1162, grad=0.0000), Var(v=-0.0140, grad=0.0000), Var(v=-0.0193, grad=0.0000), Var(v=-0.0376, grad=0.0000), Var(v=-0.0131, grad=0.0000), Var(v=0.0206, grad=0.0000), Var(v=0.1191, grad=0.0000), Var(v=0.1525, grad=0.0000), Var(v=-0.0616, grad=0.0000), Var(v=-0.1387, grad=0.0000), Var(v=-0.1272, grad=0.0000), Var(v=-0.3028, grad=0.0000), Var(v=0.0641, grad=0.0000), Var(v=-0.0116, grad=0.0000), Var(v=0.1208, grad=0.0000), Var(v=-0.0503, grad=0.0000)], [Var(v=0.1107, grad=0.0000), Var(v=-0.1305, grad=0.0000), Var(v=-0.0106, grad=0.0000), Var(v=-0.0126, grad=0.0000), Var(v=-0.1011, grad=0.0000), Var(v=0.1106, grad=0.0000), Var(v=0.0847, grad=0.0000), Var(v=0.0344, grad=0.0000), Var(v=0.0532, grad=0.0000), Var(v=-0.1128, grad=0.0000), Var(v=0.0419, grad=0.0000), Var(v=0.2189, grad=0.0000), Var(v=0.0482, grad=0.0000), Var(v=0.1456, grad=0.0000), Var(v=-0.0234, grad=0.0000), Var(v=0.1741, grad=0.0000), Var(v=-0.0025, grad=0.0000), Var(v=-0.0417, grad=0.0000), Var(v=-0.0866, grad=0.0000), Var(v=0.0416, grad=0.0000), Var(v=0.1972, grad=0.0000), Var(v=0.0686, grad=0.0000), Var(v=0.0039, grad=0.0000), Var(v=-0.1254, grad=0.0000), Var(v=0.0819, grad=0.0000), Var(v=0.2577, grad=0.0000), Var(v=0.0179, grad=0.0000), Var(v=-0.1184, grad=0.0000), Var(v=0.0335, grad=0.0000), Var(v=0.0272, grad=0.0000), Var(v=0.1022, grad=0.0000), Var(v=0.0190, grad=0.0000), Var(v=-0.1556, grad=0.0000), Var(v=0.1489, grad=0.0000), Var(v=0.1310, grad=0.0000), Var(v=0.0939, grad=0.0000), Var(v=-0.0816, grad=0.0000), Var(v=-0.0137, grad=0.0000), Var(v=-0.0715, grad=0.0000), Var(v=0.0779, grad=0.0000), Var(v=-0.1559, grad=0.0000), Var(v=-0.0639, grad=0.0000), Var(v=-0.0221, grad=0.0000), Var(v=-0.2151, grad=0.0000), Var(v=-0.0908, grad=0.0000), Var(v=-0.0726, grad=0.0000), Var(v=-0.0851, grad=0.0000), Var(v=-0.0329, grad=0.0000), Var(v=0.0352, grad=0.0000), Var(v=-0.1057, grad=0.0000)], [Var(v=-0.0757, grad=0.0000), Var(v=0.0674, grad=0.0000), Var(v=-0.0934, grad=0.0000), Var(v=-0.1374, grad=0.0000), Var(v=-0.1335, grad=0.0000), Var(v=-0.0417, grad=0.0000), Var(v=-0.0218, grad=0.0000), Var(v=0.1289, grad=0.0000), Var(v=-0.0450, grad=0.0000), Var(v=0.0255, grad=0.0000), Var(v=0.0435, grad=0.0000), Var(v=0.0094, grad=0.0000), Var(v=0.1147, grad=0.0000), Var(v=-0.1644, grad=0.0000), Var(v=-0.0813, grad=0.0000), Var(v=-0.0128, grad=0.0000), Var(v=-0.0388, grad=0.0000), Var(v=0.0019, grad=0.0000), Var(v=0.0149, grad=0.0000), Var(v=0.0040, grad=0.0000), Var(v=-0.0244, grad=0.0000), Var(v=0.0943, grad=0.0000), Var(v=-0.1334, grad=0.0000), Var(v=0.0121, grad=0.0000), Var(v=0.1813, grad=0.0000), Var(v=0.0056, grad=0.0000), Var(v=-0.1218, grad=0.0000), Var(v=0.0211, grad=0.0000), Var(v=-0.0815, grad=0.0000), Var(v=-0.0599, grad=0.0000), Var(v=-0.0473, grad=0.0000), Var(v=0.0920, grad=0.0000), Var(v=-0.0743, grad=0.0000), Var(v=0.1479, grad=0.0000), Var(v=-0.0437, grad=0.0000), Var(v=0.0057, grad=0.0000), Var(v=0.0014, grad=0.0000), Var(v=0.0111, grad=0.0000), Var(v=0.1255, grad=0.0000), Var(v=-0.1517, grad=0.0000), Var(v=-0.0026, grad=0.0000), Var(v=0.0663, grad=0.0000), Var(v=0.1779, grad=0.0000), Var(v=-0.0787, grad=0.0000), Var(v=-0.0367, grad=0.0000), Var(v=0.0281, grad=0.0000), Var(v=-0.1695, grad=0.0000), Var(v=-0.0584, grad=0.0000), Var(v=-0.0067, grad=0.0000), Var(v=0.1001, grad=0.0000)], [Var(v=-0.1029, grad=0.0000), Var(v=0.1620, grad=0.0000), Var(v=-0.0673, grad=0.0000), Var(v=-0.0751, grad=0.0000), Var(v=-0.0473, grad=0.0000), Var(v=-0.0246, grad=0.0000), Var(v=0.1066, grad=0.0000), Var(v=0.0611, grad=0.0000), Var(v=-0.1817, grad=0.0000), Var(v=-0.1099, grad=0.0000), Var(v=0.1506, grad=0.0000), Var(v=-0.0023, grad=0.0000), Var(v=0.0635, grad=0.0000), Var(v=0.1398, grad=0.0000), Var(v=0.1560, grad=0.0000), Var(v=-0.0586, grad=0.0000), Var(v=0.2542, grad=0.0000), Var(v=0.0034, grad=0.0000), Var(v=0.1831, grad=0.0000), Var(v=-0.0710, grad=0.0000), Var(v=-0.0053, grad=0.0000), Var(v=0.1137, grad=0.0000), Var(v=-0.0586, grad=0.0000), Var(v=0.1351, grad=0.0000), Var(v=-0.0508, grad=0.0000), Var(v=-0.1224, grad=0.0000), Var(v=-0.0415, grad=0.0000), Var(v=0.0916, grad=0.0000), Var(v=-0.0357, grad=0.0000), Var(v=-0.0826, grad=0.0000), Var(v=0.0775, grad=0.0000), Var(v=0.0452, grad=0.0000), Var(v=0.0095, grad=0.0000), Var(v=0.0964, grad=0.0000), Var(v=0.0913, grad=0.0000), Var(v=0.0530, grad=0.0000), Var(v=0.1013, grad=0.0000), Var(v=0.2068, grad=0.0000), Var(v=-0.2016, grad=0.0000), Var(v=-0.0346, grad=0.0000), Var(v=-0.0840, grad=0.0000), Var(v=0.0246, grad=0.0000), Var(v=-0.1241, grad=0.0000), Var(v=0.0349, grad=0.0000), Var(v=-0.2281, grad=0.0000), Var(v=-0.0564, grad=0.0000), Var(v=-0.0558, grad=0.0000), Var(v=0.0551, grad=0.0000), Var(v=-0.0205, grad=0.0000), Var(v=0.0034, grad=0.0000)], [Var(v=-0.0468, grad=0.0000), Var(v=-0.0440, grad=0.0000), Var(v=0.0859, grad=0.0000), Var(v=0.2192, grad=0.0000), Var(v=-0.0367, grad=0.0000), Var(v=0.0016, grad=0.0000), Var(v=-0.0681, grad=0.0000), Var(v=0.1027, grad=0.0000), Var(v=-0.1163, grad=0.0000), Var(v=0.0879, grad=0.0000), Var(v=0.0256, grad=0.0000), Var(v=-0.2060, grad=0.0000), Var(v=-0.0248, grad=0.0000), Var(v=-0.0727, grad=0.0000), Var(v=0.0342, grad=0.0000), Var(v=0.1943, grad=0.0000), Var(v=0.0033, grad=0.0000), Var(v=-0.0569, grad=0.0000), Var(v=0.0698, grad=0.0000), Var(v=0.0488, grad=0.0000), Var(v=-0.1762, grad=0.0000), Var(v=-0.0145, grad=0.0000), Var(v=0.0032, grad=0.0000), Var(v=-0.0954, grad=0.0000), Var(v=0.0445, grad=0.0000), Var(v=-0.0265, grad=0.0000), Var(v=0.0185, grad=0.0000), Var(v=-0.0611, grad=0.0000), Var(v=0.0060, grad=0.0000), Var(v=-0.0888, grad=0.0000), Var(v=-0.0645, grad=0.0000), Var(v=-0.0253, grad=0.0000), Var(v=0.0868, grad=0.0000), Var(v=-0.1505, grad=0.0000), Var(v=0.0603, grad=0.0000), Var(v=0.1763, grad=0.0000), Var(v=-0.1053, grad=0.0000), Var(v=-0.0246, grad=0.0000), Var(v=-0.0140, grad=0.0000), Var(v=0.0499, grad=0.0000), Var(v=0.1118, grad=0.0000), Var(v=-0.1132, grad=0.0000), Var(v=0.0056, grad=0.0000), Var(v=-0.0353, grad=0.0000), Var(v=-0.0272, grad=0.0000), Var(v=-0.0900, grad=0.0000), Var(v=0.0665, grad=0.0000), Var(v=-0.1563, grad=0.0000), Var(v=0.0990, grad=0.0000), Var(v=-0.1559, grad=0.0000)], [Var(v=-0.1188, grad=0.0000), Var(v=0.0218, grad=0.0000), Var(v=-0.1524, grad=0.0000), Var(v=-0.0978, grad=0.0000), Var(v=0.0597, grad=0.0000), Var(v=-0.0477, grad=0.0000), Var(v=-0.0526, grad=0.0000), Var(v=-0.1825, grad=0.0000), Var(v=0.0090, grad=0.0000), Var(v=0.0715, grad=0.0000), Var(v=-0.0114, grad=0.0000), Var(v=0.0390, grad=0.0000), Var(v=0.0988, grad=0.0000), Var(v=-0.0257, grad=0.0000), Var(v=-0.1116, grad=0.0000), Var(v=-0.0374, grad=0.0000), Var(v=-0.1685, grad=0.0000), Var(v=-0.0564, grad=0.0000), Var(v=-0.1011, grad=0.0000), Var(v=-0.0661, grad=0.0000), Var(v=0.1928, grad=0.0000), Var(v=-0.0970, grad=0.0000), Var(v=-0.0717, grad=0.0000), Var(v=-0.0461, grad=0.0000), Var(v=-0.0879, grad=0.0000), Var(v=-0.0325, grad=0.0000), Var(v=-0.0952, grad=0.0000), Var(v=-0.1001, grad=0.0000), Var(v=-0.0435, grad=0.0000), Var(v=-0.0753, grad=0.0000), Var(v=0.2394, grad=0.0000), Var(v=-0.0346, grad=0.0000), Var(v=-0.0170, grad=0.0000), Var(v=0.0139, grad=0.0000), Var(v=0.1137, grad=0.0000), Var(v=-0.1056, grad=0.0000), Var(v=0.0179, grad=0.0000), Var(v=-0.0672, grad=0.0000), Var(v=-0.0034, grad=0.0000), Var(v=0.0413, grad=0.0000), Var(v=0.2049, grad=0.0000), Var(v=0.1113, grad=0.0000), Var(v=-0.0226, grad=0.0000), Var(v=0.0160, grad=0.0000), Var(v=-0.0396, grad=0.0000), Var(v=-0.0919, grad=0.0000), Var(v=0.0034, grad=0.0000), Var(v=0.1699, grad=0.0000), Var(v=-0.0467, grad=0.0000), Var(v=-0.1045, grad=0.0000)], [Var(v=-0.1259, grad=0.0000), Var(v=-0.0066, grad=0.0000), Var(v=0.1791, grad=0.0000), Var(v=-0.1803, grad=0.0000), Var(v=0.0039, grad=0.0000), Var(v=-0.2251, grad=0.0000), Var(v=0.0811, grad=0.0000), Var(v=-0.1366, grad=0.0000), Var(v=-0.1142, grad=0.0000), Var(v=-0.1418, grad=0.0000), Var(v=0.0197, grad=0.0000), Var(v=-0.0038, grad=0.0000), Var(v=-0.1460, grad=0.0000), Var(v=0.0840, grad=0.0000), Var(v=0.0732, grad=0.0000), Var(v=-0.2637, grad=0.0000), Var(v=0.1503, grad=0.0000), Var(v=-0.0047, grad=0.0000), Var(v=0.0199, grad=0.0000), Var(v=0.0441, grad=0.0000), Var(v=-0.0293, grad=0.0000), Var(v=-0.0137, grad=0.0000), Var(v=-0.0010, grad=0.0000), Var(v=-0.1697, grad=0.0000), Var(v=0.0679, grad=0.0000), Var(v=-0.1148, grad=0.0000), Var(v=0.0176, grad=0.0000), Var(v=0.1091, grad=0.0000), Var(v=0.0752, grad=0.0000), Var(v=0.0927, grad=0.0000), Var(v=-0.1247, grad=0.0000), Var(v=-0.0255, grad=0.0000), Var(v=0.0201, grad=0.0000), Var(v=0.0540, grad=0.0000), Var(v=-0.1557, grad=0.0000), Var(v=0.0291, grad=0.0000), Var(v=0.0436, grad=0.0000), Var(v=0.1266, grad=0.0000), Var(v=-0.0508, grad=0.0000), Var(v=0.0655, grad=0.0000), Var(v=0.1710, grad=0.0000), Var(v=0.1607, grad=0.0000), Var(v=0.0896, grad=0.0000), Var(v=0.0747, grad=0.0000), Var(v=0.0205, grad=0.0000), Var(v=-0.0808, grad=0.0000), Var(v=-0.0832, grad=0.0000), Var(v=0.1108, grad=0.0000), Var(v=0.0313, grad=0.0000), Var(v=0.1008, grad=0.0000)], [Var(v=-0.0249, grad=0.0000), Var(v=-0.1545, grad=0.0000), Var(v=0.0923, grad=0.0000), Var(v=-0.0021, grad=0.0000), Var(v=0.0705, grad=0.0000), Var(v=-0.0895, grad=0.0000), Var(v=-0.0466, grad=0.0000), Var(v=-0.1904, grad=0.0000), Var(v=0.1029, grad=0.0000), Var(v=0.1002, grad=0.0000), Var(v=0.1785, grad=0.0000), Var(v=-0.0894, grad=0.0000), Var(v=0.0364, grad=0.0000), Var(v=0.0739, grad=0.0000), Var(v=-0.0601, grad=0.0000), Var(v=-0.0434, grad=0.0000), Var(v=0.0427, grad=0.0000), Var(v=0.0268, grad=0.0000), Var(v=-0.0338, grad=0.0000), Var(v=0.0496, grad=0.0000), Var(v=-0.0844, grad=0.0000), Var(v=0.1134, grad=0.0000), Var(v=-0.1247, grad=0.0000), Var(v=0.0648, grad=0.0000), Var(v=0.0648, grad=0.0000), Var(v=-0.1425, grad=0.0000), Var(v=-0.1061, grad=0.0000), Var(v=0.1194, grad=0.0000), Var(v=-0.0568, grad=0.0000), Var(v=-0.0809, grad=0.0000), Var(v=0.0988, grad=0.0000), Var(v=0.0688, grad=0.0000), Var(v=0.0803, grad=0.0000), Var(v=-0.0254, grad=0.0000), Var(v=-0.0287, grad=0.0000), Var(v=0.0270, grad=0.0000), Var(v=-0.1522, grad=0.0000), Var(v=-0.1473, grad=0.0000), Var(v=-0.0427, grad=0.0000), Var(v=-0.1571, grad=0.0000), Var(v=-0.1782, grad=0.0000), Var(v=-0.0493, grad=0.0000), Var(v=-0.0900, grad=0.0000), Var(v=-0.0280, grad=0.0000), Var(v=0.0775, grad=0.0000), Var(v=-0.0062, grad=0.0000), Var(v=-0.0148, grad=0.0000), Var(v=0.0315, grad=0.0000), Var(v=-0.0414, grad=0.0000), Var(v=-0.1962, grad=0.0000)]] Biases: [Var(v=-0.1371, grad=0.0000), Var(v=0.0978, grad=0.0000), Var(v=-0.0006, grad=0.0000), Var(v=0.0000, grad=0.0000), Var(v=0.0805, grad=0.0000), Var(v=0.0000, grad=0.0000), Var(v=-0.0028, grad=0.0000), Var(v=-0.0873, grad=0.0000), Var(v=0.0000, grad=0.0000), Var(v=0.0000, grad=0.0000), Var(v=0.0004, grad=0.0000), Var(v=-0.0001, grad=0.0000), Var(v=0.0255, grad=0.0000), Var(v=-0.0044, grad=0.0000), Var(v=-0.0016, grad=0.0000), Var(v=0.0000, grad=0.0000), Var(v=0.1232, grad=0.0000), Var(v=-0.1425, grad=0.0000), Var(v=-0.0028, grad=0.0000), Var(v=0.0000, grad=0.0000), Var(v=-0.0239, grad=0.0000), Var(v=-0.0003, grad=0.0000), Var(v=0.0000, grad=0.0000), Var(v=0.0000, grad=0.0000), Var(v=0.0000, grad=0.0000), Var(v=0.0000, grad=0.0000), Var(v=0.0000, grad=0.0000), Var(v=0.0869, grad=0.0000), Var(v=0.0155, grad=0.0000), Var(v=0.0000, grad=0.0000), Var(v=0.0018, grad=0.0000), Var(v=0.0014, grad=0.0000), Var(v=-0.0015, grad=0.0000), Var(v=-0.0138, grad=0.0000), Var(v=0.0003, grad=0.0000), Var(v=0.0004, grad=0.0000), Var(v=0.0000, grad=0.0000), Var(v=0.1300, grad=0.0000), Var(v=0.0000, grad=0.0000), Var(v=0.0026, grad=0.0000), Var(v=-0.1585, grad=0.0000), Var(v=0.0123, grad=0.0000), Var(v=0.0000, grad=0.0000), Var(v=0.0065, grad=0.0000), Var(v=0.0000, grad=0.0000), Var(v=0.0000, grad=0.0000), Var(v=0.2099, grad=0.0000), Var(v=0.0015, grad=0.0000), Var(v=0.1428, grad=0.0000), Var(v=-0.0014, grad=0.0000)]\n",
      "Layer 2 \n",
      " Weights: [[Var(v=0.1516, grad=0.0000)], [Var(v=0.1265, grad=0.0000)], [Var(v=0.0273, grad=0.0000)], [Var(v=-0.0722, grad=0.0000)], [Var(v=0.1014, grad=0.0000)], [Var(v=0.0205, grad=0.0000)], [Var(v=0.1358, grad=0.0000)], [Var(v=0.0996, grad=0.0000)], [Var(v=0.0369, grad=0.0000)], [Var(v=-0.0699, grad=0.0000)], [Var(v=0.0225, grad=0.0000)], [Var(v=-0.0098, grad=0.0000)], [Var(v=-0.0598, grad=0.0000)], [Var(v=0.2180, grad=0.0000)], [Var(v=0.1279, grad=0.0000)], [Var(v=0.0109, grad=0.0000)], [Var(v=0.1945, grad=0.0000)], [Var(v=-0.1645, grad=0.0000)], [Var(v=0.1579, grad=0.0000)], [Var(v=0.2124, grad=0.0000)], [Var(v=0.0013, grad=0.0000)], [Var(v=0.0097, grad=0.0000)], [Var(v=0.0884, grad=0.0000)], [Var(v=0.0110, grad=0.0000)], [Var(v=-0.1221, grad=0.0000)], [Var(v=-0.0712, grad=0.0000)], [Var(v=-0.0301, grad=0.0000)], [Var(v=0.1248, grad=0.0000)], [Var(v=0.0437, grad=0.0000)], [Var(v=0.0287, grad=0.0000)], [Var(v=-0.0820, grad=0.0000)], [Var(v=-0.0597, grad=0.0000)], [Var(v=0.0837, grad=0.0000)], [Var(v=-0.0004, grad=0.0000)], [Var(v=-0.0205, grad=0.0000)], [Var(v=-0.0161, grad=0.0000)], [Var(v=0.0621, grad=0.0000)], [Var(v=0.2000, grad=0.0000)], [Var(v=0.0343, grad=0.0000)], [Var(v=-0.1248, grad=0.0000)], [Var(v=-0.1468, grad=0.0000)], [Var(v=0.0516, grad=0.0000)], [Var(v=0.0405, grad=0.0000)], [Var(v=0.0208, grad=0.0000)], [Var(v=0.1220, grad=0.0000)], [Var(v=0.0184, grad=0.0000)], [Var(v=-0.2435, grad=0.0000)], [Var(v=-0.0696, grad=0.0000)], [Var(v=0.1791, grad=0.0000)], [Var(v=0.0555, grad=0.0000)]] Biases: [Var(v=-0.0208, grad=0.0000)]\n"
     ]
    },
    {
     "data": {
      "text/plain": [
       "[None, None, None]"
      ]
     },
     "execution_count": 33,
     "metadata": {},
     "output_type": "execute_result"
    }
   ],
   "source": [
    "print('Network before update:')\n",
    "[print('Layer', i, '\\n', NN[i]) for i in range(len(NN))] \n",
    "\n",
    "def parameters(network):\n",
    "  params = []\n",
    "  for layer in range(len(network)):\n",
    "    params += network[layer].parameters()\n",
    "  return params\n",
    "\n",
    "def update_parameters(params, learning_rate=0.01):\n",
    "  for p in params:\n",
    "    p.v -= learning_rate*p.grad\n",
    "\n",
    "def zero_gradients(params):\n",
    "  for p in params:\n",
    "    p.grad = 0.0\n",
    "\n",
    "update_parameters(parameters(NN))\n",
    "\n",
    "print('\\nNetwork after update:')\n",
    "[print('Layer', i, '\\n', NN[i]) for i in range(len(NN))] \n",
    "\n",
    "zero_gradients(parameters(NN))\n",
    "\n",
    "print('\\nNetwork after zeroing gradients:')\n",
    "[print('Layer', i, '\\n', NN[i]) for i in range(len(NN))] "
   ]
  },
  {
   "cell_type": "code",
   "execution_count": 34,
   "metadata": {
    "id": "woWYpdw6FtIO"
   },
   "outputs": [],
   "source": [
    "# Initialize an arbitrary neural network\n",
    "NN = [\n",
    "    DenseLayer(1, 8, lambda x: x.relu()),\n",
    "    DenseLayer(8, 1, lambda x: x.identity())\n",
    "]\n",
    "\n",
    "# Recommended hyper-parameters for 3-D: \n",
    "#NN = [\n",
    "#    DenseLayer(3, 16, lambda x: x.relu()),\n",
    "#    DenseLayer(16, 1, lambda x: x.identity())\n",
    "#]\n",
    "\n",
    "\n",
    "### Notice that, when we switch from tanh to relu activation, we decrease the learning rate. This is due the stability of the gradients \n",
    "## of the activation functions."
   ]
  },
  {
   "cell_type": "code",
   "execution_count": 35,
   "metadata": {
    "id": "mdqaqYBVFtIR"
   },
   "outputs": [],
   "source": [
    "# Initialize training hyperparameters\n",
    "EPOCHS = 200\n",
    "LEARN_R = 2e-3 "
   ]
  },
  {
   "cell_type": "code",
   "execution_count": 36,
   "metadata": {
    "colab": {
     "base_uri": "https://localhost:8080/"
    },
    "id": "5kfg76GMFtIW",
    "outputId": "42ad6078-c4f9-4266-df8b-c255e1b842d6",
    "scrolled": true
   },
   "outputs": [
    {
     "name": "stdout",
     "output_type": "stream",
     "text": [
      "   0 ( 0.00%) Train loss: 102.867 \t Validation loss: 100.728\n",
      "  10 ( 5.00%) Train loss: 23.800 \t Validation loss: 17.238\n",
      "  20 (10.00%) Train loss: 15.239 \t Validation loss: 11.231\n",
      "  30 (15.00%) Train loss: 14.447 \t Validation loss: 10.640\n",
      "  40 (20.00%) Train loss: 13.089 \t Validation loss: 10.005\n",
      "  50 (25.00%) Train loss: 12.405 \t Validation loss: 9.515\n",
      "  60 (30.00%) Train loss: 12.261 \t Validation loss: 9.267\n",
      "  70 (35.00%) Train loss: 12.187 \t Validation loss: 9.118\n",
      "  80 (40.00%) Train loss: 12.136 \t Validation loss: 9.017\n",
      "  90 (45.00%) Train loss: 12.099 \t Validation loss: 8.960\n",
      " 100 (50.00%) Train loss: 12.068 \t Validation loss: 8.906\n",
      " 110 (55.00%) Train loss: 12.038 \t Validation loss: 8.896\n",
      " 120 (60.00%) Train loss: 12.008 \t Validation loss: 8.899\n",
      " 130 (65.00%) Train loss: 11.985 \t Validation loss: 8.906\n",
      " 140 (70.00%) Train loss: 11.968 \t Validation loss: 8.911\n",
      " 150 (75.00%) Train loss: 11.955 \t Validation loss: 8.919\n",
      " 160 (80.00%) Train loss: 11.936 \t Validation loss: 8.948\n",
      " 170 (85.00%) Train loss: 11.918 \t Validation loss: 8.961\n",
      " 180 (90.00%) Train loss: 11.892 \t Validation loss: 8.969\n",
      " 190 (95.00%) Train loss: 11.887 \t Validation loss: 8.967\n"
     ]
    }
   ],
   "source": [
    "train_loss = []\n",
    "val_loss = []\n",
    "\n",
    "for e in range(EPOCHS):\n",
    "     \n",
    "    # Forward pass and loss computation\n",
    "    Loss = squared_loss(y_train, forward(x_train, NN))\n",
    "\n",
    "    # Backward pass\n",
    "    Loss.backward()\n",
    "    \n",
    "    # gradient descent update\n",
    "    update_parameters(parameters(NN), LEARN_R)\n",
    "    zero_gradients(parameters(NN))\n",
    "    \n",
    "    # Training loss\n",
    "    train_loss.append(Loss.v)\n",
    "    \n",
    "    # Validation\n",
    "    Loss_validation = squared_loss(y_validation, forward(x_validation, NN))\n",
    "    val_loss.append(Loss_validation.v)\n",
    "    \n",
    "    if e%10==0:\n",
    "        print(\"{:4d}\".format(e),\n",
    "              \"({:5.2f}%)\".format(e/EPOCHS*100), \n",
    "              \"Train loss: {:4.3f} \\t Validation loss: {:4.3f}\".format(train_loss[-1], val_loss[-1]))\n",
    "        \n"
   ]
  },
  {
   "cell_type": "code",
   "execution_count": 37,
   "metadata": {
    "colab": {
     "base_uri": "https://localhost:8080/",
     "height": 265
    },
    "id": "VetyRWFwFtIY",
    "outputId": "dab6cb18-f335-443f-e5c7-44f3861a998c"
   },
   "outputs": [
    {
     "data": {
      "image/png": "[encoded data removed]",
      "text/plain": [
       "<Figure size 432x288 with 1 Axes>"
      ]
     },
     "metadata": {
      "needs_background": "light"
     },
     "output_type": "display_data"
    }
   ],
   "source": [
    "plt.plot(range(len(train_loss)), train_loss);\n",
    "plt.plot(range(len(val_loss)), val_loss);"
   ]
  },
  {
   "cell_type": "markdown",
   "metadata": {
    "id": "8OgmIrM9FtIb"
   },
   "source": [
    "# Testing\n",
    "\n",
    "We have kept the calculation of the test error separate in order to emphasize that you should not use the test set in optimization."
   ]
  },
  {
   "cell_type": "code",
   "execution_count": 38,
   "metadata": {
    "id": "HmNi7S-vFtIc"
   },
   "outputs": [],
   "source": [
    "output_test = forward(x_test, NN)"
   ]
  },
  {
   "cell_type": "code",
   "execution_count": 39,
   "metadata": {
    "colab": {
     "base_uri": "https://localhost:8080/",
     "height": 315
    },
    "id": "7mmJOTSEFtIf",
    "outputId": "352f4f80-df93-4b3b-f31b-6efd37145b92"
   },
   "outputs": [
    {
     "name": "stdout",
     "output_type": "stream",
     "text": [
      "Test loss:  9.827\n"
     ]
    },
    {
     "data": {
      "image/png": "[encoded data removed]",
      "text/plain": [
       "<Figure size 432x288 with 1 Axes>"
      ]
     },
     "metadata": {
      "needs_background": "light"
     },
     "output_type": "display_data"
    }
   ],
   "source": [
    "y_test_np = Var_to_nparray(y_test)\n",
    "plt.scatter(y_test_np, Var_to_nparray(output_test));\n",
    "plt.plot([np.min(y_test_np), np.max(y_test_np)], [np.min(y_test_np), np.max(y_test_np)], color='k');\n",
    "plt.xlabel(\"y\");\n",
    "plt.ylabel(\"$\\hat{y}$\");\n",
    "plt.title(\"Model prediction vs real in the test set, the close to the line the better\")\n",
    "plt.grid(True);\n",
    "plt.axis('equal');\n",
    "plt.tight_layout();\n",
    "\n",
    "Loss_test = squared_loss(y_test, forward(x_test, NN))\n",
    "\n",
    "print(\"Test loss:  {:4.3f}\".format(Loss_test.v))"
   ]
  },
  {
   "cell_type": "code",
   "execution_count": 40,
   "metadata": {
    "colab": {
     "base_uri": "https://localhost:8080/",
     "height": 279
    },
    "id": "ODi0WlmQFtIh",
    "outputId": "9711cb59-db84-41a5-c5e8-b3e9a112d3ab"
   },
   "outputs": [
    {
     "data": {
      "image/png": "[encoded data removed]",
      "text/plain": [
       "<Figure size 432x288 with 1 Axes>"
      ]
     },
     "metadata": {
      "needs_background": "light"
     },
     "output_type": "display_data"
    }
   ],
   "source": [
    "x_test_np = Var_to_nparray(x_test)\n",
    "x_train_np = Var_to_nparray(x_train)\n",
    "y_train_np = Var_to_nparray(y_train)\n",
    "if D1:\n",
    "    plt.scatter(x_train_np, y_train_np, label=\"train data\");\n",
    "    plt.scatter(x_test_np, Var_to_nparray(output_test), label=\"test prediction\");\n",
    "    plt.scatter(x_test_np, y_test_np, label=\"test data\");\n",
    "    plt.legend();\n",
    "    plt.xlabel(\"x\");\n",
    "    plt.ylabel(\"y\");\n",
    "else:\n",
    "    plt.scatter(x_train_np[:,1], y_train, label=\"train data\");\n",
    "    plt.scatter(x_test_np[:,1], Var_to_nparray(output_test), label=\"test data prediction\");\n",
    "    plt.scatter(x_test_np[:,1], y_test_np, label=\"test data\");\n",
    "    plt.legend();\n",
    "    plt.xlabel(\"x\");\n",
    "    plt.ylabel(\"y\");"
   ]
  },
  {
   "cell_type": "markdown",
   "metadata": {
    "id": "zTBAmjsAFtIk"
   },
   "source": [
    "## Exercise k) Show overfitting, underfitting and just right fitting\n",
    "\n",
    "Vary the architecture and other things to show clear signs of overfitting (=training loss significantly lower than test loss) and underfitting (=not fitting enoung to training data so that test performance is also hurt).\n",
    "\n",
    "See also if you can get a good compromise which leads to a low validation loss. \n",
    "\n",
    "For this problem do you see any big difference between validation and test loss? The answer here will probably be no. Discuss cases where it is important to keep the two separate.\n",
    "\n",
    "<span style=\"color:darkblue\"> Above it can be seen the results obtained when overfitting and the underfitting the neural network. \n",
    "    \n",
    "<span style=\"color:darkblue\"> - We can see **overfitting** when the algorithm models the data too well. It happens when the model learns detail and noise in the training data to the extent that it negatively impacts the performance of the model on new data. This can take place when increasing too much the number of epochs that the model learns a lot from the data it has. In this case, the training loss should be much less than the test loss. We are not getting this expected result due to the current dataset, even though enough training would make validation and test loss increase. \n",
    "    \n",
    "<span style=\"color:darkblue\"> - On the other hand, the **underfitting** is a situation when your model is too simple for your data with such a high bias. The model can not do accurate predictions. To model that, few epochs are being used so that the model is too simple to make accurate decisions. In this case, train error is large and val/test error is large too as shown in the model below. \n",
    "    \n",
    "    \n",
    "<span style=\"color:darkblue\"> Finally, I am not seeing too much difference between the validation and test loss due to this specific data set. It is crucial to separate them since the validation test is used to optimize model parameters and performance by fine-tuning the model after each epoch while the test set gets an estimate of the final model performance. \n",
    "</span>\n",
    "\n",
    "\n",
    " "
   ]
  },
  {
   "cell_type": "markdown",
   "metadata": {
    "id": "ng83hcIWTZRy"
   },
   "source": [
    "### k.a) Overfitting"
   ]
  },
  {
   "cell_type": "code",
   "execution_count": 42,
   "metadata": {
    "colab": {
     "base_uri": "https://localhost:8080/"
    },
    "id": "tQZCn2dxFtIl",
    "outputId": "9336348a-e88d-42ad-fb01-179da5a73bcf"
   },
   "outputs": [
    {
     "name": "stdout",
     "output_type": "stream",
     "text": [
      "   0 ( 0.00%) Train loss: 104.286 \t Validation loss: 107.343\n",
      "  50 ( 1.67%) Train loss: 101.997 \t Validation loss: 104.765\n",
      " 100 ( 3.33%) Train loss: 99.587 \t Validation loss: 102.112\n",
      " 150 ( 5.00%) Train loss: 96.920 \t Validation loss: 99.223\n",
      " 200 ( 6.67%) Train loss: 93.871 \t Validation loss: 95.957\n",
      " 250 ( 8.33%) Train loss: 90.321 \t Validation loss: 92.184\n",
      " 300 (10.00%) Train loss: 86.175 \t Validation loss: 87.802\n",
      " 350 (11.67%) Train loss: 81.371 \t Validation loss: 82.742\n",
      " 400 (13.33%) Train loss: 75.894 \t Validation loss: 76.994\n",
      " 450 (15.00%) Train loss: 69.794 \t Validation loss: 70.612\n",
      " 500 (16.67%) Train loss: 63.199 \t Validation loss: 63.730\n",
      " 550 (18.33%) Train loss: 56.334 \t Validation loss: 56.576\n",
      " 600 (20.00%) Train loss: 49.458 \t Validation loss: 49.417\n",
      " 650 (21.67%) Train loss: 42.869 \t Validation loss: 42.546\n",
      " 700 (23.33%) Train loss: 36.835 \t Validation loss: 36.235\n",
      " 750 (25.00%) Train loss: 31.555 \t Validation loss: 30.680\n",
      " 800 (26.67%) Train loss: 27.135 \t Validation loss: 25.988\n",
      " 850 (28.33%) Train loss: 23.594 \t Validation loss: 22.177\n",
      " 900 (30.00%) Train loss: 20.865 \t Validation loss: 19.181\n",
      " 950 (31.67%) Train loss: 18.836 \t Validation loss: 16.896\n",
      "1000 (33.33%) Train loss: 17.371 \t Validation loss: 15.191\n",
      "1050 (35.00%) Train loss: 16.339 \t Validation loss: 13.939\n",
      "1100 (36.67%) Train loss: 15.623 \t Validation loss: 13.030\n",
      "1150 (38.33%) Train loss: 15.130 \t Validation loss: 12.371\n",
      "1200 (40.00%) Train loss: 14.790 \t Validation loss: 11.892\n",
      "1250 (41.67%) Train loss: 14.552 \t Validation loss: 11.541\n",
      "1300 (43.33%) Train loss: 14.386 \t Validation loss: 11.281\n",
      "1350 (45.00%) Train loss: 14.267 \t Validation loss: 11.085\n",
      "1400 (46.67%) Train loss: 14.178 \t Validation loss: 10.935\n",
      "1450 (48.33%) Train loss: 14.107 \t Validation loss: 10.819\n",
      "1500 (50.00%) Train loss: 14.049 \t Validation loss: 10.726\n",
      "1550 (51.67%) Train loss: 13.999 \t Validation loss: 10.651\n",
      "1600 (53.33%) Train loss: 13.955 \t Validation loss: 10.588\n",
      "1650 (55.00%) Train loss: 13.915 \t Validation loss: 10.536\n",
      "1700 (56.67%) Train loss: 13.878 \t Validation loss: 10.490\n",
      "1750 (58.33%) Train loss: 13.843 \t Validation loss: 10.449\n",
      "1800 (60.00%) Train loss: 13.808 \t Validation loss: 10.412\n",
      "1850 (61.67%) Train loss: 13.775 \t Validation loss: 10.376\n",
      "1900 (63.33%) Train loss: 13.742 \t Validation loss: 10.343\n",
      "1950 (65.00%) Train loss: 13.711 \t Validation loss: 10.313\n",
      "2000 (66.67%) Train loss: 13.681 \t Validation loss: 10.284\n",
      "2050 (68.33%) Train loss: 13.651 \t Validation loss: 10.257\n",
      "2100 (70.00%) Train loss: 13.622 \t Validation loss: 10.230\n",
      "2150 (71.67%) Train loss: 13.591 \t Validation loss: 10.205\n",
      "2200 (73.33%) Train loss: 13.560 \t Validation loss: 10.180\n",
      "2250 (75.00%) Train loss: 13.533 \t Validation loss: 10.157\n",
      "2300 (76.67%) Train loss: 13.506 \t Validation loss: 10.133\n",
      "2350 (78.33%) Train loss: 13.479 \t Validation loss: 10.111\n",
      "2400 (80.00%) Train loss: 13.453 \t Validation loss: 10.090\n",
      "2450 (81.67%) Train loss: 13.430 \t Validation loss: 10.070\n",
      "2500 (83.33%) Train loss: 13.410 \t Validation loss: 10.052\n",
      "2550 (85.00%) Train loss: 13.390 \t Validation loss: 10.036\n",
      "2600 (86.67%) Train loss: 13.370 \t Validation loss: 10.021\n",
      "2650 (88.33%) Train loss: 13.351 \t Validation loss: 10.006\n",
      "2700 (90.00%) Train loss: 13.332 \t Validation loss: 9.992\n",
      "2750 (91.67%) Train loss: 13.313 \t Validation loss: 9.978\n",
      "2800 (93.33%) Train loss: 13.294 \t Validation loss: 9.965\n",
      "2850 (95.00%) Train loss: 13.276 \t Validation loss: 9.951\n",
      "2900 (96.67%) Train loss: 13.255 \t Validation loss: 9.937\n",
      "2950 (98.33%) Train loss: 13.234 \t Validation loss: 9.923\n"
     ]
    }
   ],
   "source": [
    "# We Initialize an arbitrary neural network\n",
    "NN = [\n",
    "    DenseLayer(1, 8, lambda x: x.relu()),\n",
    "    DenseLayer(8, 1, lambda x: x.identity())\n",
    "]\n",
    "\n",
    "EPOCHS = 3000\n",
    "LEARN_R = 2e-5 \n",
    "\n",
    "train_loss = []\n",
    "val_loss = []\n",
    "\n",
    "\n",
    "for e in range(EPOCHS):\n",
    "     \n",
    "    # Forward pass and loss computation\n",
    "    Loss = squared_loss(y_train, forward(x_train, NN))\n",
    "\n",
    "    # Backward pass\n",
    "    Loss.backward()\n",
    "    \n",
    "    # gradient descent update\n",
    "    update_parameters(parameters(NN), LEARN_R)\n",
    "    zero_gradients(parameters(NN))\n",
    "    \n",
    "    # Training loss\n",
    "    train_loss.append(Loss.v)\n",
    "    \n",
    "    # Validation\n",
    "    Loss_validation = squared_loss(y_validation, forward(x_validation, NN))\n",
    "    val_loss.append(Loss_validation.v)\n",
    "    \n",
    "    if e%50==0:\n",
    "        print(\"{:4d}\".format(e),\n",
    "              \"({:5.2f}%)\".format(e/EPOCHS*100), \n",
    "              \"Train loss: {:4.3f} \\t Validation loss: {:4.3f}\".format(train_loss[-1], val_loss[-1]))\n",
    "\n",
    "    "
   ]
  },
  {
   "cell_type": "code",
   "execution_count": 43,
   "metadata": {
    "colab": {
     "base_uri": "https://localhost:8080/",
     "height": 297
    },
    "id": "7wF1Hg_ETZRy",
    "outputId": "8850af8a-dcbe-4fd6-8779-58a321f3d0f8"
   },
   "outputs": [
    {
     "name": "stdout",
     "output_type": "stream",
     "text": [
      "Test loss:  10.229\n"
     ]
    },
    {
     "data": {
      "image/png": "[encoded data removed]",
      "text/plain": [
       "<Figure size 432x288 with 1 Axes>"
      ]
     },
     "metadata": {
      "needs_background": "light"
     },
     "output_type": "display_data"
    }
   ],
   "source": [
    "plt.plot(range(len(train_loss)), train_loss,label='Train Loss');\n",
    "plt.plot(range(len(val_loss)), val_loss,label='Validation Loss');\n",
    "plt.xlabel('Epoch')\n",
    "plt.ylabel('Loss') \n",
    "plt.legend()\n",
    "\n",
    "output_test = forward(x_test, NN)\n",
    "Loss_test = squared_loss(y_test, forward(x_test, NN))\n",
    "print(\"Test loss:  {:4.3f}\".format(Loss_test.v))\n"
   ]
  },
  {
   "cell_type": "markdown",
   "metadata": {
    "id": "xD5_SBuETZRz"
   },
   "source": [
    "### k.b) Underfitting"
   ]
  },
  {
   "cell_type": "code",
   "execution_count": 44,
   "metadata": {
    "colab": {
     "base_uri": "https://localhost:8080/"
    },
    "id": "zzceWupVTZRz",
    "outputId": "26c6984a-ad93-459a-cadb-d852d4db883b"
   },
   "outputs": [
    {
     "name": "stdout",
     "output_type": "stream",
     "text": [
      "   0 ( 0.00%) Train loss: 101.174 \t Validation loss: 103.737\n",
      "  20 (20.00%) Train loss: 100.237 \t Validation loss: 102.828\n",
      "  40 (40.00%) Train loss: 99.268 \t Validation loss: 101.880\n",
      "  60 (60.00%) Train loss: 98.255 \t Validation loss: 100.880\n",
      "  80 (80.00%) Train loss: 97.187 \t Validation loss: 99.822\n"
     ]
    }
   ],
   "source": [
    "# We Initialize an arbitrary neural network\n",
    "NN = [\n",
    "    DenseLayer(1, 10, lambda x: x.relu()),\n",
    "    DenseLayer(10, 1, lambda x: x.identity())\n",
    "]\n",
    "\n",
    "EPOCHS = 100\n",
    "LEARN_R = 2e-5 \n",
    "\n",
    "train_loss = []\n",
    "val_loss = []\n",
    "\n",
    "\n",
    "for e in range(EPOCHS):\n",
    "     \n",
    "    # Forward pass and loss computation\n",
    "    Loss = squared_loss(y_train, forward(x_train, NN))\n",
    "\n",
    "    # Backward pass\n",
    "    Loss.backward()\n",
    "    \n",
    "    # gradient descent update\n",
    "    update_parameters(parameters(NN), LEARN_R)\n",
    "    zero_gradients(parameters(NN))\n",
    "    \n",
    "    # Training loss\n",
    "    train_loss.append(Loss.v)\n",
    "    \n",
    "    # Validation\n",
    "    Loss_validation = squared_loss(y_validation, forward(x_validation, NN))\n",
    "    val_loss.append(Loss_validation.v)\n",
    "    \n",
    "    if e%20==0:\n",
    "        print(\"{:4d}\".format(e),\n",
    "              \"({:5.2f}%)\".format(e/EPOCHS*100), \n",
    "              \"Train loss: {:4.3f} \\t Validation loss: {:4.3f}\".format(train_loss[-1], val_loss[-1]))\n",
    "\n",
    "    "
   ]
  },
  {
   "cell_type": "code",
   "execution_count": 45,
   "metadata": {
    "colab": {
     "base_uri": "https://localhost:8080/",
     "height": 298
    },
    "id": "4pe8Zr5pTZRz",
    "outputId": "b0dc0088-0e52-45bd-eb6a-5da59f82b8c5"
   },
   "outputs": [
    {
     "name": "stdout",
     "output_type": "stream",
     "text": [
      "Test loss:  91.601\n"
     ]
    },
    {
     "data": {
      "image/png": "[encoded data removed]",
      "text/plain": [
       "<Figure size 432x288 with 1 Axes>"
      ]
     },
     "metadata": {
      "needs_background": "light"
     },
     "output_type": "display_data"
    }
   ],
   "source": [
    "plt.plot(range(len(train_loss)), train_loss,label='Train Loss');\n",
    "plt.plot(range(len(val_loss)), val_loss,label='Validation Loss');plt.xlabel('Epoch')\n",
    "plt.ylabel('Loss') \n",
    "plt.legend()\n",
    "\n",
    "\n",
    "plt.legend()\n",
    "\n",
    "output_test = forward(x_test, NN)\n",
    "Loss_test = squared_loss(y_test, forward(x_test, NN))\n",
    "print(\"Test loss:  {:4.3f}\".format(Loss_test.v))\n",
    "\n"
   ]
  },
  {
   "cell_type": "markdown",
   "metadata": {
    "id": "fYPZP-eTFtIo"
   },
   "source": [
    "# Next steps - classification\n",
    "\n",
    "It is straight forward to extend what we have done to classification. \n",
    "\n",
    "For numerical stability it is better to make softmax and cross-entropy as one function so we write the cross entropy loss as a function of the logits we talked about last week. \n",
    "\n",
    "Next week we will see how to perform classification in PyTorch."
   ]
  },
  {
   "cell_type": "markdown",
   "metadata": {
    "id": "qsVPul3QFtIo"
   },
   "source": [
    "## Exercise l) optional - Implement backpropagation for classification\n",
    "\n",
    "Should be possible with very few lines of code. :-)"
   ]
  },
  {
   "cell_type": "code",
   "execution_count": null,
   "metadata": {
    "id": "oC8QrI2tFtIp"
   },
   "outputs": [],
   "source": [
    "# Just add code."
   ]
  },
  {
   "cell_type": "markdown",
   "metadata": {
    "id": "APqhJv3tta1O"
   },
   "source": [
    "## Exercise m) optional - Introduce a NeuralNetwork class\n",
    "\n",
    "The functions we applied on the neural network (parameters, update_parameters and zero_gradients) can more naturally be included as methods in a NeuralNetwork class. Make such a class and modify the code to use it. "
   ]
  },
  {
   "cell_type": "code",
   "execution_count": null,
   "metadata": {
    "id": "Dqfnor1ouMLq"
   },
   "outputs": [],
   "source": [
    "# just add some code"
   ]
  }
 ],
 "metadata": {
  "anaconda-cloud": {},
  "colab": {
   "collapsed_sections": [
    "U4057_ljNvWB",
    "p_8n_SKnIW2F",
    "oLrGJytZFtGm",
    "jpIZPBpNI0pO",
    "_79HOAXrFtHK",
    "mqeyab9qFtGs",
    "-XyXBD37FtHk",
    "SrwSJ2UWFtHu",
    "zTBAmjsAFtIk",
    "qsVPul3QFtIo",
    "APqhJv3tta1O"
   ],
   "provenance": []
  },
  "kernelspec": {
   "display_name": "Python 3 (ipykernel)",
   "language": "python",
   "name": "python3"
  },
  "language_info": {
   "codemirror_mode": {
    "name": "ipython",
    "version": 3
   },
   "file_extension": ".py",
   "mimetype": "text/x-python",
   "name": "python",
   "nbconvert_exporter": "python",
   "pygments_lexer": "ipython3",
   "version": "3.11.4"
  }
 },
 "nbformat": 4,
 "nbformat_minor": 4
}
